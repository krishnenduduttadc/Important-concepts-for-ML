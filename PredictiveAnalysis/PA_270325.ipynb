{
  "nbformat": 4,
  "nbformat_minor": 0,
  "metadata": {
    "colab": {
      "provenance": []
    },
    "kernelspec": {
      "name": "python3",
      "display_name": "Python 3"
    },
    "language_info": {
      "name": "python"
    }
  },
  "cells": [
    {
      "cell_type": "markdown",
      "source": [
        "Arithmatic operations"
      ],
      "metadata": {
        "id": "y3M0kY0gCPNB"
      }
    },
    {
      "cell_type": "code",
      "execution_count": 1,
      "metadata": {
        "colab": {
          "base_uri": "https://localhost:8080/"
        },
        "id": "y2mSgacxB933",
        "outputId": "8586eb99-e896-4c65-b0f9-0f4967cd46eb"
      },
      "outputs": [
        {
          "output_type": "stream",
          "name": "stdout",
          "text": [
            "3.3333333333333335\n"
          ]
        }
      ],
      "source": [
        "a = 10\n",
        "b = 3\n",
        "c = a/b\n",
        "print(c)"
      ]
    },
    {
      "cell_type": "code",
      "source": [
        "a = 10\n",
        "b = 3\n",
        "c = int(a/b)\n",
        "print(c)"
      ],
      "metadata": {
        "colab": {
          "base_uri": "https://localhost:8080/"
        },
        "id": "FZXLxQr3CNj0",
        "outputId": "06e47894-7790-4a6e-9507-100333daffee"
      },
      "execution_count": 2,
      "outputs": [
        {
          "output_type": "stream",
          "name": "stdout",
          "text": [
            "3\n"
          ]
        }
      ]
    },
    {
      "cell_type": "code",
      "source": [
        "a = 10\n",
        "b = 3\n",
        "c = a//b    # floor division\n",
        "print(c)"
      ],
      "metadata": {
        "colab": {
          "base_uri": "https://localhost:8080/"
        },
        "id": "nxlKY06hCUlq",
        "outputId": "61ae6d0e-cb9e-4ba8-b2c2-094be0b1cd36"
      },
      "execution_count": 3,
      "outputs": [
        {
          "output_type": "stream",
          "name": "stdout",
          "text": [
            "3\n"
          ]
        }
      ]
    },
    {
      "cell_type": "code",
      "source": [
        "a = 10\n",
        "b = 3\n",
        "c = a % b    # modulus\n",
        "print(c)"
      ],
      "metadata": {
        "colab": {
          "base_uri": "https://localhost:8080/"
        },
        "id": "afrQJZH2CYV0",
        "outputId": "f6005324-0aa9-41fe-bc72-b488c0b3e6fd"
      },
      "execution_count": 4,
      "outputs": [
        {
          "output_type": "stream",
          "name": "stdout",
          "text": [
            "1\n"
          ]
        }
      ]
    },
    {
      "cell_type": "code",
      "source": [
        "a = 10\n",
        "b = 3\n",
        "c = a * b\n",
        "print(c)"
      ],
      "metadata": {
        "colab": {
          "base_uri": "https://localhost:8080/"
        },
        "id": "ezxuqZq5Cltu",
        "outputId": "9bd7e63a-d79f-4753-e309-f5c5adde1c9e"
      },
      "execution_count": 5,
      "outputs": [
        {
          "output_type": "stream",
          "name": "stdout",
          "text": [
            "30\n"
          ]
        }
      ]
    },
    {
      "cell_type": "code",
      "source": [
        "a = 10\n",
        "b = 3\n",
        "c = a ** b    # exponential\n",
        "print(c)"
      ],
      "metadata": {
        "colab": {
          "base_uri": "https://localhost:8080/"
        },
        "id": "0SCRoc0LCpeu",
        "outputId": "0c4fe7ba-8c7f-45cc-a289-dbb59cdcc6f5"
      },
      "execution_count": 6,
      "outputs": [
        {
          "output_type": "stream",
          "name": "stdout",
          "text": [
            "1000\n"
          ]
        }
      ]
    },
    {
      "cell_type": "code",
      "source": [
        "a = 10\n",
        "b = 3\n",
        "c = a + b\n",
        "print(c)"
      ],
      "metadata": {
        "colab": {
          "base_uri": "https://localhost:8080/"
        },
        "id": "VCl8gg8aCr4V",
        "outputId": "9678a18d-3fde-42be-9702-591d18f9e8b1"
      },
      "execution_count": 7,
      "outputs": [
        {
          "output_type": "stream",
          "name": "stdout",
          "text": [
            "13\n"
          ]
        }
      ]
    },
    {
      "cell_type": "code",
      "source": [
        "a = 10\n",
        "b = 3\n",
        "a = a + b  # first calculate (a+b), then updates the value of a\n",
        "print(a)"
      ],
      "metadata": {
        "colab": {
          "base_uri": "https://localhost:8080/"
        },
        "id": "8p_9rLMJCyl_",
        "outputId": "dbdb40d3-f37c-4f29-945b-2894dccd52b2"
      },
      "execution_count": 8,
      "outputs": [
        {
          "output_type": "stream",
          "name": "stdout",
          "text": [
            "13\n"
          ]
        }
      ]
    },
    {
      "cell_type": "code",
      "source": [
        "a = 10\n",
        "a = a + 2\n",
        "print(a)"
      ],
      "metadata": {
        "colab": {
          "base_uri": "https://localhost:8080/"
        },
        "id": "qYJV8IznC2A9",
        "outputId": "ecc77228-0c2a-42bc-bb1e-cb635b5a31bc"
      },
      "execution_count": 9,
      "outputs": [
        {
          "output_type": "stream",
          "name": "stdout",
          "text": [
            "12\n"
          ]
        }
      ]
    },
    {
      "cell_type": "code",
      "source": [
        "a = 10\n",
        "a += 2           # a = a + 2\n",
        "print(a)"
      ],
      "metadata": {
        "colab": {
          "base_uri": "https://localhost:8080/"
        },
        "id": "C5Hgi0gLC_lF",
        "outputId": "ca197e4e-492f-46a9-ffbb-1e3863b5d0ca"
      },
      "execution_count": 10,
      "outputs": [
        {
          "output_type": "stream",
          "name": "stdout",
          "text": [
            "12\n"
          ]
        }
      ]
    },
    {
      "cell_type": "code",
      "source": [
        "a = 10\n",
        "b = 3\n",
        "a += b    # a = a + b\n",
        "print(a)"
      ],
      "metadata": {
        "colab": {
          "base_uri": "https://localhost:8080/"
        },
        "id": "_W1ivYBfDElP",
        "outputId": "25a61956-06c9-4e64-969a-dcc4835ee26e"
      },
      "execution_count": 11,
      "outputs": [
        {
          "output_type": "stream",
          "name": "stdout",
          "text": [
            "13\n"
          ]
        }
      ]
    },
    {
      "cell_type": "code",
      "source": [
        "a = 10\n",
        "a *= 2           # a = a * 2\n",
        "print(a)"
      ],
      "metadata": {
        "colab": {
          "base_uri": "https://localhost:8080/"
        },
        "id": "yEkmcaduDMIW",
        "outputId": "1c1afd79-72fc-4847-c1b7-8bcffef57fb1"
      },
      "execution_count": 12,
      "outputs": [
        {
          "output_type": "stream",
          "name": "stdout",
          "text": [
            "20\n"
          ]
        }
      ]
    },
    {
      "cell_type": "code",
      "source": [
        "print(x:=3)"
      ],
      "metadata": {
        "colab": {
          "base_uri": "https://localhost:8080/"
        },
        "id": "bukL1FPJDTSm",
        "outputId": "ea80cc28-04e7-48ac-e95d-6ca7c2d51c36"
      },
      "execution_count": 13,
      "outputs": [
        {
          "output_type": "stream",
          "name": "stdout",
          "text": [
            "3\n"
          ]
        }
      ]
    },
    {
      "cell_type": "code",
      "source": [
        "x"
      ],
      "metadata": {
        "colab": {
          "base_uri": "https://localhost:8080/"
        },
        "id": "RuX_HsJlDYKK",
        "outputId": "e496791e-29cd-4d1d-ed4d-53427d9a1bad"
      },
      "execution_count": 15,
      "outputs": [
        {
          "output_type": "execute_result",
          "data": {
            "text/plain": [
              "3"
            ]
          },
          "metadata": {},
          "execution_count": 15
        }
      ]
    },
    {
      "cell_type": "code",
      "source": [
        "print(x=3)"
      ],
      "metadata": {
        "colab": {
          "base_uri": "https://localhost:8080/",
          "height": 147
        },
        "id": "WWC3D96LDZSK",
        "outputId": "d4a8d378-d8f4-4a38-d276-066427307b66"
      },
      "execution_count": 16,
      "outputs": [
        {
          "output_type": "error",
          "ename": "TypeError",
          "evalue": "'x' is an invalid keyword argument for print()",
          "traceback": [
            "\u001b[0;31m---------------------------------------------------------------------------\u001b[0m",
            "\u001b[0;31mTypeError\u001b[0m                                 Traceback (most recent call last)",
            "\u001b[0;32m<ipython-input-16-338d38541b8e>\u001b[0m in \u001b[0;36m<cell line: 0>\u001b[0;34m()\u001b[0m\n\u001b[0;32m----> 1\u001b[0;31m \u001b[0mprint\u001b[0m\u001b[0;34m(\u001b[0m\u001b[0mx\u001b[0m\u001b[0;34m=\u001b[0m\u001b[0;36m3\u001b[0m\u001b[0;34m)\u001b[0m\u001b[0;34m\u001b[0m\u001b[0;34m\u001b[0m\u001b[0m\n\u001b[0m",
            "\u001b[0;31mTypeError\u001b[0m: 'x' is an invalid keyword argument for print()"
          ]
        }
      ]
    },
    {
      "cell_type": "code",
      "source": [
        "# print(x:=3)\n",
        "\n",
        "x = 3\n",
        "print(x)"
      ],
      "metadata": {
        "colab": {
          "base_uri": "https://localhost:8080/"
        },
        "id": "Vj1-nnmjDfMj",
        "outputId": "463b633c-23c9-433f-e1c2-5ca221e02b6a"
      },
      "execution_count": 17,
      "outputs": [
        {
          "output_type": "stream",
          "name": "stdout",
          "text": [
            "3\n"
          ]
        }
      ]
    },
    {
      "cell_type": "markdown",
      "source": [
        "# **if-elif-else**"
      ],
      "metadata": {
        "id": "Q51XejrNDowB"
      }
    },
    {
      "cell_type": "code",
      "source": [
        "a = 1\n",
        "b = 2\n",
        "if b>a:\n",
        "  print('b is greater than a')  # be careful about indent"
      ],
      "metadata": {
        "colab": {
          "base_uri": "https://localhost:8080/"
        },
        "id": "K2TIjJxtDlXf",
        "outputId": "21ea6c31-b668-4ba2-d889-209732f5b2dc"
      },
      "execution_count": 19,
      "outputs": [
        {
          "output_type": "stream",
          "name": "stdout",
          "text": [
            "b is greater than a\n"
          ]
        }
      ]
    },
    {
      "cell_type": "code",
      "source": [
        "a = 10\n",
        "b = 2\n",
        "if b>a:\n",
        "  print('b is greater than a')\n",
        "else:\n",
        "  print('a is greater than b')"
      ],
      "metadata": {
        "colab": {
          "base_uri": "https://localhost:8080/"
        },
        "id": "RPyZnkgfDyL1",
        "outputId": "b3e732d8-2042-4f76-8997-813c36235c11"
      },
      "execution_count": 20,
      "outputs": [
        {
          "output_type": "stream",
          "name": "stdout",
          "text": [
            "a is greater than b\n"
          ]
        }
      ]
    },
    {
      "cell_type": "code",
      "source": [
        "a = 10\n",
        "b = 10\n",
        "if b>a:\n",
        "  print('b is greater than a')\n",
        "elif a==b:\n",
        "  print('a and b are equal')\n",
        "else:\n",
        "  print('a is greater than b')"
      ],
      "metadata": {
        "colab": {
          "base_uri": "https://localhost:8080/"
        },
        "id": "h2CTlJtqEAuG",
        "outputId": "3cc3b5b3-6a7c-426d-a7d2-a127bc5064a8"
      },
      "execution_count": 22,
      "outputs": [
        {
          "output_type": "stream",
          "name": "stdout",
          "text": [
            "a and b are equal\n"
          ]
        }
      ]
    },
    {
      "cell_type": "code",
      "source": [
        "a = 200\n",
        "b = 2000\n",
        "if b>a: print('b is greater than a')\n",
        "elif a==b: print('a and b are equal')\n",
        "else: print('a is greater than b')"
      ],
      "metadata": {
        "colab": {
          "base_uri": "https://localhost:8080/"
        },
        "id": "RT8O4YBeEEG0",
        "outputId": "88bdfac8-1ffd-44a8-c54e-ed24879861ff"
      },
      "execution_count": 26,
      "outputs": [
        {
          "output_type": "stream",
          "name": "stdout",
          "text": [
            "b is greater than a\n"
          ]
        }
      ]
    },
    {
      "cell_type": "markdown",
      "source": [
        " *find maximum among 3 numbers*"
      ],
      "metadata": {
        "id": "D5WNewQfEZBw"
      }
    },
    {
      "cell_type": "code",
      "source": [
        "a = 10\n",
        "b = 20\n",
        "c = 3\n",
        "\n",
        "if (a>b) and (a>c): print('a is max')\n",
        "if (b>a) and (b>c): print('b is max')\n",
        "if (c>a) and (c>b): print('c is max')"
      ],
      "metadata": {
        "colab": {
          "base_uri": "https://localhost:8080/"
        },
        "id": "TeN2-dClETHg",
        "outputId": "37e49279-7e22-4092-f120-f5fa3134dcc6"
      },
      "execution_count": 29,
      "outputs": [
        {
          "output_type": "stream",
          "name": "stdout",
          "text": [
            "b is max\n"
          ]
        }
      ]
    },
    {
      "cell_type": "markdown",
      "source": [
        "*nested if-else*"
      ],
      "metadata": {
        "id": "itDclnCHE3PS"
      }
    },
    {
      "cell_type": "code",
      "source": [],
      "metadata": {
        "colab": {
          "base_uri": "https://localhost:8080/"
        },
        "id": "BUbuLREuEz-_",
        "outputId": "2f30eea2-7e8d-4751-dc7c-84b8f5db674b"
      },
      "execution_count": 40,
      "outputs": [
        {
          "output_type": "stream",
          "name": "stdout",
          "text": [
            "c is max\n"
          ]
        }
      ]
    },
    {
      "cell_type": "code",
      "source": [
        "a = 1\n",
        "b = 2\n",
        "if not a>b: print('b is greater than a')"
      ],
      "metadata": {
        "colab": {
          "base_uri": "https://localhost:8080/"
        },
        "id": "z70BHl-eF7Nq",
        "outputId": "94235856-8b2e-41b2-aabb-5d6728293674"
      },
      "execution_count": 41,
      "outputs": [
        {
          "output_type": "stream",
          "name": "stdout",
          "text": [
            "b is greater than a\n"
          ]
        }
      ]
    },
    {
      "cell_type": "code",
      "source": [
        "a = 1\n",
        "b = 2\n",
        "if a!=b: print('b is not equal to a')"
      ],
      "metadata": {
        "colab": {
          "base_uri": "https://localhost:8080/"
        },
        "id": "ZGycRcHXG78Y",
        "outputId": "d8315b3c-cb43-4c77-e596-8bf9cbadef16"
      },
      "execution_count": 42,
      "outputs": [
        {
          "output_type": "stream",
          "name": "stdout",
          "text": [
            "b is not equal to a\n"
          ]
        }
      ]
    },
    {
      "cell_type": "markdown",
      "source": [
        "Home work: Calculate FD maturity amount.\n",
        "Take required input"
      ],
      "metadata": {
        "id": "wCDEWAYuHECw"
      }
    },
    {
      "cell_type": "markdown",
      "source": [
        "# **LOOP**"
      ],
      "metadata": {
        "id": "EC6fecgSHZ8J"
      }
    },
    {
      "cell_type": "code",
      "source": [
        "i = 1        # initialization\n",
        "while i<5:   # if this condition is true, then ony you enter in the loop\n",
        "  print(i)\n",
        "  i = i+1"
      ],
      "metadata": {
        "colab": {
          "base_uri": "https://localhost:8080/"
        },
        "id": "6AImRNDtHC-O",
        "outputId": "222c3bae-17d8-4be2-918a-e11c5109b807"
      },
      "execution_count": 43,
      "outputs": [
        {
          "output_type": "stream",
          "name": "stdout",
          "text": [
            "1\n",
            "2\n",
            "3\n",
            "4\n"
          ]
        }
      ]
    },
    {
      "cell_type": "code",
      "source": [
        "i = 1\n",
        "while i<5:\n",
        "  print(i) # infinite loop\n",
        "i = i+1  # this line is not insde the loop"
      ],
      "metadata": {
        "id": "zu8Vah-hHg1L"
      },
      "execution_count": null,
      "outputs": []
    },
    {
      "cell_type": "code",
      "source": [
        "i = 1\n",
        "while i<5:\n",
        "  print(i)\n",
        "  i = i+1\n",
        "  print('hi')"
      ],
      "metadata": {
        "colab": {
          "base_uri": "https://localhost:8080/"
        },
        "id": "dfkhpmD3IVyZ",
        "outputId": "936d624b-cbeb-48a9-a81a-5146a71b5dff"
      },
      "execution_count": 45,
      "outputs": [
        {
          "output_type": "stream",
          "name": "stdout",
          "text": [
            "1\n",
            "hi\n",
            "2\n",
            "hi\n",
            "3\n",
            "hi\n",
            "4\n",
            "hi\n"
          ]
        }
      ]
    },
    {
      "cell_type": "code",
      "source": [
        "i = 1\n",
        "while i<5:\n",
        "  print(i)\n",
        "  i = i+1\n",
        "print('hi')  # not in the loop"
      ],
      "metadata": {
        "colab": {
          "base_uri": "https://localhost:8080/"
        },
        "id": "GKMZNDwcIkRF",
        "outputId": "06769ea1-391b-4e29-f2e0-ecff6e1bca46"
      },
      "execution_count": 46,
      "outputs": [
        {
          "output_type": "stream",
          "name": "stdout",
          "text": [
            "1\n",
            "2\n",
            "3\n",
            "4\n",
            "hi\n"
          ]
        }
      ]
    },
    {
      "cell_type": "code",
      "source": [
        "i = 1\n",
        "while i<5:\n",
        "  print(i)\n",
        "\n",
        "\n",
        "  i = i+1"
      ],
      "metadata": {
        "colab": {
          "base_uri": "https://localhost:8080/"
        },
        "id": "b3ehsJbuItjt",
        "outputId": "b27a2b94-63b9-4c19-acc3-d4d4503e435e"
      },
      "execution_count": 47,
      "outputs": [
        {
          "output_type": "stream",
          "name": "stdout",
          "text": [
            "1\n",
            "2\n",
            "3\n",
            "4\n"
          ]
        }
      ]
    },
    {
      "cell_type": "code",
      "source": [
        "i = 1\n",
        "while i<5:\n",
        "  print(i)\n",
        "  i = i+1"
      ],
      "metadata": {
        "colab": {
          "base_uri": "https://localhost:8080/"
        },
        "id": "Cn5dH-u8Iz_u",
        "outputId": "b9eed1fe-8bc2-4d49-e576-5dfc8b194892"
      },
      "execution_count": 48,
      "outputs": [
        {
          "output_type": "stream",
          "name": "stdout",
          "text": [
            "1\n",
            "2\n",
            "3\n",
            "4\n"
          ]
        }
      ]
    },
    {
      "cell_type": "code",
      "source": [
        "i = 1\n",
        "while i<7:\n",
        "  print(i)\n",
        "\n",
        "\n",
        "  i = i+1"
      ],
      "metadata": {
        "colab": {
          "base_uri": "https://localhost:8080/"
        },
        "id": "fwfGTFeEI2Pi",
        "outputId": "3adde9c4-9931-4b25-e3c9-b68c1b628906"
      },
      "execution_count": 49,
      "outputs": [
        {
          "output_type": "stream",
          "name": "stdout",
          "text": [
            "1\n",
            "2\n",
            "3\n",
            "4\n",
            "5\n",
            "6\n"
          ]
        }
      ]
    },
    {
      "cell_type": "code",
      "source": [
        "i = 1\n",
        "while i<7:\n",
        "  print(i)\n",
        "  if i == 3:  # if this condition is TRUE, then break out from the LOOP\n",
        "    break\n",
        "  i = i+1"
      ],
      "metadata": {
        "colab": {
          "base_uri": "https://localhost:8080/"
        },
        "id": "Adr8tL-0I_Fx",
        "outputId": "76a1d188-aee6-4784-d778-f037468c8e49"
      },
      "execution_count": 51,
      "outputs": [
        {
          "output_type": "stream",
          "name": "stdout",
          "text": [
            "1\n",
            "2\n",
            "3\n"
          ]
        }
      ]
    },
    {
      "cell_type": "code",
      "source": [
        "i = 1\n",
        "while i<7:\n",
        "\n",
        "  if i == 3:\n",
        "    break\n",
        "  print(i)\n",
        "  i = i+1"
      ],
      "metadata": {
        "colab": {
          "base_uri": "https://localhost:8080/"
        },
        "id": "9adkERDxJHJ_",
        "outputId": "6da6fc9c-4b7c-47cc-dfaa-b613a997462f"
      },
      "execution_count": 52,
      "outputs": [
        {
          "output_type": "stream",
          "name": "stdout",
          "text": [
            "1\n",
            "2\n"
          ]
        }
      ]
    },
    {
      "cell_type": "code",
      "source": [
        "i = 1\n",
        "while i<7:\n",
        "\n",
        "  if i == 3:\n",
        "    break\n",
        "\n",
        "  i = i+1\n",
        "  print(i)"
      ],
      "metadata": {
        "colab": {
          "base_uri": "https://localhost:8080/"
        },
        "id": "qCiENUY8JhMX",
        "outputId": "7f93a388-4b39-4c9f-8d27-b30e89382985"
      },
      "execution_count": 53,
      "outputs": [
        {
          "output_type": "stream",
          "name": "stdout",
          "text": [
            "2\n",
            "3\n"
          ]
        }
      ]
    },
    {
      "cell_type": "code",
      "source": [
        "i = 0\n",
        "while i<7:\n",
        "  i = i+1\n",
        "  if i == 3:\n",
        "    continue\n",
        "  print(i)"
      ],
      "metadata": {
        "colab": {
          "base_uri": "https://localhost:8080/"
        },
        "id": "a8Vnn8feJ2mx",
        "outputId": "ef77a93b-32c8-491b-c922-2433fada7205"
      },
      "execution_count": 55,
      "outputs": [
        {
          "output_type": "stream",
          "name": "stdout",
          "text": [
            "1\n",
            "2\n",
            "4\n",
            "5\n",
            "6\n",
            "7\n"
          ]
        }
      ]
    },
    {
      "cell_type": "code",
      "source": [
        "i = 0\n",
        "while i<7:\n",
        "  i = i+1\n",
        "  if i == 3:\n",
        "    continue\n",
        "  print(i)\n",
        "  print('hi')"
      ],
      "metadata": {
        "colab": {
          "base_uri": "https://localhost:8080/"
        },
        "id": "DIlUOUo6LF7R",
        "outputId": "b62f51c4-d410-45f4-b556-7b75e6631567"
      },
      "execution_count": 56,
      "outputs": [
        {
          "output_type": "stream",
          "name": "stdout",
          "text": [
            "1\n",
            "hi\n",
            "2\n",
            "hi\n",
            "4\n",
            "hi\n",
            "5\n",
            "hi\n",
            "6\n",
            "hi\n",
            "7\n",
            "hi\n"
          ]
        }
      ]
    },
    {
      "cell_type": "markdown",
      "source": [
        "*   **Break:** break the entire loop\n",
        "*   **Continue:** skip the remaining entire part for the current iteration\n",
        "\n"
      ],
      "metadata": {
        "id": "lLKbo0mqKxFB"
      }
    },
    {
      "cell_type": "code",
      "source": [
        "i = 1\n",
        "while i<6: # if TRUE, then enter to the loop\n",
        "  print(i)\n",
        "  i += 1\n",
        "else: # after executing the loop, the above condition is false now\n",
        "  print('i is not less than 6 anymore')"
      ],
      "metadata": {
        "colab": {
          "base_uri": "https://localhost:8080/"
        },
        "id": "aVwP0cxGKIt4",
        "outputId": "4ac419cc-8c20-42a8-e8c2-27553a090fb9"
      },
      "execution_count": 57,
      "outputs": [
        {
          "output_type": "stream",
          "name": "stdout",
          "text": [
            "1\n",
            "2\n",
            "3\n",
            "4\n",
            "5\n",
            "i is not less than 6 anymore\n"
          ]
        }
      ]
    },
    {
      "cell_type": "code",
      "source": [
        "for i in range(4):\n",
        "  print(i)"
      ],
      "metadata": {
        "colab": {
          "base_uri": "https://localhost:8080/"
        },
        "id": "Xt8JS_QXLsEi",
        "outputId": "68c1ae7a-44b1-44f8-ac04-36010c1317e1"
      },
      "execution_count": 58,
      "outputs": [
        {
          "output_type": "stream",
          "name": "stdout",
          "text": [
            "0\n",
            "1\n",
            "2\n",
            "3\n"
          ]
        }
      ]
    },
    {
      "cell_type": "code",
      "source": [
        "i = 0\n",
        "while i<4:\n",
        "  print(i)\n",
        "  i=i+1"
      ],
      "metadata": {
        "colab": {
          "base_uri": "https://localhost:8080/"
        },
        "id": "p5OnxE3bLx-_",
        "outputId": "2df13474-c47d-48ea-c38a-7f55158af475"
      },
      "execution_count": 59,
      "outputs": [
        {
          "output_type": "stream",
          "name": "stdout",
          "text": [
            "0\n",
            "1\n",
            "2\n",
            "3\n"
          ]
        }
      ]
    },
    {
      "cell_type": "code",
      "source": [
        "i = -1\n",
        "while i<3:\n",
        "  print(i := i+1)"
      ],
      "metadata": {
        "colab": {
          "base_uri": "https://localhost:8080/"
        },
        "id": "idx7Gz8lL5UX",
        "outputId": "66c6a3ba-5c3f-438d-dcb5-53666365aaed"
      },
      "execution_count": 60,
      "outputs": [
        {
          "output_type": "stream",
          "name": "stdout",
          "text": [
            "0\n",
            "1\n",
            "2\n",
            "3\n"
          ]
        }
      ]
    },
    {
      "cell_type": "code",
      "source": [
        "for i in range(4):\n",
        "  print(i+1)"
      ],
      "metadata": {
        "colab": {
          "base_uri": "https://localhost:8080/"
        },
        "id": "_ZltdZGyMASM",
        "outputId": "b90ef9ec-6add-4aa9-dd5d-27fec4edd6eb"
      },
      "execution_count": 61,
      "outputs": [
        {
          "output_type": "stream",
          "name": "stdout",
          "text": [
            "1\n",
            "2\n",
            "3\n",
            "4\n"
          ]
        }
      ]
    },
    {
      "cell_type": "markdown",
      "source": [
        "# **Function**"
      ],
      "metadata": {
        "id": "SYTqPi_KMMC_"
      }
    },
    {
      "cell_type": "code",
      "source": [
        "def fun():\n",
        "  print('hi')"
      ],
      "metadata": {
        "id": "CTICFxg2MJmo"
      },
      "execution_count": 62,
      "outputs": []
    },
    {
      "cell_type": "code",
      "source": [
        "for i in range(4):\n",
        "  fun()"
      ],
      "metadata": {
        "colab": {
          "base_uri": "https://localhost:8080/"
        },
        "id": "XvOcaq-UMSv1",
        "outputId": "af53ed13-993d-4ec2-ca82-0ddc4e15a050"
      },
      "execution_count": 63,
      "outputs": [
        {
          "output_type": "stream",
          "name": "stdout",
          "text": [
            "hi\n",
            "hi\n",
            "hi\n",
            "hi\n"
          ]
        }
      ]
    },
    {
      "cell_type": "code",
      "source": [
        "def add(a,b):\n",
        "  return a+b"
      ],
      "metadata": {
        "id": "qJ95lEQbMVVI"
      },
      "execution_count": 64,
      "outputs": []
    },
    {
      "cell_type": "code",
      "source": [
        "add(2,5)"
      ],
      "metadata": {
        "colab": {
          "base_uri": "https://localhost:8080/"
        },
        "id": "iE53E8CrMau1",
        "outputId": "4669f986-b465-464e-da54-ab1ca00991a8"
      },
      "execution_count": 65,
      "outputs": [
        {
          "output_type": "execute_result",
          "data": {
            "text/plain": [
              "7"
            ]
          },
          "metadata": {},
          "execution_count": 65
        }
      ]
    },
    {
      "cell_type": "markdown",
      "source": [
        "H.W.: create a calculator by writing all posible arithmatic operations"
      ],
      "metadata": {
        "id": "lP5h4FFoMea9"
      }
    },
    {
      "cell_type": "code",
      "source": [
        "print(10>9)"
      ],
      "metadata": {
        "colab": {
          "base_uri": "https://localhost:8080/"
        },
        "id": "6pgco7pVMcby",
        "outputId": "80b6fa3b-8d44-4267-d380-a44875d20bae"
      },
      "execution_count": 66,
      "outputs": [
        {
          "output_type": "stream",
          "name": "stdout",
          "text": [
            "True\n"
          ]
        }
      ]
    },
    {
      "cell_type": "code",
      "source": [
        "print(10>99)"
      ],
      "metadata": {
        "colab": {
          "base_uri": "https://localhost:8080/"
        },
        "id": "KbfsAz9QMpoP",
        "outputId": "f0a70f44-d7ba-45aa-fd61-f3a72bb363bb"
      },
      "execution_count": 67,
      "outputs": [
        {
          "output_type": "stream",
          "name": "stdout",
          "text": [
            "False\n"
          ]
        }
      ]
    },
    {
      "cell_type": "code",
      "source": [
        "print(10 != 9)"
      ],
      "metadata": {
        "colab": {
          "base_uri": "https://localhost:8080/"
        },
        "id": "knimp0elMsUz",
        "outputId": "cd006f43-aeea-4579-b0f0-6d3460b2f1e4"
      },
      "execution_count": 68,
      "outputs": [
        {
          "output_type": "stream",
          "name": "stdout",
          "text": [
            "True\n"
          ]
        }
      ]
    },
    {
      "cell_type": "code",
      "source": [
        "a = 10\n",
        "b = 10\n",
        "if a == b:\n",
        "  print('hi')\n",
        "else:\n",
        "  print('hello')"
      ],
      "metadata": {
        "colab": {
          "base_uri": "https://localhost:8080/"
        },
        "id": "ooG7vcrqMvEu",
        "outputId": "bb7d7fd4-eb18-46a7-d67e-838611009822"
      },
      "execution_count": 69,
      "outputs": [
        {
          "output_type": "stream",
          "name": "stdout",
          "text": [
            "hi\n"
          ]
        }
      ]
    },
    {
      "cell_type": "code",
      "source": [
        "a = 100\n",
        "b = 10\n",
        "if a > b:\n",
        "  print('hi')\n",
        "else:\n",
        "  print('hello')"
      ],
      "metadata": {
        "colab": {
          "base_uri": "https://localhost:8080/"
        },
        "id": "HAlwQeL8M4TC",
        "outputId": "132eac0b-7b73-4bdc-c6e4-0d706bb851b5"
      },
      "execution_count": 70,
      "outputs": [
        {
          "output_type": "stream",
          "name": "stdout",
          "text": [
            "hi\n"
          ]
        }
      ]
    },
    {
      "cell_type": "code",
      "source": [
        "a = 100\n",
        "b = 10\n",
        "if a < b:\n",
        "  print('hi')\n",
        "else:\n",
        "  print('hello')"
      ],
      "metadata": {
        "colab": {
          "base_uri": "https://localhost:8080/"
        },
        "id": "_YoRNVgdM9x8",
        "outputId": "05365518-7fd6-409a-9141-2b9463f42a04"
      },
      "execution_count": 71,
      "outputs": [
        {
          "output_type": "stream",
          "name": "stdout",
          "text": [
            "hello\n"
          ]
        }
      ]
    },
    {
      "cell_type": "code",
      "source": [
        "a = 100\n",
        "b = 10\n",
        "if a >= b:\n",
        "  print('hi')\n",
        "else:\n",
        "  print('hello')"
      ],
      "metadata": {
        "colab": {
          "base_uri": "https://localhost:8080/"
        },
        "id": "lkROtX2XM_yq",
        "outputId": "cbdb8b65-e45d-40e5-8ded-d3ac8b6b9f3d"
      },
      "execution_count": 72,
      "outputs": [
        {
          "output_type": "stream",
          "name": "stdout",
          "text": [
            "hi\n"
          ]
        }
      ]
    },
    {
      "cell_type": "code",
      "source": [
        "a = 100\n",
        "b = 10\n",
        "if a <= b:\n",
        "  print('hi')\n",
        "else:\n",
        "  print('hello')"
      ],
      "metadata": {
        "colab": {
          "base_uri": "https://localhost:8080/"
        },
        "id": "F2xS3rcLNBTg",
        "outputId": "239539fe-e08d-4d86-bd71-3b28e9b10be2"
      },
      "execution_count": 73,
      "outputs": [
        {
          "output_type": "stream",
          "name": "stdout",
          "text": [
            "hello\n"
          ]
        }
      ]
    },
    {
      "cell_type": "code",
      "source": [
        "a = 100\n",
        "b = 10\n",
        "if a != b:\n",
        "  print('hi')\n",
        "else:\n",
        "  print('hello')"
      ],
      "metadata": {
        "colab": {
          "base_uri": "https://localhost:8080/"
        },
        "id": "XsisYo0nNDU6",
        "outputId": "7e341b1e-401c-44bd-b46e-dd64b1eae1f1"
      },
      "execution_count": 74,
      "outputs": [
        {
          "output_type": "stream",
          "name": "stdout",
          "text": [
            "hi\n"
          ]
        }
      ]
    },
    {
      "cell_type": "code",
      "source": [
        "x = 1\n",
        "x +=3 # x = x+3\n",
        "print(x)"
      ],
      "metadata": {
        "colab": {
          "base_uri": "https://localhost:8080/"
        },
        "id": "fmSqe6fPNNdH",
        "outputId": "f6744e12-26a8-40ef-b6f8-dff61da6e0e5"
      },
      "execution_count": 75,
      "outputs": [
        {
          "output_type": "stream",
          "name": "stdout",
          "text": [
            "4\n"
          ]
        }
      ]
    },
    {
      "cell_type": "markdown",
      "source": [
        "*   arithmatic operators: +, -, /, //, %, //,\n",
        "*   assignment operators: =, +=, -=, /=, %=, *=\n",
        "*   logical operators: and, or, not\n",
        "\n"
      ],
      "metadata": {
        "id": "1pX8-uKbNK_d"
      }
    },
    {
      "cell_type": "code",
      "source": [
        "a = 10\n",
        "b = 9\n",
        "if a!=b or a>b:\n",
        "  print('hi')\n",
        "else:\n",
        "  print('hello')\n"
      ],
      "metadata": {
        "colab": {
          "base_uri": "https://localhost:8080/"
        },
        "id": "s3BwyyoFNFop",
        "outputId": "2d8d1c7a-413e-4ce2-fe07-3cefb762af02"
      },
      "execution_count": 76,
      "outputs": [
        {
          "output_type": "stream",
          "name": "stdout",
          "text": [
            "hi\n"
          ]
        }
      ]
    },
    {
      "cell_type": "code",
      "source": [
        "a = 10\n",
        "b = 9\n",
        "if a!=b and a>b:\n",
        "  print('hi')\n",
        "else:\n",
        "  print('hello')\n"
      ],
      "metadata": {
        "colab": {
          "base_uri": "https://localhost:8080/"
        },
        "id": "U3pq7iCfN5uc",
        "outputId": "65f5d097-f0dd-41d6-a5f5-8dad2a52b61b"
      },
      "execution_count": 77,
      "outputs": [
        {
          "output_type": "stream",
          "name": "stdout",
          "text": [
            "hi\n"
          ]
        }
      ]
    },
    {
      "cell_type": "code",
      "source": [
        "a = 10\n",
        "b = 90\n",
        "if a!=b and a>b:\n",
        "  print('hi')\n",
        "else:\n",
        "  print('hello')\n"
      ],
      "metadata": {
        "colab": {
          "base_uri": "https://localhost:8080/"
        },
        "id": "AzRm_SH8OBHO",
        "outputId": "74289a4b-4787-4596-aed8-b9819b5cbea5"
      },
      "execution_count": 78,
      "outputs": [
        {
          "output_type": "stream",
          "name": "stdout",
          "text": [
            "hello\n"
          ]
        }
      ]
    },
    {
      "cell_type": "code",
      "source": [],
      "metadata": {
        "id": "d72F0glzOFh5"
      },
      "execution_count": null,
      "outputs": []
    }
  ]
}