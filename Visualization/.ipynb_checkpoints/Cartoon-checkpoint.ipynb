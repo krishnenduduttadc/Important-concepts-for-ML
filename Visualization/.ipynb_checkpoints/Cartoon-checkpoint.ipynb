{
 "cells": [
  {
   "cell_type": "code",
   "execution_count": 29,
   "id": "d281ebf6-7bf5-45f8-a6ae-a7df065f40f7",
   "metadata": {},
   "outputs": [
    {
     "ename": "ModuleNotFoundError",
     "evalue": "No module named 'model'",
     "output_type": "error",
     "traceback": [
      "\u001b[1;31m---------------------------------------------------------------------------\u001b[0m",
      "\u001b[1;31mModuleNotFoundError\u001b[0m                       Traceback (most recent call last)",
      "Cell \u001b[1;32mIn[29], line 19\u001b[0m\n\u001b[0;32m     16\u001b[0m     sys\u001b[38;5;241m.\u001b[39mpath\u001b[38;5;241m.\u001b[39mappend(repo_path)\n\u001b[0;32m     18\u001b[0m \u001b[38;5;66;03m# Step 2: Import Generator from model.py\u001b[39;00m\n\u001b[1;32m---> 19\u001b[0m \u001b[38;5;28;01mfrom\u001b[39;00m \u001b[38;5;21;01mmodel\u001b[39;00m \u001b[38;5;28;01mimport\u001b[39;00m Generator  \u001b[38;5;66;03m# from animegan2-pytorch\u001b[39;00m\n\u001b[0;32m     21\u001b[0m \u001b[38;5;66;03m# Step 3: Load pretrained model (Hayao style)\u001b[39;00m\n\u001b[0;32m     22\u001b[0m weights_path \u001b[38;5;241m=\u001b[39m os\u001b[38;5;241m.\u001b[39mpath\u001b[38;5;241m.\u001b[39mjoin(repo_path, \u001b[38;5;124m\"\u001b[39m\u001b[38;5;124mweights\u001b[39m\u001b[38;5;124m\"\u001b[39m, \u001b[38;5;124m\"\u001b[39m\u001b[38;5;124mHayao\u001b[39m\u001b[38;5;124m\"\u001b[39m, \u001b[38;5;124m\"\u001b[39m\u001b[38;5;124mnetG.pth\u001b[39m\u001b[38;5;124m\"\u001b[39m)\n",
      "\u001b[1;31mModuleNotFoundError\u001b[0m: No module named 'model'"
     ]
    }
   ],
   "source": [
    "import torch\n",
    "from torchvision import transforms\n",
    "from PIL import Image\n",
    "import matplotlib.pyplot as plt\n",
    "import os\n",
    "import sys\n",
    "\n",
    "# Step 1: Add animegan2-pytorch repo to sys.path for imports\n",
    "repo_path = r\"C:\\Users\\KRISHNENDU\\Import concepts for ML\\Visualization\\animegan2-pytorch\"\n",
    "\n",
    "# Change working directory to repo path\n",
    "os.chdir(repo_path)\n",
    "\n",
    "# Make sure repo path is in the system path\n",
    "if repo_path not in sys.path:\n",
    "    sys.path.append(repo_path)\n",
    "\n",
    "# Step 2: Import Generator from model.py\n",
    "from model import Generator  # from animegan2-pytorch\n",
    "\n",
    "# Step 3: Load pretrained model (Hayao style)\n",
    "weights_path = os.path.join(repo_path, \"weights\", \"Hayao\", \"netG.pth\")\n",
    "device = torch.device(\"cuda\" if torch.cuda.is_available() else \"cpu\")\n",
    "\n",
    "net = Generator()\n",
    "net.load_state_dict(torch.load(weights_path, map_location=device))\n",
    "net.to(device).eval()\n",
    "\n",
    "# Step 4: Load your image from the examples folder\n",
    "img_path = r\"C:\\Users\\KRISHNENDU\\Import concepts for ML\\Visualization\\animegan2-pytorch\\examples\\my_photo.jpg\"  # Update with your image name\n",
    "img = Image.open(img_path).convert(\"RGB\")\n",
    "\n",
    "# Step 5: Preprocess the image\n",
    "transform = transforms.Compose([\n",
    "    transforms.Resize((256, 256)),\n",
    "    transforms.ToTensor(),\n",
    "    transforms.Normalize([0.5]*3, [0.5]*3),\n",
    "])\n",
    "input_tensor = transform(img).unsqueeze(0).to(device)\n",
    "\n",
    "# Step 6: Perform inference (cartoonify the image)\n",
    "with torch.no_grad():\n",
    "    output_tensor = net(input_tensor)\n",
    "\n",
    "# Step 7: Post-process and prepare the output image\n",
    "output_img = output_tensor.squeeze().cpu().detach()\n",
    "output_img = (output_img * 0.5 + 0.5).clamp(0, 1)\n",
    "output_img = transforms.ToPILImage()(output_img)\n",
    "\n",
    "# Step 8: Show the original and cartoonified images side by side\n",
    "plt.figure(figsize=(8, 4))\n",
    "plt.subplot(1, 2, 1)\n",
    "plt.title(\"Original Image\")\n",
    "plt.imshow(img)\n",
    "plt.axis(\"off\")\n",
    "\n",
    "plt.subplot(1, 2, 2)\n",
    "plt.title(\"Cartoonified (Hayao Style)\")\n",
    "plt.imshow(output_img)\n",
    "plt.axis(\"off\")\n",
    "plt.show()\n",
    "\n",
    "# Step 9: Save the cartoonified image (Optional)\n",
    "output_img.save(r\"C:\\Users\\KRISHNENDU\\Import concepts for ML\\Visualization\\animegan2-pytorch\\examples\\cartoon_output.jpg\")\n"
   ]
  },
  {
   "cell_type": "code",
   "execution_count": null,
   "id": "ee4bff18-5351-4aa9-8326-ac0626fab14e",
   "metadata": {},
   "outputs": [],
   "source": [
    "\n"
   ]
  },
  {
   "cell_type": "code",
   "execution_count": null,
   "id": "a14e5ba3-66c0-4844-a6f1-188a62ee9b8d",
   "metadata": {},
   "outputs": [],
   "source": []
  },
  {
   "cell_type": "code",
   "execution_count": null,
   "id": "210aac2f-0813-4cfa-9230-3b7b834870e8",
   "metadata": {},
   "outputs": [],
   "source": []
  }
 ],
 "metadata": {
  "kernelspec": {
   "display_name": "Python [conda env:base] *",
   "language": "python",
   "name": "conda-base-py"
  },
  "language_info": {
   "codemirror_mode": {
    "name": "ipython",
    "version": 3
   },
   "file_extension": ".py",
   "mimetype": "text/x-python",
   "name": "python",
   "nbconvert_exporter": "python",
   "pygments_lexer": "ipython3",
   "version": "3.12.7"
  }
 },
 "nbformat": 4,
 "nbformat_minor": 5
}
