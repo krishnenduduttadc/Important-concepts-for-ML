{
 "cells": [
  {
   "cell_type": "code",
   "execution_count": 7,
   "id": "9af2d12f-0b69-49f1-bc54-79ae4d19b73f",
   "metadata": {},
   "outputs": [
    {
     "name": "stdout",
     "output_type": "stream",
     "text": [
      "X^2 = [5.56521739 0.        ]\n",
      "Closest option is b: X^2 = [5.532 0.   ]\n"
     ]
    }
   ],
   "source": [
    "import numpy as np\n",
    "\n",
    "def f(x):\n",
    "    return 1 / (x[0]**2 + x[1]**2 + 2)\n",
    "\n",
    "def gradient(x):\n",
    "    denom = (x[0]**2 + x[1]**2 + 2)**2\n",
    "    df_dx1 = -2 * x[0] / denom\n",
    "    df_dx2 = -2 * x[1] / denom\n",
    "    return np.array([df_dx1, df_dx2])\n",
    "\n",
    "def hessian(x):\n",
    "    denom = (x[0]**2 + x[1]**2 + 2)**3\n",
    "    d2f_dx1_2 = (6 * x[0]**2 - 2 * x[1]**2 - 4) / denom\n",
    "    d2f_dx2_2 = (6 * x[1]**2 - 2 * x[0]**2 - 4) / denom\n",
    "    d2f_dx1_dx2 = 8 * x[0] * x[1] / denom\n",
    "    return np.array([[d2f_dx1_2, d2f_dx1_dx2], [d2f_dx1_dx2, d2f_dx2_2]])\n",
    "\n",
    "X1 = np.array([4.0, 0.0])\n",
    "grad = gradient(X1)\n",
    "H = hessian(X1)\n",
    "\n",
    "# Ensure Hessian is invertible\n",
    "if np.linalg.det(H) != 0:\n",
    "    H_inv = np.linalg.inv(H)\n",
    "    X2 = X1 - H_inv @ grad\n",
    "    print(f\"X^2 = {X2}\")\n",
    "\n",
    "    options = {\n",
    "        'a': np.array([2.468, 0.0]),\n",
    "        'b': np.array([5.532, 0.0]),\n",
    "        'c': np.array([-5.532, 0.0]),\n",
    "        'd': np.array([-2.468, 0.0])\n",
    "    }\n",
    "\n",
    "    for key, value in options.items():\n",
    "        if np.allclose(X2, value, atol=1e-1):  # Increased tolerance for numerical precision\n",
    "            print(f\"Closest option is {key}: X^2 = {value}\")\n",
    "            break\n",
    "    else:\n",
    "        print(\"No option matches closely.\")\n",
    "else:\n",
    "    print(\"Hessian is singular.\")"
   ]
  },
  {
   "cell_type": "code",
   "execution_count": null,
   "id": "18706916-ca67-40dc-bf5b-ffd5a91b52a6",
   "metadata": {},
   "outputs": [],
   "source": []
  }
 ],
 "metadata": {
  "kernelspec": {
   "display_name": "Python [conda env:base] *",
   "language": "python",
   "name": "conda-base-py"
  },
  "language_info": {
   "codemirror_mode": {
    "name": "ipython",
    "version": 3
   },
   "file_extension": ".py",
   "mimetype": "text/x-python",
   "name": "python",
   "nbconvert_exporter": "python",
   "pygments_lexer": "ipython3",
   "version": "3.12.7"
  }
 },
 "nbformat": 4,
 "nbformat_minor": 5
}
