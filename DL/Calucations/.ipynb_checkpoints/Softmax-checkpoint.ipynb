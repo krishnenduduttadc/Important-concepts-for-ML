{
 "cells": [
  {
   "cell_type": "code",
   "execution_count": 1,
   "id": "45a450dc-e75d-4c9e-aada-267633ebd448",
   "metadata": {},
   "outputs": [],
   "source": [
    "#Softmax"
   ]
  },
  {
   "cell_type": "code",
   "execution_count": 3,
   "id": "0874b61b-b804-4836-9e03-cf0001644494",
   "metadata": {},
   "outputs": [
    {
     "name": "stdout",
     "output_type": "stream",
     "text": [
      "Softmax: [0.65900114 0.24243297 0.09856589]\n"
     ]
    }
   ],
   "source": [
    "import numpy as np\n",
    "\n",
    "def softmax(x):\n",
    "    \"\"\"\n",
    "    Compute softmax values for each set of scores in x.\n",
    "    Supports 1D or 2D arrays (e.g., for batch inputs).\n",
    "    \"\"\"\n",
    "    # Subtract max for numerical stability\n",
    "    e_x = np.exp(x - np.max(x, axis=-1, keepdims=True))\n",
    "    return e_x / np.sum(e_x, axis=-1, keepdims=True)\n",
    "\n",
    "# Example usage\n",
    "x = np.array([2.0, 1.0, 0.1])\n",
    "print(\"Softmax:\", softmax(x))\n"
   ]
  },
  {
   "cell_type": "code",
   "execution_count": null,
   "id": "d99eaab2-3ca5-44ad-8b90-cf9e152881a3",
   "metadata": {},
   "outputs": [],
   "source": []
  }
 ],
 "metadata": {
  "kernelspec": {
   "display_name": "Python [conda env:base] *",
   "language": "python",
   "name": "conda-base-py"
  },
  "language_info": {
   "codemirror_mode": {
    "name": "ipython",
    "version": 3
   },
   "file_extension": ".py",
   "mimetype": "text/x-python",
   "name": "python",
   "nbconvert_exporter": "python",
   "pygments_lexer": "ipython3",
   "version": "3.12.7"
  }
 },
 "nbformat": 4,
 "nbformat_minor": 5
}
