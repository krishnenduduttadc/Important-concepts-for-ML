{
 "cells": [
  {
   "cell_type": "code",
   "execution_count": 11,
   "id": "17693be1-1c1e-4407-af14-ce99acbf91d8",
   "metadata": {},
   "outputs": [
    {
     "name": "stdout",
     "output_type": "stream",
     "text": [
      "Isospectral: True\n"
     ]
    }
   ],
   "source": [
    "import numpy as np\n",
    "\n",
    "def are_isospectral(A, B, tol=1e-8):\n",
    "    \"\"\"\n",
    "    Check if matrices A and B are isospectral (i.e., have the same eigenvalues).\n",
    "    \n",
    "    Parameters:\n",
    "    - A, B: numpy arrays representing square matrices\n",
    "    - tol: tolerance for eigenvalue comparison (default: 1e-8)\n",
    "    \n",
    "    Returns:\n",
    "    - True if A and B are isospectral, False otherwise\n",
    "    \"\"\"\n",
    "    if A.shape != B.shape or A.shape[0] != A.shape[1]:\n",
    "        raise ValueError(\"Both matrices must be square and of the same dimensions.\")\n",
    "\n",
    "    eigvals_A = np.sort(np.linalg.eigvals(A))\n",
    "    eigvals_B = np.sort(np.linalg.eigvals(B))\n",
    "\n",
    "    return np.allclose(eigvals_A, eigvals_B, atol=tol)\n",
    "\n",
    "# Example usage:\n",
    "A = np.array([[2,-12], [1,-5]])\n",
    "B = np.array([[-4,-3], [2,1]])\n",
    "\n",
    "print(\"Isospectral:\", are_isospectral(A, B))\n"
   ]
  },
  {
   "cell_type": "code",
   "execution_count": null,
   "id": "7fabb4db-9562-4272-8f2c-03cfb91f0471",
   "metadata": {},
   "outputs": [],
   "source": []
  }
 ],
 "metadata": {
  "kernelspec": {
   "display_name": "Python [conda env:base] *",
   "language": "python",
   "name": "conda-base-py"
  },
  "language_info": {
   "codemirror_mode": {
    "name": "ipython",
    "version": 3
   },
   "file_extension": ".py",
   "mimetype": "text/x-python",
   "name": "python",
   "nbconvert_exporter": "python",
   "pygments_lexer": "ipython3",
   "version": "3.12.7"
  }
 },
 "nbformat": 4,
 "nbformat_minor": 5
}
