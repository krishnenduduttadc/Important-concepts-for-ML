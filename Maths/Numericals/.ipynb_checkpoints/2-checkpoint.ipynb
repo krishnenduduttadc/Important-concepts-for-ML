{
 "cells": [
  {
   "cell_type": "code",
   "execution_count": 3,
   "id": "3b45f5b9-b940-4b5d-8757-c32463d0b1d9",
   "metadata": {},
   "outputs": [
    {
     "name": "stdout",
     "output_type": "stream",
     "text": [
      "Iteration 1: X^2 = [-1.  1.], f(x) = -1.00\n",
      "Iteration 2: X^3 = [0. 2.], f(x) = 2.00\n",
      "Iteration 3: X^4 = [-5. -1.], f(x) = 57.00\n",
      "\n",
      "Final point after 3 iterations: [-5. -1.]\n",
      "Comparison with options:\n",
      "Option a: [0 2], Distance: 5.83\n",
      "Option b: [-1 -5], Distance: 5.66\n",
      "Option c: [-5 -1], Distance: 0.00\n",
      "Option d: [2 0], Distance: 7.07\n",
      "\n",
      "The closest option is c: [-5 -1]\n"
     ]
    }
   ],
   "source": [
    "import numpy as np\n",
    "\n",
    "# Define the function\n",
    "def f(x):\n",
    "    x1, x2 = x\n",
    "    return x1 - x2 + 2*x1**2 + x2**2 + 2*x1*x2\n",
    "\n",
    "# Define the gradient of the function\n",
    "def gradient(x):\n",
    "    x1, x2 = x\n",
    "    df_dx1 = 1 + 4*x1 + 2*x2\n",
    "    df_dx2 = -1 + 2*x2 + 2*x1\n",
    "    return np.array([df_dx1, df_dx2])\n",
    "\n",
    "# Gradient descent parameters\n",
    "alpha = 1.0  # Learning rate\n",
    "initial_point = np.array([0.0, 0.0])\n",
    "num_iterations = 3\n",
    "\n",
    "# Perform gradient descent\n",
    "current_point = initial_point.copy()\n",
    "for i in range(num_iterations):\n",
    "    grad = gradient(current_point)\n",
    "    current_point = current_point - alpha * grad\n",
    "    print(f\"Iteration {i+1}: X^{i+2} = {current_point}, f(x) = {f(current_point):.2f}\")\n",
    "\n",
    "# Compare with options\n",
    "options = {\n",
    "    'a': np.array([0, 2]),\n",
    "    'b': np.array([-1, -5]),\n",
    "    'c': np.array([-5, -1]),\n",
    "    'd': np.array([2, 0])\n",
    "}\n",
    "\n",
    "print(\"\\nFinal point after 3 iterations:\", current_point)\n",
    "print(\"Comparison with options:\")\n",
    "for key, value in options.items():\n",
    "    distance = np.linalg.norm(current_point - value)\n",
    "    print(f\"Option {key}: {value}, Distance: {distance:.2f}\")\n",
    "\n",
    "# Find the closest option\n",
    "closest_option = min(options.keys(), key=lambda k: np.linalg.norm(current_point - options[k]))\n",
    "print(f\"\\nThe closest option is {closest_option}: {options[closest_option]}\")"
   ]
  },
  {
   "cell_type": "code",
   "execution_count": 5,
   "id": "b07608d2-2ee6-46ad-b217-99b055182e1a",
   "metadata": {},
   "outputs": [
    {
     "name": "stdout",
     "output_type": "stream",
     "text": [
      "X^4: [-5. -1.]\n"
     ]
    }
   ],
   "source": [
    "import numpy as np\n",
    "\n",
    "def gradient(x1, x2):\n",
    "    df_dx1 = 1 + 4 * x1 + 2 * x2\n",
    "    df_dx2 = -1 + 2 * x2 + 2 * x1\n",
    "    return np.array([df_dx1, df_dx2])\n",
    "\n",
    "def gradient_descent(start, alpha, iterations):\n",
    "    x = np.array(start, dtype=float)\n",
    "    for _ in range(iterations):\n",
    "        grad = gradient(x[0], x[1])\n",
    "        x = x - alpha * grad\n",
    "    return x\n",
    "\n",
    "# Perform gradient descent with alpha=1 for 3 iterations\n",
    "start = [0, 0]\n",
    "alpha = 1\n",
    "iterations = 3\n",
    "x4 = gradient_descent(start, alpha, iterations)\n",
    "print(\"X^4:\", x4)"
   ]
  },
  {
   "cell_type": "code",
   "execution_count": null,
   "id": "24bbc2e5-6ad2-41b3-9b64-4cb60d846298",
   "metadata": {},
   "outputs": [],
   "source": []
  }
 ],
 "metadata": {
  "kernelspec": {
   "display_name": "Python [conda env:base] *",
   "language": "python",
   "name": "conda-base-py"
  },
  "language_info": {
   "codemirror_mode": {
    "name": "ipython",
    "version": 3
   },
   "file_extension": ".py",
   "mimetype": "text/x-python",
   "name": "python",
   "nbconvert_exporter": "python",
   "pygments_lexer": "ipython3",
   "version": "3.12.7"
  }
 },
 "nbformat": 4,
 "nbformat_minor": 5
}
