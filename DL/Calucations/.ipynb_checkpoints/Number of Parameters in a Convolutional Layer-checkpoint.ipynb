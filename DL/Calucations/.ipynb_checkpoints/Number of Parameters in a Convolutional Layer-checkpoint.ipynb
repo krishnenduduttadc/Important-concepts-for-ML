{
 "cells": [
  {
   "cell_type": "code",
   "execution_count": 1,
   "id": "2f3de4d5-88a1-40de-a3cb-34b208414eaf",
   "metadata": {},
   "outputs": [],
   "source": [
    "#Number of Parameters in a Convolutional Layer\n"
   ]
  },
  {
   "cell_type": "code",
   "execution_count": 3,
   "id": "a4cfe758-74e5-46a3-8fd6-339fe0c73443",
   "metadata": {},
   "outputs": [
    {
     "name": "stdout",
     "output_type": "stream",
     "text": [
      "Number of parameters in Conv layer: 73856\n"
     ]
    }
   ],
   "source": [
    "def count_conv_layer_params(kernel_height, kernel_width, in_channels, out_channels):\n",
    "    \"\"\"\n",
    "    Calculate the number of parameters in a Convolutional Layer.\n",
    "\n",
    "    Parameters:\n",
    "    - kernel_height: int, height of the kernel\n",
    "    - kernel_width: int, width of the kernel\n",
    "    - in_channels: int, number of input channels\n",
    "    - out_channels: int, number of output channels (filters)\n",
    "\n",
    "    Returns:\n",
    "    - int, total number of parameters (weights + biases)\n",
    "    \"\"\"\n",
    "    weights = kernel_height * kernel_width * in_channels * out_channels\n",
    "    biases = out_channels\n",
    "    return weights + biases\n",
    "\n",
    "# Example usage\n",
    "kh = 3\n",
    "kw = 3\n",
    "in_ch = 64\n",
    "out_ch = 128\n",
    "\n",
    "params = count_conv_layer_params(kh, kw, in_ch, out_ch)\n",
    "print(f\"Number of parameters in Conv layer: {params}\")\n"
   ]
  },
  {
   "cell_type": "code",
   "execution_count": null,
   "id": "f1ed5e13-e331-47b6-b033-6d18ccc6b28d",
   "metadata": {},
   "outputs": [],
   "source": []
  }
 ],
 "metadata": {
  "kernelspec": {
   "display_name": "Python [conda env:base] *",
   "language": "python",
   "name": "conda-base-py"
  },
  "language_info": {
   "codemirror_mode": {
    "name": "ipython",
    "version": 3
   },
   "file_extension": ".py",
   "mimetype": "text/x-python",
   "name": "python",
   "nbconvert_exporter": "python",
   "pygments_lexer": "ipython3",
   "version": "3.12.7"
  }
 },
 "nbformat": 4,
 "nbformat_minor": 5
}
