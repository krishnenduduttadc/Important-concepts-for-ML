{
 "cells": [
  {
   "cell_type": "code",
   "execution_count": 12,
   "id": "9f8a1cfd-aa6b-4ecb-88b8-a13024c0d962",
   "metadata": {},
   "outputs": [
    {
     "name": "stderr",
     "output_type": "stream",
     "text": [
      "C:\\Users\\KRISHNENDU\\AppData\\Local\\Temp\\ipykernel_1796\\1596951309.py:21: DeprecationWarning: 'scipy.sparse.linalg.cg' keyword argument `tol` is deprecated in favor of `rtol` and will be removed in SciPy v1.14.0. Until then, if set, it will override `rtol`.\n",
      "  x_cg, info = cg(A, b, x0=x0, callback=callback, tol=1e-12)\n"
     ]
    },
    {
     "data": {
      "text/plain": [
       "{'Converged in iterations': 9,\n",
       " 'Residual ratios (approx convergence rate)': [0.04675841937150934,\n",
       "  0.0768207363810354,\n",
       "  0.013958529152830653,\n",
       "  0.046782184931339635,\n",
       "  0.055284714117501514,\n",
       "  0.029390030094949546,\n",
       "  0.00817442500703687,\n",
       "  0.05428070149903369],\n",
       " 'Conclusion': 'False — CG has linear convergence, not quadratic'}"
      ]
     },
     "execution_count": 12,
     "metadata": {},
     "output_type": "execute_result"
    }
   ],
   "source": [
    "import numpy as np\n",
    "from scipy.sparse.linalg import cg\n",
    "\n",
    "# Create SPD matrix A and known solution x_true\n",
    "np.random.seed(0)\n",
    "n = 10\n",
    "Q = np.random.rand(n, n)\n",
    "A = Q.T @ Q + n * np.eye(n)  # Make A symmetric positive definite\n",
    "x_true = np.ones(n)\n",
    "b = A @ x_true\n",
    "\n",
    "# Run conjugate gradient method\n",
    "x0 = np.zeros(n)\n",
    "residuals = []\n",
    "\n",
    "def callback(xk):\n",
    "    # Compute residual norm at each iteration\n",
    "    r = b - A @ xk\n",
    "    residuals.append(np.linalg.norm(r))\n",
    "\n",
    "x_cg, info = cg(A, b, x0=x0, callback=callback, tol=1e-12)\n",
    "\n",
    "# Analyze residual decay\n",
    "ratios = [residuals[i+1]/residuals[i] for i in range(len(residuals)-1)]\n",
    "\n",
    "{\n",
    "    \"Converged in iterations\": len(residuals),\n",
    "    \"Residual ratios (approx convergence rate)\": ratios,\n",
    "    \"Conclusion\": \"False — CG has linear convergence, not quadratic\"\n",
    "}\n"
   ]
  },
  {
   "cell_type": "code",
   "execution_count": 14,
   "id": "04b1bb6d-5736-4a9b-8982-200d2ee18c73",
   "metadata": {},
   "outputs": [],
   "source": [
    "#False"
   ]
  },
  {
   "cell_type": "code",
   "execution_count": null,
   "id": "b64ed1ca-28bc-499b-b430-0c977d92a3c1",
   "metadata": {},
   "outputs": [],
   "source": []
  },
  {
   "cell_type": "code",
   "execution_count": null,
   "id": "b870af36-487d-471a-b825-87eab24db48f",
   "metadata": {},
   "outputs": [],
   "source": []
  }
 ],
 "metadata": {
  "kernelspec": {
   "display_name": "Python [conda env:base] *",
   "language": "python",
   "name": "conda-base-py"
  },
  "language_info": {
   "codemirror_mode": {
    "name": "ipython",
    "version": 3
   },
   "file_extension": ".py",
   "mimetype": "text/x-python",
   "name": "python",
   "nbconvert_exporter": "python",
   "pygments_lexer": "ipython3",
   "version": "3.12.7"
  }
 },
 "nbformat": 4,
 "nbformat_minor": 5
}
