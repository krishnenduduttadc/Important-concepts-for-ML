{
 "cells": [
  {
   "cell_type": "code",
   "execution_count": 5,
   "id": "04b9f067-9571-4de4-9da6-9dc42de3ba6a",
   "metadata": {},
   "outputs": [
    {
     "data": {
      "text/plain": [
       "{'Eigenvalue near 1': 1.0, 'Eigenvalue near 3': 3.0}"
      ]
     },
     "execution_count": 5,
     "metadata": {},
     "output_type": "execute_result"
    }
   ],
   "source": [
    "import numpy as np\n",
    "\n",
    "def inverse_iteration(A, mu, num_iter=10):\n",
    "    n = A.shape[0]\n",
    "    x = np.random.rand(n)\n",
    "    x = x / np.linalg.norm(x)\n",
    "    I = np.eye(n)\n",
    "    \n",
    "    for _ in range(num_iter):\n",
    "        y = np.linalg.solve(A - mu * I, x)\n",
    "        x = y / np.linalg.norm(y)\n",
    "    \n",
    "    # Rayleigh quotient to approximate eigenvalue\n",
    "    lambda_approx = x.T @ A @ x\n",
    "    return lambda_approx\n",
    "\n",
    "# Define matrix A with known eigenvalues\n",
    "A = np.array([[2, 1],\n",
    "              [1, 2]])  # Eigenvalues are 1 and 3\n",
    "\n",
    "# Use inverse iteration with shift near eigenvalue 1\n",
    "mu = 1.1\n",
    "eigenvalue_near_1 = inverse_iteration(A, mu)\n",
    "\n",
    "# Use shift near eigenvalue 3\n",
    "mu2 = 2.9\n",
    "eigenvalue_near_3 = inverse_iteration(A, mu2)\n",
    "\n",
    "{\n",
    "    \"Eigenvalue near 1\": eigenvalue_near_1,\n",
    "    \"Eigenvalue near 3\": eigenvalue_near_3\n",
    "}\n"
   ]
  },
  {
   "cell_type": "code",
   "execution_count": 3,
   "id": "e8722f91-383d-46a2-a79c-34a89e359a75",
   "metadata": {},
   "outputs": [],
   "source": [
    "#True"
   ]
  },
  {
   "cell_type": "code",
   "execution_count": 7,
   "id": "baf1de06-483c-4d06-9747-a3af7b28869f",
   "metadata": {},
   "outputs": [
    {
     "name": "stdout",
     "output_type": "stream",
     "text": [
      "Estimated eigenvalue: 2.3819660112501597\n"
     ]
    }
   ],
   "source": []
  },
  {
   "cell_type": "code",
   "execution_count": null,
   "id": "1a3e2d4e-96e4-4873-8618-3bd890173adb",
   "metadata": {},
   "outputs": [],
   "source": []
  }
 ],
 "metadata": {
  "kernelspec": {
   "display_name": "Python [conda env:base] *",
   "language": "python",
   "name": "conda-base-py"
  },
  "language_info": {
   "codemirror_mode": {
    "name": "ipython",
    "version": 3
   },
   "file_extension": ".py",
   "mimetype": "text/x-python",
   "name": "python",
   "nbconvert_exporter": "python",
   "pygments_lexer": "ipython3",
   "version": "3.12.7"
  }
 },
 "nbformat": 4,
 "nbformat_minor": 5
}
