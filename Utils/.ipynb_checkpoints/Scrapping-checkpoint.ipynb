{
 "cells": [
  {
   "cell_type": "code",
   "execution_count": 3,
   "id": "3c7d42b3-0c1d-4f3e-9e8a-b1c3f70a4790",
   "metadata": {},
   "outputs": [
    {
     "name": "stdout",
     "output_type": "stream",
     "text": [
      "Darjeeling(/dɑːrˈdʒiːlɪŋ/,[14]Nepali:[ˈdard͡ziliŋ],Bengali:[ˈdarˌdʒiliŋ]) is a city in the northernmost region of theIndian stateofWest Bengal. Located in theEastern Himalayas, it has an average elevation of 2,045 metres (6,709 ft).[10]To the west of Darjeeling lies theeasternmost provinceofNepal, to the east theKingdom of Bhutan, to the north the Indian state ofSikkim, and farther north theTibet Autonomous Regionregion ofChina.Bangladeshlies to the south and southeast, and most of the state of West Bengal lies to the south and southwest, connected to the Darjeeling region by a narrowtract.Kangchenjunga, the world's third-highest mountain, rises to the north and is prominently visible on clear days.[f][16]\n",
      "\n",
      "In the early 19th century, duringEast India Company rulein India, Darjeeling was identified as a potential summer retreat for British officials, soldiers and their families. The narrow mountain ridge was leased from theKingdom of Sikkim, and eventually annexed toBritish India. Experimentation with growing tea on the slopes below Darjeeling was highly successful. Thousands of labourers were recruited chiefly from Nepal to clear the forests, build European-style cottages and work in thetea plantations. The widespread deforestation displaced the indigenous peoples. Residential schools were established in and around Darjeeling for the education of children of thedomiciledBritish in India. By the late-19th century, a novel narrow-gauge mountain railway, theDarjeeling Himalayan Railway, was bringing summer residents into the town and carrying a freight of tea out for export to the world. After India's independence in 1947, as the British left Darjeeling, its cottages were purchased by wealthy Indians from the plains and its tea plantations by out-of-town Indian business owners and conglomerates.\n",
      "\n",
      "Darjeeling's population today is constituted largely of the descendants of the indigenous and immigrant labourers that were employed in the original development of the town. Although theircommon language, theNepali language, has been given official recognition at the state and federal levels in India, the recognition has created little meaningful employment for the language's speakers nor has it increased their ability to have a significantly greater say in their political affairs. The tea industry and tourism are the mainstays of the town's economy. Deforestation in the region after India's independence has caused environmental damage, affecting the perennial springs that supply the town's water. The population of Darjeeling meanwhile has exploded over the years, and unregulated construction, traffic congestion and water shortages are common. Many young locals, educated in government schools, have taken to migrating out for the lack of jobs matching their skills. Like out-migrants from other regions of northeastern India, they have been subjected todiscriminationand racism in some Indian cities.\n",
      "\n",
      "Darjeeling's culture is highly cosmopolitan—a result of diverse ethnic groups intermixing and evolving away from their historical roots. The region's indigenous cuisine is rich in fermented foods and beverages. Tourists have flocked to Darjeeling since the mid-19th century. In 1999, after an international campaign for its support, the Darjeeling Himalayan Railway was declared aWorld Heritage SitebyUNESCO. In 2005,Darjeeling teawas givengeographical indicationby theWorld Trade Organizationas much for the protection of the brand as for the development of the region that produces it.\n",
      "\n",
      "At the time of the first British arrival, Darjeeling was known among itsLepchainhabitants asDorje-ling, or the \"Place of theThunderbolt.\"[g]According to theOxford Concise Dictionary of World Place Names, Darjeeling is derived from theTibetanDorje lingorDorje-glin, meaning \"Land of Dorje,\" i.e. of thevajra, the weapon of theHindugodIndra.[18]\n",
      "\n",
      "Darjeeling lies between theMechiandTeestarivers in the Eastern Himalayas. In the 18th century, it was part of a boundary region that had stirred ambitions and insecurities in severalSouth Asianstates.[17]For the greater part of the century, theChogyal-ruler of the northernKingdom of Sikkimhad asserted possession of this territory.[17]In the closing decades, theGurkha kingdomof Nepal expanded eastwards to bring Darjeeling into its territory.[17]Its army stopped short of the Teesta, beyond which at the time lay theKingdom of Bhutan.[17][19]\n",
      "\n",
      "The EnglishEast India Companybegan to show an interest in the Darjeeling hills in the early 19th century.[20]At the time Darjeeling's indigenous population largely consisted of theLepchaandLimbupeoples.[1]The Company's interference in territorial matters began in the aftermath of its army's victory over the Gurkhas in theAnglo-Nepalese War. Fought between 1814 and 1816, the war concluded with two treaties, theTreaty of Sugauliand theTreaty of Titalia, under which Nepal was required to return the Darjeeling territory to Sikkim.[17]\n",
      "\n",
      "In 1829, two East India Company officials,\n"
     ]
    }
   ],
   "source": [
    "# Step 1: Import libraries\n",
    "import requests\n",
    "from bs4 import BeautifulSoup\n",
    "\n",
    "# Step 2: Define the URL\n",
    "url = 'https://en.wikipedia.org/wiki/Darjeeling'\n",
    "\n",
    "# Step 3: Send an HTTP GET request\n",
    "response = requests.get(url)\n",
    "\n",
    "# Step 4: Parse the page content with BeautifulSoup\n",
    "soup = BeautifulSoup(response.text, 'html.parser')\n",
    "\n",
    "# Step 5: Extract and clean main text (excluding menus, footers etc.)\n",
    "# Most content is inside the <div id=\"mw-content-text\">\n",
    "content_div = soup.find('div', {'id': 'mw-content-text'})\n",
    "\n",
    "# Extract only paragraphs\n",
    "paragraphs = content_div.find_all('p')\n",
    "\n",
    "# Step 6: Combine and print text\n",
    "text_content = '\\n\\n'.join([para.get_text(strip=True) for para in paragraphs if para.get_text(strip=True)])\n",
    "\n",
    "# Optional: Display first 1000 characters\n",
    "print(text_content[:5000])  # You can remove slicing to get full content\n",
    "\n"
   ]
  },
  {
   "cell_type": "code",
   "execution_count": null,
   "id": "e8e9056c-de08-4c93-bd25-7155b4954c67",
   "metadata": {},
   "outputs": [],
   "source": []
  }
 ],
 "metadata": {
  "kernelspec": {
   "display_name": "Python [conda env:base] *",
   "language": "python",
   "name": "conda-base-py"
  },
  "language_info": {
   "codemirror_mode": {
    "name": "ipython",
    "version": 3
   },
   "file_extension": ".py",
   "mimetype": "text/x-python",
   "name": "python",
   "nbconvert_exporter": "python",
   "pygments_lexer": "ipython3",
   "version": "3.12.7"
  }
 },
 "nbformat": 4,
 "nbformat_minor": 5
}
