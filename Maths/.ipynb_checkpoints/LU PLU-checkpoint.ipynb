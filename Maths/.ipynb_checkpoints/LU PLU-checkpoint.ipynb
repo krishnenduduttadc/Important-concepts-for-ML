{
 "cells": [
  {
   "cell_type": "code",
   "execution_count": 1,
   "id": "2b58ee49-9f2d-4c40-a61e-07d1503c8a4d",
   "metadata": {},
   "outputs": [],
   "source": [
    "#Forward substitution"
   ]
  },
  {
   "cell_type": "code",
   "execution_count": 3,
   "id": "75374206-cafb-4701-a93e-e0f084fde529",
   "metadata": {},
   "outputs": [
    {
     "name": "stdout",
     "output_type": "stream",
     "text": [
      "Solution x:\n",
      "[ 2.  -1.  -1.6]\n"
     ]
    }
   ],
   "source": [
    "import numpy as np\n",
    "\n",
    "def forward_substitution(L, b):\n",
    "    n = L.shape[0]\n",
    "    x = np.zeros_like(b, dtype=float)\n",
    "    \n",
    "    for i in range(n):\n",
    "        sum_ = sum(L[i, j] * x[j] for j in range(i))\n",
    "        x[i] = (b[i] - sum_) / L[i, i]\n",
    "    \n",
    "    return x\n",
    "\n",
    "# Example: Solve Lx = b\n",
    "L = np.array([\n",
    "    [2, 0, 0],\n",
    "    [3, 1, 0],\n",
    "    [1, -4, 5]\n",
    "], dtype=float)\n",
    "\n",
    "b = np.array([4, 5, -2], dtype=float)\n",
    "\n",
    "x = forward_substitution(L, b)\n",
    "\n",
    "print(\"Solution x:\")\n",
    "print(x)\n"
   ]
  },
  {
   "cell_type": "code",
   "execution_count": 5,
   "id": "f9c42ffb-a0cc-427c-8a75-774808970a24",
   "metadata": {},
   "outputs": [],
   "source": [
    "#Backward substitution"
   ]
  },
  {
   "cell_type": "code",
   "execution_count": 7,
   "id": "6751ff6a-5d9f-456c-b6ee-8478bba2bae4",
   "metadata": {},
   "outputs": [
    {
     "name": "stdout",
     "output_type": "stream",
     "text": [
      "Solution x:\n",
      "[1. 3. 2.]\n"
     ]
    }
   ],
   "source": [
    "import numpy as np\n",
    "\n",
    "def backward_substitution(U, b):\n",
    "    n = U.shape[0]\n",
    "    x = np.zeros_like(b, dtype=float)\n",
    "\n",
    "    for i in range(n - 1, -1, -1):  # loop from n-1 down to 0\n",
    "        sum_ = sum(U[i, j] * x[j] for j in range(i + 1, n))\n",
    "        x[i] = (b[i] - sum_) / U[i, i]\n",
    "\n",
    "    return x\n",
    "\n",
    "# Example: Solve Ux = b\n",
    "U = np.array([\n",
    "    [2, -1, 3],\n",
    "    [0, 1, -2],\n",
    "    [0, 0, 4]\n",
    "], dtype=float)\n",
    "\n",
    "b = np.array([5, -1, 8], dtype=float)\n",
    "\n",
    "x = backward_substitution(U, b)\n",
    "\n",
    "print(\"Solution x:\")\n",
    "print(x)\n"
   ]
  },
  {
   "cell_type": "code",
   "execution_count": 9,
   "id": "626ebd68-d44e-47d3-83c9-2417fe3d3d74",
   "metadata": {},
   "outputs": [],
   "source": [
    "#LU decomposition"
   ]
  },
  {
   "cell_type": "code",
   "execution_count": 11,
   "id": "fc96c61e-55b0-4088-a427-350c28bc0fa9",
   "metadata": {},
   "outputs": [
    {
     "name": "stdout",
     "output_type": "stream",
     "text": [
      "L matrix:\n",
      "[[1.  0.  0. ]\n",
      " [1.5 1.  0. ]\n",
      " [1.5 1.  1. ]]\n",
      "\n",
      "U matrix:\n",
      "[[ 2.  -1.   1. ]\n",
      " [ 0.   4.5  7.5]\n",
      " [ 0.   0.  -4. ]]\n",
      "\n",
      "Reconstruction A ≈ L @ U:\n",
      "[[ 2. -1.  1.]\n",
      " [ 3.  3.  9.]\n",
      " [ 3.  3.  5.]]\n"
     ]
    }
   ],
   "source": [
    "import numpy as np\n",
    "\n",
    "def lu_decomposition(A):\n",
    "    n = A.shape[0]\n",
    "    L = np.zeros_like(A, dtype=float)\n",
    "    U = np.zeros_like(A, dtype=float)\n",
    "\n",
    "    for i in range(n):\n",
    "        # Upper triangular matrix U\n",
    "        for j in range(i, n):\n",
    "            U[i, j] = A[i, j] - np.dot(L[i, :i], U[:i, j])\n",
    "\n",
    "        # Lower triangular matrix L\n",
    "        for j in range(i + 1, n):\n",
    "            L[j, i] = (A[j, i] - np.dot(L[j, :i], U[:i, i])) / U[i, i]\n",
    "\n",
    "        L[i, i] = 1  # Set diagonal of L to 1\n",
    "\n",
    "    return L, U\n",
    "\n",
    "# Example matrix A\n",
    "A = np.array([\n",
    "    [2, -1, 1],\n",
    "    [3, 3, 9],\n",
    "    [3, 3, 5]\n",
    "], dtype=float)\n",
    "\n",
    "L, U = lu_decomposition(A)\n",
    "\n",
    "print(\"L matrix:\")\n",
    "print(L)\n",
    "print(\"\\nU matrix:\")\n",
    "print(U)\n",
    "\n",
    "# Verify: A ≈ L @ U\n",
    "print(\"\\nReconstruction A ≈ L @ U:\")\n",
    "print(np.round(L @ U, decimals=6))\n"
   ]
  },
  {
   "cell_type": "code",
   "execution_count": 13,
   "id": "d1cfadf9-8891-4b4d-81c2-35bf8eb1f827",
   "metadata": {},
   "outputs": [],
   "source": [
    "#PLU decomposition"
   ]
  },
  {
   "cell_type": "code",
   "execution_count": 15,
   "id": "cf04b318-5e8d-4b6c-98f7-3ac83f8a66ef",
   "metadata": {},
   "outputs": [
    {
     "name": "stdout",
     "output_type": "stream",
     "text": [
      "P matrix (Permutation):\n",
      "[[0. 1. 0.]\n",
      " [1. 0. 0.]\n",
      " [0. 0. 1.]]\n",
      "\n",
      "L matrix (Lower Triangular):\n",
      "[[ 1.          0.          0.        ]\n",
      " [ 0.66666667  1.          0.        ]\n",
      " [ 1.         -0.          1.        ]]\n",
      "\n",
      "U matrix (Upper Triangular):\n",
      "[[ 3.  3.  9.]\n",
      " [ 0. -3. -5.]\n",
      " [ 0.  0. -4.]]\n",
      "\n",
      "Reconstruction A ≈ P @ L @ U:\n",
      "[[ 2. -1.  1.]\n",
      " [ 3.  3.  9.]\n",
      " [ 3.  3.  5.]]\n"
     ]
    }
   ],
   "source": [
    "import numpy as np\n",
    "\n",
    "def plu_decomposition(A):\n",
    "    A = A.astype(float)\n",
    "    n = A.shape[0]\n",
    "    P = np.eye(n)  # Start with identity matrix for P\n",
    "    L = np.zeros_like(A, dtype=float)\n",
    "    U = A.copy()\n",
    "\n",
    "    for i in range(n):\n",
    "        # Pivoting: Find the maximum value in column i (partial pivoting)\n",
    "        max_index = np.argmax(np.abs(U[i:n, i])) + i\n",
    "        if max_index != i:\n",
    "            # Swap rows i and max_index in U\n",
    "            U[[i, max_index]] = U[[max_index, i]]\n",
    "            # Swap corresponding rows in P\n",
    "            P[[i, max_index]] = P[[max_index, i]]\n",
    "            # Record the row swaps in L\n",
    "            L[[i, max_index], :i] = L[[max_index, i], :i]\n",
    "\n",
    "        # Decompose into L and U\n",
    "        for j in range(i + 1, n):\n",
    "            L[j, i] = U[j, i] / U[i, i]\n",
    "            U[j, i:] = U[j, i:] - L[j, i] * U[i, i:]\n",
    "\n",
    "    # Fill the diagonal of L with 1s\n",
    "    np.fill_diagonal(L, 1)\n",
    "    \n",
    "    return P, L, U\n",
    "\n",
    "# Example matrix A\n",
    "A = np.array([\n",
    "    [2, -1, 1],\n",
    "    [3, 3, 9],\n",
    "    [3, 3, 5]\n",
    "], dtype=float)\n",
    "\n",
    "P, L, U = plu_decomposition(A)\n",
    "\n",
    "print(\"P matrix (Permutation):\")\n",
    "print(P)\n",
    "print(\"\\nL matrix (Lower Triangular):\")\n",
    "print(L)\n",
    "print(\"\\nU matrix (Upper Triangular):\")\n",
    "print(U)\n",
    "\n",
    "# Verify: A ≈ P @ L @ U\n",
    "print(\"\\nReconstruction A ≈ P @ L @ U:\")\n",
    "print(np.round(P @ L @ U, decimals=6))\n"
   ]
  },
  {
   "cell_type": "code",
   "execution_count": 17,
   "id": "d7704bae-6cf4-440c-96d6-6d96a4811c49",
   "metadata": {},
   "outputs": [],
   "source": [
    "#Cholesky decomposition"
   ]
  },
  {
   "cell_type": "code",
   "execution_count": 19,
   "id": "e1f94be0-d9e5-44ca-a2ff-43ee6cc3534e",
   "metadata": {},
   "outputs": [
    {
     "name": "stdout",
     "output_type": "stream",
     "text": [
      "L matrix (Lower Triangular):\n",
      "[[2. 0.]\n",
      " [1. 1.]]\n",
      "\n",
      "Reconstruction A ≈ L @ L^T:\n",
      "[[4. 2.]\n",
      " [2. 2.]]\n"
     ]
    }
   ],
   "source": [
    "import numpy as np\n",
    "\n",
    "# Example symmetric positive-definite matrix A\n",
    "A = np.array([\n",
    "    [4, 2],\n",
    "    [2, 2]\n",
    "], dtype=float)\n",
    "\n",
    "# Cholesky Decomposition (A = L * L^T)\n",
    "L = np.linalg.cholesky(A)\n",
    "\n",
    "print(\"L matrix (Lower Triangular):\")\n",
    "print(L)\n",
    "\n",
    "# Verify: A ≈ L @ L.T\n",
    "print(\"\\nReconstruction A ≈ L @ L^T:\")\n",
    "print(np.round(L @ L.T, decimals=6))\n"
   ]
  },
  {
   "cell_type": "code",
   "execution_count": null,
   "id": "5c4b8d1f-7a41-4a50-8663-87e402181325",
   "metadata": {},
   "outputs": [],
   "source": []
  }
 ],
 "metadata": {
  "kernelspec": {
   "display_name": "Python [conda env:base] *",
   "language": "python",
   "name": "conda-base-py"
  },
  "language_info": {
   "codemirror_mode": {
    "name": "ipython",
    "version": 3
   },
   "file_extension": ".py",
   "mimetype": "text/x-python",
   "name": "python",
   "nbconvert_exporter": "python",
   "pygments_lexer": "ipython3",
   "version": "3.12.7"
  }
 },
 "nbformat": 4,
 "nbformat_minor": 5
}
