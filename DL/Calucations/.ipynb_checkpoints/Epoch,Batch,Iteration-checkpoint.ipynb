{
 "cells": [
  {
   "cell_type": "code",
   "execution_count": 3,
   "id": "bef93c97-2b52-40d0-9553-0d546449f16b",
   "metadata": {},
   "outputs": [
    {
     "name": "stdout",
     "output_type": "stream",
     "text": [
      "Iterations per epoch: 10\n"
     ]
    }
   ],
   "source": [
    "def calculate_iterations_per_epoch(num_training_samples, batch_size):\n",
    "    \"\"\"\n",
    "    Calculate how many iterations make up one epoch.\n",
    "    \n",
    "    Args:\n",
    "        num_training_samples: Total number of training samples\n",
    "        batch_size: Number of samples processed in one batch\n",
    "        \n",
    "    Returns:\n",
    "        iterations_per_epoch: Number of iterations needed to process all data once\n",
    "    \"\"\"\n",
    "    iterations_per_epoch = num_training_samples // batch_size\n",
    "    # Add one more iteration if there's a remainder\n",
    "    if num_training_samples % batch_size != 0:\n",
    "        iterations_per_epoch += 1\n",
    "    return iterations_per_epoch\n",
    "\n",
    "# Example usage\n",
    "num_samples = 1000  # Total training samples\n",
    "batch_size = 100     # Samples per batch\n",
    "\n",
    "iterations = calculate_iterations_per_epoch(num_samples, batch_size)\n",
    "print(f\"Iterations per epoch: {iterations}\")"
   ]
  },
  {
   "cell_type": "code",
   "execution_count": null,
   "id": "0aed9181-5334-44e4-90ee-f232b95366e3",
   "metadata": {},
   "outputs": [],
   "source": []
  }
 ],
 "metadata": {
  "kernelspec": {
   "display_name": "Python [conda env:base] *",
   "language": "python",
   "name": "conda-base-py"
  },
  "language_info": {
   "codemirror_mode": {
    "name": "ipython",
    "version": 3
   },
   "file_extension": ".py",
   "mimetype": "text/x-python",
   "name": "python",
   "nbconvert_exporter": "python",
   "pygments_lexer": "ipython3",
   "version": "3.12.7"
  }
 },
 "nbformat": 4,
 "nbformat_minor": 5
}
