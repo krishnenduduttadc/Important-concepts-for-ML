{
 "cells": [
  {
   "cell_type": "code",
   "execution_count": 2,
   "id": "98f63ab0-956c-4495-bad8-47bcd34b25d4",
   "metadata": {},
   "outputs": [
    {
     "data": {
      "text/plain": [
       "[(0, 0),\n",
       " (0, 1),\n",
       " (0, 2),\n",
       " (0, 3),\n",
       " (0, 4),\n",
       " (0, 5),\n",
       " (1, 5),\n",
       " (2, 5),\n",
       " (3, 5),\n",
       " (4, 5),\n",
       " (5, 5)]"
      ]
     },
     "execution_count": 2,
     "metadata": {},
     "output_type": "execute_result"
    }
   ],
   "source": [
    "import matplotlib.pyplot as plt\n",
    "import time\n",
    "from IPython.display import clear_output\n",
    "from collections import deque\n",
    "\n",
    "# Grid Setup\n",
    "ROWS, COLS = 6, 6\n",
    "start = (0, 0)\n",
    "goal = (5, 5)\n",
    "obstacles = {(1, 1), (2, 2), (3, 3), (3, 2), (2, 3)}\n",
    "\n",
    "def draw_grid(path=set(), frontier=set(), visited=set(), current=None):\n",
    "    fig, ax = plt.subplots()\n",
    "    ax.set_xticks(range(COLS+1))\n",
    "    ax.set_yticks(range(ROWS+1))\n",
    "    ax.grid(True)\n",
    "    ax.set_xlim(-0.5, COLS - 0.5)\n",
    "    ax.set_ylim(-0.5, ROWS - 0.5)\n",
    "    ax.invert_yaxis()\n",
    "\n",
    "    for r in range(ROWS):\n",
    "        for c in range(COLS):\n",
    "            color = 'white'\n",
    "            if (r, c) in obstacles:\n",
    "                color = 'black'\n",
    "            elif (r, c) == start:\n",
    "                color = 'green'\n",
    "            elif (r, c) == goal:\n",
    "                color = 'gold'\n",
    "            elif (r, c) == current:\n",
    "                color = 'red'\n",
    "            elif (r, c) in path:\n",
    "                color = 'blue'\n",
    "            elif (r, c) in frontier:\n",
    "                color = 'orange'\n",
    "            elif (r, c) in visited:\n",
    "                color = 'lightgray'\n",
    "            ax.add_patch(plt.Rectangle((c-0.5, r-0.5), 1, 1, color=color))\n",
    "\n",
    "    plt.title(\"Breadth-First Search\")\n",
    "    plt.show()\n",
    "    time.sleep(0.5)\n",
    "    clear_output(wait=True)\n",
    "\n",
    "def bfs_visual(start, goal):\n",
    "    queue = deque([(start, [start])])\n",
    "    visited = set()\n",
    "    while queue:\n",
    "        (current, path) = queue.popleft()\n",
    "        draw_grid(path=set(path), frontier={node for node, _ in queue}, visited=visited, current=current)\n",
    "        if current == goal:\n",
    "            draw_grid(path=set(path))\n",
    "            return path\n",
    "        if current in visited:\n",
    "            continue\n",
    "        visited.add(current)\n",
    "        r, c = current\n",
    "        for dr, dc in [(0,1),(1,0),(-1,0),(0,-1)]:\n",
    "            nr, nc = r+dr, c+dc\n",
    "            next_node = (nr, nc)\n",
    "            if 0 <= nr < ROWS and 0 <= nc < COLS and next_node not in visited and next_node not in obstacles:\n",
    "                queue.append((next_node, path + [next_node]))\n",
    "\n",
    "# Run it\n",
    "bfs_visual(start, goal)\n"
   ]
  },
  {
   "cell_type": "code",
   "execution_count": null,
   "id": "3074a6db-3517-4e8e-82d4-39e5dd593d23",
   "metadata": {},
   "outputs": [],
   "source": []
  }
 ],
 "metadata": {
  "kernelspec": {
   "display_name": "Python [conda env:base] *",
   "language": "python",
   "name": "conda-base-py"
  },
  "language_info": {
   "codemirror_mode": {
    "name": "ipython",
    "version": 3
   },
   "file_extension": ".py",
   "mimetype": "text/x-python",
   "name": "python",
   "nbconvert_exporter": "python",
   "pygments_lexer": "ipython3",
   "version": "3.12.7"
  }
 },
 "nbformat": 4,
 "nbformat_minor": 5
}
