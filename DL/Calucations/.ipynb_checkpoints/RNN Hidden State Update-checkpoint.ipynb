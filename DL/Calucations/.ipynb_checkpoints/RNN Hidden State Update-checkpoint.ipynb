{
 "cells": [
  {
   "cell_type": "code",
   "execution_count": 2,
   "id": "413b3203-43e7-4751-b864-a3f18d6353a4",
   "metadata": {},
   "outputs": [
    {
     "name": "stdout",
     "output_type": "stream",
     "text": [
      "Timestep 0 hidden state:\n",
      "[ 0.00090802 -0.01208704]\n",
      "Timestep 1 hidden state:\n",
      "[-0.00285381  0.04442604]\n",
      "Timestep 2 hidden state:\n",
      "[-0.00188001  0.01883054]\n",
      "Timestep 3 hidden state:\n",
      "[0.00302879 0.02105912]\n"
     ]
    }
   ],
   "source": [
    "import numpy as np\n",
    "\n",
    "def rnn_step_forward(x, prev_h, Wx, Wh, b):\n",
    "    \"\"\"\n",
    "    Simple RNN hidden state update (forward pass for a single timestep)\n",
    "    \n",
    "    Parameters:\n",
    "    x: input for current timestep (input_dim, 1)\n",
    "    prev_h: hidden state from previous timestep (hidden_dim, 1)\n",
    "    Wx: input-to-hidden weights (hidden_dim, input_dim)\n",
    "    Wh: hidden-to-hidden weights (hidden_dim, hidden_dim)\n",
    "    b: bias term (hidden_dim, 1)\n",
    "    \n",
    "    Returns:\n",
    "    next_h: next hidden state (hidden_dim, 1)\n",
    "    \"\"\"\n",
    "    # Compute the affine transform\n",
    "    h_affine = np.dot(Wx, x) + np.dot(Wh, prev_h) + b\n",
    "    \n",
    "    # Apply activation function (tanh is commonly used in RNNs)\n",
    "    next_h = np.tanh(h_affine)\n",
    "    \n",
    "    return next_h\n",
    "\n",
    "def rnn_forward(x_seq, h0, Wx, Wh, b):\n",
    "    \"\"\"\n",
    "    Complete RNN forward pass for a sequence of inputs\n",
    "    \n",
    "    Parameters:\n",
    "    x_seq: sequence of inputs (seq_length, input_dim, 1)\n",
    "    h0: initial hidden state (hidden_dim, 1)\n",
    "    Wx, Wh, b: RNN parameters\n",
    "    \n",
    "    Returns:\n",
    "    h_seq: sequence of hidden states (seq_length, hidden_dim, 1)\n",
    "    \"\"\"\n",
    "    seq_length = len(x_seq)\n",
    "    hidden_dim = h0.shape[0]\n",
    "    h_seq = np.zeros((seq_length, hidden_dim, 1))\n",
    "    \n",
    "    prev_h = h0\n",
    "    for t in range(seq_length):\n",
    "        prev_h = rnn_step_forward(x_seq[t], prev_h, Wx, Wh, b)\n",
    "        h_seq[t] = prev_h\n",
    "    \n",
    "    return h_seq\n",
    "\n",
    "# Define dimensions\n",
    "input_dim = 3\n",
    "hidden_dim = 2\n",
    "seq_length = 4\n",
    "\n",
    "# Initialize parameters (normally these would be learned)\n",
    "Wx = np.random.randn(hidden_dim, input_dim) * 0.01  # Input weights\n",
    "Wh = np.random.randn(hidden_dim, hidden_dim) * 0.01  # Hidden weights\n",
    "b = np.zeros((hidden_dim, 1))  # Bias\n",
    "\n",
    "# Initial hidden state (typically zeros)\n",
    "h0 = np.zeros((hidden_dim, 1))\n",
    "\n",
    "# Create a random input sequence (4 timesteps, each with 3 features)\n",
    "x_seq = [np.random.randn(input_dim, 1) for _ in range(seq_length)]\n",
    "\n",
    "# Forward pass through the RNN\n",
    "hidden_states = rnn_forward(x_seq, h0, Wx, Wh, b)\n",
    "\n",
    "# Print the hidden states at each timestep\n",
    "for t, h in enumerate(hidden_states):\n",
    "    print(f\"Timestep {t} hidden state:\\n{h.squeeze()}\")"
   ]
  },
  {
   "cell_type": "code",
   "execution_count": null,
   "id": "3681afb1-9ce2-4d1d-9097-07fafa5ae552",
   "metadata": {},
   "outputs": [],
   "source": []
  }
 ],
 "metadata": {
  "kernelspec": {
   "display_name": "Python [conda env:base] *",
   "language": "python",
   "name": "conda-base-py"
  },
  "language_info": {
   "codemirror_mode": {
    "name": "ipython",
    "version": 3
   },
   "file_extension": ".py",
   "mimetype": "text/x-python",
   "name": "python",
   "nbconvert_exporter": "python",
   "pygments_lexer": "ipython3",
   "version": "3.12.7"
  }
 },
 "nbformat": 4,
 "nbformat_minor": 5
}
