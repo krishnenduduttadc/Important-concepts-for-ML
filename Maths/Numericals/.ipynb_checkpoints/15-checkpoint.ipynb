{
 "cells": [
  {
   "cell_type": "code",
   "execution_count": 3,
   "id": "70d14a1d-2825-471f-bb92-67148aa63127",
   "metadata": {},
   "outputs": [
    {
     "name": "stdout",
     "output_type": "stream",
     "text": [
      "A-conjugacy condition: -1\n",
      "Are the directions A-conjugate? False\n",
      "Answer: False\n"
     ]
    }
   ],
   "source": [
    "import numpy as np\n",
    "\n",
    "# Define matrix A and directions\n",
    "A = np.array([[2, 1], [1, 1]])\n",
    "d_X1 = np.array([-1, 1])\n",
    "d_X2 = np.array([1, 0])\n",
    "\n",
    "# Compute A-conjugacy condition\n",
    "conjugacy_condition = d_X1.T @ A @ d_X2\n",
    "\n",
    "# Check if the condition is zero (within numerical tolerance)\n",
    "is_conjugate = np.isclose(conjugacy_condition, 0, atol=1e-8)\n",
    "\n",
    "print(f\"A-conjugacy condition: {conjugacy_condition}\")\n",
    "print(f\"Are the directions A-conjugate? {is_conjugate}\")\n",
    "\n",
    "# Output the answer in terms of the given options\n",
    "if is_conjugate:\n",
    "    print(\"Answer: True\")\n",
    "else:\n",
    "    print(\"Answer: False\")"
   ]
  },
  {
   "cell_type": "code",
   "execution_count": null,
   "id": "44be1e9a-8665-4027-a8a2-4f266a06f0c1",
   "metadata": {},
   "outputs": [],
   "source": []
  }
 ],
 "metadata": {
  "kernelspec": {
   "display_name": "Python [conda env:base] *",
   "language": "python",
   "name": "conda-base-py"
  },
  "language_info": {
   "codemirror_mode": {
    "name": "ipython",
    "version": 3
   },
   "file_extension": ".py",
   "mimetype": "text/x-python",
   "name": "python",
   "nbconvert_exporter": "python",
   "pygments_lexer": "ipython3",
   "version": "3.12.7"
  }
 },
 "nbformat": 4,
 "nbformat_minor": 5
}
