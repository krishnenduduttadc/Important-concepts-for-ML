{
 "cells": [
  {
   "cell_type": "code",
   "execution_count": 7,
   "id": "e08210b1-edda-4b7d-a93c-913e8a52ff2e",
   "metadata": {},
   "outputs": [
    {
     "name": "stdout",
     "output_type": "stream",
     "text": [
      "         Current function value: -1654.786896\n",
      "         Iterations: 3\n",
      "         Function evaluations: 15\n",
      "         Gradient evaluations: 15\n",
      "Number of iterations: 3\n",
      "Converged to minimum in n=3 iterations? True\n"
     ]
    }
   ],
   "source": [
    "import numpy as np\n",
    "from scipy.optimize import minimize\n",
    "\n",
    "# Define a quadratic function in n variables\n",
    "n = 3  # Number of variables\n",
    "A = np.random.rand(n, n)\n",
    "A = A.T @ A  # Ensure A is symmetric positive-definite\n",
    "b = np.random.rand(n)\n",
    "\n",
    "# Quadratic function: f(x) = 0.5 * x^T A x - b^T x\n",
    "def f(x):\n",
    "    return 0.5 * x.T @ A @ x - b.T @ x\n",
    "\n",
    "# Gradient of the quadratic function\n",
    "def grad_f(x):\n",
    "    return A @ x - b\n",
    "\n",
    "# Initial guess\n",
    "x0 = np.zeros(n)\n",
    "\n",
    "# Solve using conjugate gradient method\n",
    "result = minimize(f, x0, method='CG', jac=grad_f, options={'maxiter': n, 'disp': True})\n",
    "\n",
    "print(f\"Number of iterations: {result.nit}\")\n",
    "print(f\"Converged to minimum in n={n} iterations? {result.nit <= n}\")"
   ]
  },
  {
   "cell_type": "code",
   "execution_count": 9,
   "id": "1ce2cc44-5c89-463c-a1e5-e89a2c3688fe",
   "metadata": {},
   "outputs": [
    {
     "name": "stdout",
     "output_type": "stream",
     "text": [
      "Solution: [-0.11111111  1.44444445  2.22222224]\n",
      "Number of iterations: 3\n",
      "Converged in at most n iterations: True\n"
     ]
    }
   ],
   "source": [
    "import numpy as np\n",
    "from scipy.optimize import minimize\n",
    "\n",
    "# Define a quadratic function: f(x) = 0.5 * x^T A x - b^T x\n",
    "n = 3  # Number of variables\n",
    "A = np.array([[4, 1, 0], [1, 3, -1], [0, -1, 2]])  # Positive definite matrix\n",
    "b = np.array([1, 2, 3])\n",
    "x0 = np.zeros(n)  # Initial guess\n",
    "\n",
    "# Using conjugate gradient method to minimize the quadratic function\n",
    "result = minimize(lambda x: 0.5 * x.T @ A @ x - b @ x, x0, method='CG')\n",
    "print(\"Solution:\", result.x)\n",
    "print(\"Number of iterations:\", result.nit)\n",
    "print(\"Converged in at most n iterations:\", result.nit <= n)"
   ]
  },
  {
   "cell_type": "code",
   "execution_count": null,
   "id": "2491367b-6386-44f0-8fff-97da2b6b81e5",
   "metadata": {},
   "outputs": [],
   "source": []
  }
 ],
 "metadata": {
  "kernelspec": {
   "display_name": "Python [conda env:base] *",
   "language": "python",
   "name": "conda-base-py"
  },
  "language_info": {
   "codemirror_mode": {
    "name": "ipython",
    "version": 3
   },
   "file_extension": ".py",
   "mimetype": "text/x-python",
   "name": "python",
   "nbconvert_exporter": "python",
   "pygments_lexer": "ipython3",
   "version": "3.12.7"
  }
 },
 "nbformat": 4,
 "nbformat_minor": 5
}
