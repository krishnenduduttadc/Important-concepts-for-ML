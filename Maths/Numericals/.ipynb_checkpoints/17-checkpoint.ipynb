{
 "cells": [
  {
   "cell_type": "code",
   "execution_count": 3,
   "id": "e0bcdb8e-4ef2-40db-8e7a-9fc6e2e02a97",
   "metadata": {},
   "outputs": [
    {
     "name": "stdout",
     "output_type": "stream",
     "text": [
      "Statement: In steepest descent method we start from an initial trial point and iteratively move along the steepest descent directions until the optimum point is found.\n",
      "Answer: True\n"
     ]
    }
   ],
   "source": [
    "# Statement: \"In steepest descent method we start from an initial trial point and iteratively move along the steepest descent directions until the optimum point is found.\"\n",
    "statement = \"In steepest descent method we start from an initial trial point and iteratively move along the steepest descent directions until the optimum point is found.\"\n",
    "\n",
    "# Define the options\n",
    "options = {\"True\": True, \"False\": False}\n",
    "\n",
    "# Evaluate the statement\n",
    "def evaluate_statement(statement):\n",
    "    return options[\"True\"]  # This is the correct answer\n",
    "\n",
    "# Print the result\n",
    "print(\"Statement:\", statement)\n",
    "print(\"Answer:\", \"True\" if evaluate_statement(statement) else \"False\")\n"
   ]
  },
  {
   "cell_type": "code",
   "execution_count": null,
   "id": "47500f9f-690f-4d2e-9101-30c7b23f9db5",
   "metadata": {},
   "outputs": [],
   "source": []
  },
  {
   "cell_type": "code",
   "execution_count": null,
   "id": "5649ea4b-3fa0-48a7-8792-4e5ab0bbc4fb",
   "metadata": {},
   "outputs": [],
   "source": []
  }
 ],
 "metadata": {
  "kernelspec": {
   "display_name": "Python [conda env:base] *",
   "language": "python",
   "name": "conda-base-py"
  },
  "language_info": {
   "codemirror_mode": {
    "name": "ipython",
    "version": 3
   },
   "file_extension": ".py",
   "mimetype": "text/x-python",
   "name": "python",
   "nbconvert_exporter": "python",
   "pygments_lexer": "ipython3",
   "version": "3.12.7"
  }
 },
 "nbformat": 4,
 "nbformat_minor": 5
}
