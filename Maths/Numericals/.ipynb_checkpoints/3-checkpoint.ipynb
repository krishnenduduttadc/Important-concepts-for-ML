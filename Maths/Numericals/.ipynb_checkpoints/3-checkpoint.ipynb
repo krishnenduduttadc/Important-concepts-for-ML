{
 "cells": [
  {
   "cell_type": "code",
   "execution_count": 13,
   "id": "cd51f6fe-af70-42af-bc51-752ffa295bfe",
   "metadata": {},
   "outputs": [
    {
     "name": "stdout",
     "output_type": "stream",
     "text": [
      "Option a conjugacy condition result: 0\n",
      "Option b conjugacy condition result: -448\n"
     ]
    }
   ],
   "source": [
    "import numpy as np\n",
    "\n",
    "# Define the Hessian matrix Q\n",
    "Q = np.array([[4, -2], [-2, 32]])\n",
    "\n",
    "# Option a\n",
    "d1_a = np.array([15, -1])\n",
    "d2_a = np.array([1, 1])\n",
    "conjugacy_a = d1_a.T @ Q @ d2_a\n",
    "\n",
    "# Option b\n",
    "d1_b = np.array([1, -15])\n",
    "d2_b = np.array([1, 1])\n",
    "conjugacy_b = d1_b.T @ Q @ d2_b\n",
    "\n",
    "print(\"Option a conjugacy condition result:\", conjugacy_a)\n",
    "print(\"Option b conjugacy condition result:\", conjugacy_b)\n"
   ]
  },
  {
   "cell_type": "code",
   "execution_count": 11,
   "id": "c6f4877f-6188-4e8f-ac62-40c6d0fa130a",
   "metadata": {},
   "outputs": [
    {
     "name": "stdout",
     "output_type": "stream",
     "text": [
      "Option a conjugacy result: 0\n",
      "Option b conjugacy result: -448\n"
     ]
    }
   ],
   "source": [
    "import numpy as np\n",
    "\n",
    "# Define the Hessian matrix\n",
    "H = np.array([[4, -2], [-2, 32]])\n",
    "\n",
    "# Option a\n",
    "d1_a = np.array([15, -1])\n",
    "d2_a = np.array([1, 1])\n",
    "result_a = d1_a @ H @ d2_a  # Should be 0 for conjugacy\n",
    "\n",
    "# Option b\n",
    "d1_b = np.array([1, -15])\n",
    "d2_b = np.array([1, 1])\n",
    "result_b = d1_b @ H @ d2_b  # Should not be 0\n",
    "\n",
    "print(\"Option a conjugacy result:\", result_a)  # Output: 0 (conjugate)\n",
    "print(\"Option b conjugacy result:\", result_b)  # Output: -448 (not conjugate)"
   ]
  },
  {
   "cell_type": "code",
   "execution_count": 15,
   "id": "535e80e9-d37e-492d-a157-899aaaea7bfd",
   "metadata": {},
   "outputs": [],
   "source": [
    "#ans a"
   ]
  },
  {
   "cell_type": "code",
   "execution_count": null,
   "id": "52c52b9c-bd45-4a2f-8922-ad60b2494b71",
   "metadata": {},
   "outputs": [],
   "source": []
  },
  {
   "cell_type": "code",
   "execution_count": null,
   "id": "494e136b-0d56-4bbe-b7e9-bdaa76a93119",
   "metadata": {},
   "outputs": [],
   "source": []
  }
 ],
 "metadata": {
  "kernelspec": {
   "display_name": "Python [conda env:base] *",
   "language": "python",
   "name": "conda-base-py"
  },
  "language_info": {
   "codemirror_mode": {
    "name": "ipython",
    "version": 3
   },
   "file_extension": ".py",
   "mimetype": "text/x-python",
   "name": "python",
   "nbconvert_exporter": "python",
   "pygments_lexer": "ipython3",
   "version": "3.12.7"
  }
 },
 "nbformat": 4,
 "nbformat_minor": 5
}
