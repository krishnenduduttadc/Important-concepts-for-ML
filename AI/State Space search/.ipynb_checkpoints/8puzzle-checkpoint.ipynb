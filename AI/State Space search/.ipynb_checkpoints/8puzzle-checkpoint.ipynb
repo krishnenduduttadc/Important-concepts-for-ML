{
 "cells": [
  {
   "cell_type": "code",
   "execution_count": 7,
   "id": "217364bc-df5c-4428-a5eb-cdb084d72fc7",
   "metadata": {},
   "outputs": [
    {
     "data": {
      "image/png": "[encoded data removed]",
      "text/plain": [
       "<Figure size 640x480 with 1 Axes>"
      ]
     },
     "metadata": {},
     "output_type": "display_data"
    }
   ],
   "source": [
    "import matplotlib.pyplot as plt\n",
    "from collections import deque\n",
    "import numpy as np\n",
    "import time\n",
    "from IPython.display import clear_output\n",
    "\n",
    "goal_state = [[1,2,3],[4,5,6],[7,8,0]]\n",
    "\n",
    "def get_neighbors(state):\n",
    "    neighbors = []\n",
    "    r, c = next((i, j) for i in range(3) for j in range(3) if state[i][j] == 0)\n",
    "    directions = [(-1,0), (1,0), (0,-1), (0,1)]\n",
    "    for dr, dc in directions:\n",
    "        nr, nc = r+dr, c+dc\n",
    "        if 0 <= nr < 3 and 0 <= nc < 3:\n",
    "            new_state = [row[:] for row in state]\n",
    "            new_state[r][c], new_state[nr][nc] = new_state[nr][nc], new_state[r][c]\n",
    "            neighbors.append(new_state)\n",
    "    return neighbors\n",
    "\n",
    "def bfs(start_state):\n",
    "    visited = set()\n",
    "    queue = deque([(start_state, [])])\n",
    "    while queue:\n",
    "        state, path = queue.popleft()\n",
    "        flat = tuple(sum(state, []))\n",
    "        if flat in visited:\n",
    "            continue\n",
    "        visited.add(flat)\n",
    "        if state == goal_state:\n",
    "            return path + [state]\n",
    "        for neighbor in get_neighbors(state):\n",
    "            queue.append((neighbor, path + [state]))\n",
    "\n",
    "def visualize_puzzle(state, pause=0.5):\n",
    "    fig, ax = plt.subplots()\n",
    "    ax.matshow(np.ones((3,3)), cmap='Pastel1')\n",
    "    ax.set_xticks(np.arange(-.5, 3, 1), minor=True)\n",
    "    ax.set_yticks(np.arange(-.5, 3, 1), minor=True)\n",
    "    ax.grid(which='minor', color='black', linestyle='-', linewidth=2)\n",
    "    for i in range(3):\n",
    "        for j in range(3):\n",
    "            text = '' if state[i][j] == 0 else str(state[i][j])\n",
    "            ax.text(j, i, text, ha='center', va='center', fontsize=20)\n",
    "    plt.xticks([])\n",
    "    plt.yticks([])\n",
    "    plt.show()\n",
    "    time.sleep(pause)\n",
    "    clear_output(wait=True)\n",
    "\n",
    "# Run 8 Puzzle Example\n",
    "initial = [[1,2,3],[4,0,6],[7,5,8]]\n",
    "solution_path = bfs(initial)\n",
    "for step in solution_path:\n",
    "    visualize_puzzle(step, pause=0.8)\n"
   ]
  },
  {
   "cell_type": "code",
   "execution_count": null,
   "id": "620dc060-811d-4771-81cd-915efdbcb490",
   "metadata": {},
   "outputs": [],
   "source": []
  }
 ],
 "metadata": {
  "kernelspec": {
   "display_name": "Python [conda env:base] *",
   "language": "python",
   "name": "conda-base-py"
  },
  "language_info": {
   "codemirror_mode": {
    "name": "ipython",
    "version": 3
   },
   "file_extension": ".py",
   "mimetype": "text/x-python",
   "name": "python",
   "nbconvert_exporter": "python",
   "pygments_lexer": "ipython3",
   "version": "3.12.7"
  }
 },
 "nbformat": 4,
 "nbformat_minor": 5
}
