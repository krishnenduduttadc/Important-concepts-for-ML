{
 "cells": [
  {
   "cell_type": "code",
   "execution_count": null,
   "id": "28a450f0-f1a5-46e3-b2e7-5e60cfb5b4d0",
   "metadata": {},
   "outputs": [
    {
     "data": {
      "image/png": "[encoded data removed]",
      "text/plain": [
       "<Figure size 640x480 with 1 Axes>"
      ]
     },
     "metadata": {},
     "output_type": "display_data"
    }
   ],
   "source": [
    "import matplotlib.pyplot as plt\n",
    "import time\n",
    "from IPython.display import clear_output\n",
    "\n",
    "ROWS, COLS = 6, 6\n",
    "start = (0, 0)\n",
    "goal = (5, 5)\n",
    "obstacles = {(1, 1), (2, 2), (3, 3), (3, 2), (2, 3)}\n",
    "\n",
    "def draw_grid(path=set(), frontier=set(), visited=set(), current=None, depth=None):\n",
    "    fig, ax = plt.subplots()\n",
    "    ax.set_xticks(range(COLS+1))\n",
    "    ax.set_yticks(range(ROWS+1))\n",
    "    ax.grid(True)\n",
    "    ax.set_xlim(-0.5, COLS - 0.5)\n",
    "    ax.set_ylim(-0.5, ROWS - 0.5)\n",
    "    ax.invert_yaxis()\n",
    "\n",
    "    for r in range(ROWS):\n",
    "        for c in range(COLS):\n",
    "            color = 'white'\n",
    "            if (r, c) in obstacles:\n",
    "                color = 'black'\n",
    "            elif (r, c) == start:\n",
    "                color = 'green'\n",
    "            elif (r, c) == goal:\n",
    "                color = 'gold'\n",
    "            elif (r, c) == current:\n",
    "                color = 'red'\n",
    "            elif (r, c) in path:\n",
    "                color = 'blue'\n",
    "            elif (r, c) in frontier:\n",
    "                color = 'orange'\n",
    "            elif (r, c) in visited:\n",
    "                color = 'lightgray'\n",
    "            ax.add_patch(plt.Rectangle((c-0.5, r-0.5), 1, 1, color=color))\n",
    "\n",
    "    if depth is not None:\n",
    "        ax.set_title(f\"IDDFS - Depth Limit: {depth}\")\n",
    "    else:\n",
    "        ax.set_title(\"Iterative Deepening DFS\")\n",
    "    plt.show()\n",
    "    time.sleep(0.5)\n",
    "    clear_output(wait=True)\n",
    "\n",
    "def dfs_limited(node, goal, depth, visited, path):\n",
    "    draw_grid(path=set(path), visited=visited, current=node, depth=depth)\n",
    "    if node == goal:\n",
    "        return path\n",
    "    if depth == 0:\n",
    "        return None\n",
    "    visited.add(node)\n",
    "    r, c = node\n",
    "    for dr, dc in [(0,1),(1,0),(-1,0),(0,-1)]:\n",
    "        nr, nc = r+dr, c+dc\n",
    "        next_node = (nr, nc)\n",
    "        if (0 <= nr < ROWS and 0 <= nc < COLS \n",
    "            and next_node not in visited \n",
    "            and next_node not in obstacles):\n",
    "            result = dfs_limited(next_node, goal, depth-1, visited.copy(), path + [next_node])\n",
    "            if result:\n",
    "                return result\n",
    "    return None\n",
    "\n",
    "def iddfs(start, goal, max_depth=20):\n",
    "    for depth in range(max_depth):\n",
    "        visited = set()\n",
    "        result = dfs_limited(start, goal, depth, visited, [start])\n",
    "        if result:\n",
    "            draw_grid(path=set(result))\n",
    "            return result\n",
    "    return None\n",
    "\n",
    "# Run it\n",
    "iddfs(start, goal)\n"
   ]
  },
  {
   "cell_type": "code",
   "execution_count": null,
   "id": "2f35cc1d-ca09-401e-8a7d-cbc3ad31025a",
   "metadata": {},
   "outputs": [],
   "source": []
  }
 ],
 "metadata": {
  "kernelspec": {
   "display_name": "Python [conda env:base] *",
   "language": "python",
   "name": "conda-base-py"
  },
  "language_info": {
   "codemirror_mode": {
    "name": "ipython",
    "version": 3
   },
   "file_extension": ".py",
   "mimetype": "text/x-python",
   "name": "python",
   "nbconvert_exporter": "python",
   "pygments_lexer": "ipython3",
   "version": "3.12.7"
  }
 },
 "nbformat": 4,
 "nbformat_minor": 5
}
