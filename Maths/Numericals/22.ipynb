{
 "cells": [
  {
   "cell_type": "code",
   "execution_count": 9,
   "id": "2daf28e2-eb39-47e2-a916-b250cead4d85",
   "metadata": {},
   "outputs": [
    {
     "name": "stdout",
     "output_type": "stream",
     "text": [
      "Final interval containing the minimum: [0.6525, 0.9443]\n",
      "The correct option is d: [0.6525, 0.9443]\n"
     ]
    }
   ],
   "source": [
    "import numpy as np\n",
    "\n",
    "def f(x):\n",
    "    return x**4 - 14*x**3 + 60*x**2 - 70*x\n",
    "\n",
    "def golden_section_search(a, b, epsilon):\n",
    "    phi = (1 + np.sqrt(5)) / 2  # Golden ratio\n",
    "    while (b - a) > epsilon:\n",
    "        c = b - (b - a) / phi\n",
    "        d = a + (b - a) / phi\n",
    "        if f(c) < f(d):\n",
    "            b = d\n",
    "        else:\n",
    "            a = c\n",
    "    return (round(a, 4), round(b, 4))  # Round to 4 decimal places to match options\n",
    "\n",
    "# Initial interval and tolerance\n",
    "a, b = 0, 2\n",
    "epsilon = 0.3\n",
    "\n",
    "# Perform golden-section search\n",
    "interval = golden_section_search(a, b, epsilon)\n",
    "print(f\"Final interval containing the minimum: [{interval[0]:.4f}, {interval[1]:.4f}]\")\n",
    "\n",
    "# Given options\n",
    "options = {\n",
    "    'a': [0.5525, 0.8443],\n",
    "    'b': [0.6025, 0.8943],\n",
    "    'c': [0.7025, 0.9943],\n",
    "    'd': [0.6525, 0.9443]\n",
    "}\n",
    "\n",
    "# Find exact match\n",
    "for key, value in options.items():\n",
    "    if interval[0] == value[0] and interval[1] == value[1]:\n",
    "        print(f\"The correct option is {key}: {value}\")\n",
    "        break\n",
    "else:\n",
    "    print(\"No exact match found among options.\")"
   ]
  },
  {
   "cell_type": "code",
   "execution_count": null,
   "id": "781f8932-166c-44cb-8cd1-f4a1288b91b2",
   "metadata": {},
   "outputs": [],
   "source": []
  }
 ],
 "metadata": {
  "kernelspec": {
   "display_name": "Python [conda env:base] *",
   "language": "python",
   "name": "conda-base-py"
  },
  "language_info": {
   "codemirror_mode": {
    "name": "ipython",
    "version": 3
   },
   "file_extension": ".py",
   "mimetype": "text/x-python",
   "name": "python",
   "nbconvert_exporter": "python",
   "pygments_lexer": "ipython3",
   "version": "3.12.7"
  }
 },
 "nbformat": 4,
 "nbformat_minor": 5
}
