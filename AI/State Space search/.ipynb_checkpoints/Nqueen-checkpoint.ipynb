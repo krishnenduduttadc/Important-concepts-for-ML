{
 "cells": [
  {
   "cell_type": "code",
   "execution_count": null,
   "id": "2b4cb951-4589-416e-997d-010e6e79fbb3",
   "metadata": {},
   "outputs": [
    {
     "data": {
      "image/png": "[encoded data removed]",
      "text/plain": [
       "<Figure size 640x480 with 1 Axes>"
      ]
     },
     "metadata": {},
     "output_type": "display_data"
    }
   ],
   "source": [
    "import matplotlib.pyplot as plt\n",
    "import numpy as np\n",
    "import time\n",
    "from IPython.display import clear_output\n",
    "\n",
    "def is_safe(board, row, col, n):\n",
    "    for i in range(col):\n",
    "        if board[row][i] == 1:\n",
    "            return False\n",
    "    for i, j in zip(range(row, -1, -1), range(col, -1, -1)):\n",
    "        if board[i][j] == 1:\n",
    "            return False\n",
    "    for i, j in zip(range(row, n, 1), range(col, -1, -1)):\n",
    "        if board[i][j] == 1:\n",
    "            return False\n",
    "    return True\n",
    "\n",
    "def visualize_board(board, pause=0.5):\n",
    "    n = len(board)\n",
    "    fig, ax = plt.subplots()\n",
    "    ax.matshow(np.zeros((n, n)), cmap='gray_r')\n",
    "\n",
    "    # Grid lines\n",
    "    ax.set_xticks(np.arange(-0.5, n, 1), minor=True)\n",
    "    ax.set_yticks(np.arange(-0.5, n, 1), minor=True)\n",
    "    ax.grid(which=\"minor\", color=\"black\", linewidth=1)\n",
    "    ax.tick_params(which='both', bottom=False, left=False, labelbottom=False, labelleft=False)\n",
    "\n",
    "    for i in range(n):\n",
    "        for j in range(n):\n",
    "            if board[i][j] == 1:\n",
    "                ax.text(j, i, '♛', fontsize=22, ha='center', va='center', color='red')\n",
    "    plt.show()\n",
    "    time.sleep(pause)\n",
    "    clear_output(wait=True)\n",
    "\n",
    "def solve_n_queens_visual(n):\n",
    "    board = [[0]*n for _ in range(n)]\n",
    "\n",
    "    def solve(col):\n",
    "        if col >= n:\n",
    "            visualize_board(board, pause=1.0)\n",
    "            return True\n",
    "        for i in range(n):\n",
    "            if is_safe(board, i, col, n):\n",
    "                board[i][col] = 1\n",
    "                visualize_board(board)\n",
    "                if solve(col + 1):\n",
    "                    return True\n",
    "                board[i][col] = 0\n",
    "                visualize_board(board)\n",
    "        return False\n",
    "\n",
    "    solve(0)\n",
    "\n",
    "# Run the visual solver\n",
    "solve_n_queens_visual(8)\n"
   ]
  },
  {
   "cell_type": "code",
   "execution_count": null,
   "id": "5977c2b9-15f9-4c0b-8315-688fc3fb4b9c",
   "metadata": {},
   "outputs": [],
   "source": []
  }
 ],
 "metadata": {
  "kernelspec": {
   "display_name": "Python [conda env:base] *",
   "language": "python",
   "name": "conda-base-py"
  },
  "language_info": {
   "codemirror_mode": {
    "name": "ipython",
    "version": 3
   },
   "file_extension": ".py",
   "mimetype": "text/x-python",
   "name": "python",
   "nbconvert_exporter": "python",
   "pygments_lexer": "ipython3",
   "version": "3.12.7"
  }
 },
 "nbformat": 4,
 "nbformat_minor": 5
}
