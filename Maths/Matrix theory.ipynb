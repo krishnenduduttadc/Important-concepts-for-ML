{
 "cells": [
  {
   "cell_type": "code",
   "execution_count": 1,
   "id": "0b4d69b2-ffec-4577-bc8d-3203c0cf1b3a",
   "metadata": {},
   "outputs": [],
   "source": [
    "#REF and RREF"
   ]
  },
  {
   "cell_type": "code",
   "execution_count": 3,
   "id": "7222f8e0-38e1-46a0-ba5e-8261e2925eef",
   "metadata": {},
   "outputs": [
    {
     "name": "stdout",
     "output_type": "stream",
     "text": [
      "Original Matrix:\n",
      "Matrix([[1, 2, 3, 4], [2, 4, 6, 8], [3, 6, 2, 1], [4, 8, 3, 7]])\n",
      "\n",
      "REF (Row Echelon Form):\n",
      "Matrix([[1, 2, 3, 4], [0, 0, -7, -11], [0, 0, 0, -36], [0, 0, 0, 0]])\n",
      "\n",
      "RREF (Reduced Row Echelon Form):\n",
      "Matrix([[1, 2, 0, 0], [0, 0, 1, 0], [0, 0, 0, 1], [0, 0, 0, 0]])\n",
      "\n",
      "Pivot Columns in RREF:\n",
      "(0, 2, 3)\n"
     ]
    }
   ],
   "source": [
    "from sympy import Matrix\n",
    "\n",
    "# Define a 4x4 matrix\n",
    "A = Matrix([\n",
    "    [1, 2, 3, 4],\n",
    "    [2, 4, 6, 8],\n",
    "    [3, 6, 2, 1],\n",
    "    [4, 8, 3, 7]\n",
    "])\n",
    "\n",
    "# Compute REF (Row Echelon Form)\n",
    "ref_matrix, _ = A.echelon_form(with_pivots=True)\n",
    "\n",
    "# Compute RREF (Reduced Row Echelon Form)\n",
    "rref_matrix, pivot_columns = A.rref()\n",
    "\n",
    "# Display the results\n",
    "print(\"Original Matrix:\")\n",
    "print(A)\n",
    "\n",
    "print(\"\\nREF (Row Echelon Form):\")\n",
    "print(ref_matrix)\n",
    "\n",
    "print(\"\\nRREF (Reduced Row Echelon Form):\")\n",
    "print(rref_matrix)\n",
    "\n",
    "print(\"\\nPivot Columns in RREF:\")\n",
    "print(pivot_columns)\n"
   ]
  },
  {
   "cell_type": "code",
   "execution_count": 5,
   "id": "c6e7219e-b3b4-4539-b761-d2e92bf5e93e",
   "metadata": {},
   "outputs": [],
   "source": [
    "#Rank and nullity"
   ]
  },
  {
   "cell_type": "code",
   "execution_count": 7,
   "id": "5cdf4359-430c-45bd-b077-efb64d9f860a",
   "metadata": {},
   "outputs": [
    {
     "name": "stdout",
     "output_type": "stream",
     "text": [
      "Rank: 3\n",
      "Nullity: 1\n"
     ]
    }
   ],
   "source": [
    "from sympy import Matrix\n",
    "\n",
    "# Define the matrix\n",
    "A = Matrix([\n",
    "    [1, 2, 3, 4],\n",
    "    [2, 4, 6, 8],\n",
    "    [3, 6, 2, 1],\n",
    "    [4, 8, 3, 7]\n",
    "])\n",
    "\n",
    "# Rank of the matrix\n",
    "rank = A.rank()\n",
    "\n",
    "# Nullity = number of columns - rank\n",
    "nullity = A.cols - rank\n",
    "\n",
    "print(\"Rank:\", rank)\n",
    "print(\"Nullity:\", nullity)\n"
   ]
  },
  {
   "cell_type": "code",
   "execution_count": 14,
   "id": "f3028c3b-cd3b-447f-89ef-c898be61c0dc",
   "metadata": {},
   "outputs": [],
   "source": [
    "#Compute all four fundamental subspaces"
   ]
  },
  {
   "cell_type": "code",
   "execution_count": 16,
   "id": "17ba2b1b-dcc5-4b64-ab31-ab0787d42cd9",
   "metadata": {},
   "outputs": [
    {
     "name": "stdout",
     "output_type": "stream",
     "text": [
      "Column Space (Basis):\n",
      "Matrix([[1], [2], [3], [4]])\n",
      "Matrix([[3], [6], [2], [3]])\n",
      "Matrix([[4], [8], [1], [7]])\n",
      "\n",
      "Null Space (Basis):\n",
      "Matrix([[-2], [1], [0], [0]])\n",
      "\n",
      "Row Space (Basis):\n",
      "Matrix([[1], [2], [3], [4]])\n",
      "Matrix([[3], [6], [2], [1]])\n",
      "Matrix([[4], [8], [3], [7]])\n",
      "\n",
      "Left Null Space (Basis):\n",
      "Matrix([[-2], [1], [0], [0]])\n"
     ]
    }
   ],
   "source": [
    "from sympy import Matrix\n",
    "\n",
    "# Define the matrix A\n",
    "A = Matrix([\n",
    "    [1, 2, 3, 4],\n",
    "    [2, 4, 6, 8],\n",
    "    [3, 6, 2, 1],\n",
    "    [4, 8, 3, 7]\n",
    "])\n",
    "\n",
    "# Column Space (Range of A)\n",
    "col_space = A.columnspace()\n",
    "\n",
    "# Null Space (Kernel of A)\n",
    "null_space = A.nullspace()\n",
    "\n",
    "# Row Space (Range of A^T)\n",
    "row_space = A.transpose().columnspace()\n",
    "\n",
    "# Left Null Space (Kernel of A^T)\n",
    "left_null_space = A.transpose().nullspace()\n",
    "\n",
    "# Display Results\n",
    "print(\"Column Space (Basis):\")\n",
    "for vec in col_space:\n",
    "    print(vec)\n",
    "\n",
    "print(\"\\nNull Space (Basis):\")\n",
    "for vec in null_space:\n",
    "    print(vec)\n",
    "\n",
    "print(\"\\nRow Space (Basis):\")\n",
    "for vec in row_space:\n",
    "    print(vec)\n",
    "\n",
    "print(\"\\nLeft Null Space (Basis):\")\n",
    "for vec in left_null_space:\n",
    "    print(vec)\n"
   ]
  },
  {
   "cell_type": "code",
   "execution_count": 18,
   "id": "a5363fb9-54a7-4b10-ac89-4cfd5b719a27",
   "metadata": {},
   "outputs": [],
   "source": [
    "#various norms of matrix"
   ]
  },
  {
   "cell_type": "code",
   "execution_count": 20,
   "id": "f7d21b11-a0aa-4627-8e2d-c27b6524bf06",
   "metadata": {},
   "outputs": [
    {
     "name": "stdout",
     "output_type": "stream",
     "text": [
      "Frobenius Norm: 16.881943016134134\n",
      "L1 Norm (max column sum): 18.0\n",
      "Infinity Norm (max row sum): 24.0\n",
      "2-Norm (spectral norm): 16.84810335261421\n"
     ]
    }
   ],
   "source": [
    "import numpy as np\n",
    "\n",
    "# Define your matrix\n",
    "A = np.array([\n",
    "    [1, 2, 3],\n",
    "    [4, 5, 6],\n",
    "    [7, 8, 9]\n",
    "], dtype=float)\n",
    "\n",
    "# Frobenius norm (default for 'np.linalg.norm' with a matrix)\n",
    "fro_norm = np.linalg.norm(A, 'fro')\n",
    "\n",
    "# L1 norm (maximum absolute column sum)\n",
    "l1_norm = np.linalg.norm(A, 1)\n",
    "\n",
    "# L∞ norm (maximum absolute row sum)\n",
    "linf_norm = np.linalg.norm(A, np.inf)\n",
    "\n",
    "# 2-norm (largest singular value)\n",
    "l2_norm = np.linalg.norm(A, 2)\n",
    "\n",
    "print(\"Frobenius Norm:\", fro_norm)\n",
    "print(\"L1 Norm (max column sum):\", l1_norm)\n",
    "print(\"Infinity Norm (max row sum):\", linf_norm)\n",
    "print(\"2-Norm (spectral norm):\", l2_norm)"
   ]
  },
  {
   "cell_type": "code",
   "execution_count": 22,
   "id": "7c6d0ed6-ac94-4181-b1ee-3ca855a6836c",
   "metadata": {},
   "outputs": [],
   "source": [
    "#matrix addition, transpose, multiplication"
   ]
  },
  {
   "cell_type": "code",
   "execution_count": 24,
   "id": "3cc506e8-dc45-49bf-ae43-2a4d905b45c2",
   "metadata": {},
   "outputs": [
    {
     "name": "stdout",
     "output_type": "stream",
     "text": [
      "Matrix A:\n",
      " [[1 2]\n",
      " [3 4]]\n",
      "\n",
      "Matrix B:\n",
      " [[5 6]\n",
      " [7 8]]\n",
      "\n",
      "Addition A + B:\n",
      " [[ 6  8]\n",
      " [10 12]]\n",
      "\n",
      "Transpose of A:\n",
      " [[1 3]\n",
      " [2 4]]\n",
      "\n",
      "Multiplication A * B:\n",
      " [[19 22]\n",
      " [43 50]]\n"
     ]
    }
   ],
   "source": [
    "import numpy as np\n",
    "\n",
    "# Define matrices\n",
    "A = np.array([[1, 2], [3, 4]])\n",
    "B = np.array([[5, 6], [7, 8]])\n",
    "\n",
    "# Matrix Addition\n",
    "add = A + B\n",
    "\n",
    "# Transpose of A\n",
    "transpose_A = A.T\n",
    "\n",
    "# Matrix Multiplication\n",
    "product = np.dot(A, B)  # or A @ B\n",
    "\n",
    "print(\"Matrix A:\\n\", A)\n",
    "print(\"\\nMatrix B:\\n\", B)\n",
    "print(\"\\nAddition A + B:\\n\", add)\n",
    "print(\"\\nTranspose of A:\\n\", transpose_A)\n",
    "print(\"\\nMultiplication A * B:\\n\", product)\n"
   ]
  },
  {
   "cell_type": "code",
   "execution_count": null,
   "id": "b2ab835c-6275-45d2-947e-459735a16464",
   "metadata": {},
   "outputs": [],
   "source": []
  }
 ],
 "metadata": {
  "kernelspec": {
   "display_name": "Python [conda env:base] *",
   "language": "python",
   "name": "conda-base-py"
  },
  "language_info": {
   "codemirror_mode": {
    "name": "ipython",
    "version": 3
   },
   "file_extension": ".py",
   "mimetype": "text/x-python",
   "name": "python",
   "nbconvert_exporter": "python",
   "pygments_lexer": "ipython3",
   "version": "3.12.7"
  }
 },
 "nbformat": 4,
 "nbformat_minor": 5
}
