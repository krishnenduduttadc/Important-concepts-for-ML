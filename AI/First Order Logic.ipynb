{
 "cells": [
  {
   "cell_type": "code",
   "execution_count": 1,
   "id": "32c326a1-8c69-40e5-9632-e5d6d4e01114",
   "metadata": {},
   "outputs": [
    {
     "name": "stdout",
     "output_type": "stream",
     "text": [
      "Is Socrates mortal? True\n"
     ]
    }
   ],
   "source": [
    "# Define a set of humans\n",
    "humans = {\"Socrates\", \"Plato\", \"Aristotle\"}\n",
    "\n",
    "# Define a function for 'is human'\n",
    "def is_human(x):\n",
    "    return x in humans\n",
    "\n",
    "# Define a function for 'is mortal'\n",
    "def is_mortal(x):\n",
    "    if is_human(x):\n",
    "        return True\n",
    "    else:\n",
    "        return False\n",
    "\n",
    "# Check if Socrates is mortal\n",
    "print(f\"Is Socrates mortal? {is_mortal('Socrates')}\")\n"
   ]
  },
  {
   "cell_type": "code",
   "execution_count": null,
   "id": "c663b365-505e-447e-9fd3-840bd912921d",
   "metadata": {},
   "outputs": [],
   "source": []
  }
 ],
 "metadata": {
  "kernelspec": {
   "display_name": "Python [conda env:base] *",
   "language": "python",
   "name": "conda-base-py"
  },
  "language_info": {
   "codemirror_mode": {
    "name": "ipython",
    "version": 3
   },
   "file_extension": ".py",
   "mimetype": "text/x-python",
   "name": "python",
   "nbconvert_exporter": "python",
   "pygments_lexer": "ipython3",
   "version": "3.12.7"
  }
 },
 "nbformat": 4,
 "nbformat_minor": 5
}
