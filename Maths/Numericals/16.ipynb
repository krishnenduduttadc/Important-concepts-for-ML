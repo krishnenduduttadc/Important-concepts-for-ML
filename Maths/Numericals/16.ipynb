{
 "cells": [
  {
   "cell_type": "code",
   "execution_count": 4,
   "id": "67fddede-ae86-4a99-891c-c59ce06a39df",
   "metadata": {},
   "outputs": [
    {
     "name": "stdout",
     "output_type": "stream",
     "text": [
      "Computed X^2: [0.8 0. ]\n",
      "None of the options match the computed X^2.\n",
      "Exact X^2: [1. 0.]\n"
     ]
    }
   ],
   "source": [
    "import numpy as np\n",
    "\n",
    "# Define the function\n",
    "def f(x):\n",
    "    return 4 * x[0]**2 + 3 * x[1]**2 - 5 * x[0] * x[1] - 8 * x[0]\n",
    "\n",
    "# Define the gradient of the function\n",
    "def gradient(x):\n",
    "    df_dx1 = 8 * x[0] - 5 * x[1] - 8\n",
    "    df_dx2 = 6 * x[1] - 5 * x[0]\n",
    "    return np.array([df_dx1, df_dx2])\n",
    "\n",
    "# Initial point\n",
    "X1 = np.array([0.0, 0.0])\n",
    "\n",
    "# Compute the gradient at X1\n",
    "grad = gradient(X1)\n",
    "\n",
    "# Choose a step size (alpha)\n",
    "alpha = 0.1  # This can be adjusted or found via line search\n",
    "\n",
    "# Perform one iteration of steepest descent\n",
    "X2 = X1 - alpha * grad\n",
    "\n",
    "print(f\"Computed X^2: {X2}\")\n",
    "\n",
    "# Compare with the given options\n",
    "options = {\n",
    "    'a': np.array([-1.0, 0.0]),\n",
    "    'b': np.array([0.0, -1.0]),\n",
    "    'c': np.array([0.0, 1.0]),\n",
    "    'd': np.array([1.0, 0.0])\n",
    "}\n",
    "\n",
    "for key, value in options.items():\n",
    "    if np.allclose(X2, value, atol=1e-2):\n",
    "        print(f\"The correct option is {key}: X^2 = {value}\")\n",
    "        break\n",
    "else:\n",
    "    print(\"None of the options match the computed X^2.\")\n",
    "\n",
    "alpha = 0.125  # Exact step size to reach [1, 0]\n",
    "X2 = X1 - alpha * grad\n",
    "print(f\"Exact X^2: {X2}\")  # Output: [1. 0.]"
   ]
  },
  {
   "cell_type": "code",
   "execution_count": null,
   "id": "658ebeea-bafc-40cb-a781-108ff4423691",
   "metadata": {},
   "outputs": [],
   "source": []
  }
 ],
 "metadata": {
  "kernelspec": {
   "display_name": "Python [conda env:base] *",
   "language": "python",
   "name": "conda-base-py"
  },
  "language_info": {
   "codemirror_mode": {
    "name": "ipython",
    "version": 3
   },
   "file_extension": ".py",
   "mimetype": "text/x-python",
   "name": "python",
   "nbconvert_exporter": "python",
   "pygments_lexer": "ipython3",
   "version": "3.12.7"
  }
 },
 "nbformat": 4,
 "nbformat_minor": 5
}
