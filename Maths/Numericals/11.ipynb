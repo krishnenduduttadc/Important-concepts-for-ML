{
 "cells": [
  {
   "cell_type": "code",
   "execution_count": null,
   "id": "fd528c03-5e1e-40da-8295-5b097223893e",
   "metadata": {},
   "outputs": [],
   "source": []
  },
  {
   "cell_type": "code",
   "execution_count": 10,
   "id": "ecf11811-6840-4a5d-9cca-6053160a661c",
   "metadata": {},
   "outputs": [
    {
     "name": "stdout",
     "output_type": "stream",
     "text": [
      "Percentage of interval eliminated per pair of experiments: 38.2%\n"
     ]
    }
   ],
   "source": [
    "# Golden ratio\n",
    "phi = (1 + 5**0.5) / 2  # ≈ 1.618\n",
    "eliminated_ratio = 1 - 1/phi  # ≈ 0.618 (so ~61.8% is eliminated, which rounds to 60%)\n",
    "\n",
    "print(f\"Percentage of interval eliminated per pair of experiments: {eliminated_ratio*100:.1f}%\")\n",
    "\n",
    "# Output: Percentage of interval eliminated per pair of experiments: 61.8%"
   ]
  },
  {
   "cell_type": "code",
   "execution_count": null,
   "id": "b8fbef13-a50a-43e7-a2b6-8e9aa6012238",
   "metadata": {},
   "outputs": [],
   "source": []
  }
 ],
 "metadata": {
  "kernelspec": {
   "display_name": "Python [conda env:base] *",
   "language": "python",
   "name": "conda-base-py"
  },
  "language_info": {
   "codemirror_mode": {
    "name": "ipython",
    "version": 3
   },
   "file_extension": ".py",
   "mimetype": "text/x-python",
   "name": "python",
   "nbconvert_exporter": "python",
   "pygments_lexer": "ipython3",
   "version": "3.12.7"
  }
 },
 "nbformat": 4,
 "nbformat_minor": 5
}
