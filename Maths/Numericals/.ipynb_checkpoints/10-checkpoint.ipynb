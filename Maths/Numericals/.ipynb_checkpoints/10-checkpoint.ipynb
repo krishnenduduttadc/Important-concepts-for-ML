{
 "cells": [
  {
   "cell_type": "code",
   "execution_count": 3,
   "id": "820d983e-9c7f-4e0d-ada0-6dcdcb3621ce",
   "metadata": {},
   "outputs": [
    {
     "name": "stdout",
     "output_type": "stream",
     "text": [
      "False\n"
     ]
    }
   ],
   "source": [
    "import numpy as np\n",
    "\n",
    "# Given vector v\n",
    "v = np.array([0.7071, 0.7071])\n",
    "\n",
    "# Normalize v (ensure it's a unit vector)\n",
    "v_normalized = v / np.linalg.norm(v)\n",
    "\n",
    "# Compute the outer product vv^T\n",
    "vvT = np.outer(v_normalized, v_normalized)\n",
    "\n",
    "# Compute the Householder matrix H = I - 2vv^T\n",
    "I = np.eye(2)\n",
    "H_computed = I - 2 * vvT\n",
    "\n",
    "# Given Householder matrix\n",
    "H_given = np.array([[0.28, -0.96], [-0.96, -0.28]])\n",
    "\n",
    "# Check if the computed H matches the given H (allowing for small numerical errors)\n",
    "if np.allclose(H_computed, H_given, atol=1e-2):\n",
    "    print(\"True\")\n",
    "else:\n",
    "    print(\"False\")"
   ]
  },
  {
   "cell_type": "code",
   "execution_count": null,
   "id": "eb22cca0-1e82-4abf-860b-90aeb13ac0f3",
   "metadata": {},
   "outputs": [],
   "source": []
  },
  {
   "cell_type": "code",
   "execution_count": null,
   "id": "515b6e84-a6cc-4e9b-be58-e4b9ed4d66c2",
   "metadata": {},
   "outputs": [],
   "source": []
  }
 ],
 "metadata": {
  "kernelspec": {
   "display_name": "Python [conda env:base] *",
   "language": "python",
   "name": "conda-base-py"
  },
  "language_info": {
   "codemirror_mode": {
    "name": "ipython",
    "version": 3
   },
   "file_extension": ".py",
   "mimetype": "text/x-python",
   "name": "python",
   "nbconvert_exporter": "python",
   "pygments_lexer": "ipython3",
   "version": "3.12.7"
  }
 },
 "nbformat": 4,
 "nbformat_minor": 5
}
