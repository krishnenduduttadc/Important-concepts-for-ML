{
 "cells": [
  {
   "cell_type": "code",
   "execution_count": 2,
   "id": "8f094a63-a956-4447-9fe6-78c0c82cf761",
   "metadata": {},
   "outputs": [],
   "source": [
    "#Gauss-Jacobi"
   ]
  },
  {
   "cell_type": "code",
   "execution_count": 4,
   "id": "95bb6465-2bcd-45ac-8ac2-355385ab9a37",
   "metadata": {},
   "outputs": [
    {
     "name": "stdout",
     "output_type": "stream",
     "text": [
      "Converged in 29 iterations.\n",
      "Solution:\n",
      "[ 1.  2. -1.  1.]\n"
     ]
    }
   ],
   "source": [
    "import numpy as np\n",
    "\n",
    "def gauss_jacobi(A, b, x0=None, tol=1e-10, max_iter=100):\n",
    "    n = len(b)\n",
    "    x = np.zeros_like(b) if x0 is None else x0.copy()\n",
    "    \n",
    "    for iteration in range(max_iter):\n",
    "        x_new = np.zeros_like(x)\n",
    "        \n",
    "        for i in range(n):\n",
    "            s = sum(A[i][j] * x[j] for j in range(n) if j != i)\n",
    "            x_new[i] = (b[i] - s) / A[i][i]\n",
    "\n",
    "        # Check for convergence\n",
    "        if np.linalg.norm(x_new - x, ord=np.inf) < tol:\n",
    "            print(f\"Converged in {iteration + 1} iterations.\")\n",
    "            return x_new\n",
    "        \n",
    "        x = x_new\n",
    "\n",
    "    print(\"Did not converge within the maximum number of iterations.\")\n",
    "    return x\n",
    "\n",
    "# Example system: Ax = b\n",
    "A = np.array([[10, -1, 2, 0],\n",
    "              [-1, 11, -1, 3],\n",
    "              [2, -1, 10, -1],\n",
    "              [0, 3, -1, 8]], dtype=float)\n",
    "\n",
    "b = np.array([6, 25, -11, 15], dtype=float)\n",
    "\n",
    "# Initial guess\n",
    "x0 = np.zeros_like(b)\n",
    "\n",
    "# Solve using Gauss-Jacobi\n",
    "solution = gauss_jacobi(A, b, x0)\n",
    "\n",
    "print(\"Solution:\")\n",
    "print(solution)\n"
   ]
  },
  {
   "cell_type": "code",
   "execution_count": 6,
   "id": "60a42ea3-2882-41d1-82af-a226f6c1e29e",
   "metadata": {},
   "outputs": [],
   "source": [
    "#Gauss-Seidel"
   ]
  },
  {
   "cell_type": "code",
   "execution_count": 8,
   "id": "7de63794-98b7-44cf-a7b1-8f96b9fe4158",
   "metadata": {},
   "outputs": [
    {
     "name": "stdout",
     "output_type": "stream",
     "text": [
      "Converged in 12 iterations.\n",
      "Solution:\n",
      "[ 1.  2. -1.  1.]\n"
     ]
    }
   ],
   "source": [
    "import numpy as np\n",
    "\n",
    "def gauss_seidel(A, b, x0=None, tol=1e-10, max_iter=100):\n",
    "    n = len(b)\n",
    "    x = np.zeros_like(b) if x0 is None else x0.copy()\n",
    "\n",
    "    for iteration in range(max_iter):\n",
    "        x_new = x.copy()\n",
    "\n",
    "        for i in range(n):\n",
    "            s1 = sum(A[i][j] * x_new[j] for j in range(i))        # use latest values\n",
    "            s2 = sum(A[i][j] * x[j] for j in range(i+1, n))       # use previous values\n",
    "            x_new[i] = (b[i] - s1 - s2) / A[i][i]\n",
    "\n",
    "        # Check for convergence\n",
    "        if np.linalg.norm(x_new - x, ord=np.inf) < tol:\n",
    "            print(f\"Converged in {iteration + 1} iterations.\")\n",
    "            return x_new\n",
    "\n",
    "        x = x_new\n",
    "\n",
    "    print(\"Did not converge within the maximum number of iterations.\")\n",
    "    return x\n",
    "\n",
    "# Example system\n",
    "A = np.array([[10, -1, 2, 0],\n",
    "              [-1, 11, -1, 3],\n",
    "              [2, -1, 10, -1],\n",
    "              [0, 3, -1, 8]], dtype=float)\n",
    "\n",
    "b = np.array([6, 25, -11, 15], dtype=float)\n",
    "\n",
    "# Initial guess\n",
    "x0 = np.zeros_like(b)\n",
    "\n",
    "# Solve\n",
    "solution = gauss_seidel(A, b, x0)\n",
    "\n",
    "print(\"Solution:\")\n",
    "print(solution)\n"
   ]
  },
  {
   "cell_type": "code",
   "execution_count": 12,
   "id": "e851f727-53b4-4209-9dac-744b9575805e",
   "metadata": {},
   "outputs": [],
   "source": [
    "#Successive over-relaxation (SOR) method"
   ]
  },
  {
   "cell_type": "code",
   "execution_count": 14,
   "id": "4f889a34-e6c6-42f6-8375-9f4c18f8dca6",
   "metadata": {},
   "outputs": [
    {
     "name": "stdout",
     "output_type": "stream",
     "text": [
      "Converged in 13 iterations.\n",
      "Solution:\n",
      "[ 1.  2. -1.  1.]\n"
     ]
    }
   ],
   "source": [
    "import numpy as np\n",
    "\n",
    "def sor(A, b, omega, x0=None, tol=1e-10, max_iter=100):\n",
    "    n = len(b)\n",
    "    x = np.zeros_like(b) if x0 is None else x0.copy()\n",
    "\n",
    "    for iteration in range(max_iter):\n",
    "        x_new = x.copy()\n",
    "\n",
    "        for i in range(n):\n",
    "            s1 = sum(A[i][j] * x_new[j] for j in range(i))\n",
    "            s2 = sum(A[i][j] * x[j] for j in range(i + 1, n))\n",
    "            x_new[i] = (1 - omega) * x[i] + (omega / A[i][i]) * (b[i] - s1 - s2)\n",
    "\n",
    "        # Check convergence\n",
    "        if np.linalg.norm(x_new - x, ord=np.inf) < tol:\n",
    "            print(f\"Converged in {iteration + 1} iterations.\")\n",
    "            return x_new\n",
    "\n",
    "        x = x_new\n",
    "\n",
    "    print(\"Did not converge within the maximum number of iterations.\")\n",
    "    return x\n",
    "\n",
    "# Example system\n",
    "A = np.array([[10, -1, 2, 0],\n",
    "              [-1, 11, -1, 3],\n",
    "              [2, -1, 10, -1],\n",
    "              [0, 3, -1, 8]], dtype=float)\n",
    "\n",
    "b = np.array([6, 25, -11, 15], dtype=float)\n",
    "\n",
    "# Relaxation factor ω (0 < ω < 2)\n",
    "omega = 1.1  # 1.0 = Gauss-Seidel, try between 1.0–1.9 for faster convergence\n",
    "\n",
    "# Initial guess\n",
    "x0 = np.zeros_like(b)\n",
    "\n",
    "# Solve\n",
    "solution = sor(A, b, omega, x0)\n",
    "\n",
    "print(\"Solution:\")\n",
    "print(solution)\n"
   ]
  },
  {
   "cell_type": "code",
   "execution_count": null,
   "id": "63a5c36b-b645-42bf-93f8-92c7aded7f33",
   "metadata": {},
   "outputs": [],
   "source": []
  }
 ],
 "metadata": {
  "kernelspec": {
   "display_name": "Python [conda env:base] *",
   "language": "python",
   "name": "conda-base-py"
  },
  "language_info": {
   "codemirror_mode": {
    "name": "ipython",
    "version": 3
   },
   "file_extension": ".py",
   "mimetype": "text/x-python",
   "name": "python",
   "nbconvert_exporter": "python",
   "pygments_lexer": "ipython3",
   "version": "3.12.7"
  }
 },
 "nbformat": 4,
 "nbformat_minor": 5
}
