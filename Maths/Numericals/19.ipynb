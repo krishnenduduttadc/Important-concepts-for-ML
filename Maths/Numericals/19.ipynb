{
 "cells": [
  {
   "cell_type": "code",
   "execution_count": 3,
   "id": "349875ad-0a69-4d58-a79d-ad861cc5abbd",
   "metadata": {},
   "outputs": [
    {
     "name": "stdout",
     "output_type": "stream",
     "text": [
      "Computed dominant eigenvalue after 4 iterations: 6.0\n",
      "Computed dominant eigenvector after 4 iterations: [0.4469 0.8946]\n",
      "The correct option is c: lambda_4 = 6.0001, x_4 = [0.4469 0.8946]\n"
     ]
    }
   ],
   "source": [
    "import numpy as np\n",
    "\n",
    "# Define the matrix A and initial vector x0\n",
    "A = np.array([[2, 2], [2, 5]])\n",
    "x0 = np.array([0, 1])\n",
    "\n",
    "# Normalize the initial vector\n",
    "x = x0 / np.linalg.norm(x0)\n",
    "\n",
    "# Perform four iterations of the power method\n",
    "for k in range(4):\n",
    "    y = A @ x\n",
    "    lambda_k = np.linalg.norm(y)\n",
    "    x = y / lambda_k\n",
    "\n",
    "# Round the results to match the given options\n",
    "lambda_4 = round(lambda_k, 4)\n",
    "x_4 = np.round(x, 4)\n",
    "\n",
    "print(f\"Computed dominant eigenvalue after 4 iterations: {lambda_4}\")\n",
    "print(f\"Computed dominant eigenvector after 4 iterations: {x_4}\")\n",
    "\n",
    "# Compare with the given options\n",
    "options = {\n",
    "    'a': {'lambda': 6.0002, 'x': np.array([0.4469, 0.8946])},\n",
    "    'b': {'lambda': 6.0001, 'x': np.array([0.4451, 0.8955])},\n",
    "    'c': {'lambda': 6.0001, 'x': np.array([0.4469, 0.8946])},\n",
    "    'd': {'lambda': 6.0002, 'x': np.array([0.4451, 0.8955])}\n",
    "}\n",
    "\n",
    "for key, value in options.items():\n",
    "    if np.isclose(lambda_4, value['lambda'], atol=1e-4) and np.allclose(x_4, value['x'], atol=1e-4):\n",
    "        print(f\"The correct option is {key}: lambda_4 = {value['lambda']}, x_4 = {value['x']}\")\n",
    "        break\n",
    "else:\n",
    "    print(\"None of the options match the computed results.\")"
   ]
  },
  {
   "cell_type": "code",
   "execution_count": null,
   "id": "b5b4ed98-8b97-46eb-9d69-d6b23112ba77",
   "metadata": {},
   "outputs": [],
   "source": []
  }
 ],
 "metadata": {
  "kernelspec": {
   "display_name": "Python [conda env:base] *",
   "language": "python",
   "name": "conda-base-py"
  },
  "language_info": {
   "codemirror_mode": {
    "name": "ipython",
    "version": 3
   },
   "file_extension": ".py",
   "mimetype": "text/x-python",
   "name": "python",
   "nbconvert_exporter": "python",
   "pygments_lexer": "ipython3",
   "version": "3.12.7"
  }
 },
 "nbformat": 4,
 "nbformat_minor": 5
}
