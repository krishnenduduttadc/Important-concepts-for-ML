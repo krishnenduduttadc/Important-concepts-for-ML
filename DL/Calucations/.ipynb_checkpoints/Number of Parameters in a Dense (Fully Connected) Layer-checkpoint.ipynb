{
 "cells": [
  {
   "cell_type": "code",
   "execution_count": 2,
   "id": "bc0a6c16-cbfb-4779-9b74-5007c7567f78",
   "metadata": {},
   "outputs": [],
   "source": [
    "#Here's a Python program to evaluate the number of parameters in a Dense (Fully Connected) Layer using the formula:\n",
    "\n",
    "\n"
   ]
  },
  {
   "cell_type": "code",
   "execution_count": 4,
   "id": "1edffc6f-a400-403b-a66b-501e865fbf09",
   "metadata": {},
   "outputs": [
    {
     "name": "stdout",
     "output_type": "stream",
     "text": [
      "Number of parameters in a Dense layer with 64 inputs and 128 outputs: 8320\n"
     ]
    }
   ],
   "source": [
    "def count_dense_layer_params(n_in, n_out):\n",
    "    \"\"\"\n",
    "    Calculate the number of parameters in a Dense (Fully Connected) Layer.\n",
    "\n",
    "    Parameters:\n",
    "    - n_in: int, number of input units\n",
    "    - n_out: int, number of output units\n",
    "\n",
    "    Returns:\n",
    "    - int, total number of parameters (weights + biases)\n",
    "    \"\"\"\n",
    "    return (n_in * n_out) + n_out\n",
    "\n",
    "# Example usage\n",
    "n_in = 64\n",
    "n_out = 128\n",
    "params = count_dense_layer_params(n_in, n_out)\n",
    "\n",
    "print(f\"Number of parameters in a Dense layer with {n_in} inputs and {n_out} outputs: {params}\")\n"
   ]
  },
  {
   "cell_type": "code",
   "execution_count": null,
   "id": "23f74df1-7771-4870-9650-04c0f0bd9db8",
   "metadata": {},
   "outputs": [],
   "source": []
  }
 ],
 "metadata": {
  "kernelspec": {
   "display_name": "Python [conda env:base] *",
   "language": "python",
   "name": "conda-base-py"
  },
  "language_info": {
   "codemirror_mode": {
    "name": "ipython",
    "version": 3
   },
   "file_extension": ".py",
   "mimetype": "text/x-python",
   "name": "python",
   "nbconvert_exporter": "python",
   "pygments_lexer": "ipython3",
   "version": "3.12.7"
  }
 },
 "nbformat": 4,
 "nbformat_minor": 5
}
