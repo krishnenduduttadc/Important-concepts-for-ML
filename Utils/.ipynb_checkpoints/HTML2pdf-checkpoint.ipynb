{
 "cells": [
  {
   "cell_type": "code",
   "execution_count": null,
   "id": "e27f6044-e5c7-449c-ab44-f9f714e72143",
   "metadata": {},
   "outputs": [],
   "source": [
    "#conda install -c conda-forge weasyprint"
   ]
  },
  {
   "cell_type": "code",
   "execution_count": 6,
   "id": "4ef03b9d-3c5a-4c94-a04f-57b41beb8e2c",
   "metadata": {},
   "outputs": [
    {
     "name": "stdout",
     "output_type": "stream",
     "text": [
      "PDF saved at: C:\\Users\\KRISHNENDU\\Downloads\\Diagrams1.pdf\n"
     ]
    }
   ],
   "source": [
    "from weasyprint import HTML\n",
    "import os\n",
    "\n",
    "# Use raw string (r\"...\") or double backslashes to avoid escaping issues in Windows paths\n",
    "html_path = r\"C:\\Users\\KRISHNENDU\\Downloads\\Diagrams.html\"\n",
    "pdf_path = r\"C:\\Users\\KRISHNENDU\\Downloads\\Diagrams1.pdf\"\n",
    "\n",
    "# Convert HTML to PDF\n",
    "HTML(html_path).write_pdf(pdf_path)\n",
    "\n",
    "print(f\"PDF saved at: {pdf_path}\")\n"
   ]
  },
  {
   "cell_type": "code",
   "execution_count": null,
   "id": "d9f1ca31-915f-4f2f-9ed3-ae66819ef761",
   "metadata": {},
   "outputs": [],
   "source": []
  }
 ],
 "metadata": {
  "kernelspec": {
   "display_name": "Python [conda env:base] *",
   "language": "python",
   "name": "conda-base-py"
  },
  "language_info": {
   "codemirror_mode": {
    "name": "ipython",
    "version": 3
   },
   "file_extension": ".py",
   "mimetype": "text/x-python",
   "name": "python",
   "nbconvert_exporter": "python",
   "pygments_lexer": "ipython3",
   "version": "3.12.7"
  }
 },
 "nbformat": 4,
 "nbformat_minor": 5
}
