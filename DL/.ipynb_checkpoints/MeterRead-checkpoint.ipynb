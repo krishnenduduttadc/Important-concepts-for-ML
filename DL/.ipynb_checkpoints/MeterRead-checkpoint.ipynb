{
 "cells": [
  {
   "cell_type": "code",
   "execution_count": 1,
   "id": "5fd77fa8-01b5-4488-b7b6-8bf7f6527e8b",
   "metadata": {},
   "outputs": [
    {
     "name": "stdout",
     "output_type": "stream",
     "text": [
      "Processed: 1.jpeg\n",
      "Processed: 10.jpeg\n",
      "Processed: 11.jpeg\n",
      "Processed: 12.jpeg\n",
      "Processed: 13.jpeg\n",
      "Processed: 14.jpeg\n",
      "Processed: 15.jpeg\n",
      "Processed: 17.jpeg\n",
      "Processed: 18.jpeg\n",
      "Processed: 19.jpeg\n",
      "Processed: 2.jpeg\n",
      "Processed: 20.jpeg\n",
      "Processed: 21.jpeg\n",
      "Processed: 22.jpeg\n",
      "Processed: 23.jpeg\n",
      "Processed: 24.jpeg\n",
      "Processed: 25.jpeg\n",
      "Processed: 26.jpeg\n",
      "Processed: 27.jpeg\n",
      "Processed: 28.jpeg\n",
      "Processed: 3.jpeg\n",
      "Processed: 30.jpeg\n",
      "Processed: 4.jpeg\n",
      "Processed: 5.jpeg\n",
      "Processed: 6.jpeg\n",
      "Processed: 7.jpeg\n",
      "Processed: 8.jpeg\n",
      "Processed: 9.jpeg\n"
     ]
    }
   ],
   "source": [
    "import cv2\n",
    "import numpy as np\n",
    "import os\n",
    "from tensorflow.keras.models import load_model\n",
    "import matplotlib.pyplot as plt\n",
    "\n",
    "# Path to images\n",
    "image_folder = \"E:/meterimages\"\n",
    "\n",
    "# Load trained model (update this if you don’t have one yet)\n",
    "# model = load_model(\"digit_model.h5\")  # Uncomment when you have a model\n",
    "\n",
    "# Get all image paths\n",
    "image_files = [f for f in os.listdir(image_folder) if f.lower().endswith(('.jpg', '.jpeg', '.png'))]\n",
    "\n",
    "def process_image(image_path):\n",
    "    # Read and preprocess\n",
    "    img = cv2.imread(image_path)\n",
    "    gray = cv2.cvtColor(img, cv2.COLOR_BGR2GRAY)\n",
    "    _, thresh = cv2.threshold(gray, 0, 255, cv2.THRESH_BINARY_INV + cv2.THRESH_OTSU)\n",
    "\n",
    "    # Find contours\n",
    "    contours, _ = cv2.findContours(thresh, cv2.RETR_EXTERNAL, cv2.CHAIN_APPROX_SIMPLE)\n",
    "    contours = sorted(contours, key=lambda ctr: cv2.boundingRect(ctr)[0])\n",
    "\n",
    "    digits = []\n",
    "    for cnt in contours:\n",
    "        x, y, w, h = cv2.boundingRect(cnt)\n",
    "        if h > 10 and w > 5:\n",
    "            digit = thresh[y:y+h, x:x+w]\n",
    "            digit = cv2.resize(digit, (28, 28))\n",
    "            digit = digit.astype(\"float32\") / 255.0\n",
    "            digit = np.expand_dims(digit, axis=-1)\n",
    "            digit = np.expand_dims(digit, axis=0)\n",
    "\n",
    "            # Use model if available\n",
    "            # pred = model.predict(digit)\n",
    "            # digit_class = np.argmax(pred)\n",
    "            # digits.append(str(digit_class))\n",
    "\n",
    "            # For now: show segmented digits for verification\n",
    "            cv2.imshow(\"Digit\", cv2.resize(digit[0], (100, 100)))\n",
    "            cv2.waitKey(500)\n",
    "\n",
    "    # Print image processed\n",
    "    print(f\"Processed: {os.path.basename(image_path)}\")\n",
    "\n",
    "for file in image_files:\n",
    "    full_path = os.path.join(image_folder, file)\n",
    "    process_image(full_path)\n",
    "\n",
    "cv2.destroyAllWindows()\n"
   ]
  },
  {
   "cell_type": "code",
   "execution_count": null,
   "id": "1e576c13-a1d0-4906-9b21-6b053fc35177",
   "metadata": {},
   "outputs": [],
   "source": []
  }
 ],
 "metadata": {
  "kernelspec": {
   "display_name": "Python [conda env:base] *",
   "language": "python",
   "name": "conda-base-py"
  },
  "language_info": {
   "codemirror_mode": {
    "name": "ipython",
    "version": 3
   },
   "file_extension": ".py",
   "mimetype": "text/x-python",
   "name": "python",
   "nbconvert_exporter": "python",
   "pygments_lexer": "ipython3",
   "version": "3.12.7"
  }
 },
 "nbformat": 4,
 "nbformat_minor": 5
}
