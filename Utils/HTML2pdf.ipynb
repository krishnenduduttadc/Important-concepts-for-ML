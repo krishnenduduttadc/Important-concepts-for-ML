{
 "cells": [
  {
   "cell_type": "code",
   "execution_count": null,
   "id": "e27f6044-e5c7-449c-ab44-f9f714e72143",
   "metadata": {},
   "outputs": [],
   "source": [
    "#conda install -c conda-forge weasyprint"
   ]
  },
  {
   "cell_type": "code",
   "execution_count": 3,
   "id": "4ef03b9d-3c5a-4c94-a04f-57b41beb8e2c",
   "metadata": {},
   "outputs": [
    {
     "name": "stdout",
     "output_type": "stream",
     "text": [
      "\n",
      "-----\n",
      "\n",
      "WeasyPrint could not import some external libraries. Please carefully follow the installation steps before reporting an issue:\n",
      "https://doc.courtbouillon.org/weasyprint/stable/first_steps.html#installation\n",
      "https://doc.courtbouillon.org/weasyprint/stable/first_steps.html#troubleshooting \n",
      "\n",
      "-----\n",
      "\n"
     ]
    },
    {
     "ename": "OSError",
     "evalue": "cannot load library 'pangoft2-1.0-0': error 0x7e.  Additionally, ctypes.util.find_library() did not manage to locate a library called 'pangoft2-1.0-0'",
     "output_type": "error",
     "traceback": [
      "\u001b[1;31m---------------------------------------------------------------------------\u001b[0m",
      "\u001b[1;31mOSError\u001b[0m                                   Traceback (most recent call last)",
      "Cell \u001b[1;32mIn[3], line 1\u001b[0m\n\u001b[1;32m----> 1\u001b[0m \u001b[38;5;28;01mfrom\u001b[39;00m\u001b[38;5;250m \u001b[39m\u001b[38;5;21;01mweasyprint\u001b[39;00m\u001b[38;5;250m \u001b[39m\u001b[38;5;28;01mimport\u001b[39;00m HTML\n\u001b[0;32m      2\u001b[0m \u001b[38;5;28;01mimport\u001b[39;00m\u001b[38;5;250m \u001b[39m\u001b[38;5;21;01mos\u001b[39;00m\n\u001b[0;32m      4\u001b[0m \u001b[38;5;66;03m# Use raw string (r\"...\") or double backslashes to avoid escaping issues in Windows paths\u001b[39;00m\n",
      "File \u001b[1;32m~\\anaconda3\\Lib\\site-packages\\weasyprint\\__init__.py:419\u001b[0m\n\u001b[0;32m    416\u001b[0m         \u001b[38;5;28;01myield\u001b[39;00m \u001b[38;5;124m'\u001b[39m\u001b[38;5;124mstring\u001b[39m\u001b[38;5;124m'\u001b[39m, string, base_url, \u001b[38;5;28;01mNone\u001b[39;00m\n\u001b[0;32m    418\u001b[0m \u001b[38;5;66;03m# Work around circular imports.\u001b[39;00m\n\u001b[1;32m--> 419\u001b[0m \u001b[38;5;28;01mfrom\u001b[39;00m\u001b[38;5;250m \u001b[39m\u001b[38;5;21;01m.\u001b[39;00m\u001b[38;5;21;01mcss\u001b[39;00m\u001b[38;5;250m \u001b[39m\u001b[38;5;28;01mimport\u001b[39;00m preprocess_stylesheet  \u001b[38;5;66;03m# noqa: I001, E402\u001b[39;00m\n\u001b[0;32m    420\u001b[0m \u001b[38;5;28;01mfrom\u001b[39;00m\u001b[38;5;250m \u001b[39m\u001b[38;5;21;01m.\u001b[39;00m\u001b[38;5;21;01mhtml\u001b[39;00m\u001b[38;5;250m \u001b[39m\u001b[38;5;28;01mimport\u001b[39;00m (  \u001b[38;5;66;03m# noqa: E402\u001b[39;00m\n\u001b[0;32m    421\u001b[0m     HTML5_UA_COUNTER_STYLE, HTML5_UA_STYLESHEET, HTML5_UA_FORM_STYLESHEET,\n\u001b[0;32m    422\u001b[0m     HTML5_PH_STYLESHEET)\n\u001b[0;32m    423\u001b[0m \u001b[38;5;28;01mfrom\u001b[39;00m\u001b[38;5;250m \u001b[39m\u001b[38;5;21;01m.\u001b[39;00m\u001b[38;5;21;01mdocument\u001b[39;00m\u001b[38;5;250m \u001b[39m\u001b[38;5;28;01mimport\u001b[39;00m Document, Page\n",
      "File \u001b[1;32m~\\anaconda3\\Lib\\site-packages\\weasyprint\\css\\__init__.py:28\u001b[0m\n\u001b[0;32m     26\u001b[0m \u001b[38;5;28;01mfrom\u001b[39;00m\u001b[38;5;250m \u001b[39m\u001b[38;5;21;01m.\u001b[39;00m\u001b[38;5;21;01m.\u001b[39;00m\u001b[38;5;21;01murls\u001b[39;00m\u001b[38;5;250m \u001b[39m\u001b[38;5;28;01mimport\u001b[39;00m URLFetchingError, get_url_attribute, url_join\n\u001b[0;32m     27\u001b[0m \u001b[38;5;28;01mfrom\u001b[39;00m\u001b[38;5;250m \u001b[39m\u001b[38;5;21;01m.\u001b[39;00m\u001b[38;5;250m \u001b[39m\u001b[38;5;28;01mimport\u001b[39;00m counters, media_queries\n\u001b[1;32m---> 28\u001b[0m \u001b[38;5;28;01mfrom\u001b[39;00m\u001b[38;5;250m \u001b[39m\u001b[38;5;21;01m.\u001b[39;00m\u001b[38;5;21;01mcomputed_values\u001b[39;00m\u001b[38;5;250m \u001b[39m\u001b[38;5;28;01mimport\u001b[39;00m COMPUTER_FUNCTIONS\n\u001b[0;32m     29\u001b[0m \u001b[38;5;28;01mfrom\u001b[39;00m\u001b[38;5;250m \u001b[39m\u001b[38;5;21;01m.\u001b[39;00m\u001b[38;5;21;01mproperties\u001b[39;00m\u001b[38;5;250m \u001b[39m\u001b[38;5;28;01mimport\u001b[39;00m INHERITED, INITIAL_NOT_COMPUTED, INITIAL_VALUES, ZERO_PIXELS\n\u001b[0;32m     30\u001b[0m \u001b[38;5;28;01mfrom\u001b[39;00m\u001b[38;5;250m \u001b[39m\u001b[38;5;21;01m.\u001b[39;00m\u001b[38;5;21;01mvalidation\u001b[39;00m\u001b[38;5;250m \u001b[39m\u001b[38;5;28;01mimport\u001b[39;00m preprocess_declarations\n",
      "File \u001b[1;32m~\\anaconda3\\Lib\\site-packages\\weasyprint\\css\\computed_values.py:9\u001b[0m\n\u001b[0;32m      6\u001b[0m \u001b[38;5;28;01mfrom\u001b[39;00m\u001b[38;5;250m \u001b[39m\u001b[38;5;21;01mtinycss2\u001b[39;00m\u001b[38;5;21;01m.\u001b[39;00m\u001b[38;5;21;01mcolor3\u001b[39;00m\u001b[38;5;250m \u001b[39m\u001b[38;5;28;01mimport\u001b[39;00m parse_color\n\u001b[0;32m      8\u001b[0m \u001b[38;5;28;01mfrom\u001b[39;00m\u001b[38;5;250m \u001b[39m\u001b[38;5;21;01m.\u001b[39;00m\u001b[38;5;21;01m.\u001b[39;00m\u001b[38;5;21;01mlogger\u001b[39;00m\u001b[38;5;250m \u001b[39m\u001b[38;5;28;01mimport\u001b[39;00m LOGGER\n\u001b[1;32m----> 9\u001b[0m \u001b[38;5;28;01mfrom\u001b[39;00m\u001b[38;5;250m \u001b[39m\u001b[38;5;21;01m.\u001b[39;00m\u001b[38;5;21;01m.\u001b[39;00m\u001b[38;5;21;01mtext\u001b[39;00m\u001b[38;5;21;01m.\u001b[39;00m\u001b[38;5;21;01mffi\u001b[39;00m\u001b[38;5;250m \u001b[39m\u001b[38;5;28;01mimport\u001b[39;00m ffi, pango, units_to_double\n\u001b[0;32m     10\u001b[0m \u001b[38;5;28;01mfrom\u001b[39;00m\u001b[38;5;250m \u001b[39m\u001b[38;5;21;01m.\u001b[39;00m\u001b[38;5;21;01m.\u001b[39;00m\u001b[38;5;21;01mtext\u001b[39;00m\u001b[38;5;21;01m.\u001b[39;00m\u001b[38;5;21;01mline_break\u001b[39;00m\u001b[38;5;250m \u001b[39m\u001b[38;5;28;01mimport\u001b[39;00m Layout, first_line_metrics\n\u001b[0;32m     11\u001b[0m \u001b[38;5;28;01mfrom\u001b[39;00m\u001b[38;5;250m \u001b[39m\u001b[38;5;21;01m.\u001b[39;00m\u001b[38;5;21;01m.\u001b[39;00m\u001b[38;5;21;01murls\u001b[39;00m\u001b[38;5;250m \u001b[39m\u001b[38;5;28;01mimport\u001b[39;00m get_link_attribute\n",
      "File \u001b[1;32m~\\anaconda3\\Lib\\site-packages\\weasyprint\\text\\ffi.py:444\u001b[0m\n\u001b[0;32m    437\u001b[0m harfbuzz \u001b[38;5;241m=\u001b[39m _dlopen(\n\u001b[0;32m    438\u001b[0m     ffi, \u001b[38;5;124m'\u001b[39m\u001b[38;5;124mharfbuzz\u001b[39m\u001b[38;5;124m'\u001b[39m, \u001b[38;5;124m'\u001b[39m\u001b[38;5;124mharfbuzz-0.0\u001b[39m\u001b[38;5;124m'\u001b[39m, \u001b[38;5;124m'\u001b[39m\u001b[38;5;124mlibharfbuzz-0\u001b[39m\u001b[38;5;124m'\u001b[39m,\n\u001b[0;32m    439\u001b[0m     \u001b[38;5;124m'\u001b[39m\u001b[38;5;124mlibharfbuzz.so.0\u001b[39m\u001b[38;5;124m'\u001b[39m, \u001b[38;5;124m'\u001b[39m\u001b[38;5;124mlibharfbuzz.so.0\u001b[39m\u001b[38;5;124m'\u001b[39m, \u001b[38;5;124m'\u001b[39m\u001b[38;5;124mlibharfbuzz.0.dylib\u001b[39m\u001b[38;5;124m'\u001b[39m,\n\u001b[0;32m    440\u001b[0m     \u001b[38;5;124m'\u001b[39m\u001b[38;5;124mlibharfbuzz-0.dll\u001b[39m\u001b[38;5;124m'\u001b[39m)\n\u001b[0;32m    441\u001b[0m fontconfig \u001b[38;5;241m=\u001b[39m _dlopen(\n\u001b[0;32m    442\u001b[0m     ffi, \u001b[38;5;124m'\u001b[39m\u001b[38;5;124mfontconfig-1\u001b[39m\u001b[38;5;124m'\u001b[39m, \u001b[38;5;124m'\u001b[39m\u001b[38;5;124mfontconfig\u001b[39m\u001b[38;5;124m'\u001b[39m, \u001b[38;5;124m'\u001b[39m\u001b[38;5;124mlibfontconfig\u001b[39m\u001b[38;5;124m'\u001b[39m, \u001b[38;5;124m'\u001b[39m\u001b[38;5;124mlibfontconfig.so.1\u001b[39m\u001b[38;5;124m'\u001b[39m,\n\u001b[0;32m    443\u001b[0m     \u001b[38;5;124m'\u001b[39m\u001b[38;5;124mlibfontconfig.1.dylib\u001b[39m\u001b[38;5;124m'\u001b[39m, \u001b[38;5;124m'\u001b[39m\u001b[38;5;124mlibfontconfig-1.dll\u001b[39m\u001b[38;5;124m'\u001b[39m)\n\u001b[1;32m--> 444\u001b[0m pangoft2 \u001b[38;5;241m=\u001b[39m _dlopen(\n\u001b[0;32m    445\u001b[0m     ffi, \u001b[38;5;124m'\u001b[39m\u001b[38;5;124mpangoft2-1.0-0\u001b[39m\u001b[38;5;124m'\u001b[39m, \u001b[38;5;124m'\u001b[39m\u001b[38;5;124mpangoft2-1.0\u001b[39m\u001b[38;5;124m'\u001b[39m, \u001b[38;5;124m'\u001b[39m\u001b[38;5;124mlibpangoft2-1.0-0\u001b[39m\u001b[38;5;124m'\u001b[39m,\n\u001b[0;32m    446\u001b[0m     \u001b[38;5;124m'\u001b[39m\u001b[38;5;124mlibpangoft2-1.0.so.0\u001b[39m\u001b[38;5;124m'\u001b[39m, \u001b[38;5;124m'\u001b[39m\u001b[38;5;124mlibpangoft2-1.0.dylib\u001b[39m\u001b[38;5;124m'\u001b[39m, \u001b[38;5;124m'\u001b[39m\u001b[38;5;124mlibpangoft2-1.0-0.dll\u001b[39m\u001b[38;5;124m'\u001b[39m)\n\u001b[0;32m    448\u001b[0m gobject\u001b[38;5;241m.\u001b[39mg_type_init()\n\u001b[0;32m    450\u001b[0m units_to_double \u001b[38;5;241m=\u001b[39m pango\u001b[38;5;241m.\u001b[39mpango_units_to_double\n",
      "File \u001b[1;32m~\\anaconda3\\Lib\\site-packages\\weasyprint\\text\\ffi.py:420\u001b[0m, in \u001b[0;36m_dlopen\u001b[1;34m(ffi, *names)\u001b[0m\n\u001b[0;32m    410\u001b[0m \u001b[38;5;66;03m# Re-raise the exception.\u001b[39;00m\n\u001b[0;32m    411\u001b[0m \u001b[38;5;28mprint\u001b[39m(\n\u001b[0;32m    412\u001b[0m     \u001b[38;5;124m'\u001b[39m\u001b[38;5;130;01m\\n\u001b[39;00m\u001b[38;5;124m-----\u001b[39m\u001b[38;5;130;01m\\n\u001b[39;00m\u001b[38;5;130;01m\\n\u001b[39;00m\u001b[38;5;124m'\u001b[39m\n\u001b[0;32m    413\u001b[0m     \u001b[38;5;124m'\u001b[39m\u001b[38;5;124mWeasyPrint could not import some external libraries. Please \u001b[39m\u001b[38;5;124m'\u001b[39m\n\u001b[1;32m   (...)\u001b[0m\n\u001b[0;32m    418\u001b[0m     \u001b[38;5;124m'\u001b[39m\u001b[38;5;124mfirst_steps.html#troubleshooting\u001b[39m\u001b[38;5;124m'\u001b[39m,\n\u001b[0;32m    419\u001b[0m     \u001b[38;5;124m'\u001b[39m\u001b[38;5;130;01m\\n\u001b[39;00m\u001b[38;5;130;01m\\n\u001b[39;00m\u001b[38;5;124m-----\u001b[39m\u001b[38;5;130;01m\\n\u001b[39;00m\u001b[38;5;124m'\u001b[39m)  \u001b[38;5;66;03m# pragma: no cover\u001b[39;00m\n\u001b[1;32m--> 420\u001b[0m \u001b[38;5;28;01mreturn\u001b[39;00m ffi\u001b[38;5;241m.\u001b[39mdlopen(names[\u001b[38;5;241m0\u001b[39m])\n",
      "File \u001b[1;32m~\\anaconda3\\Lib\\site-packages\\cffi\\api.py:150\u001b[0m, in \u001b[0;36mFFI.dlopen\u001b[1;34m(self, name, flags)\u001b[0m\n\u001b[0;32m    147\u001b[0m     \u001b[38;5;28;01mraise\u001b[39;00m \u001b[38;5;167;01mTypeError\u001b[39;00m(\u001b[38;5;124m\"\u001b[39m\u001b[38;5;124mdlopen(name): name must be a file name, None, \u001b[39m\u001b[38;5;124m\"\u001b[39m\n\u001b[0;32m    148\u001b[0m                     \u001b[38;5;124m\"\u001b[39m\u001b[38;5;124mor an already-opened \u001b[39m\u001b[38;5;124m'\u001b[39m\u001b[38;5;124mvoid *\u001b[39m\u001b[38;5;124m'\u001b[39m\u001b[38;5;124m handle\u001b[39m\u001b[38;5;124m\"\u001b[39m)\n\u001b[0;32m    149\u001b[0m \u001b[38;5;28;01mwith\u001b[39;00m \u001b[38;5;28mself\u001b[39m\u001b[38;5;241m.\u001b[39m_lock:\n\u001b[1;32m--> 150\u001b[0m     lib, function_cache \u001b[38;5;241m=\u001b[39m _make_ffi_library(\u001b[38;5;28mself\u001b[39m, name, flags)\n\u001b[0;32m    151\u001b[0m     \u001b[38;5;28mself\u001b[39m\u001b[38;5;241m.\u001b[39m_function_caches\u001b[38;5;241m.\u001b[39mappend(function_cache)\n\u001b[0;32m    152\u001b[0m     \u001b[38;5;28mself\u001b[39m\u001b[38;5;241m.\u001b[39m_libraries\u001b[38;5;241m.\u001b[39mappend(lib)\n",
      "File \u001b[1;32m~\\anaconda3\\Lib\\site-packages\\cffi\\api.py:834\u001b[0m, in \u001b[0;36m_make_ffi_library\u001b[1;34m(ffi, libname, flags)\u001b[0m\n\u001b[0;32m    832\u001b[0m \u001b[38;5;28;01mdef\u001b[39;00m\u001b[38;5;250m \u001b[39m\u001b[38;5;21m_make_ffi_library\u001b[39m(ffi, libname, flags):\n\u001b[0;32m    833\u001b[0m     backend \u001b[38;5;241m=\u001b[39m ffi\u001b[38;5;241m.\u001b[39m_backend\n\u001b[1;32m--> 834\u001b[0m     backendlib \u001b[38;5;241m=\u001b[39m _load_backend_lib(backend, libname, flags)\n\u001b[0;32m    835\u001b[0m     \u001b[38;5;66;03m#\u001b[39;00m\n\u001b[0;32m    836\u001b[0m     \u001b[38;5;28;01mdef\u001b[39;00m\u001b[38;5;250m \u001b[39m\u001b[38;5;21maccessor_function\u001b[39m(name):\n",
      "File \u001b[1;32m~\\anaconda3\\Lib\\site-packages\\cffi\\api.py:829\u001b[0m, in \u001b[0;36m_load_backend_lib\u001b[1;34m(backend, name, flags)\u001b[0m\n\u001b[0;32m    827\u001b[0m     \u001b[38;5;28;01mif\u001b[39;00m first_error \u001b[38;5;129;01mis\u001b[39;00m \u001b[38;5;129;01mnot\u001b[39;00m \u001b[38;5;28;01mNone\u001b[39;00m:\n\u001b[0;32m    828\u001b[0m         msg \u001b[38;5;241m=\u001b[39m \u001b[38;5;124m\"\u001b[39m\u001b[38;5;132;01m%s\u001b[39;00m\u001b[38;5;124m.  Additionally, \u001b[39m\u001b[38;5;132;01m%s\u001b[39;00m\u001b[38;5;124m\"\u001b[39m \u001b[38;5;241m%\u001b[39m (first_error, msg)\n\u001b[1;32m--> 829\u001b[0m     \u001b[38;5;28;01mraise\u001b[39;00m \u001b[38;5;167;01mOSError\u001b[39;00m(msg)\n\u001b[0;32m    830\u001b[0m \u001b[38;5;28;01mreturn\u001b[39;00m backend\u001b[38;5;241m.\u001b[39mload_library(path, flags)\n",
      "\u001b[1;31mOSError\u001b[0m: cannot load library 'pangoft2-1.0-0': error 0x7e.  Additionally, ctypes.util.find_library() did not manage to locate a library called 'pangoft2-1.0-0'"
     ]
    }
   ],
   "source": [
    "from weasyprint import HTML\n",
    "import os\n",
    "\n",
    "# Use raw string (r\"...\") or double backslashes to avoid escaping issues in Windows paths\n",
    "html_path = r\"C:\\Users\\KRISHNENDU\\Downloads\\Musiccomposition.html\"\n",
    "pdf_path = r\"C:\\Users\\KRISHNENDU\\Downloads\\Musiccomposition.pdf\"\n",
    "\n",
    "# Convert HTML to PDF\n",
    "HTML(html_path).write_pdf(pdf_path)\n",
    "\n",
    "print(f\"PDF saved at: {pdf_path}\")\n"
   ]
  },
  {
   "cell_type": "code",
   "execution_count": null,
   "id": "d9f1ca31-915f-4f2f-9ed3-ae66819ef761",
   "metadata": {},
   "outputs": [],
   "source": []
  }
 ],
 "metadata": {
  "kernelspec": {
   "display_name": "Python [conda env:base] *",
   "language": "python",
   "name": "conda-base-py"
  },
  "language_info": {
   "codemirror_mode": {
    "name": "ipython",
    "version": 3
   },
   "file_extension": ".py",
   "mimetype": "text/x-python",
   "name": "python",
   "nbconvert_exporter": "python",
   "pygments_lexer": "ipython3",
   "version": "3.12.7"
  }
 },
 "nbformat": 4,
 "nbformat_minor": 5
}
