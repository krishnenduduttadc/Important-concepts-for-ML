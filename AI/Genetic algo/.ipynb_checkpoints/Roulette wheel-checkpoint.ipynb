{
 "cells": [
  {
   "cell_type": "code",
   "execution_count": 1,
   "id": "804f7a30-8bf8-4823-bc01-9c4f4dd2dc43",
   "metadata": {},
   "outputs": [
    {
     "name": "stdout",
     "output_type": "stream",
     "text": [
      "Selection 1: ['A' 'D']\n",
      "Selection 2: ['D' 'B']\n",
      "Selection 3: ['A' 'E']\n",
      "Selection 4: ['E' 'B']\n",
      "Selection 5: ['E' 'D']\n"
     ]
    }
   ],
   "source": [
    "import numpy as np\n",
    "\n",
    "# Example fitness values for a population of 6 individuals\n",
    "fitnesses = np.array([10, 5, 2, 8, 15, 1])\n",
    "individuals = np.array([\"A\", \"B\", \"C\", \"D\", \"E\", \"F\"])\n",
    "\n",
    "def roulette_wheel_selection(individuals, fitnesses, num_select=2):\n",
    "    # Normalize fitnesses to probabilities\n",
    "    total_fitness = np.sum(fitnesses)\n",
    "    probs = fitnesses / total_fitness\n",
    "\n",
    "    # Select individuals based on weighted probability\n",
    "    selected = np.random.choice(individuals, size=num_select, replace=True, p=probs)\n",
    "    return selected\n",
    "\n",
    "# Run selection\n",
    "for i in range(5):\n",
    "    selected = roulette_wheel_selection(individuals, fitnesses)\n",
    "    print(f\"Selection {i+1}: {selected}\")\n"
   ]
  },
  {
   "cell_type": "code",
   "execution_count": null,
   "id": "8d886628-2562-4267-88ff-a9a70fda980e",
   "metadata": {},
   "outputs": [],
   "source": []
  }
 ],
 "metadata": {
  "kernelspec": {
   "display_name": "Python [conda env:base] *",
   "language": "python",
   "name": "conda-base-py"
  },
  "language_info": {
   "codemirror_mode": {
    "name": "ipython",
    "version": 3
   },
   "file_extension": ".py",
   "mimetype": "text/x-python",
   "name": "python",
   "nbconvert_exporter": "python",
   "pygments_lexer": "ipython3",
   "version": "3.12.7"
  }
 },
 "nbformat": 4,
 "nbformat_minor": 5
}
