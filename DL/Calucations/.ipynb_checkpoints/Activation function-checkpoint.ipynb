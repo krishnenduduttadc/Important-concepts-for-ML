{
 "cells": [
  {
   "cell_type": "code",
   "execution_count": 1,
   "id": "6e77ddbc-b747-487d-a502-7555da38ed14",
   "metadata": {},
   "outputs": [],
   "source": [
    "#Activation function"
   ]
  },
  {
   "cell_type": "markdown",
   "id": "27f3ef50-2673-4fe3-8eea-46dffcc7bdd3",
   "metadata": {},
   "source": [
    "### a. Sigmoid\n",
    "\\[\n",
    "\\sigma(x) = \\frac{1}{1 + e^{-x}}, \\quad \\sigma'(x) = \\sigma(x) \\left(1 - \\sigma(x)\\right)\n",
    "\\]\n",
    "\n",
    "Example:  \n",
    "\\[\n",
    "x = 0: \\quad \\sigma(0) = 0.5, \\quad \\sigma'(0) = 0.25\n",
    "\\]\n",
    "\n",
    "---\n",
    "\n",
    "### b. ReLU\n",
    "\\[\n",
    "f(x) = \\max(0, x), \\quad f'(x) = \n",
    "\\begin{cases} \n",
    "1 & \\text{if } x > 0 \\\\\n",
    "0 & \\text{if } x \\leq 0 \n",
    "\\end{cases}\n",
    "\\]\n",
    "\n",
    "---\n",
    "\n",
    "### c. Tanh\n",
    "\\[\n",
    "\\tanh(x) = \\frac{e^x - e^{-x}}{e^x + e^{-x}}, \\quad \\tanh'(x) = 1 - \\tanh^2(x)\n",
    "\\]\n"
   ]
  },
  {
   "cell_type": "markdown",
   "id": "3060d31a-5ae4-4843-b5d3-7d7449451c5a",
   "metadata": {},
   "source": [
    "import numpy as np\n",
    "\n",
    "# Sigmoid Function\n",
    "def sigmoid(x):\n",
    "    return 1 / (1 + np.exp(-x))\n",
    "\n",
    "# ReLU Function\n",
    "def relu(x):\n",
    "    return np.maximum(0, x)\n",
    "\n",
    "# Tanh Function\n",
    "def tanh(x):\n",
    "    return np.tanh(x)\n",
    "\n",
    "# Example usage\n",
    "x = np.array([-2.0, -1.0, 0.0, 1.0, 2.0])\n",
    "\n",
    "print(\"Input:\", x)\n",
    "print(\"Sigmoid:\", sigmoid(x))\n",
    "print(\"ReLU:\", relu(x))\n",
    "print(\"Tanh:\", tanh(x))\n"
   ]
  },
  {
   "cell_type": "code",
   "execution_count": null,
   "id": "9e58908b-1223-444f-9c87-fdb8f6a83ea2",
   "metadata": {},
   "outputs": [],
   "source": []
  }
 ],
 "metadata": {
  "kernelspec": {
   "display_name": "Python [conda env:base] *",
   "language": "python",
   "name": "conda-base-py"
  },
  "language_info": {
   "codemirror_mode": {
    "name": "ipython",
    "version": 3
   },
   "file_extension": ".py",
   "mimetype": "text/x-python",
   "name": "python",
   "nbconvert_exporter": "python",
   "pygments_lexer": "ipython3",
   "version": "3.12.7"
  }
 },
 "nbformat": 4,
 "nbformat_minor": 5
}
