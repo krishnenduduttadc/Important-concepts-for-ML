{
 "cells": [
  {
   "cell_type": "code",
   "execution_count": 1,
   "id": "91a4e714-c855-46e4-85c2-f00d8ab8857d",
   "metadata": {},
   "outputs": [],
   "source": [
    "#Output Size of a Convolution Layer"
   ]
  },
  {
   "cell_type": "code",
   "execution_count": 3,
   "id": "e0534786-d88d-4aa5-bbc8-d6b0a67bbdd9",
   "metadata": {},
   "outputs": [
    {
     "name": "stdout",
     "output_type": "stream",
     "text": [
      "Output size: 32 x 32\n"
     ]
    }
   ],
   "source": [
    "import math\n",
    "\n",
    "def conv_output_size(input_size, kernel_size, stride, padding):\n",
    "    \"\"\"\n",
    "    Calculate output size (height or width) of a Conv layer.\n",
    "\n",
    "    Parameters:\n",
    "    - input_size: int, size of input (height or width)\n",
    "    - kernel_size: int, size of the kernel (height or width)\n",
    "    - stride: int, stride of the convolution\n",
    "    - padding: int, padding on one side\n",
    "\n",
    "    Returns:\n",
    "    - int, output size\n",
    "    \"\"\"\n",
    "    return math.floor((input_size - kernel_size + 2 * padding) / stride) + 1\n",
    "\n",
    "# Example usage for a square input:\n",
    "input_height = 32\n",
    "input_width = 32\n",
    "kernel_size = 3\n",
    "stride = 1\n",
    "padding = 1\n",
    "\n",
    "output_height = conv_output_size(input_height, kernel_size, stride, padding)\n",
    "output_width = conv_output_size(input_width, kernel_size, stride, padding)\n",
    "\n",
    "print(f\"Output size: {output_height} x {output_width}\")\n"
   ]
  },
  {
   "cell_type": "code",
   "execution_count": null,
   "id": "43b4bd7b-dac8-4de3-9480-b02da9472bdb",
   "metadata": {},
   "outputs": [],
   "source": []
  }
 ],
 "metadata": {
  "kernelspec": {
   "display_name": "Python [conda env:base] *",
   "language": "python",
   "name": "conda-base-py"
  },
  "language_info": {
   "codemirror_mode": {
    "name": "ipython",
    "version": 3
   },
   "file_extension": ".py",
   "mimetype": "text/x-python",
   "name": "python",
   "nbconvert_exporter": "python",
   "pygments_lexer": "ipython3",
   "version": "3.12.7"
  }
 },
 "nbformat": 4,
 "nbformat_minor": 5
}
