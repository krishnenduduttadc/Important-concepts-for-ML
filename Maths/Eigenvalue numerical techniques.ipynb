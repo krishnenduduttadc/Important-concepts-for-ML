{
 "cells": [
  {
   "cell_type": "code",
   "execution_count": 3,
   "id": "16f1a0b7-42ff-4412-a40a-842771c0e49e",
   "metadata": {},
   "outputs": [],
   "source": [
    "# Compute the Rayleigh Quotient"
   ]
  },
  {
   "cell_type": "code",
   "execution_count": 5,
   "id": "eaad8d78-c49f-4943-9d58-dc11fd39e99a",
   "metadata": {},
   "outputs": [
    {
     "name": "stdout",
     "output_type": "stream",
     "text": [
      "Rayleigh Quotient R(A, v):\n",
      "2.0\n",
      "\n",
      "Eigenvalues from np.linalg.eig:\n",
      "[3. 2.]\n"
     ]
    }
   ],
   "source": [
    "import numpy as np\n",
    "\n",
    "def rayleigh_quotient(A, v):\n",
    "    # Ensure v is a numpy array\n",
    "    v = np.array(v, dtype=float)\n",
    "    \n",
    "    # Compute the Rayleigh quotient\n",
    "    return (v.T @ A @ v) / (v.T @ v)\n",
    "\n",
    "# Example matrix A\n",
    "A = np.array([\n",
    "    [4, -2],\n",
    "    [1,  1]\n",
    "], dtype=float)\n",
    "\n",
    "# Example eigenvector v\n",
    "v = np.array([1, 1], dtype=float)\n",
    "\n",
    "# Compute the Rayleigh quotient\n",
    "RQ = rayleigh_quotient(A, v)\n",
    "\n",
    "print(\"Rayleigh Quotient R(A, v):\")\n",
    "print(RQ)\n",
    "\n",
    "# Verification: Check if RQ is close to the eigenvalue (using np.linalg.eig)\n",
    "eigenvalues, eigenvectors = np.linalg.eig(A)\n",
    "print(\"\\nEigenvalues from np.linalg.eig:\")\n",
    "print(eigenvalues)\n"
   ]
  },
  {
   "cell_type": "code",
   "execution_count": 7,
   "id": "00728fc5-477e-47d4-9b10-1654b9946bd4",
   "metadata": {},
   "outputs": [],
   "source": [
    "#Power method"
   ]
  },
  {
   "cell_type": "code",
   "execution_count": 9,
   "id": "ff9f3c24-8872-4b1c-a3bb-2b40028786b1",
   "metadata": {},
   "outputs": [
    {
     "name": "stdout",
     "output_type": "stream",
     "text": [
      "Dominant Eigenvalue: 2.9999959704784382\n",
      "Dominant Eigenvector: [0.89442659 0.4472148 ]\n"
     ]
    }
   ],
   "source": [
    "import numpy as np\n",
    "\n",
    "def power_method(A, num_iterations=1000, tol=1e-6):\n",
    "    # Start with a random vector (initial guess for the eigenvector)\n",
    "    n = A.shape[1]\n",
    "    v = np.random.rand(n)\n",
    "\n",
    "    for _ in range(num_iterations):\n",
    "        # Multiply A with the vector\n",
    "        v_next = np.dot(A, v)\n",
    "        \n",
    "        # Normalize the vector\n",
    "        v_next = v_next / np.linalg.norm(v_next)\n",
    "\n",
    "        # Compute the Rayleigh quotient (approximated eigenvalue)\n",
    "        eigenvalue = np.dot(v_next.T, np.dot(A, v_next)) / np.dot(v_next.T, v_next)\n",
    "\n",
    "        # Check for convergence (if the change is small)\n",
    "        if np.linalg.norm(v_next - v) < tol:\n",
    "            return eigenvalue, v_next\n",
    "        \n",
    "        v = v_next\n",
    "\n",
    "    return eigenvalue, v_next\n",
    "\n",
    "# Example matrix A\n",
    "A = np.array([\n",
    "    [4, -2],\n",
    "    [1,  1]\n",
    "], dtype=float)\n",
    "\n",
    "# Apply power method\n",
    "eigenvalue, eigenvector = power_method(A)\n",
    "\n",
    "print(\"Dominant Eigenvalue:\", eigenvalue)\n",
    "print(\"Dominant Eigenvector:\", eigenvector)\n"
   ]
  },
  {
   "cell_type": "code",
   "execution_count": 11,
   "id": "fbac146c-7e42-4a04-b16a-af96fcc6b625",
   "metadata": {},
   "outputs": [],
   "source": [
    "#Inverse iteration"
   ]
  },
  {
   "cell_type": "code",
   "execution_count": 13,
   "id": "23e9b04e-8826-4919-93a8-4230d47e3658",
   "metadata": {},
   "outputs": [
    {
     "name": "stdout",
     "output_type": "stream",
     "text": [
      "Eigenvalue closest to the shift (sigma=0): 1.9999952279419582\n",
      "Eigenvector corresponding to the eigenvalue: [-0.70710566 -0.70710791]\n"
     ]
    }
   ],
   "source": [
    "import numpy as np\n",
    "\n",
    "def inverse_iteration(A, num_iterations=1000, tol=1e-6, sigma=0):\n",
    "    # Start with a random vector\n",
    "    n = A.shape[1]\n",
    "    v = np.random.rand(n)\n",
    "    \n",
    "    # Identity matrix\n",
    "    I = np.eye(n)\n",
    "    \n",
    "    # Shifted matrix A - sigma * I\n",
    "    A_shifted = A - sigma * I\n",
    "    \n",
    "    for _ in range(num_iterations):\n",
    "        # Solve (A - sigma * I) * v_next = v\n",
    "        try:\n",
    "            v_next = np.linalg.solve(A_shifted, v)\n",
    "        except np.linalg.LinAlgError:\n",
    "            print(\"Matrix is singular or nearly singular!\")\n",
    "            return None, None\n",
    "        \n",
    "        # Normalize the new vector\n",
    "        v_next = v_next / np.linalg.norm(v_next)\n",
    "        \n",
    "        # Compute the eigenvalue using Rayleigh quotient approximation\n",
    "        eigenvalue = np.dot(v_next.T, np.dot(A, v_next)) / np.dot(v_next.T, v_next)\n",
    "\n",
    "        # Check for convergence (if the change in the vector is small)\n",
    "        if np.linalg.norm(v_next - v) < tol:\n",
    "            return eigenvalue, v_next\n",
    "        \n",
    "        v = v_next\n",
    "\n",
    "    return eigenvalue, v_next\n",
    "\n",
    "# Example matrix A\n",
    "A = np.array([\n",
    "    [4, -2],\n",
    "    [1,  1]\n",
    "], dtype=float)\n",
    "\n",
    "# Apply inverse iteration to find eigenvalue and eigenvector closest to 0\n",
    "eigenvalue, eigenvector = inverse_iteration(A, sigma=0)\n",
    "\n",
    "print(\"Eigenvalue closest to the shift (sigma=0):\", eigenvalue)\n",
    "print(\"Eigenvector corresponding to the eigenvalue:\", eigenvector)\n"
   ]
  },
  {
   "cell_type": "code",
   "execution_count": 15,
   "id": "33e2805a-49ba-4560-951c-2d13570f7d45",
   "metadata": {},
   "outputs": [],
   "source": [
    "#Rayleigh quotient iteration (RQI)\n"
   ]
  },
  {
   "cell_type": "code",
   "execution_count": 17,
   "id": "43611367-20a7-4882-9e55-42354c4d4a08",
   "metadata": {},
   "outputs": [
    {
     "name": "stdout",
     "output_type": "stream",
     "text": [
      "Eigenvalue: 2.0\n",
      "Eigenvector: [0.70710678 0.70710678]\n"
     ]
    }
   ],
   "source": [
    "import numpy as np\n",
    "\n",
    "def rayleigh_quotient_iteration(A, num_iterations=1000, tol=1e-6):\n",
    "    # Start with a random vector\n",
    "    n = A.shape[0]\n",
    "    v = np.random.rand(n)\n",
    "    \n",
    "    # Initialize the eigenvalue approximation\n",
    "    lambda_k = np.dot(v.T, np.dot(A, v)) / np.dot(v.T, v)\n",
    "    \n",
    "    for _ in range(num_iterations):\n",
    "        # Solve the system (A - lambda_k * I) v_next = v\n",
    "        I = np.eye(n)\n",
    "        A_shifted = A - lambda_k * I\n",
    "        try:\n",
    "            v_next = np.linalg.solve(A_shifted, v)\n",
    "        except np.linalg.LinAlgError:\n",
    "            print(\"Matrix is singular or nearly singular!\")\n",
    "            return None, None\n",
    "        \n",
    "        # Normalize the new vector\n",
    "        v_next = v_next / np.linalg.norm(v_next)\n",
    "        \n",
    "        # Update the eigenvalue using Rayleigh quotient\n",
    "        lambda_next = np.dot(v_next.T, np.dot(A, v_next)) / np.dot(v_next.T, v_next)\n",
    "        \n",
    "        # Check for convergence (if the change in the vector is small)\n",
    "        if np.linalg.norm(v_next - v) < tol:\n",
    "            return lambda_next, v_next\n",
    "        \n",
    "        v = v_next\n",
    "        lambda_k = lambda_next\n",
    "\n",
    "    return lambda_k, v\n",
    "\n",
    "# Example matrix A\n",
    "A = np.array([\n",
    "    [4, -2],\n",
    "    [1,  1]\n",
    "], dtype=float)\n",
    "\n",
    "# Apply Rayleigh Quotient Iteration\n",
    "eigenvalue, eigenvector = rayleigh_quotient_iteration(A)\n",
    "\n",
    "print(\"Eigenvalue:\", eigenvalue)\n",
    "print(\"Eigenvector:\", eigenvector)\n"
   ]
  },
  {
   "cell_type": "code",
   "execution_count": 19,
   "id": "f8d1cd96-7477-4a5c-bb47-e2c772ac69a6",
   "metadata": {},
   "outputs": [],
   "source": [
    "#QR algorithm"
   ]
  },
  {
   "cell_type": "code",
   "execution_count": 21,
   "id": "52767db8-875a-4f3c-9593-97d61212512a",
   "metadata": {},
   "outputs": [
    {
     "name": "stdout",
     "output_type": "stream",
     "text": [
      "Eigenvalues: [3.00000209 1.99999791]\n"
     ]
    }
   ],
   "source": [
    "import numpy as np\n",
    "\n",
    "def qr_algorithm(A, num_iterations=1000, tol=1e-6):\n",
    "    # Make a copy of the matrix to avoid modifying the original matrix\n",
    "    A_k = A.copy()\n",
    "    n = A_k.shape[0]\n",
    "    \n",
    "    for i in range(num_iterations):\n",
    "        # Perform QR decomposition: A_k = Q * R\n",
    "        Q, R = np.linalg.qr(A_k)\n",
    "        \n",
    "        # Form the next iteration A_{k+1} = R * Q\n",
    "        A_k = np.dot(R, Q)\n",
    "        \n",
    "        # Check for convergence (if the off-diagonal elements are small)\n",
    "        if np.linalg.norm(np.tril(A_k, -1)) < tol:\n",
    "            break\n",
    "    \n",
    "    # The diagonal elements of A_k will be the eigenvalues\n",
    "    eigenvalues = np.diagonal(A_k)\n",
    "    return eigenvalues\n",
    "\n",
    "# Example matrix A\n",
    "A = np.array([\n",
    "    [4, -2],\n",
    "    [1,  1]\n",
    "], dtype=float)\n",
    "\n",
    "# Apply the QR algorithm\n",
    "eigenvalues = qr_algorithm(A)\n",
    "\n",
    "print(\"Eigenvalues:\", eigenvalues)\n"
   ]
  },
  {
   "cell_type": "code",
   "execution_count": null,
   "id": "97dfd2ac-f0c3-4d39-b9f0-0664483444ba",
   "metadata": {},
   "outputs": [],
   "source": []
  }
 ],
 "metadata": {
  "kernelspec": {
   "display_name": "Python [conda env:base] *",
   "language": "python",
   "name": "conda-base-py"
  },
  "language_info": {
   "codemirror_mode": {
    "name": "ipython",
    "version": 3
   },
   "file_extension": ".py",
   "mimetype": "text/x-python",
   "name": "python",
   "nbconvert_exporter": "python",
   "pygments_lexer": "ipython3",
   "version": "3.12.7"
  }
 },
 "nbformat": 4,
 "nbformat_minor": 5
}
