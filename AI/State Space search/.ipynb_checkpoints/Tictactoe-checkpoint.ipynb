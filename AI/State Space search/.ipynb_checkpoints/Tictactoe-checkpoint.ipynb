{
 "cells": [
  {
   "cell_type": "code",
   "execution_count": 5,
   "id": "a440234f-83ac-42d0-b592-723977cfd0bf",
   "metadata": {},
   "outputs": [
    {
     "data": {
      "image/png": "[encoded data removed]",
      "text/plain": [
       "<Figure size 640x480 with 1 Axes>"
      ]
     },
     "metadata": {},
     "output_type": "display_data"
    }
   ],
   "source": [
    "import matplotlib.pyplot as plt\n",
    "import time\n",
    "import numpy as np\n",
    "from IPython.display import clear_output\n",
    "\n",
    "def draw_board(board, pause=0.8):\n",
    "    fig, ax = plt.subplots()\n",
    "    ax.set_xticks(np.arange(-0.5, 3, 1), minor=True)\n",
    "    ax.set_yticks(np.arange(-0.5, 3, 1), minor=True)\n",
    "    ax.grid(which='minor', color='black', linewidth=2)\n",
    "    ax.set_xlim(-0.5, 2.5)\n",
    "    ax.set_ylim(-0.5, 2.5)\n",
    "    ax.invert_yaxis()\n",
    "    for i in range(3):\n",
    "        for j in range(3):\n",
    "            if board[i][j] != '':\n",
    "                ax.text(j, i, board[i][j], fontsize=30, ha='center', va='center')\n",
    "    plt.xticks([])\n",
    "    plt.yticks([])\n",
    "    plt.show()\n",
    "    time.sleep(pause)\n",
    "    clear_output(wait=True)\n",
    "\n",
    "def check_winner(board):\n",
    "    for row in board:\n",
    "        if row[0] != '' and row.count(row[0]) == 3:\n",
    "            return row[0]\n",
    "    for col in range(3):\n",
    "        if board[0][col] != '' and all(board[row][col] == board[0][col] for row in range(3)):\n",
    "            return board[0][col]\n",
    "    if board[0][0] != '' and all(board[i][i] == board[0][0] for i in range(3)):\n",
    "        return board[0][0]\n",
    "    if board[0][2] != '' and all(board[i][2-i] == board[0][2] for i in range(3)):\n",
    "        return board[0][2]\n",
    "    return None\n",
    "\n",
    "def is_full(board):\n",
    "    return all(cell != '' for row in board for cell in row)\n",
    "\n",
    "def minimax(board, is_maximizing):\n",
    "    winner = check_winner(board)\n",
    "    if winner == 'X': return 1\n",
    "    if winner == 'O': return -1\n",
    "    if is_full(board): return 0\n",
    "    scores = []\n",
    "    for i in range(3):\n",
    "        for j in range(3):\n",
    "            if board[i][j] == '':\n",
    "                board[i][j] = 'X' if is_maximizing else 'O'\n",
    "                score = minimax(board, not is_maximizing)\n",
    "                board[i][j] = ''\n",
    "                scores.append(score)\n",
    "    return max(scores) if is_maximizing else min(scores)\n",
    "\n",
    "def best_move(board, player):\n",
    "    best_score = -float('inf') if player == 'X' else float('inf')\n",
    "    move = None\n",
    "    for i in range(3):\n",
    "        for j in range(3):\n",
    "            if board[i][j] == '':\n",
    "                board[i][j] = player\n",
    "                score = minimax(board, player == 'O')\n",
    "                board[i][j] = ''\n",
    "                if (player == 'X' and score > best_score) or (player == 'O' and score < best_score):\n",
    "                    best_score = score\n",
    "                    move = (i, j)\n",
    "    return move\n",
    "\n",
    "def play_game():\n",
    "    board = [['' for _ in range(3)] for _ in range(3)]\n",
    "    turn = 'X'\n",
    "    while not is_full(board) and not check_winner(board):\n",
    "        move = best_move(board, turn)\n",
    "        if move:\n",
    "            board[move[0]][move[1]] = turn\n",
    "            draw_board(board)\n",
    "        turn = 'O' if turn == 'X' else 'X'\n",
    "\n",
    "play_game()\n"
   ]
  },
  {
   "cell_type": "code",
   "execution_count": null,
   "id": "6362bec3-ac4c-4cd2-9eac-01c9dcf897a1",
   "metadata": {},
   "outputs": [],
   "source": []
  }
 ],
 "metadata": {
  "kernelspec": {
   "display_name": "Python [conda env:base] *",
   "language": "python",
   "name": "conda-base-py"
  },
  "language_info": {
   "codemirror_mode": {
    "name": "ipython",
    "version": 3
   },
   "file_extension": ".py",
   "mimetype": "text/x-python",
   "name": "python",
   "nbconvert_exporter": "python",
   "pygments_lexer": "ipython3",
   "version": "3.12.7"
  }
 },
 "nbformat": 4,
 "nbformat_minor": 5
}
