{
 "cells": [
  {
   "cell_type": "code",
   "execution_count": 1,
   "id": "c8838c64-2ab8-442b-bbef-f27e0acd0bde",
   "metadata": {},
   "outputs": [
    {
     "ename": "IndentationError",
     "evalue": "expected an indented block after class definition on line 3 (2318765544.py, line 4)",
     "output_type": "error",
     "traceback": [
      "\u001b[1;36m  Cell \u001b[1;32mIn[1], line 4\u001b[1;36m\u001b[0m\n\u001b[1;33m    def __init__(self):\u001b[0m\n\u001b[1;37m    ^\u001b[0m\n\u001b[1;31mIndentationError\u001b[0m\u001b[1;31m:\u001b[0m expected an indented block after class definition on line 3\n"
     ]
    }
   ],
   "source": [
    "\n",
    "import re\n",
    "from copy import deepcopy\n",
    "class FOLConverter:\n",
    "def __init__(self):\n",
    "self.skolem_count = 0 self.var_count = 0\n",
    "def parse(self, sentence):\n",
    "return sentence.replace(\"\", \"\")\n",
    "def eliminate_implications (self, expr):\n",
    "expr = re.sub(r'(.*?)<->(.*?)', r'( (\\1->\\2) & (\\2->\\1) )', expr) expr = re.sub(r'(.*?)->(.*?)', r'( ~\\1 | \\2)', expr)\n",
    "return expr"
   ]
  },
  {
   "cell_type": "code",
   "execution_count": 3,
   "id": "86fa3771-3f34-4017-ae54-6a007836d331",
   "metadata": {},
   "outputs": [
    {
     "ename": "IndentationError",
     "evalue": "expected an indented block after function definition on line 1 (510136682.py, line 2)",
     "output_type": "error",
     "traceback": [
      "\u001b[1;36m  Cell \u001b[1;32mIn[3], line 2\u001b[1;36m\u001b[0m\n\u001b[1;33m    expr = expr.replace(\"~~\", \"\")\u001b[0m\n\u001b[1;37m    ^\u001b[0m\n\u001b[1;31mIndentationError\u001b[0m\u001b[1;31m:\u001b[0m expected an indented block after function definition on line 1\n"
     ]
    }
   ],
   "source": [
    "\n",
    "def move_negation_inward (self, expr):\n",
    "expr = expr.replace(\"~~\", \"\")\n",
    "expr = re.sub(r'~\\(~([^)]+)\\)', r'\\1', expr)\n",
    "expr = re.sub(r'~\\(([^&|()]+)&([^)]+)\\)', r'(~\\1 | ~\\2)', expr) expr = re.sub(r'~\\(([^&|()]+)\\|([^)]+)\\)', r'(~\\1 & ~\\2)', expr) return expr\n",
    "def standardize_variables (self, expr):\n",
    "vars_found = re.findall(r'\\b[a-z]\\b', expr)\n",
    "var_map = {v: f'x{self.var_count + i}' for i, v in enumerate(set(vars_found))} self.var_count += len(var_map)\n",
    "for old, new in var_map.items():\n",
    "expr = re.sub(rf'\\b{old}\\b', new, expr)\n",
    "return expr"
   ]
  },
  {
   "cell_type": "code",
   "execution_count": 5,
   "id": "3088621f-047c-44fd-bef7-e5e19baf5a3a",
   "metadata": {},
   "outputs": [
    {
     "ename": "IndentationError",
     "evalue": "expected an indented block after function definition on line 1 (2376486115.py, line 2)",
     "output_type": "error",
     "traceback": [
      "\u001b[1;36m  Cell \u001b[1;32mIn[5], line 2\u001b[1;36m\u001b[0m\n\u001b[1;33m    expr = re.sub(r'exists x\\d+\\.(.+)', self._skolemize_existential, expr) return expr\u001b[0m\n\u001b[1;37m    ^\u001b[0m\n\u001b[1;31mIndentationError\u001b[0m\u001b[1;31m:\u001b[0m expected an indented block after function definition on line 1\n"
     ]
    }
   ],
   "source": [
    "\n",
    "def skolemize(self, expr):\n",
    "expr = re.sub(r'exists x\\d+\\.(.+)', self._skolemize_existential, expr) return expr\n",
    "def _skolemize_existential (self, match):\n",
    "self.skolem_count += 1\n",
    "return re.sub(r'x\\d+', f'f{self.skolem_count}', match.group(1))\n",
    "def drop_universal_quantifiers(self, expr):\n",
    "expr = re.sub(r'forall x\\d+\\.', '', expr) return expr\n",
    "def distribute_or_over_and(self, expr):\n",
    "# Not a full distributor, but handles basic cases\n",
    "if '|(' in expr and '&' in expr:\n",
    "expr = re.sub(r'\\(([^)]+)\\)\\|(\\(([^)]+)\\))', r'(\\1|\\3)', expr)\n",
    "return expr"
   ]
  },
  {
   "cell_type": "code",
   "execution_count": 7,
   "id": "e917ad73-254a-4e1d-b402-c91660f2eb4f",
   "metadata": {},
   "outputs": [
    {
     "ename": "SyntaxError",
     "evalue": "invalid syntax (1069681720.py, line 1)",
     "output_type": "error",
     "traceback": [
      "\u001b[1;36m  Cell \u001b[1;32mIn[7], line 1\u001b[1;36m\u001b[0m\n\u001b[1;33m    def to_cnf(self, sentence): print(\"Input: \", sentence) expr = self.parse(sentence)\u001b[0m\n\u001b[1;37m                                                           ^\u001b[0m\n\u001b[1;31mSyntaxError\u001b[0m\u001b[1;31m:\u001b[0m invalid syntax\n"
     ]
    }
   ],
   "source": [
    "\n",
    "def to_cnf(self, sentence): print(\"Input: \", sentence) expr = self.parse(sentence)\n",
    "expr = self.eliminate_implications (expr) print(\"After eliminating implications:\", expr) expr = self.move_negation_inward (expr) print(\"After moving negations inward:\", expr) expr = self.standardize_variables(expr) print(\"After standardizing variables:\", expr) expr = self.skolemize(expr)\n",
    "print(\"After Skolemization:\", expr)\n",
    "expr = self.drop_universal_quantifiers (expr) print(\"After dropping universal quantifiers:\", expr) expr = self.distribute_or_over_and (expr)\n",
    "print(\"After distributing OR over AND: \", expr)\n",
    "return expr"
   ]
  },
  {
   "cell_type": "code",
   "execution_count": 9,
   "id": "6026b8e5-d5fc-430d-bdae-dfaef23f7bc0",
   "metadata": {},
   "outputs": [
    {
     "ename": "SyntaxError",
     "evalue": "invalid syntax (311706077.py, line 3)",
     "output_type": "error",
     "traceback": [
      "\u001b[1;36m  Cell \u001b[1;32mIn[9], line 3\u001b[1;36m\u001b[0m\n\u001b[1;33m    cnf converter.to_cnf (input_sentence)\u001b[0m\n\u001b[1;37m        ^\u001b[0m\n\u001b[1;31mSyntaxError\u001b[0m\u001b[1;31m:\u001b[0m invalid syntax\n"
     ]
    }
   ],
   "source": [
    "\n",
    "# Example usage converter = FOLConverter()\n",
    "input_sentence = \"forall x. (man(x) -> mortal(x))\"\n",
    "cnf converter.to_cnf (input_sentence)\n",
    "print(\"Final CNF:\", cnf)\n"
   ]
  },
  {
   "cell_type": "code",
   "execution_count": 11,
   "id": "a9bb88de-7f6f-4568-93a1-83e12cbc32b2",
   "metadata": {},
   "outputs": [
    {
     "ename": "IndentationError",
     "evalue": "expected an indented block after class definition on line 2 (2588473163.py, line 3)",
     "output_type": "error",
     "traceback": [
      "\u001b[1;36m  Cell \u001b[1;32mIn[11], line 3\u001b[1;36m\u001b[0m\n\u001b[1;33m    def __init__(self):\u001b[0m\n\u001b[1;37m    ^\u001b[0m\n\u001b[1;31mIndentationError\u001b[0m\u001b[1;31m:\u001b[0m expected an indented block after class definition on line 2\n"
     ]
    }
   ],
   "source": [
    "\n",
    "import re\n",
    "class FOL_to_CNF:\n",
    "def __init__(self):\n",
    "pass\n",
    "def eliminate_implications (self, sentence):\n",
    "sentence = re.sub(r'\\((.*?)\\) => \\((.*?)\\)', r'~(\\1) | (\\2)', sentence)\n",
    "sentence = re.sub(r'~(.*?)\\|(.*?)', lambda match: f\"({match.group(1)}) => ({match.group(2)})\" if '=>' in match.group() else match.group(), sentence)\n",
    "return sentence"
   ]
  },
  {
   "cell_type": "code",
   "execution_count": 13,
   "id": "e8322381-d467-4e7b-abe3-6e90e4a1b295",
   "metadata": {},
   "outputs": [
    {
     "ename": "SyntaxError",
     "evalue": "unterminated string literal (detected at line 2) (1351282148.py, line 2)",
     "output_type": "error",
     "traceback": [
      "\u001b[1;36m  Cell \u001b[1;32mIn[13], line 2\u001b[1;36m\u001b[0m\n\u001b[1;33m    sentence = re.sub(r'~\\((.*?)\\) & \\((.*?)\\)', r'~ (\\1) |\u001b[0m\n\u001b[1;37m                                                 ^\u001b[0m\n\u001b[1;31mSyntaxError\u001b[0m\u001b[1;31m:\u001b[0m unterminated string literal (detected at line 2)\n"
     ]
    }
   ],
   "source": [
    "\n",
    "def move_negations_inwards (self, sentence):\n",
    "sentence = re.sub(r'~\\((.*?)\\) & \\((.*?)\\)', r'~ (\\1) |\n",
    "2\n",
    "(\\2)', sentence)\n",
    "sentence = re.sub(r'~\\((.*?)\\) \\| \\((.*?)\\)', r'~ (\\1) & ~ (\\2)', sentence)\n",
    "sentence =\n",
    "re.sub(r'~\n",
    "~\n",
    "\\((.*?)\\)', r'\\1', sentence)\n",
    "return sentence"
   ]
  },
  {
   "cell_type": "code",
   "execution_count": 15,
   "id": "c869a87f-a971-4681-b940-e0b17cd9ade1",
   "metadata": {},
   "outputs": [
    {
     "ename": "IndentationError",
     "evalue": "expected an indented block after function definition on line 1 (507497986.py, line 2)",
     "output_type": "error",
     "traceback": [
      "\u001b[1;36m  Cell \u001b[1;32mIn[15], line 2\u001b[1;36m\u001b[0m\n\u001b[1;33m    while re.search(r'\\((.*?)\\) \\| \\((.*?)\\) & \\((.*?)\\)', sentence) or re.search(r'\\((.*?)\\) & \\((.*?)\\) \\| \\((.*?)\\)', sentence): sentence = re.sub(r'\\((.*?)\\) \\| \\((.*?)\\) & \\((.*?)\\)', r'((\\1) | (\\2)) & ((\\1) | (\\3))', sentence) sentence = re.sub(r'\\((.*?)\\) & \\((.*?)\\) \\|_ \\((-*?)\\)', r'((\\1) | (\\3)) & ((\\2) | (\\3))', sentence)\u001b[0m\n\u001b[1;37m    ^\u001b[0m\n\u001b[1;31mIndentationError\u001b[0m\u001b[1;31m:\u001b[0m expected an indented block after function definition on line 1\n"
     ]
    }
   ],
   "source": [
    "\n",
    "def distribute_and_over_or(self, sentence):\n",
    "while re.search(r'\\((.*?)\\) \\| \\((.*?)\\) & \\((.*?)\\)', sentence) or re.search(r'\\((.*?)\\) & \\((.*?)\\) \\| \\((.*?)\\)', sentence): sentence = re.sub(r'\\((.*?)\\) \\| \\((.*?)\\) & \\((.*?)\\)', r'((\\1) | (\\2)) & ((\\1) | (\\3))', sentence) sentence = re.sub(r'\\((.*?)\\) & \\((.*?)\\) \\|_ \\((-*?)\\)', r'((\\1) | (\\3)) & ((\\2) | (\\3))', sentence)\n",
    "return sentence\n",
    "def standardize_variables (self, sentence):\n",
    "var_count = {}\n",
    "for var in re.findall(r' ([a-z])', sentence):\n",
    "if var in var_count:\n",
    "var_count[var] += 1\n",
    "else:\n",
    "sentence = re.sub(r'\\b' + var + r'\\b', var + str(var_count[var]), sentence)\n",
    "var_count [var] = 1\n",
    "return sentence"
   ]
  },
  {
   "cell_type": "code",
   "execution_count": 17,
   "id": "609774a2-a5f5-4111-9814-bd72214ebe4e",
   "metadata": {},
   "outputs": [
    {
     "ename": "IndentationError",
     "evalue": "expected an indented block after function definition on line 1 (3130070268.py, line 2)",
     "output_type": "error",
     "traceback": [
      "\u001b[1;36m  Cell \u001b[1;32mIn[17], line 2\u001b[1;36m\u001b[0m\n\u001b[1;33m    sentence =\u001b[0m\n\u001b[1;37m    ^\u001b[0m\n\u001b[1;31mIndentationError\u001b[0m\u001b[1;31m:\u001b[0m expected an indented block after function definition on line 1\n"
     ]
    }
   ],
   "source": [
    "\n",
    "def convert_to_cnf(self, sentence):\n",
    "sentence =\n",
    "sentence =\n",
    "sentence =\n",
    "sentence =\n",
    "self.eliminate_implications(sentence)\n",
    "self.move_negations_inwards(sentence)\n",
    "self.standardize_variables(sentence) self.distribute_and_over_or(sentence)\n",
    "return sentence"
   ]
  },
  {
   "cell_type": "code",
   "execution_count": 19,
   "id": "a6903143-4b42-4e99-863e-bcae134b1ace",
   "metadata": {},
   "outputs": [
    {
     "ename": "SyntaxError",
     "evalue": "invalid syntax (760031324.py, line 4)",
     "output_type": "error",
     "traceback": [
      "\u001b[1;36m  Cell \u001b[1;32mIn[19], line 4\u001b[1;36m\u001b[0m\n\u001b[1;33m    =\u001b[0m\n\u001b[1;37m    ^\u001b[0m\n\u001b[1;31mSyntaxError\u001b[0m\u001b[1;31m:\u001b[0m invalid syntax\n"
     ]
    }
   ],
   "source": [
    "\n",
    "converter = FOL_to_CNF ()\n",
    "sentence = \"(A | B) => (C & D)\"\n",
    "cnf_sentence\n",
    "=\n",
    "converter.convert_to_cnf(sentence)\n",
    "print (f\"The CNF form is: {cnf_sentence}\")\n",
    "sentence2 = \"~(P(x) | Q(x))\"\n",
    "cnf_sentence2\n",
    "=\n",
    "converter.convert_to_cnf(sentence2)\n",
    "print (f\"The CNF form of {sentence2} is: {cnf_sentence2}\")\n",
    "sentence3 = \"(A & B) | (C & D)\"\n",
    "cnf_sentence3\n",
    "=\n",
    "converter.convert_to_cnf(sentence3)\n",
    "print(f\"The CNF form of {sentence3} is: {cnf_sentence3}\")"
   ]
  },
  {
   "cell_type": "code",
   "execution_count": null,
   "id": "ee66bab7-c8cd-41b0-b568-6266f3acabd7",
   "metadata": {},
   "outputs": [],
   "source": []
  }
 ],
 "metadata": {
  "kernelspec": {
   "display_name": "Python [conda env:base] *",
   "language": "python",
   "name": "conda-base-py"
  },
  "language_info": {
   "codemirror_mode": {
    "name": "ipython",
    "version": 3
   },
   "file_extension": ".py",
   "mimetype": "text/x-python",
   "name": "python",
   "nbconvert_exporter": "python",
   "pygments_lexer": "ipython3",
   "version": "3.12.7"
  }
 },
 "nbformat": 4,
 "nbformat_minor": 5
}
