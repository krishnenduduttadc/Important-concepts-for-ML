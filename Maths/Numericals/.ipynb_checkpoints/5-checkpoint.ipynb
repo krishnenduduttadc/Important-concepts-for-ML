{
 "cells": [
  {
   "cell_type": "code",
   "execution_count": 5,
   "id": "45b2d3dd-4d04-4bf0-9203-34e718e9bdb2",
   "metadata": {},
   "outputs": [
    {
     "data": {
      "text/plain": [
       "{'Minimum point found': array([0.35483871, 0.20967742]),\n",
       " 'Gradient at new point': array([ 0.0000000e+00, -8.8817842e-16]),\n",
       " 'Is gradient approximately zero': True}"
      ]
     },
     "execution_count": 5,
     "metadata": {},
     "output_type": "execute_result"
    }
   ],
   "source": [
    "import numpy as np\n",
    "\n",
    "# Define A (symmetric positive definite), b, and starting point x0\n",
    "A = np.array([[4, -2], [-2, 32]])\n",
    "b = np.array([-1, -6])\n",
    "x0 = np.array([0.0, 0.0])\n",
    "\n",
    "# Gradient of f(x) = A @ x + b\n",
    "grad = lambda x: A @ x + b\n",
    "\n",
    "# Newton's step: x_new = x - H_inv @ grad(x)\n",
    "H_inv = np.linalg.inv(A)\n",
    "x1 = x0 - H_inv @ grad(x0)\n",
    "\n",
    "# Check if gradient at x1 is zero (i.e., we are at the minimum)\n",
    "gradient_at_x1 = grad(x1)\n",
    "\n",
    "{\n",
    "    \"Minimum point found\": x1,\n",
    "    \"Gradient at new point\": gradient_at_x1,\n",
    "    \"Is gradient approximately zero\": np.allclose(gradient_at_x1, 0)\n",
    "}\n"
   ]
  },
  {
   "cell_type": "code",
   "execution_count": null,
   "id": "fcfc23e9-7ad8-4936-b694-1962b1ad4d71",
   "metadata": {},
   "outputs": [],
   "source": [
    "#true"
   ]
  }
 ],
 "metadata": {
  "kernelspec": {
   "display_name": "Python [conda env:base] *",
   "language": "python",
   "name": "conda-base-py"
  },
  "language_info": {
   "codemirror_mode": {
    "name": "ipython",
    "version": 3
   },
   "file_extension": ".py",
   "mimetype": "text/x-python",
   "name": "python",
   "nbconvert_exporter": "python",
   "pygments_lexer": "ipython3",
   "version": "3.12.7"
  }
 },
 "nbformat": 4,
 "nbformat_minor": 5
}
