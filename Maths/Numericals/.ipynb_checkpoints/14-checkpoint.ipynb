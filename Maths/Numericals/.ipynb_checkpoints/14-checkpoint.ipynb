{
 "cells": [
  {
   "cell_type": "code",
   "execution_count": 1,
   "id": "d0fd1403-8df8-450a-9ccf-ce013855c93b",
   "metadata": {},
   "outputs": [
    {
     "name": "stdout",
     "output_type": "stream",
     "text": [
      "Statement: Every orthonormal set of vectors is linearly independent.\n",
      "Answer: True\n"
     ]
    }
   ],
   "source": [
    "# Statement: \"Every orthonormal set of vectors is linearly independent.\"\n",
    "statement = \"Every orthonormal set of vectors is linearly independent.\"\n",
    "\n",
    "# Define the options\n",
    "options = {\"True\": True, \"False\": False}\n",
    "\n",
    "# Evaluate the statement\n",
    "def evaluate_statement(statement):\n",
    "    return options[\"True\"]  # Orthonormal sets are always linearly independent\n",
    "\n",
    "# Print the result\n",
    "print(\"Statement:\", statement)\n",
    "print(\"Answer:\", \"True\" if evaluate_statement(statement) else \"False\")\n"
   ]
  },
  {
   "cell_type": "code",
   "execution_count": null,
   "id": "b6a49dc9-ea44-4099-bb2c-fe750bd2f952",
   "metadata": {},
   "outputs": [],
   "source": []
  }
 ],
 "metadata": {
  "kernelspec": {
   "display_name": "Python [conda env:base] *",
   "language": "python",
   "name": "conda-base-py"
  },
  "language_info": {
   "codemirror_mode": {
    "name": "ipython",
    "version": 3
   },
   "file_extension": ".py",
   "mimetype": "text/x-python",
   "name": "python",
   "nbconvert_exporter": "python",
   "pygments_lexer": "ipython3",
   "version": "3.12.7"
  }
 },
 "nbformat": 4,
 "nbformat_minor": 5
}
