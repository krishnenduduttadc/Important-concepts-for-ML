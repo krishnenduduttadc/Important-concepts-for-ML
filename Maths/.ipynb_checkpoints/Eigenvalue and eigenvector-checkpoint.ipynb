{
 "cells": [
  {
   "cell_type": "code",
   "execution_count": 2,
   "id": "b0c972b5-e817-4fdf-a581-387c921d3e8a",
   "metadata": {},
   "outputs": [],
   "source": [
    "#Computing Eigenvalues and Eigenvectors"
   ]
  },
  {
   "cell_type": "code",
   "execution_count": 4,
   "id": "64d44aa1-470b-4a6e-8ebd-c64daa5253d0",
   "metadata": {},
   "outputs": [
    {
     "name": "stdout",
     "output_type": "stream",
     "text": [
      "Eigenvalues:\n",
      "[3. 2.]\n",
      "\n",
      "Eigenvectors:\n",
      "[[0.89442719 0.70710678]\n",
      " [0.4472136  0.70710678]]\n",
      "\n",
      "Verification for eigenvalue 3.0:\n",
      "A @ v = [2.68328157 1.34164079]\n",
      "λ * v = [2.68328157 1.34164079]\n",
      "\n",
      "Verification for eigenvalue 2.0:\n",
      "A @ v = [1.41421356 1.41421356]\n",
      "λ * v = [1.41421356 1.41421356]\n"
     ]
    }
   ],
   "source": [
    "import numpy as np\n",
    "\n",
    "# Example matrix A\n",
    "A = np.array([\n",
    "    [4, -2],\n",
    "    [1,  1]\n",
    "], dtype=float)\n",
    "\n",
    "# Compute eigenvalues and eigenvectors\n",
    "eigenvalues, eigenvectors = np.linalg.eig(A)\n",
    "\n",
    "print(\"Eigenvalues:\")\n",
    "print(eigenvalues)\n",
    "\n",
    "print(\"\\nEigenvectors:\")\n",
    "print(eigenvectors)\n",
    "\n",
    "# Verify: A @ v ≈ λ * v\n",
    "for i in range(len(eigenvalues)):\n",
    "    eigenvector = eigenvectors[:, i]\n",
    "    eigenvalue = eigenvalues[i]\n",
    "    print(f\"\\nVerification for eigenvalue {eigenvalue}:\")\n",
    "    print(f\"A @ v = {A @ eigenvector}\")\n",
    "    print(f\"λ * v = {eigenvalue * eigenvector}\")\n"
   ]
  },
  {
   "cell_type": "code",
   "execution_count": null,
   "id": "dde638d7-5563-4582-8367-10284e8db446",
   "metadata": {},
   "outputs": [],
   "source": []
  }
 ],
 "metadata": {
  "kernelspec": {
   "display_name": "Python [conda env:base] *",
   "language": "python",
   "name": "conda-base-py"
  },
  "language_info": {
   "codemirror_mode": {
    "name": "ipython",
    "version": 3
   },
   "file_extension": ".py",
   "mimetype": "text/x-python",
   "name": "python",
   "nbconvert_exporter": "python",
   "pygments_lexer": "ipython3",
   "version": "3.12.7"
  }
 },
 "nbformat": 4,
 "nbformat_minor": 5
}
