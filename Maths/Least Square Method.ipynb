{
 "cells": [
  {
   "cell_type": "code",
   "execution_count": 2,
   "id": "d60bf2e8-879d-4ea1-a9fa-ffd3cd193854",
   "metadata": {},
   "outputs": [],
   "source": [
    "#for Least Squares via Normal Method"
   ]
  },
  {
   "cell_type": "code",
   "execution_count": 4,
   "id": "287a9e7a-b51a-477a-8a1d-a1a2d6667170",
   "metadata": {},
   "outputs": [
    {
     "name": "stdout",
     "output_type": "stream",
     "text": [
      "Least Squares Solution (normal method):\n",
      "[2. 3.]\n"
     ]
    }
   ],
   "source": [
    "import numpy as np\n",
    "\n",
    "# Define an overdetermined system (more equations than unknowns)\n",
    "A = np.array([\n",
    "    [2, 1],\n",
    "    [1, -1],\n",
    "    [3, 2]\n",
    "], dtype=float)\n",
    "\n",
    "b = np.array([7, -1, 12], dtype=float)\n",
    "\n",
    "# Compute A^T A and A^T b\n",
    "AtA = A.T @ A\n",
    "Atb = A.T @ b\n",
    "\n",
    "# Solve the normal equation\n",
    "x_ls = np.linalg.solve(AtA, Atb)\n",
    "\n",
    "print(\"Least Squares Solution (normal method):\")\n",
    "print(x_ls)\n"
   ]
  },
  {
   "cell_type": "code",
   "execution_count": 6,
   "id": "d5000835-cd5a-40df-a7c3-581a2998ee41",
   "metadata": {},
   "outputs": [],
   "source": [
    "#QR method"
   ]
  },
  {
   "cell_type": "code",
   "execution_count": 8,
   "id": "ed123fd4-b67e-4290-a23c-ca9ddfc70c66",
   "metadata": {},
   "outputs": [
    {
     "name": "stdout",
     "output_type": "stream",
     "text": [
      "Least Squares Solution via QR Method:\n",
      "[2. 3.]\n"
     ]
    }
   ],
   "source": [
    "import numpy as np\n",
    "\n",
    "# Define an overdetermined system Ax = b\n",
    "A = np.array([\n",
    "    [2, 1],\n",
    "    [1, -1],\n",
    "    [3, 2]\n",
    "], dtype=float)\n",
    "\n",
    "b = np.array([7, -1, 12], dtype=float)\n",
    "\n",
    "# Step 1: QR decomposition of A\n",
    "Q, R = np.linalg.qr(A)\n",
    "\n",
    "# Step 2: Compute Q^T * b\n",
    "Qt_b = Q.T @ b\n",
    "\n",
    "# Step 3: Solve Rx = Q^T b (only use upper part of R)\n",
    "x_ls = np.linalg.solve(R[:2, :], Qt_b[:2])\n",
    "\n",
    "print(\"Least Squares Solution via QR Method:\")\n",
    "print(x_ls)\n"
   ]
  },
  {
   "cell_type": "code",
   "execution_count": 10,
   "id": "ada3f08a-b9a6-42b5-8202-80052314af92",
   "metadata": {},
   "outputs": [],
   "source": [
    "#QR Decomposition via Classical Gram-Schmidt"
   ]
  },
  {
   "cell_type": "code",
   "execution_count": 12,
   "id": "7809b066-d165-46b1-bb55-4e9a3d55200f",
   "metadata": {},
   "outputs": [
    {
     "name": "stdout",
     "output_type": "stream",
     "text": [
      "Q matrix:\n",
      "[[ 0.57735027  0.70710678]\n",
      " [ 0.57735027  0.        ]\n",
      " [ 0.57735027 -0.70710678]]\n",
      "\n",
      "R matrix:\n",
      "[[1.73205081 0.        ]\n",
      " [0.         1.41421356]]\n",
      "\n",
      "Reconstruction A ≈ Q @ R:\n",
      "[[ 1.  1.]\n",
      " [ 1.  0.]\n",
      " [ 1. -1.]]\n"
     ]
    }
   ],
   "source": [
    "import numpy as np\n",
    "\n",
    "def gram_schmidt_qr(A):\n",
    "    A = A.astype(float)\n",
    "    m, n = A.shape\n",
    "    Q = np.zeros((m, n))\n",
    "    R = np.zeros((n, n))\n",
    "\n",
    "    for j in range(n):\n",
    "        v = A[:, j]\n",
    "        for i in range(j):\n",
    "            R[i, j] = np.dot(Q[:, i], A[:, j])\n",
    "            v = v - R[i, j] * Q[:, i]\n",
    "        R[j, j] = np.linalg.norm(v)\n",
    "        Q[:, j] = v / R[j, j]\n",
    "    \n",
    "    return Q, R\n",
    "\n",
    "# Example matrix\n",
    "A = np.array([\n",
    "    [1, 1],\n",
    "    [1, 0],\n",
    "    [1, -1]\n",
    "], dtype=float)\n",
    "\n",
    "Q, R = gram_schmidt_qr(A)\n",
    "\n",
    "print(\"Q matrix:\")\n",
    "print(Q)\n",
    "print(\"\\nR matrix:\")\n",
    "print(R)\n",
    "\n",
    "# Verify: A ≈ Q @ R\n",
    "print(\"\\nReconstruction A ≈ Q @ R:\")\n",
    "print(Q @ R)\n"
   ]
  },
  {
   "cell_type": "code",
   "execution_count": 15,
   "id": "4613b5bb-0d58-409c-9e6b-ccc6074e117c",
   "metadata": {},
   "outputs": [],
   "source": [
    "#QR Decomposition via Householder Reflections "
   ]
  },
  {
   "cell_type": "code",
   "execution_count": 19,
   "id": "b3c4a77e-daa6-4b94-b421-e9a86c9cba87",
   "metadata": {},
   "outputs": [
    {
     "name": "stdout",
     "output_type": "stream",
     "text": [
      "Q matrix:\n",
      "[[ 0.85714286  0.39428571         nan]\n",
      " [ 0.42857143 -0.90285714         nan]\n",
      " [-0.28571429 -0.17142857         nan]]\n",
      "\n",
      "R matrix:\n",
      "[[ 1.4000000e+01  2.1000000e+01 -1.4000000e+01]\n",
      " [-5.5067062e-16 -1.7500000e+02  7.0000000e+01]\n",
      " [           nan            nan            nan]]\n",
      "\n",
      "A ≈ Q @ R:\n",
      "[[nan nan nan]\n",
      " [nan nan nan]\n",
      " [nan nan nan]]\n"
     ]
    },
    {
     "name": "stderr",
     "output_type": "stream",
     "text": [
      "C:\\Users\\KRISHNENDU\\AppData\\Local\\Temp\\ipykernel_15884\\1405499970.py:15: RuntimeWarning: invalid value encountered in divide\n",
      "  v = u / np.linalg.norm(u)\n"
     ]
    }
   ],
   "source": [
    "import numpy as np\n",
    "\n",
    "def householder_qr(A):\n",
    "    A = A.astype(float)\n",
    "    m, n = A.shape\n",
    "    Q = np.identity(m)\n",
    "    R = A.copy()\n",
    "\n",
    "    for k in range(n):\n",
    "        # Create the Householder vector\n",
    "        x = R[k:, k]\n",
    "        e = np.zeros_like(x)\n",
    "        e[0] = np.linalg.norm(x) * (1 if x[0] >= 0 else -1)\n",
    "        u = x - e\n",
    "        v = u / np.linalg.norm(u)\n",
    "\n",
    "        # Householder matrix H_k\n",
    "        Hk = np.identity(m)\n",
    "        Hk_k = np.identity(len(x)) - 2.0 * np.outer(v, v)\n",
    "        Hk[k:, k:] = Hk_k\n",
    "\n",
    "        # Apply transformation\n",
    "        R = Hk @ R\n",
    "        Q = Q @ Hk.T  # Transpose because we build Q as a product of H.Ts\n",
    "\n",
    "    return Q, R\n",
    "\n",
    "# Example matrix\n",
    "A = np.array([\n",
    "    [12, -51, 4],\n",
    "    [6, 167, -68],\n",
    "    [-4, 24, -41]\n",
    "], dtype=float)\n",
    "\n",
    "Q, R = householder_qr(A)\n",
    "\n",
    "print(\"Q matrix:\")\n",
    "print(Q)\n",
    "print(\"\\nR matrix:\")\n",
    "print(R)\n",
    "\n",
    "# Verify reconstruction\n",
    "print(\"\\nA ≈ Q @ R:\")\n",
    "print(np.round(Q @ R, decimals=6))\n",
    "\n"
   ]
  },
  {
   "cell_type": "code",
   "execution_count": 21,
   "id": "109570ff-692f-4d84-a5dd-064f2b20f993",
   "metadata": {},
   "outputs": [],
   "source": [
    "#Singular Value Decomposition (SVD)"
   ]
  },
  {
   "cell_type": "code",
   "execution_count": 23,
   "id": "40cc3c10-dd9d-4129-a3ea-83e570a344bf",
   "metadata": {},
   "outputs": [
    {
     "name": "stdout",
     "output_type": "stream",
     "text": [
      "U matrix:\n",
      "[[ 0.  0.  1.  0.]\n",
      " [ 0.  1.  0.  0.]\n",
      " [ 0.  0.  0. -1.]\n",
      " [-1.  0.  0.  0.]]\n",
      "\n",
      "Singular values (diagonal of Σ):\n",
      "[3. 2. 1.]\n",
      "\n",
      "V^T matrix:\n",
      "[[-0. -0. -1.]\n",
      " [ 0.  1.  0.]\n",
      " [ 1.  0.  0.]]\n",
      "\n",
      "A ≈ U Σ Vᵀ:\n",
      "[[1. 0. 0.]\n",
      " [0. 2. 0.]\n",
      " [0. 0. 0.]\n",
      " [0. 0. 3.]]\n"
     ]
    }
   ],
   "source": [
    "import numpy as np\n",
    "\n",
    "# Example matrix\n",
    "A = np.array([\n",
    "    [1, 0, 0],\n",
    "    [0, 2, 0],\n",
    "    [0, 0, 0],\n",
    "    [0, 0, 3]\n",
    "], dtype=float)\n",
    "\n",
    "# Compute SVD\n",
    "U, S, VT = np.linalg.svd(A)\n",
    "\n",
    "# Convert S into full matrix\n",
    "Sigma = np.zeros_like(A, dtype=float)\n",
    "np.fill_diagonal(Sigma, S)\n",
    "\n",
    "print(\"U matrix:\")\n",
    "print(U)\n",
    "print(\"\\nSingular values (diagonal of Σ):\")\n",
    "print(S)\n",
    "print(\"\\nV^T matrix:\")\n",
    "print(VT)\n",
    "\n",
    "# Reconstruct A to verify\n",
    "print(\"\\nA ≈ U Σ Vᵀ:\")\n",
    "print(np.round(U @ Sigma @ VT, 6))\n"
   ]
  },
  {
   "cell_type": "code",
   "execution_count": null,
   "id": "5441cb27-e7cc-42cd-8363-5d4bed847e7c",
   "metadata": {},
   "outputs": [],
   "source": []
  }
 ],
 "metadata": {
  "kernelspec": {
   "display_name": "Python [conda env:base] *",
   "language": "python",
   "name": "conda-base-py"
  },
  "language_info": {
   "codemirror_mode": {
    "name": "ipython",
    "version": 3
   },
   "file_extension": ".py",
   "mimetype": "text/x-python",
   "name": "python",
   "nbconvert_exporter": "python",
   "pygments_lexer": "ipython3",
   "version": "3.12.7"
  }
 },
 "nbformat": 4,
 "nbformat_minor": 5
}
