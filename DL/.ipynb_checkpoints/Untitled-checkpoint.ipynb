{
 "cells": [
  {
   "cell_type": "code",
   "execution_count": 1,
   "id": "c09bbc78-4cd1-4860-9477-56b07eaa9ac2",
   "metadata": {},
   "outputs": [
    {
     "ename": "FileNotFoundError",
     "evalue": "[WinError 3] The system cannot find the path specified: 'E:/meterimages/raw'",
     "output_type": "error",
     "traceback": [
      "\u001b[1;31m---------------------------------------------------------------------------\u001b[0m",
      "\u001b[1;31mFileNotFoundError\u001b[0m                         Traceback (most recent call last)",
      "Cell \u001b[1;32mIn[1], line 13\u001b[0m\n\u001b[0;32m     10\u001b[0m     os\u001b[38;5;241m.\u001b[39mmakedirs(os\u001b[38;5;241m.\u001b[39mpath\u001b[38;5;241m.\u001b[39mjoin(output_base, \u001b[38;5;28mstr\u001b[39m(i)), exist_ok\u001b[38;5;241m=\u001b[39m\u001b[38;5;28;01mTrue\u001b[39;00m)\n\u001b[0;32m     12\u001b[0m \u001b[38;5;66;03m# Get all image files\u001b[39;00m\n\u001b[1;32m---> 13\u001b[0m image_files \u001b[38;5;241m=\u001b[39m [f \u001b[38;5;28;01mfor\u001b[39;00m f \u001b[38;5;129;01min\u001b[39;00m os\u001b[38;5;241m.\u001b[39mlistdir(image_folder) \u001b[38;5;28;01mif\u001b[39;00m f\u001b[38;5;241m.\u001b[39mlower()\u001b[38;5;241m.\u001b[39mendswith((\u001b[38;5;124m'\u001b[39m\u001b[38;5;124m.jpg\u001b[39m\u001b[38;5;124m'\u001b[39m, \u001b[38;5;124m'\u001b[39m\u001b[38;5;124m.jpeg\u001b[39m\u001b[38;5;124m'\u001b[39m, \u001b[38;5;124m'\u001b[39m\u001b[38;5;124m.png\u001b[39m\u001b[38;5;124m'\u001b[39m))]\n\u001b[0;32m     15\u001b[0m \u001b[38;5;28mprint\u001b[39m(\u001b[38;5;124m\"\u001b[39m\u001b[38;5;124mInstructions:\u001b[39m\u001b[38;5;124m\"\u001b[39m)\n\u001b[0;32m     16\u001b[0m \u001b[38;5;28mprint\u001b[39m(\u001b[38;5;124m\"\u001b[39m\u001b[38;5;124m - Press a key from 0 to 9 to label the shown digit.\u001b[39m\u001b[38;5;124m\"\u001b[39m)\n",
      "\u001b[1;31mFileNotFoundError\u001b[0m: [WinError 3] The system cannot find the path specified: 'E:/meterimages/raw'"
     ]
    }
   ],
   "source": [
    "import cv2\n",
    "import os\n",
    "\n",
    "# Source folder with meter images\n",
    "image_folder = \"E:/meterimages/raw\"  # raw full images here\n",
    "output_base = \"E:/meterimages\"       # digits will be saved into subfolders 0-9\n",
    "\n",
    "# Create label folders if not exist\n",
    "for i in range(10):\n",
    "    os.makedirs(os.path.join(output_base, str(i)), exist_ok=True)\n",
    "\n",
    "# Get all image files\n",
    "image_files = [f for f in os.listdir(image_folder) if f.lower().endswith(('.jpg', '.jpeg', '.png'))]\n",
    "\n",
    "print(\"Instructions:\")\n",
    "print(\" - Press a key from 0 to 9 to label the shown digit.\")\n",
    "print(\" - Press ESC to skip a digit.\")\n",
    "print(\" - Press Q to quit the tool.\")\n",
    "\n",
    "for image_name in image_files:\n",
    "    img_path = os.path.join(image_folder, image_name)\n",
    "    img = cv2.imread(img_path)\n",
    "    gray = cv2.cvtColor(img, cv2.COLOR_BGR2GRAY)\n",
    "    _, thresh = cv2.threshold(gray, 0, 255, cv2.THRESH_BINARY_INV + cv2.THRESH_OTSU)\n",
    "\n",
    "    contours, _ = cv2.findContours(thresh, cv2.RETR_EXTERNAL, cv2.CHAIN_APPROX_SIMPLE)\n",
    "    contours = sorted(contours, key=lambda ctr: cv2.boundingRect(ctr)[0])  # left to right\n",
    "\n",
    "    for i, cnt in enumerate(contours):\n",
    "        x, y, w, h = cv2.boundingRect(cnt)\n",
    "        if h > 10 and w > 5:\n",
    "            digit = gray[y:y+h, x:x+w]\n",
    "            digit = cv2.resize(digit, (28, 28))\n",
    "            cv2.imshow(\"Digit\", digit)\n",
    "\n",
    "            key = cv2.waitKey(0) & 0xFF\n",
    "\n",
    "            if key == ord('q'):\n",
    "                print(\"Quitting.\")\n",
    "                cv2.destroyAllWindows()\n",
    "                exit()\n",
    "            elif key == 27:  # ESC to skip\n",
    "                print(\"Skipped.\")\n",
    "                continue\n",
    "            elif chr(key).isdigit():\n",
    "                label = chr(key)\n",
    "                save_path = os.path.join(output_base, label, f\"{image_name}_{i}.png\")\n",
    "                cv2.imwrite(save_path, digit)\n",
    "                print(f\"Saved digit to {save_path}\")\n",
    "            else:\n",
    "                print(\"Invalid key. Use 0-9 to label, ESC to skip, Q to quit.\")\n",
    "\n",
    "cv2.destroyAllWindows()\n",
    "print(\"Digit labeling complete.\")\n"
   ]
  },
  {
   "cell_type": "code",
   "execution_count": null,
   "id": "75665151-0241-4641-8db6-cc96fb65137a",
   "metadata": {},
   "outputs": [],
   "source": []
  }
 ],
 "metadata": {
  "kernelspec": {
   "display_name": "Python [conda env:base] *",
   "language": "python",
   "name": "conda-base-py"
  },
  "language_info": {
   "codemirror_mode": {
    "name": "ipython",
    "version": 3
   },
   "file_extension": ".py",
   "mimetype": "text/x-python",
   "name": "python",
   "nbconvert_exporter": "python",
   "pygments_lexer": "ipython3",
   "version": "3.12.7"
  }
 },
 "nbformat": 4,
 "nbformat_minor": 5
}
