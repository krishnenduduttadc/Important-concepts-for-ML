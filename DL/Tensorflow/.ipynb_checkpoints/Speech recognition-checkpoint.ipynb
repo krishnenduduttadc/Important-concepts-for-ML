{
 "cells": [
  {
   "cell_type": "code",
   "execution_count": null,
   "id": "3dfc7cab-95aa-492f-bfe7-a259ed328a84",
   "metadata": {},
   "outputs": [
    {
     "name": "stderr",
     "output_type": "stream",
     "text": [
      "WARNING:absl:Variant folder C:\\Users\\KRISHNENDU\\tensorflow_datasets\\speech_commands\\0.0.3 has no dataset_info.json\n"
     ]
    },
    {
     "name": "stdout",
     "output_type": "stream",
     "text": [
      "\u001b[1mDownloading and preparing dataset Unknown size (download: Unknown size, generated: Unknown size, total: Unknown size) to C:\\Users\\KRISHNENDU\\tensorflow_datasets\\speech_commands\\0.0.3...\u001b[0m\n"
     ]
    },
    {
     "data": {
      "application/vnd.jupyter.widget-view+json": {
       "model_id": "36a36ccbf4f0495b8f38f947de24504b",
       "version_major": 2,
       "version_minor": 0
      },
      "text/plain": [
       "Dl Completed...: 0 url [00:00, ? url/s]"
      ]
     },
     "metadata": {},
     "output_type": "display_data"
    },
    {
     "data": {
      "application/vnd.jupyter.widget-view+json": {
       "model_id": "bdfa1b77f60c4a37851cb4ffd00f4458",
       "version_major": 2,
       "version_minor": 0
      },
      "text/plain": [
       "Dl Size...: 0 MiB [00:00, ? MiB/s]"
      ]
     },
     "metadata": {},
     "output_type": "display_data"
    },
    {
     "data": {
      "application/vnd.jupyter.widget-view+json": {
       "model_id": "0aaef0abcda44e0d8441cdebb4a0cc27",
       "version_major": 2,
       "version_minor": 0
      },
      "text/plain": [
       "Generating splits...:   0%|          | 0/3 [00:00<?, ? splits/s]"
      ]
     },
     "metadata": {},
     "output_type": "display_data"
    },
    {
     "data": {
      "application/vnd.jupyter.widget-view+json": {
       "model_id": "31c4e31eb9dd466db862c7dc652e93d7",
       "version_major": 2,
       "version_minor": 0
      },
      "text/plain": [
       "Generating train examples...: 0 examples [00:00, ? examples/s]"
      ]
     },
     "metadata": {},
     "output_type": "display_data"
    },
    {
     "name": "stderr",
     "output_type": "stream",
     "text": [
      "C:\\Users\\KRISHNENDU\\anaconda3\\Lib\\site-packages\\pydub\\utils.py:170: RuntimeWarning: Couldn't find ffmpeg or avconv - defaulting to ffmpeg, but may not work\n",
      "  warn(\"Couldn't find ffmpeg or avconv - defaulting to ffmpeg, but may not work\", RuntimeWarning)\n"
     ]
    }
   ],
   "source": [
    "import tensorflow as tf\n",
    "import tensorflow_datasets as tfds\n",
    "import numpy as np\n",
    "\n",
    "# 1. Load the mini speech commands dataset\n",
    "ds_train = tfds.load('speech_commands', split='train[:5%]', as_supervised=True)\n",
    "ds_test = tfds.load('speech_commands', split='test[:5%]', as_supervised=True)\n",
    "\n",
    "# 2. Preprocess: Convert audio to spectrogram\n",
    "def preprocess(audio, label):\n",
    "    spectrogram = tf.signal.stft(audio, frame_length=256, frame_step=128)\n",
    "    spectrogram = tf.abs(spectrogram)\n",
    "    spectrogram = tf.expand_dims(spectrogram, -1)  # Add channel dimension\n",
    "    return spectrogram, label\n",
    "\n",
    "ds_train = ds_train.map(preprocess).batch(32).prefetch(1)\n",
    "ds_test = ds_test.map(preprocess).batch(32).prefetch(1)\n",
    "\n",
    "# 3. Build a simple CNN for spectrogram classification\n",
    "model = tf.keras.Sequential([\n",
    "    tf.keras.layers.Input(shape=(None, None, 1)),\n",
    "    tf.keras.layers.Conv2D(16, 3, activation='relu'),\n",
    "    tf.keras.layers.MaxPooling2D(),\n",
    "    tf.keras.layers.Conv2D(32, 3, activation='relu'),\n",
    "    tf.keras.layers.MaxPooling2D(),\n",
    "    tf.keras.layers.GlobalAveragePooling2D(),\n",
    "    tf.keras.layers.Dense(35, activation='softmax')  # 35 classes in dataset\n",
    "])\n",
    "\n",
    "# 4. Compile and train\n",
    "model.compile(optimizer='adam', loss='sparse_categorical_crossentropy', metrics=['accuracy'])\n",
    "model.fit(ds_train, epochs=3)\n",
    "\n",
    "# 5. Evaluate\n",
    "model.evaluate(ds_test)\n"
   ]
  },
  {
   "cell_type": "code",
   "execution_count": null,
   "id": "359e52ec-eb97-4cf4-bcb4-50bb544ca86f",
   "metadata": {},
   "outputs": [],
   "source": [
    "\n"
   ]
  },
  {
   "cell_type": "code",
   "execution_count": null,
   "id": "f18f71ee-7f4e-4bad-af19-ce6409898c24",
   "metadata": {},
   "outputs": [],
   "source": [
    "\n"
   ]
  }
 ],
 "metadata": {
  "kernelspec": {
   "display_name": "Python [conda env:base] *",
   "language": "python",
   "name": "conda-base-py"
  },
  "language_info": {
   "codemirror_mode": {
    "name": "ipython",
    "version": 3
   },
   "file_extension": ".py",
   "mimetype": "text/x-python",
   "name": "python",
   "nbconvert_exporter": "python",
   "pygments_lexer": "ipython3",
   "version": "3.12.7"
  }
 },
 "nbformat": 4,
 "nbformat_minor": 5
}
