{
 "cells": [
  {
   "cell_type": "code",
   "execution_count": 9,
   "id": "1c848765-c7a2-47a7-a9d0-80ee3535582d",
   "metadata": {},
   "outputs": [],
   "source": [
    "#Gradient Descent (Weight Update Rule)\n"
   ]
  },
  {
   "cell_type": "markdown",
   "id": "41c3a682-750a-4052-aeb9-5d2da3aa7090",
   "metadata": {},
   "source": [
    "$$\n",
    "w = w - \\eta \\cdot \\frac{\\partial L}{\\partial w}\n",
    "$$\n",
    "\n",
    "Where:\n",
    "\n",
    "$w$: weight\n",
    "\n",
    "$\\eta$: learning rate\n",
    "\n",
    "$\\frac{\\partial L}{\\partial w}$: gradient of the loss function $L$ with respect to weight $w$\n",
    "\n"
   ]
  },
  {
   "cell_type": "code",
   "execution_count": 3,
   "id": "15f803e9-14b9-4af0-95e5-05cd5211e7ce",
   "metadata": {},
   "outputs": [
    {
     "name": "stdout",
     "output_type": "stream",
     "text": [
      "Epoch 0: w = 0.3000, loss = 30.0000\n",
      "Epoch 10: w = 1.6653, loss = 1.1628\n",
      "Epoch 20: w = 1.9341, loss = 0.0451\n",
      "Epoch 30: w = 1.9870, loss = 0.0017\n",
      "Epoch 40: w = 1.9974, loss = 0.0001\n",
      "Epoch 50: w = 1.9995, loss = 0.0000\n",
      "Epoch 60: w = 1.9999, loss = 0.0000\n",
      "Epoch 70: w = 2.0000, loss = 0.0000\n",
      "Epoch 80: w = 2.0000, loss = 0.0000\n",
      "Epoch 90: w = 2.0000, loss = 0.0000\n",
      "\n",
      "Final weight: 2.0000\n"
     ]
    }
   ],
   "source": [
    "import numpy as np\n",
    "\n",
    "# Example: y = wx, true w = 2.0\n",
    "x = np.array([1, 2, 3, 4])\n",
    "y_true = np.array([2, 4, 6, 8])  # y = 2 * x\n",
    "\n",
    "# Initialize weight\n",
    "w = 0.0\n",
    "learning_rate = 0.01\n",
    "epochs = 100\n",
    "\n",
    "for epoch in range(epochs):\n",
    "    # Forward pass (prediction)\n",
    "    y_pred = w * x\n",
    "\n",
    "    # Compute loss (MSE)\n",
    "    loss = np.mean((y_pred - y_true) ** 2)\n",
    "\n",
    "    # Compute gradient\n",
    "    grad = np.mean(2 * x * (y_pred - y_true))\n",
    "\n",
    "    # Update weight\n",
    "    w = w - learning_rate * grad\n",
    "\n",
    "    # Print progress every 10 steps\n",
    "    if epoch % 10 == 0:\n",
    "        print(f\"Epoch {epoch}: w = {w:.4f}, loss = {loss:.4f}\")\n",
    "\n",
    "print(f\"\\nFinal weight: {w:.4f}\")\n"
   ]
  },
  {
   "cell_type": "code",
   "execution_count": null,
   "id": "07dc32e8-f8db-423d-b543-78440d1cae66",
   "metadata": {},
   "outputs": [],
   "source": []
  }
 ],
 "metadata": {
  "kernelspec": {
   "display_name": "Python [conda env:base] *",
   "language": "python",
   "name": "conda-base-py"
  },
  "language_info": {
   "codemirror_mode": {
    "name": "ipython",
    "version": 3
   },
   "file_extension": ".py",
   "mimetype": "text/x-python",
   "name": "python",
   "nbconvert_exporter": "python",
   "pygments_lexer": "ipython3",
   "version": "3.12.7"
  }
 },
 "nbformat": 4,
 "nbformat_minor": 5
}
