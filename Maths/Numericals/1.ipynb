{
 "cells": [
  {
   "cell_type": "code",
   "execution_count": 3,
   "id": "338fbc76-56b6-401f-a23a-ef1df1660996",
   "metadata": {},
   "outputs": [
    {
     "name": "stdout",
     "output_type": "stream",
     "text": [
      "Eigenvalues (sorted): [-1.88352736  2.61709657  6.32321376]\n",
      "Rayleigh quotient: 1.032332861585187\n",
      "Bounds: [ -1.8835273614219203 , 6.3232137608732195 ]\n",
      "Inequality holds: True\n"
     ]
    }
   ],
   "source": [
    "import numpy as np\n",
    "\n",
    "# Generate a random real symmetric matrix\n",
    "np.random.seed(0)\n",
    "n = 3  # Size of the matrix\n",
    "A = np.random.randn(n, n)\n",
    "A = A + A.T  # Make it symmetric\n",
    "\n",
    "# Compute eigenvalues (sorted in descending order)\n",
    "eigenvalues = np.linalg.eigvalsh(A)\n",
    "lambda_1 = eigenvalues[-1]  # Largest eigenvalue\n",
    "lambda_n = eigenvalues[0]   # Smallest eigenvalue\n",
    "\n",
    "# Generate a random nonzero vector x\n",
    "x = np.random.randn(n)\n",
    "\n",
    "# Compute the Rayleigh quotient\n",
    "rayleigh_quotient = (x.T @ A @ x) / (x.T @ x)\n",
    "\n",
    "# Check the inequality\n",
    "lower_bound = lambda_n\n",
    "upper_bound = lambda_1\n",
    "is_true = (lower_bound <= rayleigh_quotient <= upper_bound)\n",
    "\n",
    "print(\"Eigenvalues (sorted):\", eigenvalues)\n",
    "print(\"Rayleigh quotient:\", rayleigh_quotient)\n",
    "print(\"Bounds: [\", lower_bound, \",\", upper_bound, \"]\")\n",
    "print(\"Inequality holds:\", is_true)"
   ]
  },
  {
   "cell_type": "code",
   "execution_count": null,
   "id": "f88e1148-ea58-4653-8bd9-424287c0ed76",
   "metadata": {},
   "outputs": [],
   "source": []
  }
 ],
 "metadata": {
  "kernelspec": {
   "display_name": "Python [conda env:base] *",
   "language": "python",
   "name": "conda-base-py"
  },
  "language_info": {
   "codemirror_mode": {
    "name": "ipython",
    "version": 3
   },
   "file_extension": ".py",
   "mimetype": "text/x-python",
   "name": "python",
   "nbconvert_exporter": "python",
   "pygments_lexer": "ipython3",
   "version": "3.12.7"
  }
 },
 "nbformat": 4,
 "nbformat_minor": 5
}
