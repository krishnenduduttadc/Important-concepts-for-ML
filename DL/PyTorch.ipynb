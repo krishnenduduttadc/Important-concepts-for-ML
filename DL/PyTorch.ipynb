{
 "cells": [
  {
   "cell_type": "code",
   "execution_count": 2,
   "id": "8495e791-e083-4a96-bee1-5a21ec4d6dd8",
   "metadata": {},
   "outputs": [],
   "source": [
    "#creating tensors"
   ]
  },
  {
   "cell_type": "code",
   "execution_count": 4,
   "id": "450fe7fe-eea2-4fb6-82cc-1bfd0e511516",
   "metadata": {},
   "outputs": [
    {
     "name": "stdout",
     "output_type": "stream",
     "text": [
      "tensor([[1, 2],\n",
      "        [3, 4]])\n",
      "tensor([[0.3972, 0.8315],\n",
      "        [0.5233, 0.2398]])\n",
      "tensor([[0., 0., 0.],\n",
      "        [0., 0., 0.],\n",
      "        [0., 0., 0.]])\n"
     ]
    }
   ],
   "source": [
    "import torch\n",
    "# Creating a tensor from a list\n",
    "x = torch.tensor([[1, 2], [3, 4]])\n",
    "print(x)\n",
    "# Creating a random tensor\n",
    "y = torch.rand(2, 2)\n",
    "print(y)\n",
    "# Creating a tensor filled with zeros\n",
    "z = torch.zeros(3, 3)\n",
    "print(z)"
   ]
  },
  {
   "cell_type": "code",
   "execution_count": 6,
   "id": "53a9d8e2-9ed4-43fc-bd47-14ee232a5d79",
   "metadata": {},
   "outputs": [],
   "source": [
    "#Basic tensor operations"
   ]
  },
  {
   "cell_type": "code",
   "execution_count": 8,
   "id": "74113c61-9f6e-41c3-9013-86897d02e337",
   "metadata": {},
   "outputs": [
    {
     "name": "stdout",
     "output_type": "stream",
     "text": [
      "tensor([3., 8.])\n",
      "tensor([ 2., 15.])\n",
      "tensor([[0.6423, 0.8878],\n",
      "        [0.4180, 0.8647]])\n"
     ]
    }
   ],
   "source": [
    "a = torch.tensor([2.0, 3.0])\n",
    "b = torch.tensor([1.0, 5.0])\n",
    "# Addition\n",
    "print(a + b)\n",
    "# Multiplication\n",
    "print(a * b)\n",
    "# Matrix multiplication\n",
    "A = torch.rand(2, 3)\n",
    "B = torch.rand(3, 2)\n",
    "C = torch.mm(A, B)\n",
    "print(C)"
   ]
  },
  {
   "cell_type": "code",
   "execution_count": 10,
   "id": "6b23dcb7-27c5-4122-a4e6-d7ce8dd7fdb8",
   "metadata": {},
   "outputs": [],
   "source": [
    "#building a simple neural network"
   ]
  },
  {
   "cell_type": "code",
   "execution_count": 14,
   "id": "82df98a7-450a-4e05-b894-0c2ff8ba1e62",
   "metadata": {},
   "outputs": [
    {
     "name": "stdout",
     "output_type": "stream",
     "text": [
      "SimpleNN(\n",
      "  (fc1): Linear(in_features=2, out_features=3, bias=True)\n",
      "  (fc2): Linear(in_features=3, out_features=1, bias=True)\n",
      ")\n"
     ]
    }
   ],
   "source": [
    "import torch.nn as nn\n",
    "import torch.optim as optim\n",
    "# Define a simple neural network\n",
    "class SimpleNN(nn.Module):\n",
    "    def __init__(self):\n",
    "        super(SimpleNN, self).__init__()\n",
    "        self.fc1 = nn.Linear(2, 3) # Input: 2 neurons, Output: 3 neurons\n",
    "        self.fc2 = nn.Linear(3, 1) # Input: 3 neurons, Output: 1 neuron\n",
    "    def forward(self, x):\n",
    "        x = torch.relu(self.fc1(x))\n",
    "        x = self.fc2(x)\n",
    "        return x\n",
    "# Create model\n",
    "model = SimpleNN()\n",
    "print(model)"
   ]
  },
  {
   "cell_type": "code",
   "execution_count": 16,
   "id": "c999877a-dcf3-48e8-865b-79f5ee57333d",
   "metadata": {},
   "outputs": [],
   "source": [
    "#Training,testing,predicting from a model"
   ]
  },
  {
   "cell_type": "code",
   "execution_count": 20,
   "id": "20501f1b-586f-4060-a2c7-421302ce79ef",
   "metadata": {},
   "outputs": [
    {
     "name": "stdout",
     "output_type": "stream",
     "text": [
      "Epoch 0, Loss: 0.04039505496621132\n",
      "Epoch 10, Loss: 0.038546863943338394\n",
      "Epoch 20, Loss: 0.03681694716215134\n",
      "Epoch 30, Loss: 0.03519849851727486\n",
      "Epoch 40, Loss: 0.033685099333524704\n",
      "Epoch 50, Loss: 0.03227066993713379\n",
      "Epoch 60, Loss: 0.030949408188462257\n",
      "Epoch 70, Loss: 0.029715875163674355\n",
      "Epoch 80, Loss: 0.02856486104428768\n",
      "Epoch 90, Loss: 0.027491429820656776\n",
      "Predictions:\n",
      " tensor([[2.1020],\n",
      "        [2.7203]])\n",
      "Test Loss: 0.02947421744465828\n",
      "Single Prediction: 3.3385844230651855\n"
     ]
    }
   ],
   "source": [
    "# Dummy dataset (inputs and targets)\n",
    "X = torch.tensor([[1.0, 2.0], [2.0, 3.0], [3.0, 4.0]])\n",
    "y = torch.tensor([[0.0], [1.0], [1.5]])\n",
    "\n",
    "# Loss and optimizer\n",
    "criterion = nn.MSELoss() # Mean Squared Error Loss\n",
    "optimizer = optim.SGD(model.parameters(), lr=0.01)\n",
    "# Training loop\n",
    "for epoch in range(100):\n",
    "    optimizer.zero_grad() # Zero gradients\n",
    "    outputs = model(X) # Forward pass\n",
    "\n",
    "\n",
    "    loss = criterion(outputs, y) # Compute loss\n",
    "    loss.backward() # Backward pass\n",
    "    optimizer.step() # Update weights\n",
    "    if epoch % 10 == 0:\n",
    "        print(f\"Epoch {epoch}, Loss: {loss.item()}\")\n",
    "# Test Data (unseen during training)\n",
    "X_test = torch.tensor([[4.0, 5.0], [5.0, 6.0]])\n",
    "\n",
    "# Make Predictions\n",
    "with torch.no_grad(): # No need to track gradients\n",
    "    predictions = model(X_test)\n",
    "print(\"Predictions:\\n\", predictions)\n",
    "\n",
    "\n",
    "y_test = torch.tensor([[2.0], [2.5]]) # Expected outputs\n",
    "# Compute Test Loss\n",
    "test_loss = criterion(predictions, y_test)\n",
    "print(f\"Test Loss: {test_loss.item()}\")\n",
    "\n",
    "\n",
    "new_input = torch.tensor([[6.0, 7.0]]) # Example input\n",
    "with torch.no_grad():\n",
    "    new_prediction = model(new_input)\n",
    "print(\"Single Prediction:\", new_prediction.item())\n"
   ]
  },
  {
   "cell_type": "code",
   "execution_count": null,
   "id": "ce717d83-1b64-4f77-8eda-c62266104735",
   "metadata": {},
   "outputs": [],
   "source": []
  }
 ],
 "metadata": {
  "kernelspec": {
   "display_name": "Python [conda env:base] *",
   "language": "python",
   "name": "conda-base-py"
  },
  "language_info": {
   "codemirror_mode": {
    "name": "ipython",
    "version": 3
   },
   "file_extension": ".py",
   "mimetype": "text/x-python",
   "name": "python",
   "nbconvert_exporter": "python",
   "pygments_lexer": "ipython3",
   "version": "3.12.7"
  }
 },
 "nbformat": 4,
 "nbformat_minor": 5
}
