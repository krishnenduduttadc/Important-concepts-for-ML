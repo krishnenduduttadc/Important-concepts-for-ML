{
 "cells": [
  {
   "cell_type": "code",
   "execution_count": 1,
   "id": "2aa9d2b5-2e19-4d2a-b573-f0fb4e007662",
   "metadata": {},
   "outputs": [
    {
     "name": "stdout",
     "output_type": "stream",
     "text": [
      "Requirement already satisfied: Pillow in c:\\users\\krishnendu\\anaconda3\\lib\\site-packages (11.1.0)\n"
     ]
    }
   ],
   "source": [
    "!pip install Pillow\n"
   ]
  },
  {
   "cell_type": "code",
   "execution_count": 5,
   "id": "3cd1a0ea-b5dd-484a-a122-d270a8f1ccb5",
   "metadata": {},
   "outputs": [],
   "source": [
    "from PIL import Image\n",
    "\n",
    "# Open an image file\n",
    "img = Image.open(\"example.jpg\")\n",
    "\n",
    "# Show the image\n",
    "img.show()\n"
   ]
  },
  {
   "cell_type": "code",
   "execution_count": 7,
   "id": "4c209ae3-5fc6-466b-96af-47b1024752c9",
   "metadata": {},
   "outputs": [],
   "source": [
    "# Resize the image to 200x200 pixels\n",
    "resized_img = img.resize((200, 200))\n",
    "resized_img.show()\n"
   ]
  },
  {
   "cell_type": "code",
   "execution_count": 9,
   "id": "9d3e59b5-a1af-4a8f-bb28-01ee95115836",
   "metadata": {},
   "outputs": [],
   "source": [
    "# Convert to grayscale\n",
    "gray_img = img.convert(\"L\")\n",
    "gray_img.show()\n"
   ]
  },
  {
   "cell_type": "code",
   "execution_count": 11,
   "id": "cce7d65b-bef2-466a-99d7-a561ff8e1ccf",
   "metadata": {},
   "outputs": [],
   "source": [
    "# Rotate image by 45 degrees\n",
    "rotated_img = img.rotate(45)\n",
    "rotated_img.show()\n"
   ]
  },
  {
   "cell_type": "code",
   "execution_count": 13,
   "id": "fdf7a503-b34c-4a7d-a6f3-8d00527a92b9",
   "metadata": {},
   "outputs": [],
   "source": [
    "# Crop box: (left, upper, right, lower)\n",
    "cropped_img = img.crop((50, 50, 200, 200))\n",
    "cropped_img.show()\n"
   ]
  },
  {
   "cell_type": "code",
   "execution_count": 15,
   "id": "166a8787-d4ed-4dab-832b-15e63e1226ab",
   "metadata": {},
   "outputs": [],
   "source": [
    "# Save to a new file\n",
    "gray_img.save(\"gray_example.jpg\")\n"
   ]
  },
  {
   "cell_type": "code",
   "execution_count": null,
   "id": "15b5a59e-b503-4306-bbdb-027419b9218c",
   "metadata": {},
   "outputs": [],
   "source": []
  }
 ],
 "metadata": {
  "kernelspec": {
   "display_name": "Python [conda env:base] *",
   "language": "python",
   "name": "conda-base-py"
  },
  "language_info": {
   "codemirror_mode": {
    "name": "ipython",
    "version": 3
   },
   "file_extension": ".py",
   "mimetype": "text/x-python",
   "name": "python",
   "nbconvert_exporter": "python",
   "pygments_lexer": "ipython3",
   "version": "3.12.7"
  }
 },
 "nbformat": 4,
 "nbformat_minor": 5
}
