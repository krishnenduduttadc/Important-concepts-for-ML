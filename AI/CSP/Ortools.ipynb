{
 "cells": [
  {
   "cell_type": "code",
   "execution_count": 9,
   "id": "52780042-3780-4977-b810-738e2ff3114e",
   "metadata": {},
   "outputs": [
    {
     "name": "stdout",
     "output_type": "stream",
     "text": [
      "Requirement already satisfied: ortools in c:\\users\\krishnendu\\anaconda3\\lib\\site-packages (9.12.4544)\n",
      "Requirement already satisfied: absl-py>=2.0.0 in c:\\users\\krishnendu\\anaconda3\\lib\\site-packages (from ortools) (2.2.1)\n",
      "Requirement already satisfied: numpy>=1.13.3 in c:\\users\\krishnendu\\anaconda3\\lib\\site-packages (from ortools) (1.26.4)\n",
      "Requirement already satisfied: pandas>=2.0.0 in c:\\users\\krishnendu\\anaconda3\\lib\\site-packages (from ortools) (2.2.3)\n",
      "Requirement already satisfied: protobuf<5.30,>=5.29.3 in c:\\users\\krishnendu\\anaconda3\\lib\\site-packages (from ortools) (5.29.3)\n",
      "Requirement already satisfied: immutabledict>=3.0.0 in c:\\users\\krishnendu\\anaconda3\\lib\\site-packages (from ortools) (4.2.1)\n",
      "Requirement already satisfied: python-dateutil>=2.8.2 in c:\\users\\krishnendu\\anaconda3\\lib\\site-packages (from pandas>=2.0.0->ortools) (2.9.0.post0)\n",
      "Requirement already satisfied: pytz>=2020.1 in c:\\users\\krishnendu\\anaconda3\\lib\\site-packages (from pandas>=2.0.0->ortools) (2024.1)\n",
      "Requirement already satisfied: tzdata>=2022.7 in c:\\users\\krishnendu\\anaconda3\\lib\\site-packages (from pandas>=2.0.0->ortools) (2023.3)\n",
      "Requirement already satisfied: six>=1.5 in c:\\users\\krishnendu\\anaconda3\\lib\\site-packages (from python-dateutil>=2.8.2->pandas>=2.0.0->ortools) (1.17.0)\n",
      "Requirement already satisfied: protobuf in c:\\users\\krishnendu\\anaconda3\\lib\\site-packages (5.29.3)\n",
      "Collecting protobuf\n",
      "  Downloading protobuf-6.30.2-cp310-abi3-win_amd64.whl.metadata (593 bytes)\n",
      "Downloading protobuf-6.30.2-cp310-abi3-win_amd64.whl (431 kB)\n",
      "Installing collected packages: protobuf\n",
      "  Attempting uninstall: protobuf\n",
      "    Found existing installation: protobuf 5.29.3\n",
      "    Uninstalling protobuf-5.29.3:\n",
      "      Successfully uninstalled protobuf-5.29.3\n",
      "Successfully installed protobuf-6.30.2\n"
     ]
    },
    {
     "name": "stderr",
     "output_type": "stream",
     "text": [
      "ERROR: pip's dependency resolver does not currently take into account all the packages that are installed. This behaviour is the source of the following dependency conflicts.\n",
      "ortools 9.12.4544 requires protobuf<5.30,>=5.29.3, but you have protobuf 6.30.2 which is incompatible.\n",
      "streamlit 1.44.1 requires protobuf<6,>=3.20, but you have protobuf 6.30.2 which is incompatible.\n",
      "tensorflow 2.19.0 requires protobuf!=4.21.0,!=4.21.1,!=4.21.2,!=4.21.3,!=4.21.4,!=4.21.5,<6.0.0dev,>=3.20.3, but you have protobuf 6.30.2 which is incompatible.\n"
     ]
    }
   ],
   "source": [
    "!pip install ortools\n",
    "!pip install --upgrade protobuf\n"
   ]
  },
  {
   "cell_type": "code",
   "execution_count": 11,
   "id": "84caa0b2-07a5-441e-ab02-9fd2b01987b9",
   "metadata": {},
   "outputs": [
    {
     "name": "stdout",
     "output_type": "stream",
     "text": [
      "load C:\\Users\\KRISHNENDU\\anaconda3\\Lib\\site-packages\\ortools\\.libs\\zlib1.dll...\n",
      "load C:\\Users\\KRISHNENDU\\anaconda3\\Lib\\site-packages\\ortools\\.libs\\abseil_dll.dll...\n",
      "load C:\\Users\\KRISHNENDU\\anaconda3\\Lib\\site-packages\\ortools\\.libs\\utf8_validity.dll...\n",
      "load C:\\Users\\KRISHNENDU\\anaconda3\\Lib\\site-packages\\ortools\\.libs\\re2.dll...\n"
     ]
    },
    {
     "ename": "OSError",
     "evalue": "[WinError 127] The specified procedure could not be found",
     "output_type": "error",
     "traceback": [
      "\u001b[1;31m---------------------------------------------------------------------------\u001b[0m",
      "\u001b[1;31mOSError\u001b[0m                                   Traceback (most recent call last)",
      "Cell \u001b[1;32mIn[11], line 2\u001b[0m\n\u001b[0;32m      1\u001b[0m \u001b[38;5;66;03m# Import necessary libraries from Google OR-Tools\u001b[39;00m\n\u001b[1;32m----> 2\u001b[0m \u001b[38;5;28;01mfrom\u001b[39;00m \u001b[38;5;21;01mortools\u001b[39;00m\u001b[38;5;21;01m.\u001b[39;00m\u001b[38;5;21;01msat\u001b[39;00m\u001b[38;5;21;01m.\u001b[39;00m\u001b[38;5;21;01mpython\u001b[39;00m \u001b[38;5;28;01mimport\u001b[39;00m cp_model\n\u001b[0;32m      4\u001b[0m \u001b[38;5;66;03m# Define the function to solve the n-Queens problem\u001b[39;00m\n\u001b[0;32m      5\u001b[0m \u001b[38;5;28;01mdef\u001b[39;00m \u001b[38;5;21msolve_n_queens\u001b[39m(n):\n\u001b[0;32m      6\u001b[0m     \u001b[38;5;66;03m# Create a CP-SAT model\u001b[39;00m\n",
      "File \u001b[1;32m~\\anaconda3\\Lib\\site-packages\\ortools\\__init__.py:65\u001b[0m\n\u001b[0;32m     61\u001b[0m                     \u001b[38;5;28mprint\u001b[39m(\u001b[38;5;124mf\u001b[39m\u001b[38;5;124m\"\u001b[39m\u001b[38;5;124mload \u001b[39m\u001b[38;5;132;01m{\u001b[39;00mdll_path\u001b[38;5;132;01m}\u001b[39;00m\u001b[38;5;124m...\u001b[39m\u001b[38;5;124m\"\u001b[39m)\n\u001b[0;32m     62\u001b[0m                     WinDLL(dll_path)\n\u001b[1;32m---> 65\u001b[0m _load_ortools_libs()\n",
      "File \u001b[1;32m~\\anaconda3\\Lib\\site-packages\\ortools\\__init__.py:62\u001b[0m, in \u001b[0;36m_load_ortools_libs\u001b[1;34m()\u001b[0m\n\u001b[0;32m     60\u001b[0m \u001b[38;5;28;01mif\u001b[39;00m os\u001b[38;5;241m.\u001b[39mpath\u001b[38;5;241m.\u001b[39mexists(dll_path):\n\u001b[0;32m     61\u001b[0m     \u001b[38;5;28mprint\u001b[39m(\u001b[38;5;124mf\u001b[39m\u001b[38;5;124m\"\u001b[39m\u001b[38;5;124mload \u001b[39m\u001b[38;5;132;01m{\u001b[39;00mdll_path\u001b[38;5;132;01m}\u001b[39;00m\u001b[38;5;124m...\u001b[39m\u001b[38;5;124m\"\u001b[39m)\n\u001b[1;32m---> 62\u001b[0m     WinDLL(dll_path)\n",
      "File \u001b[1;32m~\\anaconda3\\Lib\\ctypes\\__init__.py:379\u001b[0m, in \u001b[0;36mCDLL.__init__\u001b[1;34m(self, name, mode, handle, use_errno, use_last_error, winmode)\u001b[0m\n\u001b[0;32m    376\u001b[0m \u001b[38;5;28mself\u001b[39m\u001b[38;5;241m.\u001b[39m_FuncPtr \u001b[38;5;241m=\u001b[39m _FuncPtr\n\u001b[0;32m    378\u001b[0m \u001b[38;5;28;01mif\u001b[39;00m handle \u001b[38;5;129;01mis\u001b[39;00m \u001b[38;5;28;01mNone\u001b[39;00m:\n\u001b[1;32m--> 379\u001b[0m     \u001b[38;5;28mself\u001b[39m\u001b[38;5;241m.\u001b[39m_handle \u001b[38;5;241m=\u001b[39m _dlopen(\u001b[38;5;28mself\u001b[39m\u001b[38;5;241m.\u001b[39m_name, mode)\n\u001b[0;32m    380\u001b[0m \u001b[38;5;28;01melse\u001b[39;00m:\n\u001b[0;32m    381\u001b[0m     \u001b[38;5;28mself\u001b[39m\u001b[38;5;241m.\u001b[39m_handle \u001b[38;5;241m=\u001b[39m handle\n",
      "\u001b[1;31mOSError\u001b[0m: [WinError 127] The specified procedure could not be found"
     ]
    }
   ],
   "source": [
    "# Import necessary libraries from Google OR-Tools\n",
    "from ortools.sat.python import cp_model\n",
    "\n",
    "# Define the function to solve the n-Queens problem\n",
    "def solve_n_queens(n):\n",
    "    # Create a CP-SAT model\n",
    "    model = cp_model.CpModel()\n",
    "\n",
    "    # Define the variables: one variable for each row, representing the column of the queen in that row\n",
    "    queens = [model.NewIntVar(0, n - 1, f'queen_{i}') for i in range(n)]\n",
    "\n",
    "    # Add constraints: No two queens can share the same column or diagonal\n",
    "    for i in range(n):\n",
    "        for j in range(i + 1, n):\n",
    "            # Ensure no two queens are in the same column\n",
    "            model.Add(queens[i] != queens[j])\n",
    "            # Ensure no two queens are on the same diagonal (absolute difference in row index should not be equal to absolute difference in column index)\n",
    "            model.AddAbsEquality(queens[i] - queens[j], j - i)\n",
    "\n",
    "    # Create the solver\n",
    "    solver = cp_model.CpSolver()\n",
    "\n",
    "    # Solve the model\n",
    "    status = solver.Solve(model)\n",
    "\n",
    "    # Check if a solution was found\n",
    "    if status == cp_model.OPTIMAL or status == cp_model.FEASIBLE:\n",
    "        print(f'Solution for {n}-Queens problem:')\n",
    "        # Print the solution in a readable format\n",
    "        for i in range(n):\n",
    "            print(f'Queen {i + 1} is placed at row {i + 1}, column {solver.Value(queens[i]) + 1}')\n",
    "    else:\n",
    "        print(f'No solution found for the {n}-Queens problem')\n",
    "\n",
    "# Example: Solve the 8-Queens problem\n",
    "solve_n_queens(8)\n"
   ]
  },
  {
   "cell_type": "code",
   "execution_count": null,
   "id": "cf2480f0-555f-44b3-8276-02d18fbcaa23",
   "metadata": {},
   "outputs": [],
   "source": []
  }
 ],
 "metadata": {
  "kernelspec": {
   "display_name": "Python [conda env:base] *",
   "language": "python",
   "name": "conda-base-py"
  },
  "language_info": {
   "codemirror_mode": {
    "name": "ipython",
    "version": 3
   },
   "file_extension": ".py",
   "mimetype": "text/x-python",
   "name": "python",
   "nbconvert_exporter": "python",
   "pygments_lexer": "ipython3",
   "version": "3.12.7"
  }
 },
 "nbformat": 4,
 "nbformat_minor": 5
}
