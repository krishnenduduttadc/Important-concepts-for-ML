{
 "cells": [
  {
   "cell_type": "code",
   "execution_count": 11,
   "id": "1a98b4f5-8098-4301-bf3e-db49e50059d6",
   "metadata": {},
   "outputs": [
    {
     "data": {
      "image/png": "[encoded data removed]",
      "text/plain": [
       "<Figure size 800x400 with 1 Axes>"
      ]
     },
     "metadata": {},
     "output_type": "display_data"
    }
   ],
   "source": [
    "import matplotlib.pyplot as plt\n",
    "import numpy as np\n",
    "import time\n",
    "from IPython.display import clear_output\n",
    "\n",
    "def draw_hanoi(pegs, num_disks, moving_disk=None, pause=0.8):\n",
    "    fig, ax = plt.subplots(figsize=(8, 4))\n",
    "    peg_positions = [1, 3, 5]\n",
    "    disk_colors = plt.cm.viridis(np.linspace(0.3, 0.9, num_disks))\n",
    "\n",
    "    for i, peg in enumerate(pegs):\n",
    "        x = peg_positions[i]\n",
    "        for j, disk in enumerate(reversed(peg)):\n",
    "            y = j\n",
    "            width = disk * 0.4\n",
    "            color = 'red' if disk == moving_disk else disk_colors[disk - 1]\n",
    "            ax.barh(y, width, left=x - width / 2, height=0.8, color=color)\n",
    "\n",
    "    ax.set_xlim(0, 6)\n",
    "    ax.set_ylim(-1, num_disks + 1)\n",
    "    ax.set_xticks(peg_positions)\n",
    "    ax.set_xticklabels(['A', 'B', 'C'])\n",
    "    ax.set_yticks([])\n",
    "    ax.set_title(f\"Tower of Hanoi - Moving Disk {moving_disk if moving_disk else ''}\")\n",
    "    ax.grid(True, axis='x')\n",
    "    plt.show()\n",
    "    time.sleep(pause)\n",
    "    clear_output(wait=True)\n",
    "\n",
    "def hanoi_with_steps(n, source, target, auxiliary, pegs, moves):\n",
    "    if n == 1:\n",
    "        disk = pegs[source].pop()\n",
    "        pegs[target].append(disk)\n",
    "        moves.append(([[*peg] for peg in pegs], disk))\n",
    "        return\n",
    "    hanoi_with_steps(n-1, source, auxiliary, target, pegs, moves)\n",
    "    hanoi_with_steps(1, source, target, auxiliary, pegs, moves)\n",
    "    hanoi_with_steps(n-1, auxiliary, target, source, pegs, moves)\n",
    "\n",
    "def solve_and_visualize_hanoi(num_disks=3):\n",
    "    pegs = [list(reversed(range(1, num_disks + 1))), [], []]\n",
    "    moves = [([list(p) for p in pegs], None)]\n",
    "    hanoi_with_steps(num_disks, 0, 2, 1, pegs, moves)\n",
    "    for state, moving_disk in moves:\n",
    "        draw_hanoi(state, num_disks, moving_disk)\n",
    "\n",
    "# Run for 4 disks\n",
    "solve_and_visualize_hanoi(num_disks=4)\n"
   ]
  },
  {
   "cell_type": "code",
   "execution_count": null,
   "id": "c4dbe589-d533-4d47-8d54-99d78b38078a",
   "metadata": {},
   "outputs": [],
   "source": []
  }
 ],
 "metadata": {
  "kernelspec": {
   "display_name": "Python [conda env:base] *",
   "language": "python",
   "name": "conda-base-py"
  },
  "language_info": {
   "codemirror_mode": {
    "name": "ipython",
    "version": 3
   },
   "file_extension": ".py",
   "mimetype": "text/x-python",
   "name": "python",
   "nbconvert_exporter": "python",
   "pygments_lexer": "ipython3",
   "version": "3.12.7"
  }
 },
 "nbformat": 4,
 "nbformat_minor": 5
}
