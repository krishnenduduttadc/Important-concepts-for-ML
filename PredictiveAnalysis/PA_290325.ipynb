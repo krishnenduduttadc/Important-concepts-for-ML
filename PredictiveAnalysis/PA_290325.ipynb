{
  "nbformat": 4,
  "nbformat_minor": 0,
  "metadata": {
    "colab": {
      "provenance": []
    },
    "kernelspec": {
      "name": "python3",
      "display_name": "Python 3"
    },
    "language_info": {
      "name": "python"
    }
  },
  "cells": [
    {
      "cell_type": "markdown",
      "source": [
        "# **27 March 2025**"
      ],
      "metadata": {
        "id": "Rbo3mzH7QGqa"
      }
    },
    {
      "cell_type": "markdown",
      "source": [
        "Arithmatic operations"
      ],
      "metadata": {
        "id": "y3M0kY0gCPNB"
      }
    },
    {
      "cell_type": "code",
      "execution_count": null,
      "metadata": {
        "colab": {
          "base_uri": "https://localhost:8080/"
        },
        "id": "y2mSgacxB933",
        "outputId": "8586eb99-e896-4c65-b0f9-0f4967cd46eb"
      },
      "outputs": [
        {
          "output_type": "stream",
          "name": "stdout",
          "text": [
            "3.3333333333333335\n"
          ]
        }
      ],
      "source": [
        "a = 10\n",
        "b = 3\n",
        "c = a/b\n",
        "print(c)"
      ]
    },
    {
      "cell_type": "code",
      "source": [
        "a = 10\n",
        "b = 3\n",
        "c = int(a/b)\n",
        "print(c)"
      ],
      "metadata": {
        "colab": {
          "base_uri": "https://localhost:8080/"
        },
        "id": "FZXLxQr3CNj0",
        "outputId": "06e47894-7790-4a6e-9507-100333daffee"
      },
      "execution_count": null,
      "outputs": [
        {
          "output_type": "stream",
          "name": "stdout",
          "text": [
            "3\n"
          ]
        }
      ]
    },
    {
      "cell_type": "code",
      "source": [
        "a = 10\n",
        "b = 3\n",
        "c = a//b    # floor division\n",
        "print(c)"
      ],
      "metadata": {
        "colab": {
          "base_uri": "https://localhost:8080/"
        },
        "id": "nxlKY06hCUlq",
        "outputId": "61ae6d0e-cb9e-4ba8-b2c2-094be0b1cd36"
      },
      "execution_count": null,
      "outputs": [
        {
          "output_type": "stream",
          "name": "stdout",
          "text": [
            "3\n"
          ]
        }
      ]
    },
    {
      "cell_type": "code",
      "source": [
        "a = 10\n",
        "b = 3\n",
        "c = a % b    # modulus\n",
        "print(c)"
      ],
      "metadata": {
        "colab": {
          "base_uri": "https://localhost:8080/"
        },
        "id": "afrQJZH2CYV0",
        "outputId": "f6005324-0aa9-41fe-bc72-b488c0b3e6fd"
      },
      "execution_count": null,
      "outputs": [
        {
          "output_type": "stream",
          "name": "stdout",
          "text": [
            "1\n"
          ]
        }
      ]
    },
    {
      "cell_type": "code",
      "source": [
        "a = 10\n",
        "b = 3\n",
        "c = a * b\n",
        "print(c)"
      ],
      "metadata": {
        "colab": {
          "base_uri": "https://localhost:8080/"
        },
        "id": "ezxuqZq5Cltu",
        "outputId": "9bd7e63a-d79f-4753-e309-f5c5adde1c9e"
      },
      "execution_count": null,
      "outputs": [
        {
          "output_type": "stream",
          "name": "stdout",
          "text": [
            "30\n"
          ]
        }
      ]
    },
    {
      "cell_type": "code",
      "source": [
        "a = 10\n",
        "b = 3\n",
        "c = a ** b    # exponential\n",
        "print(c)"
      ],
      "metadata": {
        "colab": {
          "base_uri": "https://localhost:8080/"
        },
        "id": "0SCRoc0LCpeu",
        "outputId": "0c4fe7ba-8c7f-45cc-a289-dbb59cdcc6f5"
      },
      "execution_count": null,
      "outputs": [
        {
          "output_type": "stream",
          "name": "stdout",
          "text": [
            "1000\n"
          ]
        }
      ]
    },
    {
      "cell_type": "code",
      "source": [
        "a = 10\n",
        "b = 3\n",
        "c = a + b\n",
        "print(c)"
      ],
      "metadata": {
        "colab": {
          "base_uri": "https://localhost:8080/"
        },
        "id": "VCl8gg8aCr4V",
        "outputId": "9678a18d-3fde-42be-9702-591d18f9e8b1"
      },
      "execution_count": null,
      "outputs": [
        {
          "output_type": "stream",
          "name": "stdout",
          "text": [
            "13\n"
          ]
        }
      ]
    },
    {
      "cell_type": "code",
      "source": [
        "a = 10\n",
        "b = 3\n",
        "a = a + b  # first calculate (a+b), then updates the value of a\n",
        "print(a)"
      ],
      "metadata": {
        "colab": {
          "base_uri": "https://localhost:8080/"
        },
        "id": "8p_9rLMJCyl_",
        "outputId": "dbdb40d3-f37c-4f29-945b-2894dccd52b2"
      },
      "execution_count": null,
      "outputs": [
        {
          "output_type": "stream",
          "name": "stdout",
          "text": [
            "13\n"
          ]
        }
      ]
    },
    {
      "cell_type": "code",
      "source": [
        "a = 10\n",
        "a = a + 2\n",
        "print(a)"
      ],
      "metadata": {
        "colab": {
          "base_uri": "https://localhost:8080/"
        },
        "id": "qYJV8IznC2A9",
        "outputId": "ecc77228-0c2a-42bc-bb1e-cb635b5a31bc"
      },
      "execution_count": null,
      "outputs": [
        {
          "output_type": "stream",
          "name": "stdout",
          "text": [
            "12\n"
          ]
        }
      ]
    },
    {
      "cell_type": "code",
      "source": [
        "a = 10\n",
        "a += 2           # a = a + 2\n",
        "print(a)"
      ],
      "metadata": {
        "colab": {
          "base_uri": "https://localhost:8080/"
        },
        "id": "C5Hgi0gLC_lF",
        "outputId": "ca197e4e-492f-46a9-ffbb-1e3863b5d0ca"
      },
      "execution_count": null,
      "outputs": [
        {
          "output_type": "stream",
          "name": "stdout",
          "text": [
            "12\n"
          ]
        }
      ]
    },
    {
      "cell_type": "code",
      "source": [
        "a = 10\n",
        "b = 3\n",
        "a += b    # a = a + b\n",
        "print(a)"
      ],
      "metadata": {
        "colab": {
          "base_uri": "https://localhost:8080/"
        },
        "id": "_W1ivYBfDElP",
        "outputId": "25a61956-06c9-4e64-969a-dcc4835ee26e"
      },
      "execution_count": null,
      "outputs": [
        {
          "output_type": "stream",
          "name": "stdout",
          "text": [
            "13\n"
          ]
        }
      ]
    },
    {
      "cell_type": "code",
      "source": [
        "a = 10\n",
        "a *= 2           # a = a * 2\n",
        "print(a)"
      ],
      "metadata": {
        "colab": {
          "base_uri": "https://localhost:8080/"
        },
        "id": "yEkmcaduDMIW",
        "outputId": "1c1afd79-72fc-4847-c1b7-8bcffef57fb1"
      },
      "execution_count": null,
      "outputs": [
        {
          "output_type": "stream",
          "name": "stdout",
          "text": [
            "20\n"
          ]
        }
      ]
    },
    {
      "cell_type": "code",
      "source": [
        "print(x:=3)"
      ],
      "metadata": {
        "colab": {
          "base_uri": "https://localhost:8080/"
        },
        "id": "bukL1FPJDTSm",
        "outputId": "ea80cc28-04e7-48ac-e95d-6ca7c2d51c36"
      },
      "execution_count": null,
      "outputs": [
        {
          "output_type": "stream",
          "name": "stdout",
          "text": [
            "3\n"
          ]
        }
      ]
    },
    {
      "cell_type": "code",
      "source": [
        "x"
      ],
      "metadata": {
        "colab": {
          "base_uri": "https://localhost:8080/"
        },
        "id": "RuX_HsJlDYKK",
        "outputId": "e496791e-29cd-4d1d-ed4d-53427d9a1bad"
      },
      "execution_count": null,
      "outputs": [
        {
          "output_type": "execute_result",
          "data": {
            "text/plain": [
              "3"
            ]
          },
          "metadata": {},
          "execution_count": 15
        }
      ]
    },
    {
      "cell_type": "code",
      "source": [
        "print(x=3)"
      ],
      "metadata": {
        "colab": {
          "base_uri": "https://localhost:8080/",
          "height": 147
        },
        "id": "WWC3D96LDZSK",
        "outputId": "d4a8d378-d8f4-4a38-d276-066427307b66"
      },
      "execution_count": null,
      "outputs": [
        {
          "output_type": "error",
          "ename": "TypeError",
          "evalue": "'x' is an invalid keyword argument for print()",
          "traceback": [
            "\u001b[0;31m---------------------------------------------------------------------------\u001b[0m",
            "\u001b[0;31mTypeError\u001b[0m                                 Traceback (most recent call last)",
            "\u001b[0;32m<ipython-input-16-338d38541b8e>\u001b[0m in \u001b[0;36m<cell line: 0>\u001b[0;34m()\u001b[0m\n\u001b[0;32m----> 1\u001b[0;31m \u001b[0mprint\u001b[0m\u001b[0;34m(\u001b[0m\u001b[0mx\u001b[0m\u001b[0;34m=\u001b[0m\u001b[0;36m3\u001b[0m\u001b[0;34m)\u001b[0m\u001b[0;34m\u001b[0m\u001b[0;34m\u001b[0m\u001b[0m\n\u001b[0m",
            "\u001b[0;31mTypeError\u001b[0m: 'x' is an invalid keyword argument for print()"
          ]
        }
      ]
    },
    {
      "cell_type": "code",
      "source": [
        "# print(x:=3)\n",
        "\n",
        "x = 3\n",
        "print(x)"
      ],
      "metadata": {
        "colab": {
          "base_uri": "https://localhost:8080/"
        },
        "id": "Vj1-nnmjDfMj",
        "outputId": "463b633c-23c9-433f-e1c2-5ca221e02b6a"
      },
      "execution_count": null,
      "outputs": [
        {
          "output_type": "stream",
          "name": "stdout",
          "text": [
            "3\n"
          ]
        }
      ]
    },
    {
      "cell_type": "markdown",
      "source": [
        "# **if-elif-else**"
      ],
      "metadata": {
        "id": "Q51XejrNDowB"
      }
    },
    {
      "cell_type": "code",
      "source": [
        "a = 1\n",
        "b = 2\n",
        "if b>a:\n",
        "  print('b is greater than a')  # be careful about indent"
      ],
      "metadata": {
        "colab": {
          "base_uri": "https://localhost:8080/"
        },
        "id": "K2TIjJxtDlXf",
        "outputId": "21ea6c31-b668-4ba2-d889-209732f5b2dc"
      },
      "execution_count": null,
      "outputs": [
        {
          "output_type": "stream",
          "name": "stdout",
          "text": [
            "b is greater than a\n"
          ]
        }
      ]
    },
    {
      "cell_type": "code",
      "source": [
        "a = 10\n",
        "b = 2\n",
        "if b>a:\n",
        "  print('b is greater than a')\n",
        "else:\n",
        "  print('a is greater than b')"
      ],
      "metadata": {
        "colab": {
          "base_uri": "https://localhost:8080/"
        },
        "id": "RPyZnkgfDyL1",
        "outputId": "b3e732d8-2042-4f76-8997-813c36235c11"
      },
      "execution_count": null,
      "outputs": [
        {
          "output_type": "stream",
          "name": "stdout",
          "text": [
            "a is greater than b\n"
          ]
        }
      ]
    },
    {
      "cell_type": "code",
      "source": [
        "a = 10\n",
        "b = 10\n",
        "if b>a:\n",
        "  print('b is greater than a')\n",
        "elif a==b:\n",
        "  print('a and b are equal')\n",
        "else:\n",
        "  print('a is greater than b')"
      ],
      "metadata": {
        "colab": {
          "base_uri": "https://localhost:8080/"
        },
        "id": "h2CTlJtqEAuG",
        "outputId": "3cc3b5b3-6a7c-426d-a7d2-a127bc5064a8"
      },
      "execution_count": null,
      "outputs": [
        {
          "output_type": "stream",
          "name": "stdout",
          "text": [
            "a and b are equal\n"
          ]
        }
      ]
    },
    {
      "cell_type": "code",
      "source": [
        "a = 200\n",
        "b = 2000\n",
        "if b>a: print('b is greater than a')\n",
        "elif a==b: print('a and b are equal')\n",
        "else: print('a is greater than b')"
      ],
      "metadata": {
        "colab": {
          "base_uri": "https://localhost:8080/"
        },
        "id": "RT8O4YBeEEG0",
        "outputId": "88bdfac8-1ffd-44a8-c54e-ed24879861ff"
      },
      "execution_count": null,
      "outputs": [
        {
          "output_type": "stream",
          "name": "stdout",
          "text": [
            "b is greater than a\n"
          ]
        }
      ]
    },
    {
      "cell_type": "markdown",
      "source": [
        " *find maximum among 3 numbers*"
      ],
      "metadata": {
        "id": "D5WNewQfEZBw"
      }
    },
    {
      "cell_type": "code",
      "source": [
        "a = 10\n",
        "b = 20\n",
        "c = 3\n",
        "\n",
        "if (a>b) and (a>c): print('a is max')\n",
        "if (b>a) and (b>c): print('b is max')\n",
        "if (c>a) and (c>b): print('c is max')"
      ],
      "metadata": {
        "colab": {
          "base_uri": "https://localhost:8080/"
        },
        "id": "TeN2-dClETHg",
        "outputId": "37e49279-7e22-4092-f120-f5fa3134dcc6"
      },
      "execution_count": null,
      "outputs": [
        {
          "output_type": "stream",
          "name": "stdout",
          "text": [
            "b is max\n"
          ]
        }
      ]
    },
    {
      "cell_type": "markdown",
      "source": [
        "*nested if-else*"
      ],
      "metadata": {
        "id": "itDclnCHE3PS"
      }
    },
    {
      "cell_type": "code",
      "source": [],
      "metadata": {
        "colab": {
          "base_uri": "https://localhost:8080/"
        },
        "id": "BUbuLREuEz-_",
        "outputId": "2f30eea2-7e8d-4751-dc7c-84b8f5db674b"
      },
      "execution_count": null,
      "outputs": [
        {
          "output_type": "stream",
          "name": "stdout",
          "text": [
            "c is max\n"
          ]
        }
      ]
    },
    {
      "cell_type": "code",
      "source": [
        "a = 1\n",
        "b = 2\n",
        "if not a>b: print('b is greater than a')"
      ],
      "metadata": {
        "colab": {
          "base_uri": "https://localhost:8080/"
        },
        "id": "z70BHl-eF7Nq",
        "outputId": "94235856-8b2e-41b2-aabb-5d6728293674"
      },
      "execution_count": null,
      "outputs": [
        {
          "output_type": "stream",
          "name": "stdout",
          "text": [
            "b is greater than a\n"
          ]
        }
      ]
    },
    {
      "cell_type": "code",
      "source": [
        "a = 1\n",
        "b = 2\n",
        "if a!=b: print('b is not equal to a')"
      ],
      "metadata": {
        "colab": {
          "base_uri": "https://localhost:8080/"
        },
        "id": "ZGycRcHXG78Y",
        "outputId": "d8315b3c-cb43-4c77-e596-8bf9cbadef16"
      },
      "execution_count": null,
      "outputs": [
        {
          "output_type": "stream",
          "name": "stdout",
          "text": [
            "b is not equal to a\n"
          ]
        }
      ]
    },
    {
      "cell_type": "markdown",
      "source": [
        "Home work: Calculate FD maturity amount.\n",
        "Take required input"
      ],
      "metadata": {
        "id": "wCDEWAYuHECw"
      }
    },
    {
      "cell_type": "markdown",
      "source": [
        "# **LOOP**"
      ],
      "metadata": {
        "id": "EC6fecgSHZ8J"
      }
    },
    {
      "cell_type": "code",
      "source": [
        "i = 1        # initialization\n",
        "while i<5:   # if this condition is true, then ony you enter in the loop\n",
        "  print(i)\n",
        "  i = i+1"
      ],
      "metadata": {
        "colab": {
          "base_uri": "https://localhost:8080/"
        },
        "id": "6AImRNDtHC-O",
        "outputId": "222c3bae-17d8-4be2-918a-e11c5109b807"
      },
      "execution_count": null,
      "outputs": [
        {
          "output_type": "stream",
          "name": "stdout",
          "text": [
            "1\n",
            "2\n",
            "3\n",
            "4\n"
          ]
        }
      ]
    },
    {
      "cell_type": "code",
      "source": [
        "i = 1\n",
        "while i<5:\n",
        "  print(i) # infinite loop\n",
        "i = i+1  # this line is not insde the loop"
      ],
      "metadata": {
        "id": "zu8Vah-hHg1L"
      },
      "execution_count": null,
      "outputs": []
    },
    {
      "cell_type": "code",
      "source": [
        "i = 1\n",
        "while i<5:\n",
        "  print(i)\n",
        "  i = i+1\n",
        "  print('hi')"
      ],
      "metadata": {
        "colab": {
          "base_uri": "https://localhost:8080/"
        },
        "id": "dfkhpmD3IVyZ",
        "outputId": "936d624b-cbeb-48a9-a81a-5146a71b5dff"
      },
      "execution_count": null,
      "outputs": [
        {
          "output_type": "stream",
          "name": "stdout",
          "text": [
            "1\n",
            "hi\n",
            "2\n",
            "hi\n",
            "3\n",
            "hi\n",
            "4\n",
            "hi\n"
          ]
        }
      ]
    },
    {
      "cell_type": "code",
      "source": [
        "i = 1\n",
        "while i<5:\n",
        "  print(i)\n",
        "  i = i+1\n",
        "print('hi')  # not in the loop"
      ],
      "metadata": {
        "colab": {
          "base_uri": "https://localhost:8080/"
        },
        "id": "GKMZNDwcIkRF",
        "outputId": "06769ea1-391b-4e29-f2e0-ecff6e1bca46"
      },
      "execution_count": null,
      "outputs": [
        {
          "output_type": "stream",
          "name": "stdout",
          "text": [
            "1\n",
            "2\n",
            "3\n",
            "4\n",
            "hi\n"
          ]
        }
      ]
    },
    {
      "cell_type": "code",
      "source": [
        "i = 1\n",
        "while i<5:\n",
        "  print(i)\n",
        "\n",
        "\n",
        "  i = i+1"
      ],
      "metadata": {
        "colab": {
          "base_uri": "https://localhost:8080/"
        },
        "id": "b3ehsJbuItjt",
        "outputId": "b27a2b94-63b9-4c19-acc3-d4d4503e435e"
      },
      "execution_count": null,
      "outputs": [
        {
          "output_type": "stream",
          "name": "stdout",
          "text": [
            "1\n",
            "2\n",
            "3\n",
            "4\n"
          ]
        }
      ]
    },
    {
      "cell_type": "code",
      "source": [
        "i = 1\n",
        "while i<5:\n",
        "  print(i)\n",
        "  i = i+1"
      ],
      "metadata": {
        "colab": {
          "base_uri": "https://localhost:8080/"
        },
        "id": "Cn5dH-u8Iz_u",
        "outputId": "b9eed1fe-8bc2-4d49-e576-5dfc8b194892"
      },
      "execution_count": null,
      "outputs": [
        {
          "output_type": "stream",
          "name": "stdout",
          "text": [
            "1\n",
            "2\n",
            "3\n",
            "4\n"
          ]
        }
      ]
    },
    {
      "cell_type": "code",
      "source": [
        "i = 1\n",
        "while i<7:\n",
        "  print(i)\n",
        "\n",
        "\n",
        "  i = i+1"
      ],
      "metadata": {
        "colab": {
          "base_uri": "https://localhost:8080/"
        },
        "id": "fwfGTFeEI2Pi",
        "outputId": "3adde9c4-9931-4b25-e3c9-b68c1b628906"
      },
      "execution_count": null,
      "outputs": [
        {
          "output_type": "stream",
          "name": "stdout",
          "text": [
            "1\n",
            "2\n",
            "3\n",
            "4\n",
            "5\n",
            "6\n"
          ]
        }
      ]
    },
    {
      "cell_type": "code",
      "source": [
        "i = 1\n",
        "while i<7:\n",
        "  print(i)\n",
        "  if i == 3:  # if this condition is TRUE, then break out from the LOOP\n",
        "    break\n",
        "  i = i+1"
      ],
      "metadata": {
        "colab": {
          "base_uri": "https://localhost:8080/"
        },
        "id": "Adr8tL-0I_Fx",
        "outputId": "76a1d188-aee6-4784-d778-f037468c8e49"
      },
      "execution_count": null,
      "outputs": [
        {
          "output_type": "stream",
          "name": "stdout",
          "text": [
            "1\n",
            "2\n",
            "3\n"
          ]
        }
      ]
    },
    {
      "cell_type": "code",
      "source": [
        "i = 1\n",
        "while i<7:\n",
        "\n",
        "  if i == 3:\n",
        "    break\n",
        "  print(i)\n",
        "  i = i+1"
      ],
      "metadata": {
        "colab": {
          "base_uri": "https://localhost:8080/"
        },
        "id": "9adkERDxJHJ_",
        "outputId": "6da6fc9c-4b7c-47cc-dfaa-b613a997462f"
      },
      "execution_count": null,
      "outputs": [
        {
          "output_type": "stream",
          "name": "stdout",
          "text": [
            "1\n",
            "2\n"
          ]
        }
      ]
    },
    {
      "cell_type": "code",
      "source": [
        "i = 1\n",
        "while i<7:\n",
        "\n",
        "  if i == 3:\n",
        "    break\n",
        "\n",
        "  i = i+1\n",
        "  print(i)"
      ],
      "metadata": {
        "colab": {
          "base_uri": "https://localhost:8080/"
        },
        "id": "qCiENUY8JhMX",
        "outputId": "7f93a388-4b39-4c9f-8d27-b30e89382985"
      },
      "execution_count": null,
      "outputs": [
        {
          "output_type": "stream",
          "name": "stdout",
          "text": [
            "2\n",
            "3\n"
          ]
        }
      ]
    },
    {
      "cell_type": "code",
      "source": [
        "i = 0\n",
        "while i<7:\n",
        "  i = i+1\n",
        "  if i == 3:\n",
        "    continue\n",
        "  print(i)"
      ],
      "metadata": {
        "colab": {
          "base_uri": "https://localhost:8080/"
        },
        "id": "a8Vnn8feJ2mx",
        "outputId": "ef77a93b-32c8-491b-c922-2433fada7205"
      },
      "execution_count": null,
      "outputs": [
        {
          "output_type": "stream",
          "name": "stdout",
          "text": [
            "1\n",
            "2\n",
            "4\n",
            "5\n",
            "6\n",
            "7\n"
          ]
        }
      ]
    },
    {
      "cell_type": "code",
      "source": [
        "i = 0\n",
        "while i<7:\n",
        "  i = i+1\n",
        "  if i == 3:\n",
        "    continue\n",
        "  print(i)\n",
        "  print('hi')"
      ],
      "metadata": {
        "colab": {
          "base_uri": "https://localhost:8080/"
        },
        "id": "DIlUOUo6LF7R",
        "outputId": "b62f51c4-d410-45f4-b556-7b75e6631567"
      },
      "execution_count": null,
      "outputs": [
        {
          "output_type": "stream",
          "name": "stdout",
          "text": [
            "1\n",
            "hi\n",
            "2\n",
            "hi\n",
            "4\n",
            "hi\n",
            "5\n",
            "hi\n",
            "6\n",
            "hi\n",
            "7\n",
            "hi\n"
          ]
        }
      ]
    },
    {
      "cell_type": "markdown",
      "source": [
        "*   **Break:** break the entire loop\n",
        "*   **Continue:** skip the remaining entire part for the current iteration\n",
        "\n"
      ],
      "metadata": {
        "id": "lLKbo0mqKxFB"
      }
    },
    {
      "cell_type": "code",
      "source": [
        "i = 1\n",
        "while i<6: # if TRUE, then enter to the loop\n",
        "  print(i)\n",
        "  i += 1\n",
        "else: # after executing the loop, the above condition is false now\n",
        "  print('i is not less than 6 anymore')"
      ],
      "metadata": {
        "colab": {
          "base_uri": "https://localhost:8080/"
        },
        "id": "aVwP0cxGKIt4",
        "outputId": "4ac419cc-8c20-42a8-e8c2-27553a090fb9"
      },
      "execution_count": null,
      "outputs": [
        {
          "output_type": "stream",
          "name": "stdout",
          "text": [
            "1\n",
            "2\n",
            "3\n",
            "4\n",
            "5\n",
            "i is not less than 6 anymore\n"
          ]
        }
      ]
    },
    {
      "cell_type": "code",
      "source": [
        "for i in range(4):\n",
        "  print(i)"
      ],
      "metadata": {
        "colab": {
          "base_uri": "https://localhost:8080/"
        },
        "id": "Xt8JS_QXLsEi",
        "outputId": "68c1ae7a-44b1-44f8-ac04-36010c1317e1"
      },
      "execution_count": null,
      "outputs": [
        {
          "output_type": "stream",
          "name": "stdout",
          "text": [
            "0\n",
            "1\n",
            "2\n",
            "3\n"
          ]
        }
      ]
    },
    {
      "cell_type": "code",
      "source": [
        "i = 0\n",
        "while i<4:\n",
        "  print(i)\n",
        "  i=i+1"
      ],
      "metadata": {
        "colab": {
          "base_uri": "https://localhost:8080/"
        },
        "id": "p5OnxE3bLx-_",
        "outputId": "2df13474-c47d-48ea-c38a-7f55158af475"
      },
      "execution_count": null,
      "outputs": [
        {
          "output_type": "stream",
          "name": "stdout",
          "text": [
            "0\n",
            "1\n",
            "2\n",
            "3\n"
          ]
        }
      ]
    },
    {
      "cell_type": "code",
      "source": [
        "i = -1\n",
        "while i<3:\n",
        "  print(i := i+1)"
      ],
      "metadata": {
        "colab": {
          "base_uri": "https://localhost:8080/"
        },
        "id": "idx7Gz8lL5UX",
        "outputId": "66c6a3ba-5c3f-438d-dcb5-53666365aaed"
      },
      "execution_count": null,
      "outputs": [
        {
          "output_type": "stream",
          "name": "stdout",
          "text": [
            "0\n",
            "1\n",
            "2\n",
            "3\n"
          ]
        }
      ]
    },
    {
      "cell_type": "code",
      "source": [
        "for i in range(4):\n",
        "  print(i+1)"
      ],
      "metadata": {
        "colab": {
          "base_uri": "https://localhost:8080/"
        },
        "id": "_ZltdZGyMASM",
        "outputId": "b90ef9ec-6add-4aa9-dd5d-27fec4edd6eb"
      },
      "execution_count": null,
      "outputs": [
        {
          "output_type": "stream",
          "name": "stdout",
          "text": [
            "1\n",
            "2\n",
            "3\n",
            "4\n"
          ]
        }
      ]
    },
    {
      "cell_type": "markdown",
      "source": [
        "# **Function**"
      ],
      "metadata": {
        "id": "SYTqPi_KMMC_"
      }
    },
    {
      "cell_type": "code",
      "source": [
        "def fun():\n",
        "  print('hi')"
      ],
      "metadata": {
        "id": "CTICFxg2MJmo"
      },
      "execution_count": null,
      "outputs": []
    },
    {
      "cell_type": "code",
      "source": [
        "for i in range(4):\n",
        "  fun()"
      ],
      "metadata": {
        "colab": {
          "base_uri": "https://localhost:8080/"
        },
        "id": "XvOcaq-UMSv1",
        "outputId": "af53ed13-993d-4ec2-ca82-0ddc4e15a050"
      },
      "execution_count": null,
      "outputs": [
        {
          "output_type": "stream",
          "name": "stdout",
          "text": [
            "hi\n",
            "hi\n",
            "hi\n",
            "hi\n"
          ]
        }
      ]
    },
    {
      "cell_type": "code",
      "source": [
        "def add(a,b):\n",
        "  return a+b"
      ],
      "metadata": {
        "id": "qJ95lEQbMVVI"
      },
      "execution_count": null,
      "outputs": []
    },
    {
      "cell_type": "code",
      "source": [
        "add(2,5)"
      ],
      "metadata": {
        "colab": {
          "base_uri": "https://localhost:8080/"
        },
        "id": "iE53E8CrMau1",
        "outputId": "4669f986-b465-464e-da54-ab1ca00991a8"
      },
      "execution_count": null,
      "outputs": [
        {
          "output_type": "execute_result",
          "data": {
            "text/plain": [
              "7"
            ]
          },
          "metadata": {},
          "execution_count": 65
        }
      ]
    },
    {
      "cell_type": "markdown",
      "source": [
        "H.W.: create a calculator by writing all posible arithmatic operations"
      ],
      "metadata": {
        "id": "lP5h4FFoMea9"
      }
    },
    {
      "cell_type": "code",
      "source": [
        "print(10>9)"
      ],
      "metadata": {
        "colab": {
          "base_uri": "https://localhost:8080/"
        },
        "id": "6pgco7pVMcby",
        "outputId": "80b6fa3b-8d44-4267-d380-a44875d20bae"
      },
      "execution_count": null,
      "outputs": [
        {
          "output_type": "stream",
          "name": "stdout",
          "text": [
            "True\n"
          ]
        }
      ]
    },
    {
      "cell_type": "code",
      "source": [
        "print(10>99)"
      ],
      "metadata": {
        "colab": {
          "base_uri": "https://localhost:8080/"
        },
        "id": "KbfsAz9QMpoP",
        "outputId": "f0a70f44-d7ba-45aa-fd61-f3a72bb363bb"
      },
      "execution_count": null,
      "outputs": [
        {
          "output_type": "stream",
          "name": "stdout",
          "text": [
            "False\n"
          ]
        }
      ]
    },
    {
      "cell_type": "code",
      "source": [
        "print(10 != 9)"
      ],
      "metadata": {
        "colab": {
          "base_uri": "https://localhost:8080/"
        },
        "id": "knimp0elMsUz",
        "outputId": "cd006f43-aeea-4579-b0f0-6d3460b2f1e4"
      },
      "execution_count": null,
      "outputs": [
        {
          "output_type": "stream",
          "name": "stdout",
          "text": [
            "True\n"
          ]
        }
      ]
    },
    {
      "cell_type": "code",
      "source": [
        "a = 10\n",
        "b = 10\n",
        "if a == b:\n",
        "  print('hi')\n",
        "else:\n",
        "  print('hello')"
      ],
      "metadata": {
        "colab": {
          "base_uri": "https://localhost:8080/"
        },
        "id": "ooG7vcrqMvEu",
        "outputId": "bb7d7fd4-eb18-46a7-d67e-838611009822"
      },
      "execution_count": null,
      "outputs": [
        {
          "output_type": "stream",
          "name": "stdout",
          "text": [
            "hi\n"
          ]
        }
      ]
    },
    {
      "cell_type": "code",
      "source": [
        "a = 100\n",
        "b = 10\n",
        "if a > b:\n",
        "  print('hi')\n",
        "else:\n",
        "  print('hello')"
      ],
      "metadata": {
        "colab": {
          "base_uri": "https://localhost:8080/"
        },
        "id": "HAlwQeL8M4TC",
        "outputId": "132eac0b-7b73-4bdc-c6e4-0d706bb851b5"
      },
      "execution_count": null,
      "outputs": [
        {
          "output_type": "stream",
          "name": "stdout",
          "text": [
            "hi\n"
          ]
        }
      ]
    },
    {
      "cell_type": "code",
      "source": [
        "a = 100\n",
        "b = 10\n",
        "if a < b:\n",
        "  print('hi')\n",
        "else:\n",
        "  print('hello')"
      ],
      "metadata": {
        "colab": {
          "base_uri": "https://localhost:8080/"
        },
        "id": "_YoRNVgdM9x8",
        "outputId": "05365518-7fd6-409a-9141-2b9463f42a04"
      },
      "execution_count": null,
      "outputs": [
        {
          "output_type": "stream",
          "name": "stdout",
          "text": [
            "hello\n"
          ]
        }
      ]
    },
    {
      "cell_type": "code",
      "source": [
        "a = 100\n",
        "b = 10\n",
        "if a >= b:\n",
        "  print('hi')\n",
        "else:\n",
        "  print('hello')"
      ],
      "metadata": {
        "colab": {
          "base_uri": "https://localhost:8080/"
        },
        "id": "lkROtX2XM_yq",
        "outputId": "cbdb8b65-e45d-40e5-8ded-d3ac8b6b9f3d"
      },
      "execution_count": null,
      "outputs": [
        {
          "output_type": "stream",
          "name": "stdout",
          "text": [
            "hi\n"
          ]
        }
      ]
    },
    {
      "cell_type": "code",
      "source": [
        "a = 100\n",
        "b = 10\n",
        "if a <= b:\n",
        "  print('hi')\n",
        "else:\n",
        "  print('hello')"
      ],
      "metadata": {
        "colab": {
          "base_uri": "https://localhost:8080/"
        },
        "id": "F2xS3rcLNBTg",
        "outputId": "239539fe-e08d-4d86-bd71-3b28e9b10be2"
      },
      "execution_count": null,
      "outputs": [
        {
          "output_type": "stream",
          "name": "stdout",
          "text": [
            "hello\n"
          ]
        }
      ]
    },
    {
      "cell_type": "code",
      "source": [
        "a = 100\n",
        "b = 10\n",
        "if a != b:\n",
        "  print('hi')\n",
        "else:\n",
        "  print('hello')"
      ],
      "metadata": {
        "colab": {
          "base_uri": "https://localhost:8080/"
        },
        "id": "XsisYo0nNDU6",
        "outputId": "7e341b1e-401c-44bd-b46e-dd64b1eae1f1"
      },
      "execution_count": null,
      "outputs": [
        {
          "output_type": "stream",
          "name": "stdout",
          "text": [
            "hi\n"
          ]
        }
      ]
    },
    {
      "cell_type": "code",
      "source": [
        "x = 1\n",
        "x +=3 # x = x+3\n",
        "print(x)"
      ],
      "metadata": {
        "colab": {
          "base_uri": "https://localhost:8080/"
        },
        "id": "fmSqe6fPNNdH",
        "outputId": "f6744e12-26a8-40ef-b6f8-dff61da6e0e5"
      },
      "execution_count": null,
      "outputs": [
        {
          "output_type": "stream",
          "name": "stdout",
          "text": [
            "4\n"
          ]
        }
      ]
    },
    {
      "cell_type": "markdown",
      "source": [
        "*   arithmatic operators: +, -, /, //, %, //,\n",
        "*   assignment operators: =, +=, -=, /=, %=, *=\n",
        "*   logical operators: and, or, not\n",
        "\n"
      ],
      "metadata": {
        "id": "1pX8-uKbNK_d"
      }
    },
    {
      "cell_type": "code",
      "source": [
        "a = 10\n",
        "b = 9\n",
        "if a!=b or a>b:\n",
        "  print('hi')\n",
        "else:\n",
        "  print('hello')\n"
      ],
      "metadata": {
        "colab": {
          "base_uri": "https://localhost:8080/"
        },
        "id": "s3BwyyoFNFop",
        "outputId": "2d8d1c7a-413e-4ce2-fe07-3cefb762af02"
      },
      "execution_count": null,
      "outputs": [
        {
          "output_type": "stream",
          "name": "stdout",
          "text": [
            "hi\n"
          ]
        }
      ]
    },
    {
      "cell_type": "code",
      "source": [
        "a = 10\n",
        "b = 9\n",
        "if a!=b and a>b:\n",
        "  print('hi')\n",
        "else:\n",
        "  print('hello')\n"
      ],
      "metadata": {
        "colab": {
          "base_uri": "https://localhost:8080/"
        },
        "id": "U3pq7iCfN5uc",
        "outputId": "65f5d097-f0dd-41d6-a5f5-8dad2a52b61b"
      },
      "execution_count": null,
      "outputs": [
        {
          "output_type": "stream",
          "name": "stdout",
          "text": [
            "hi\n"
          ]
        }
      ]
    },
    {
      "cell_type": "code",
      "source": [
        "a = 10\n",
        "b = 90\n",
        "if a!=b and a>b:\n",
        "  print('hi')\n",
        "else:\n",
        "  print('hello')\n"
      ],
      "metadata": {
        "colab": {
          "base_uri": "https://localhost:8080/"
        },
        "id": "AzRm_SH8OBHO",
        "outputId": "74289a4b-4787-4596-aed8-b9819b5cbea5"
      },
      "execution_count": null,
      "outputs": [
        {
          "output_type": "stream",
          "name": "stdout",
          "text": [
            "hello\n"
          ]
        }
      ]
    },
    {
      "cell_type": "markdown",
      "source": [
        "# **29 March 2025**"
      ],
      "metadata": {
        "id": "Iydo7hvUQP5G"
      }
    },
    {
      "cell_type": "markdown",
      "source": [
        "# **LIST**"
      ],
      "metadata": {
        "id": "F6vBHpQRQueo"
      }
    },
    {
      "cell_type": "code",
      "source": [
        "number = [10, 20, 35]"
      ],
      "metadata": {
        "id": "d72F0glzOFh5"
      },
      "execution_count": 2,
      "outputs": []
    },
    {
      "cell_type": "code",
      "source": [
        "type(number)"
      ],
      "metadata": {
        "colab": {
          "base_uri": "https://localhost:8080/"
        },
        "id": "ohLZ4DSkQSR8",
        "outputId": "10a88317-9542-4b71-f745-2d2f794dbe30"
      },
      "execution_count": 3,
      "outputs": [
        {
          "output_type": "execute_result",
          "data": {
            "text/plain": [
              "list"
            ]
          },
          "metadata": {},
          "execution_count": 3
        }
      ]
    },
    {
      "cell_type": "code",
      "source": [
        "number[0] # LIST index starts from 0"
      ],
      "metadata": {
        "colab": {
          "base_uri": "https://localhost:8080/"
        },
        "id": "eavUtEHsQ3uA",
        "outputId": "2f4afd46-484f-4735-8f13-2ed1ac61caf9"
      },
      "execution_count": 4,
      "outputs": [
        {
          "output_type": "execute_result",
          "data": {
            "text/plain": [
              "10"
            ]
          },
          "metadata": {},
          "execution_count": 4
        }
      ]
    },
    {
      "cell_type": "code",
      "source": [
        "print(number[0], number[1], number[2])"
      ],
      "metadata": {
        "colab": {
          "base_uri": "https://localhost:8080/"
        },
        "id": "-gCt_3YNQ5_z",
        "outputId": "2f05cd9b-408f-4304-ff9f-d28220a4ecf3"
      },
      "execution_count": 5,
      "outputs": [
        {
          "output_type": "stream",
          "name": "stdout",
          "text": [
            "10 20 35\n"
          ]
        }
      ]
    },
    {
      "cell_type": "code",
      "source": [
        "string_list = ['chandra', 'nath', 'adak']"
      ],
      "metadata": {
        "id": "N2LSLcIPRIa5"
      },
      "execution_count": 6,
      "outputs": []
    },
    {
      "cell_type": "code",
      "source": [
        "len(string_list)"
      ],
      "metadata": {
        "colab": {
          "base_uri": "https://localhost:8080/"
        },
        "id": "6YcP-yHiRNFH",
        "outputId": "b849de1e-b9a0-44fd-ad4e-cc08dfb5a55a"
      },
      "execution_count": 7,
      "outputs": [
        {
          "output_type": "execute_result",
          "data": {
            "text/plain": [
              "3"
            ]
          },
          "metadata": {},
          "execution_count": 7
        }
      ]
    },
    {
      "cell_type": "code",
      "source": [
        "for i in string_list:\n",
        "  print(i)"
      ],
      "metadata": {
        "colab": {
          "base_uri": "https://localhost:8080/"
        },
        "id": "qGPet4tGRPU_",
        "outputId": "9f9b0a9f-998e-4a8a-aedb-0f77fda530d2"
      },
      "execution_count": 8,
      "outputs": [
        {
          "output_type": "stream",
          "name": "stdout",
          "text": [
            "chandra\n",
            "nath\n",
            "adak\n"
          ]
        }
      ]
    },
    {
      "cell_type": "code",
      "source": [
        "i = 0\n",
        "while i < len(string_list):\n",
        "  print(string_list[i])\n",
        "  i = i+1"
      ],
      "metadata": {
        "colab": {
          "base_uri": "https://localhost:8080/"
        },
        "id": "g_kD5nWvRVFQ",
        "outputId": "d7f49868-fa80-48f9-84b5-7c44adb2f7d9"
      },
      "execution_count": 9,
      "outputs": [
        {
          "output_type": "stream",
          "name": "stdout",
          "text": [
            "chandra\n",
            "nath\n",
            "adak\n"
          ]
        }
      ]
    },
    {
      "cell_type": "code",
      "source": [
        "string_list.append('india') #always at last"
      ],
      "metadata": {
        "id": "AkRYYnv1Rdow"
      },
      "execution_count": 10,
      "outputs": []
    },
    {
      "cell_type": "code",
      "source": [
        "for i in string_list:\n",
        "  print(i)"
      ],
      "metadata": {
        "colab": {
          "base_uri": "https://localhost:8080/"
        },
        "id": "X-5knCY0Rkgm",
        "outputId": "2ca727cf-1749-4013-c3ce-d2c6569107f2"
      },
      "execution_count": 11,
      "outputs": [
        {
          "output_type": "stream",
          "name": "stdout",
          "text": [
            "chandra\n",
            "nath\n",
            "adak\n",
            "india\n"
          ]
        }
      ]
    },
    {
      "cell_type": "code",
      "source": [
        "string_list.pop() # by default, removing last element"
      ],
      "metadata": {
        "colab": {
          "base_uri": "https://localhost:8080/",
          "height": 36
        },
        "id": "cO7UKvGFRnUG",
        "outputId": "f6e67e9a-a240-4e0b-bda2-35f734967b57"
      },
      "execution_count": 12,
      "outputs": [
        {
          "output_type": "execute_result",
          "data": {
            "text/plain": [
              "'india'"
            ],
            "application/vnd.google.colaboratory.intrinsic+json": {
              "type": "string"
            }
          },
          "metadata": {},
          "execution_count": 12
        }
      ]
    },
    {
      "cell_type": "code",
      "source": [
        "for i in string_list:\n",
        "  print(i)"
      ],
      "metadata": {
        "colab": {
          "base_uri": "https://localhost:8080/"
        },
        "id": "nNk_dXaOR-uX",
        "outputId": "ba10e365-1dfe-4591-d7d3-5bd4466165dc"
      },
      "execution_count": 13,
      "outputs": [
        {
          "output_type": "stream",
          "name": "stdout",
          "text": [
            "chandra\n",
            "nath\n",
            "adak\n"
          ]
        }
      ]
    },
    {
      "cell_type": "code",
      "source": [
        "string_list.pop(1) # remove index-wise"
      ],
      "metadata": {
        "colab": {
          "base_uri": "https://localhost:8080/",
          "height": 36
        },
        "id": "3YnOdJNDSB2t",
        "outputId": "7408b4f7-0bfe-420b-8f7e-e0c2564cc90b"
      },
      "execution_count": 14,
      "outputs": [
        {
          "output_type": "execute_result",
          "data": {
            "text/plain": [
              "'nath'"
            ],
            "application/vnd.google.colaboratory.intrinsic+json": {
              "type": "string"
            }
          },
          "metadata": {},
          "execution_count": 14
        }
      ]
    },
    {
      "cell_type": "code",
      "source": [
        "for i in string_list:\n",
        "  print(i)"
      ],
      "metadata": {
        "colab": {
          "base_uri": "https://localhost:8080/"
        },
        "id": "Fd_A9CRwSNjc",
        "outputId": "190673cf-9391-4192-fb37-5fdfb8635d68"
      },
      "execution_count": 15,
      "outputs": [
        {
          "output_type": "stream",
          "name": "stdout",
          "text": [
            "chandra\n",
            "adak\n"
          ]
        }
      ]
    },
    {
      "cell_type": "code",
      "source": [
        "string_list[1]"
      ],
      "metadata": {
        "colab": {
          "base_uri": "https://localhost:8080/",
          "height": 36
        },
        "id": "POsG6u8qSPr0",
        "outputId": "30a5a241-0141-4d81-d3df-982d2a76be45"
      },
      "execution_count": 16,
      "outputs": [
        {
          "output_type": "execute_result",
          "data": {
            "text/plain": [
              "'adak'"
            ],
            "application/vnd.google.colaboratory.intrinsic+json": {
              "type": "string"
            }
          },
          "metadata": {},
          "execution_count": 16
        }
      ]
    },
    {
      "cell_type": "code",
      "source": [
        "#remove element-wise\n",
        "string_list.remove('adak')"
      ],
      "metadata": {
        "id": "7qudxjexSXVp"
      },
      "execution_count": 17,
      "outputs": []
    },
    {
      "cell_type": "code",
      "source": [
        "for i in string_list:\n",
        "  print(i)"
      ],
      "metadata": {
        "colab": {
          "base_uri": "https://localhost:8080/"
        },
        "id": "RJgC3ExCSkFC",
        "outputId": "c75e8cb9-a52f-4ccd-99dc-50b66550eb84"
      },
      "execution_count": 18,
      "outputs": [
        {
          "output_type": "stream",
          "name": "stdout",
          "text": [
            "chandra\n"
          ]
        }
      ]
    },
    {
      "cell_type": "code",
      "source": [
        "len(string_list)"
      ],
      "metadata": {
        "colab": {
          "base_uri": "https://localhost:8080/"
        },
        "id": "TSFIAXFFSl4H",
        "outputId": "d98d47ef-fb93-417d-987a-3b4c49ee1246"
      },
      "execution_count": 19,
      "outputs": [
        {
          "output_type": "execute_result",
          "data": {
            "text/plain": [
              "1"
            ]
          },
          "metadata": {},
          "execution_count": 19
        }
      ]
    },
    {
      "cell_type": "code",
      "source": [
        "string_list = ['chandra', 'adak', 'patna', 'india']\n",
        "print(string_list)"
      ],
      "metadata": {
        "colab": {
          "base_uri": "https://localhost:8080/"
        },
        "id": "N5TpIXuvSquK",
        "outputId": "f6b0a005-1494-4403-e03a-916e02d1f3a6"
      },
      "execution_count": 20,
      "outputs": [
        {
          "output_type": "stream",
          "name": "stdout",
          "text": [
            "['chandra', 'adak', 'patna', 'india']\n"
          ]
        }
      ]
    },
    {
      "cell_type": "code",
      "source": [
        "string_list.reverse()"
      ],
      "metadata": {
        "id": "rhdg-R5pS0vw"
      },
      "execution_count": 21,
      "outputs": []
    },
    {
      "cell_type": "code",
      "source": [
        "print(string_list)"
      ],
      "metadata": {
        "colab": {
          "base_uri": "https://localhost:8080/"
        },
        "id": "UHLHseCbS5U6",
        "outputId": "9acbb087-7a1a-41b3-b29f-9f037eb6f438"
      },
      "execution_count": 22,
      "outputs": [
        {
          "output_type": "stream",
          "name": "stdout",
          "text": [
            "['india', 'patna', 'adak', 'chandra']\n"
          ]
        }
      ]
    },
    {
      "cell_type": "code",
      "source": [
        "string_list[0]"
      ],
      "metadata": {
        "colab": {
          "base_uri": "https://localhost:8080/",
          "height": 36
        },
        "id": "EyALndxQS79u",
        "outputId": "1ae6ef0c-434b-42af-ba0f-1db70f191922"
      },
      "execution_count": 23,
      "outputs": [
        {
          "output_type": "execute_result",
          "data": {
            "text/plain": [
              "'india'"
            ],
            "application/vnd.google.colaboratory.intrinsic+json": {
              "type": "string"
            }
          },
          "metadata": {},
          "execution_count": 23
        }
      ]
    },
    {
      "cell_type": "code",
      "source": [
        "string_list.sort() #sorting in dictionary order\n",
        "print(string_list)"
      ],
      "metadata": {
        "colab": {
          "base_uri": "https://localhost:8080/"
        },
        "id": "XYme7J9LS_dg",
        "outputId": "c207e7e5-3580-444e-f861-9b42a643365f"
      },
      "execution_count": 24,
      "outputs": [
        {
          "output_type": "stream",
          "name": "stdout",
          "text": [
            "['adak', 'chandra', 'india', 'patna']\n"
          ]
        }
      ]
    },
    {
      "cell_type": "code",
      "source": [
        "string_list[0]"
      ],
      "metadata": {
        "colab": {
          "base_uri": "https://localhost:8080/",
          "height": 36
        },
        "id": "hCy2LAOzTJYZ",
        "outputId": "b5ca24e7-f861-48a0-aca9-d27071dbeec0"
      },
      "execution_count": 25,
      "outputs": [
        {
          "output_type": "execute_result",
          "data": {
            "text/plain": [
              "'adak'"
            ],
            "application/vnd.google.colaboratory.intrinsic+json": {
              "type": "string"
            }
          },
          "metadata": {},
          "execution_count": 25
        }
      ]
    },
    {
      "cell_type": "code",
      "source": [
        "string_list.append('india')\n",
        "print(string_list)"
      ],
      "metadata": {
        "colab": {
          "base_uri": "https://localhost:8080/"
        },
        "id": "gIR8JemITTTt",
        "outputId": "70b897bd-b43b-49b5-cadf-05871726270e"
      },
      "execution_count": 26,
      "outputs": [
        {
          "output_type": "stream",
          "name": "stdout",
          "text": [
            "['adak', 'chandra', 'india', 'patna', 'india']\n"
          ]
        }
      ]
    },
    {
      "cell_type": "code",
      "source": [
        "string_list.count('india')  #frequency"
      ],
      "metadata": {
        "colab": {
          "base_uri": "https://localhost:8080/"
        },
        "id": "eBLURaCXTa8S",
        "outputId": "8f8e12ec-93d6-4776-940b-789fab7dc7b9"
      },
      "execution_count": 27,
      "outputs": [
        {
          "output_type": "execute_result",
          "data": {
            "text/plain": [
              "2"
            ]
          },
          "metadata": {},
          "execution_count": 27
        }
      ]
    },
    {
      "cell_type": "code",
      "source": [
        "new_string_list = string_list.copy()\n",
        "print(new_string_list)"
      ],
      "metadata": {
        "colab": {
          "base_uri": "https://localhost:8080/"
        },
        "id": "v45pLstmThLA",
        "outputId": "163a21d3-6937-401b-8685-8062e887ce2d"
      },
      "execution_count": 28,
      "outputs": [
        {
          "output_type": "stream",
          "name": "stdout",
          "text": [
            "['adak', 'chandra', 'india', 'patna', 'india']\n"
          ]
        }
      ]
    },
    {
      "cell_type": "code",
      "source": [
        "print(string_list)"
      ],
      "metadata": {
        "colab": {
          "base_uri": "https://localhost:8080/"
        },
        "id": "BvCc2hO3Tuc2",
        "outputId": "00991db8-d71d-4ca3-c0e9-12dddbad047c"
      },
      "execution_count": 29,
      "outputs": [
        {
          "output_type": "stream",
          "name": "stdout",
          "text": [
            "['adak', 'chandra', 'india', 'patna', 'india']\n"
          ]
        }
      ]
    },
    {
      "cell_type": "code",
      "source": [
        "string_list.clear() #remove all elements\n",
        "print(string_list)"
      ],
      "metadata": {
        "colab": {
          "base_uri": "https://localhost:8080/"
        },
        "id": "oHNIxn8cTy-k",
        "outputId": "2a62f150-22c1-4e62-fd80-d0525b11fc73"
      },
      "execution_count": 30,
      "outputs": [
        {
          "output_type": "stream",
          "name": "stdout",
          "text": [
            "[]\n"
          ]
        }
      ]
    },
    {
      "cell_type": "code",
      "source": [
        "string_list = new_string_list.copy()"
      ],
      "metadata": {
        "id": "_A9FWAMkT8Ju"
      },
      "execution_count": 31,
      "outputs": []
    },
    {
      "cell_type": "code",
      "source": [
        "print(string_list)"
      ],
      "metadata": {
        "colab": {
          "base_uri": "https://localhost:8080/"
        },
        "id": "TZvO7MO2UF8w",
        "outputId": "cc410805-dabd-4640-de3a-cf56e44c916d"
      },
      "execution_count": 32,
      "outputs": [
        {
          "output_type": "stream",
          "name": "stdout",
          "text": [
            "['adak', 'chandra', 'india', 'patna', 'india']\n"
          ]
        }
      ]
    },
    {
      "cell_type": "code",
      "source": [
        "print(string_list.index('chandra')) # showing index of an element"
      ],
      "metadata": {
        "colab": {
          "base_uri": "https://localhost:8080/"
        },
        "id": "ThQAPMC7UIBP",
        "outputId": "59f60373-a4e9-46b7-f0fa-ad7ee8ed704f"
      },
      "execution_count": 34,
      "outputs": [
        {
          "output_type": "stream",
          "name": "stdout",
          "text": [
            "1\n"
          ]
        }
      ]
    },
    {
      "cell_type": "code",
      "source": [
        "print(string_list.index('india')) # showing index of an element's 1st occurrence"
      ],
      "metadata": {
        "colab": {
          "base_uri": "https://localhost:8080/"
        },
        "id": "w8NHWKXOURdv",
        "outputId": "a23f667c-2461-4452-b999-00eddb29632b"
      },
      "execution_count": 35,
      "outputs": [
        {
          "output_type": "stream",
          "name": "stdout",
          "text": [
            "2\n"
          ]
        }
      ]
    },
    {
      "cell_type": "code",
      "source": [
        "string_list.insert(2,'nath')\n",
        "print(string_list)"
      ],
      "metadata": {
        "colab": {
          "base_uri": "https://localhost:8080/"
        },
        "id": "Ml8E9GNwUfBZ",
        "outputId": "e6a1ba74-d26c-475c-8c4b-dfa3e986c026"
      },
      "execution_count": 36,
      "outputs": [
        {
          "output_type": "stream",
          "name": "stdout",
          "text": [
            "['adak', 'chandra', 'nath', 'india', 'patna', 'india']\n"
          ]
        }
      ]
    },
    {
      "cell_type": "code",
      "source": [
        "string_list.insert(6, 'last')\n",
        "string_list.insert(0, 'first')\n",
        "print(string_list)"
      ],
      "metadata": {
        "colab": {
          "base_uri": "https://localhost:8080/"
        },
        "id": "chqkxjpkU27G",
        "outputId": "61f99c55-71f1-43ac-996a-ee93ca64eae3"
      },
      "execution_count": 37,
      "outputs": [
        {
          "output_type": "stream",
          "name": "stdout",
          "text": [
            "['first', 'adak', 'chandra', 'nath', 'india', 'patna', 'india', 'last']\n"
          ]
        }
      ]
    },
    {
      "cell_type": "code",
      "source": [
        "L = len(string_list)\n",
        "string_list.insert(L, 'final')\n",
        "print(string_list)"
      ],
      "metadata": {
        "colab": {
          "base_uri": "https://localhost:8080/"
        },
        "id": "Q_TtLZlaVOuw",
        "outputId": "cdb3d28d-e220-4f80-b4be-bb855b77e6f6"
      },
      "execution_count": 38,
      "outputs": [
        {
          "output_type": "stream",
          "name": "stdout",
          "text": [
            "['first', 'adak', 'chandra', 'nath', 'india', 'patna', 'india', 'last', 'final']\n"
          ]
        }
      ]
    },
    {
      "cell_type": "code",
      "source": [
        "string_list.insert(len(string_list), 'bihar')\n",
        "print(string_list)"
      ],
      "metadata": {
        "colab": {
          "base_uri": "https://localhost:8080/"
        },
        "id": "o1dM0BESVhse",
        "outputId": "f664809c-7729-47cf-863c-e7b920515448"
      },
      "execution_count": 39,
      "outputs": [
        {
          "output_type": "stream",
          "name": "stdout",
          "text": [
            "['first', 'adak', 'chandra', 'nath', 'india', 'patna', 'india', 'last', 'final', 'bihar']\n"
          ]
        }
      ]
    },
    {
      "cell_type": "code",
      "source": [
        "string_list.append('bharat')\n",
        "print(string_list)"
      ],
      "metadata": {
        "colab": {
          "base_uri": "https://localhost:8080/"
        },
        "id": "9Tded3ROVweb",
        "outputId": "90cf6892-4506-461c-b929-b09ab1308ae4"
      },
      "execution_count": 40,
      "outputs": [
        {
          "output_type": "stream",
          "name": "stdout",
          "text": [
            "['first', 'adak', 'chandra', 'nath', 'india', 'patna', 'india', 'last', 'final', 'bihar', 'bharat']\n"
          ]
        }
      ]
    },
    {
      "cell_type": "code",
      "source": [
        "number1 = [100, 20, 35]"
      ],
      "metadata": {
        "id": "rZp5-MEvWHLl"
      },
      "execution_count": 42,
      "outputs": []
    },
    {
      "cell_type": "code",
      "source": [
        "number1.sort()\n",
        "print(number1)  #sorting in ascending order"
      ],
      "metadata": {
        "colab": {
          "base_uri": "https://localhost:8080/"
        },
        "id": "Y4MBIGs5WSdz",
        "outputId": "cc2c4428-7631-4f11-c092-649c0d857bf2"
      },
      "execution_count": 44,
      "outputs": [
        {
          "output_type": "stream",
          "name": "stdout",
          "text": [
            "[20, 35, 100]\n"
          ]
        }
      ]
    },
    {
      "cell_type": "code",
      "source": [
        "number1.sort()\n",
        "number1.reverse()\n",
        "print(number1)     #sorting in descending order"
      ],
      "metadata": {
        "colab": {
          "base_uri": "https://localhost:8080/"
        },
        "id": "fReRI0TNWVGk",
        "outputId": "74d87502-4019-4411-9177-e12b4ed40ab6"
      },
      "execution_count": 45,
      "outputs": [
        {
          "output_type": "stream",
          "name": "stdout",
          "text": [
            "[100, 35, 20]\n"
          ]
        }
      ]
    },
    {
      "cell_type": "markdown",
      "source": [
        "***find an element in LIST***"
      ],
      "metadata": {
        "id": "_uUhuQHPWuyN"
      }
    },
    {
      "cell_type": "code",
      "source": [
        "print(new_string_list)"
      ],
      "metadata": {
        "colab": {
          "base_uri": "https://localhost:8080/"
        },
        "id": "Xl1xzfH2Wofm",
        "outputId": "a1eadf89-9704-40b4-a64c-494e48a982d0"
      },
      "execution_count": 46,
      "outputs": [
        {
          "output_type": "stream",
          "name": "stdout",
          "text": [
            "['adak', 'chandra', 'india', 'patna', 'india']\n"
          ]
        }
      ]
    },
    {
      "cell_type": "code",
      "source": [
        "key = 'chandra'"
      ],
      "metadata": {
        "id": "zAzRVdulWyWY"
      },
      "execution_count": 49,
      "outputs": []
    },
    {
      "cell_type": "code",
      "source": [
        "for i in new_string_list:\n",
        "  if i == key:\n",
        "    print('found')"
      ],
      "metadata": {
        "colab": {
          "base_uri": "https://localhost:8080/"
        },
        "id": "vO3I6nJ3W4ep",
        "outputId": "e19dda41-c75f-4aef-b15e-9411301e19fb"
      },
      "execution_count": 50,
      "outputs": [
        {
          "output_type": "stream",
          "name": "stdout",
          "text": [
            "found\n"
          ]
        }
      ]
    },
    {
      "cell_type": "code",
      "source": [
        "print(key in new_string_list)"
      ],
      "metadata": {
        "colab": {
          "base_uri": "https://localhost:8080/"
        },
        "id": "D7sKWppzXDoQ",
        "outputId": "4eb3e181-63c0-46b6-a49f-aa003dcd79ff"
      },
      "execution_count": 51,
      "outputs": [
        {
          "output_type": "stream",
          "name": "stdout",
          "text": [
            "True\n"
          ]
        }
      ]
    },
    {
      "cell_type": "code",
      "source": [
        "if (key in new_string_list) == True:\n",
        "  print('found')"
      ],
      "metadata": {
        "colab": {
          "base_uri": "https://localhost:8080/"
        },
        "id": "6FekpuIbXIDq",
        "outputId": "9412c64f-8aaa-4993-cc7e-cba177bf5cff"
      },
      "execution_count": 52,
      "outputs": [
        {
          "output_type": "stream",
          "name": "stdout",
          "text": [
            "found\n"
          ]
        }
      ]
    },
    {
      "cell_type": "code",
      "source": [
        "if (key in new_string_list) == True:\n",
        "  print('found')\n",
        "else:\n",
        "  print('not found')"
      ],
      "metadata": {
        "colab": {
          "base_uri": "https://localhost:8080/"
        },
        "id": "-EZisl8NXUz6",
        "outputId": "94a4beeb-f0db-4482-942d-96d0acec4499"
      },
      "execution_count": 53,
      "outputs": [
        {
          "output_type": "stream",
          "name": "stdout",
          "text": [
            "found\n"
          ]
        }
      ]
    },
    {
      "cell_type": "code",
      "source": [
        "key = 'Chandra'\n",
        "print(key in new_string_list)"
      ],
      "metadata": {
        "colab": {
          "base_uri": "https://localhost:8080/"
        },
        "id": "UZZLwSpoXcEd",
        "outputId": "363da1d4-0d27-432b-8d3a-d7b6048142d0"
      },
      "execution_count": 54,
      "outputs": [
        {
          "output_type": "stream",
          "name": "stdout",
          "text": [
            "False\n"
          ]
        }
      ]
    },
    {
      "cell_type": "code",
      "source": [
        "type(string_list)"
      ],
      "metadata": {
        "colab": {
          "base_uri": "https://localhost:8080/"
        },
        "id": "nhI-anvEXjhV",
        "outputId": "40dc7173-3a66-4048-9681-d1c925f0b2ce"
      },
      "execution_count": 55,
      "outputs": [
        {
          "output_type": "execute_result",
          "data": {
            "text/plain": [
              "list"
            ]
          },
          "metadata": {},
          "execution_count": 55
        }
      ]
    },
    {
      "cell_type": "markdown",
      "source": [
        "# **LIST[ ] is ordered, changable, allows duplicate members**"
      ],
      "metadata": {
        "id": "3HXNilAoXt8M"
      }
    },
    {
      "cell_type": "code",
      "source": [
        "person1 = ['chandra', 'adak', 'patna', 35]\n",
        "print(type(person1))"
      ],
      "metadata": {
        "colab": {
          "base_uri": "https://localhost:8080/"
        },
        "id": "eDoxKK--Xoxv",
        "outputId": "99a860af-a534-43d6-81f3-cef04b668b3a"
      },
      "execution_count": 56,
      "outputs": [
        {
          "output_type": "stream",
          "name": "stdout",
          "text": [
            "<class 'list'>\n"
          ]
        }
      ]
    },
    {
      "cell_type": "code",
      "source": [
        "profession1 = ['AP', 'IITP']"
      ],
      "metadata": {
        "id": "LWEO0q3mYGDb"
      },
      "execution_count": 57,
      "outputs": []
    },
    {
      "cell_type": "code",
      "source": [
        "person2 = ['soumi', 'chattopadhyay', 'indore', 34]\n",
        "profession2 = ['AP', 'IITI']"
      ],
      "metadata": {
        "id": "e-yHNKJ6YODP"
      },
      "execution_count": 58,
      "outputs": []
    },
    {
      "cell_type": "code",
      "source": [
        "person1.extend(profession1)\n",
        "print(person1)"
      ],
      "metadata": {
        "colab": {
          "base_uri": "https://localhost:8080/"
        },
        "id": "IxjgftkbYZ9h",
        "outputId": "3de931c8-02c7-4dcf-8a3d-b2a83199d2d6"
      },
      "execution_count": 59,
      "outputs": [
        {
          "output_type": "stream",
          "name": "stdout",
          "text": [
            "['chandra', 'adak', 'patna', 35, 'AP', 'IITP']\n"
          ]
        }
      ]
    },
    {
      "cell_type": "code",
      "source": [
        "print(profession1)"
      ],
      "metadata": {
        "colab": {
          "base_uri": "https://localhost:8080/"
        },
        "id": "oPmCehm9YffR",
        "outputId": "29701221-271e-4493-b7ae-c454d0471914"
      },
      "execution_count": 60,
      "outputs": [
        {
          "output_type": "stream",
          "name": "stdout",
          "text": [
            "['AP', 'IITP']\n"
          ]
        }
      ]
    },
    {
      "cell_type": "code",
      "source": [
        "person1[2]"
      ],
      "metadata": {
        "colab": {
          "base_uri": "https://localhost:8080/",
          "height": 36
        },
        "id": "WrxVPY8yYllX",
        "outputId": "c86c6b07-540e-44aa-c612-c34b18dd28c6"
      },
      "execution_count": 61,
      "outputs": [
        {
          "output_type": "execute_result",
          "data": {
            "text/plain": [
              "'patna'"
            ],
            "application/vnd.google.colaboratory.intrinsic+json": {
              "type": "string"
            }
          },
          "metadata": {},
          "execution_count": 61
        }
      ]
    },
    {
      "cell_type": "code",
      "source": [
        "del person1[2]\n",
        "print(person1)"
      ],
      "metadata": {
        "colab": {
          "base_uri": "https://localhost:8080/"
        },
        "id": "FpNH2kiDYraY",
        "outputId": "d6409caa-36c6-4ba6-aaca-03f20bda6151"
      },
      "execution_count": 62,
      "outputs": [
        {
          "output_type": "stream",
          "name": "stdout",
          "text": [
            "['chandra', 'adak', 35, 'AP', 'IITP']\n"
          ]
        }
      ]
    },
    {
      "cell_type": "code",
      "source": [
        "print(person1[0:4])"
      ],
      "metadata": {
        "colab": {
          "base_uri": "https://localhost:8080/"
        },
        "id": "17bVSWCUYzBm",
        "outputId": "0122c97d-216c-491e-90d0-41d9cd30a6ee"
      },
      "execution_count": 63,
      "outputs": [
        {
          "output_type": "stream",
          "name": "stdout",
          "text": [
            "['chandra', 'adak', 35, 'AP']\n"
          ]
        }
      ]
    },
    {
      "cell_type": "code",
      "source": [
        "print(person1[-1])"
      ],
      "metadata": {
        "colab": {
          "base_uri": "https://localhost:8080/"
        },
        "id": "gbrH7pkvY6p7",
        "outputId": "26724da7-4a46-4818-dd3e-4785296c2a33"
      },
      "execution_count": 64,
      "outputs": [
        {
          "output_type": "stream",
          "name": "stdout",
          "text": [
            "IITP\n"
          ]
        }
      ]
    },
    {
      "cell_type": "code",
      "source": [
        "person1[-1] = 'CSE'\n",
        "print(person1)\n",
        "# earlier last element was 'IITP', that has been changed to 'CSE'"
      ],
      "metadata": {
        "colab": {
          "base_uri": "https://localhost:8080/"
        },
        "id": "KyZx3QvAZAPO",
        "outputId": "00d1ef7b-9f1b-4c72-829a-ff636d61f006"
      },
      "execution_count": 65,
      "outputs": [
        {
          "output_type": "stream",
          "name": "stdout",
          "text": [
            "['chandra', 'adak', 35, 'AP', 'CSE']\n"
          ]
        }
      ]
    },
    {
      "cell_type": "markdown",
      "source": [
        "# **TUPLE () is *ordered*, *allows* *duplicate* members, *unchangable* (we can't add/ remove items after the tuple has been created)**"
      ],
      "metadata": {
        "id": "v8iKApADZZj9"
      }
    },
    {
      "cell_type": "code",
      "source": [
        "fruit = ('apple', 'banana', 'grapes')\n",
        "print(fruit)"
      ],
      "metadata": {
        "colab": {
          "base_uri": "https://localhost:8080/"
        },
        "id": "wrhy3dZhZzb1",
        "outputId": "edb14456-3795-46b0-a68f-35e2e18e5cb3"
      },
      "execution_count": 66,
      "outputs": [
        {
          "output_type": "stream",
          "name": "stdout",
          "text": [
            "('apple', 'banana', 'grapes')\n"
          ]
        }
      ]
    },
    {
      "cell_type": "code",
      "source": [
        "type(fruit)"
      ],
      "metadata": {
        "colab": {
          "base_uri": "https://localhost:8080/"
        },
        "id": "mgILe-YsaAGL",
        "outputId": "0094c627-2681-4b87-8f1b-6fc262c0d3b5"
      },
      "execution_count": 67,
      "outputs": [
        {
          "output_type": "execute_result",
          "data": {
            "text/plain": [
              "tuple"
            ]
          },
          "metadata": {},
          "execution_count": 67
        }
      ]
    },
    {
      "cell_type": "code",
      "source": [
        "fruit1 = ('apple', 'banana', 'grapes', 'grapes')"
      ],
      "metadata": {
        "id": "imhKiMTwaBo0"
      },
      "execution_count": 68,
      "outputs": []
    },
    {
      "cell_type": "code",
      "source": [
        "print(fruit1[0:3])"
      ],
      "metadata": {
        "colab": {
          "base_uri": "https://localhost:8080/"
        },
        "id": "4pOI5baxaH-A",
        "outputId": "0e849223-f6e2-4750-c675-0db38d066b42"
      },
      "execution_count": 71,
      "outputs": [
        {
          "output_type": "stream",
          "name": "stdout",
          "text": [
            "('apple', 'banana', 'grapes')\n"
          ]
        }
      ]
    },
    {
      "cell_type": "code",
      "source": [
        "print(fruit1[-1])"
      ],
      "metadata": {
        "colab": {
          "base_uri": "https://localhost:8080/"
        },
        "id": "BvFRGJl9aa2e",
        "outputId": "8f8c2d47-33a2-4898-82ac-d9efa1da13bf"
      },
      "execution_count": 70,
      "outputs": [
        {
          "output_type": "stream",
          "name": "stdout",
          "text": [
            "grapes\n"
          ]
        }
      ]
    },
    {
      "cell_type": "code",
      "source": [
        "fruit1[-1] = 'kiwi'  # we can't change tuple element"
      ],
      "metadata": {
        "colab": {
          "base_uri": "https://localhost:8080/",
          "height": 147
        },
        "id": "_u_U1vtyafV6",
        "outputId": "b9d9c921-dee1-4532-ada4-45a62927ba3e"
      },
      "execution_count": 72,
      "outputs": [
        {
          "output_type": "error",
          "ename": "TypeError",
          "evalue": "'tuple' object does not support item assignment",
          "traceback": [
            "\u001b[0;31m---------------------------------------------------------------------------\u001b[0m",
            "\u001b[0;31mTypeError\u001b[0m                                 Traceback (most recent call last)",
            "\u001b[0;32m<ipython-input-72-5930f6af4b56>\u001b[0m in \u001b[0;36m<cell line: 0>\u001b[0;34m()\u001b[0m\n\u001b[0;32m----> 1\u001b[0;31m \u001b[0mfruit1\u001b[0m\u001b[0;34m[\u001b[0m\u001b[0;34m-\u001b[0m\u001b[0;36m1\u001b[0m\u001b[0;34m]\u001b[0m \u001b[0;34m=\u001b[0m \u001b[0;34m'kiwi'\u001b[0m\u001b[0;34m\u001b[0m\u001b[0;34m\u001b[0m\u001b[0m\n\u001b[0m",
            "\u001b[0;31mTypeError\u001b[0m: 'tuple' object does not support item assignment"
          ]
        }
      ]
    },
    {
      "cell_type": "markdown",
      "source": [
        "list is changable, tupe is not\n",
        "\n",
        "tuple --> list --> perform changes in list --> convert the list to tuple"
      ],
      "metadata": {
        "id": "B102H3wlbYUN"
      }
    },
    {
      "cell_type": "code",
      "source": [
        "y = list(fruit1) # convert fruit1 tuple to list y\n",
        "y[-1] = 'kiwi'\n",
        "\n",
        "x = tuple(y) # convert back to tuple\n",
        "print(x)"
      ],
      "metadata": {
        "colab": {
          "base_uri": "https://localhost:8080/"
        },
        "id": "xksPGD6qbGZw",
        "outputId": "cb3e3e4d-5e12-449a-f53d-88533beaeb09"
      },
      "execution_count": 73,
      "outputs": [
        {
          "output_type": "stream",
          "name": "stdout",
          "text": [
            "('apple', 'banana', 'grapes', 'kiwi')\n"
          ]
        }
      ]
    },
    {
      "cell_type": "code",
      "source": [
        "type(x)"
      ],
      "metadata": {
        "colab": {
          "base_uri": "https://localhost:8080/"
        },
        "id": "Sk-nT_Ceb18Z",
        "outputId": "6a2f4a6f-fa41-4d55-8301-57312e97b74c"
      },
      "execution_count": 74,
      "outputs": [
        {
          "output_type": "execute_result",
          "data": {
            "text/plain": [
              "tuple"
            ]
          },
          "metadata": {},
          "execution_count": 74
        }
      ]
    },
    {
      "cell_type": "code",
      "source": [
        "y = list(fruit1) # convert fruit1 tuple to list y\n",
        "y[-1] = 'kiwi'\n",
        "\n",
        "fruit1 = tuple(y) # convert back to tuple\n",
        "print(fruit1)"
      ],
      "metadata": {
        "colab": {
          "base_uri": "https://localhost:8080/"
        },
        "id": "4Tkyr5ZtcROR",
        "outputId": "0a0fabad-54e3-4c24-ab5a-ae274a1996eb"
      },
      "execution_count": 75,
      "outputs": [
        {
          "output_type": "stream",
          "name": "stdout",
          "text": [
            "('apple', 'banana', 'grapes', 'kiwi')\n"
          ]
        }
      ]
    },
    {
      "cell_type": "code",
      "source": [
        "z = 'orange'\n",
        "type(z)"
      ],
      "metadata": {
        "colab": {
          "base_uri": "https://localhost:8080/"
        },
        "id": "qvtDhn-8b3Y-",
        "outputId": "8b5db3e6-5d4a-4839-ab72-1fe1a8c1e67a"
      },
      "execution_count": 76,
      "outputs": [
        {
          "output_type": "execute_result",
          "data": {
            "text/plain": [
              "str"
            ]
          },
          "metadata": {},
          "execution_count": 76
        }
      ]
    },
    {
      "cell_type": "code",
      "source": [
        "z1 = ('orange')\n",
        "type(z1)"
      ],
      "metadata": {
        "colab": {
          "base_uri": "https://localhost:8080/"
        },
        "id": "fOUclYkBcaI7",
        "outputId": "4f0a9c5b-4f7f-4c01-b893-8f2409be7df1"
      },
      "execution_count": 77,
      "outputs": [
        {
          "output_type": "execute_result",
          "data": {
            "text/plain": [
              "str"
            ]
          },
          "metadata": {},
          "execution_count": 77
        }
      ]
    },
    {
      "cell_type": "code",
      "source": [
        "z2 = ('orange',)  # LOOk at the COMMA\n",
        "type(z2)"
      ],
      "metadata": {
        "colab": {
          "base_uri": "https://localhost:8080/"
        },
        "id": "Qm7y2XlmcfUK",
        "outputId": "06795585-070b-41eb-f54c-be63f261cff1"
      },
      "execution_count": 78,
      "outputs": [
        {
          "output_type": "execute_result",
          "data": {
            "text/plain": [
              "tuple"
            ]
          },
          "metadata": {},
          "execution_count": 78
        }
      ]
    },
    {
      "cell_type": "code",
      "source": [
        "x = fruit1 + z2  # adding one tuple to another\n",
        "print(x)"
      ],
      "metadata": {
        "colab": {
          "base_uri": "https://localhost:8080/"
        },
        "id": "Kkc2WKdCch4_",
        "outputId": "de64c68c-1089-49ea-f429-342df003c5c7"
      },
      "execution_count": 79,
      "outputs": [
        {
          "output_type": "stream",
          "name": "stdout",
          "text": [
            "('apple', 'banana', 'grapes', 'kiwi', 'orange')\n"
          ]
        }
      ]
    },
    {
      "cell_type": "code",
      "source": [
        "(x1, x2, x3, x4, x5) = x  # unpacking a tuple\n",
        "\n",
        "print(x1)\n",
        "print(x2)\n",
        "print(x3)\n",
        "print(x4)\n",
        "print(x5)"
      ],
      "metadata": {
        "colab": {
          "base_uri": "https://localhost:8080/"
        },
        "id": "d3jQG_-LcvBE",
        "outputId": "55bd7f7a-674a-4b4c-ce78-66d29042667e"
      },
      "execution_count": 80,
      "outputs": [
        {
          "output_type": "stream",
          "name": "stdout",
          "text": [
            "apple\n",
            "banana\n",
            "grapes\n",
            "kiwi\n",
            "orange\n"
          ]
        }
      ]
    },
    {
      "cell_type": "code",
      "source": [
        "(y1, y2, *y3) = x\n",
        "\n",
        "print(y1)\n",
        "print(y2)\n",
        "print(y3)"
      ],
      "metadata": {
        "colab": {
          "base_uri": "https://localhost:8080/"
        },
        "id": "nva85Sszc9Rw",
        "outputId": "0ac4101f-5bd2-4df3-eae6-e39887770fd0"
      },
      "execution_count": 81,
      "outputs": [
        {
          "output_type": "stream",
          "name": "stdout",
          "text": [
            "apple\n",
            "banana\n",
            "['grapes', 'kiwi', 'orange']\n"
          ]
        }
      ]
    },
    {
      "cell_type": "code",
      "source": [
        "type(y1)"
      ],
      "metadata": {
        "colab": {
          "base_uri": "https://localhost:8080/"
        },
        "id": "jwZJzBn8dLnL",
        "outputId": "6d8d5320-c902-40ef-da27-2f440087688c"
      },
      "execution_count": 82,
      "outputs": [
        {
          "output_type": "execute_result",
          "data": {
            "text/plain": [
              "str"
            ]
          },
          "metadata": {},
          "execution_count": 82
        }
      ]
    },
    {
      "cell_type": "code",
      "source": [
        "type(y2)"
      ],
      "metadata": {
        "colab": {
          "base_uri": "https://localhost:8080/"
        },
        "id": "Gr1o4_7NdSeO",
        "outputId": "e112ecf7-fab4-4ff6-9c8e-48d7780b2181"
      },
      "execution_count": 83,
      "outputs": [
        {
          "output_type": "execute_result",
          "data": {
            "text/plain": [
              "str"
            ]
          },
          "metadata": {},
          "execution_count": 83
        }
      ]
    },
    {
      "cell_type": "code",
      "source": [
        "type(y3)"
      ],
      "metadata": {
        "colab": {
          "base_uri": "https://localhost:8080/"
        },
        "id": "fdstn_Q9dUGz",
        "outputId": "2374e359-ae3a-4e31-b3b8-be8f89aeead5"
      },
      "execution_count": 84,
      "outputs": [
        {
          "output_type": "execute_result",
          "data": {
            "text/plain": [
              "list"
            ]
          },
          "metadata": {},
          "execution_count": 84
        }
      ]
    },
    {
      "cell_type": "code",
      "source": [
        "(y1, *y2, y3) = x\n",
        "\n",
        "print(y1)\n",
        "print(y2)\n",
        "print(y3)"
      ],
      "metadata": {
        "colab": {
          "base_uri": "https://localhost:8080/"
        },
        "id": "KsNtlXGJdVSA",
        "outputId": "0e01b91c-9b65-4fbb-cf36-718bb820b0fd"
      },
      "execution_count": 85,
      "outputs": [
        {
          "output_type": "stream",
          "name": "stdout",
          "text": [
            "apple\n",
            "['banana', 'grapes', 'kiwi']\n",
            "orange\n"
          ]
        }
      ]
    },
    {
      "cell_type": "code",
      "source": [
        "(*y1, y2, y3) = x\n",
        "\n",
        "print(y1)\n",
        "print(y2)\n",
        "print(y3)"
      ],
      "metadata": {
        "colab": {
          "base_uri": "https://localhost:8080/"
        },
        "id": "Rg3or2CFdaOo",
        "outputId": "731229d4-a3b0-480f-9c0e-b61792127a78"
      },
      "execution_count": 86,
      "outputs": [
        {
          "output_type": "stream",
          "name": "stdout",
          "text": [
            "['apple', 'banana', 'grapes']\n",
            "kiwi\n",
            "orange\n"
          ]
        }
      ]
    },
    {
      "cell_type": "code",
      "source": [
        "len(x)"
      ],
      "metadata": {
        "colab": {
          "base_uri": "https://localhost:8080/"
        },
        "id": "OwkT5HmmdezB",
        "outputId": "dd855cc6-a19b-4a7d-eeab-0f964dae8934"
      },
      "execution_count": 87,
      "outputs": [
        {
          "output_type": "execute_result",
          "data": {
            "text/plain": [
              "5"
            ]
          },
          "metadata": {},
          "execution_count": 87
        }
      ]
    },
    {
      "cell_type": "code",
      "source": [
        "x.count('kiwi')"
      ],
      "metadata": {
        "colab": {
          "base_uri": "https://localhost:8080/"
        },
        "id": "iwMxClrgdjss",
        "outputId": "230829d9-ab91-46f1-f5d0-e8d2e4ea1f1d"
      },
      "execution_count": 88,
      "outputs": [
        {
          "output_type": "execute_result",
          "data": {
            "text/plain": [
              "1"
            ]
          },
          "metadata": {},
          "execution_count": 88
        }
      ]
    },
    {
      "cell_type": "code",
      "source": [
        "number_tuple = (80, 81, 82, 85, 82)\n",
        "number_tuple.count(82)"
      ],
      "metadata": {
        "colab": {
          "base_uri": "https://localhost:8080/"
        },
        "id": "dgmPaQefdlrq",
        "outputId": "ec5492f9-5c89-41a7-c236-0b3a21e1fb6e"
      },
      "execution_count": 89,
      "outputs": [
        {
          "output_type": "execute_result",
          "data": {
            "text/plain": [
              "2"
            ]
          },
          "metadata": {},
          "execution_count": 89
        }
      ]
    },
    {
      "cell_type": "code",
      "source": [
        "person1 = ('chandra', 'adak', 35)\n",
        "print(person1)"
      ],
      "metadata": {
        "colab": {
          "base_uri": "https://localhost:8080/"
        },
        "id": "W7ubPWF4du8J",
        "outputId": "b134fc9a-3fec-488b-e3d3-c65940520a17"
      },
      "execution_count": 90,
      "outputs": [
        {
          "output_type": "stream",
          "name": "stdout",
          "text": [
            "('chandra', 'adak', 35)\n"
          ]
        }
      ]
    },
    {
      "cell_type": "code",
      "source": [
        "type(person1)"
      ],
      "metadata": {
        "colab": {
          "base_uri": "https://localhost:8080/"
        },
        "id": "mx3tu7cgd1q-",
        "outputId": "28c5aeb4-e623-41f1-aff3-586b383b983f"
      },
      "execution_count": 92,
      "outputs": [
        {
          "output_type": "execute_result",
          "data": {
            "text/plain": [
              "tuple"
            ]
          },
          "metadata": {},
          "execution_count": 92
        }
      ]
    },
    {
      "cell_type": "markdown",
      "source": [
        "*   **List []:** ordered, changable\n",
        "\n",
        "*   **Tuple ():** ordered, unchangable\n",
        "\n",
        "*   **Set {} :** unordered, unchangable, unindexed\n",
        "\n",
        "\n"
      ],
      "metadata": {
        "id": "jlzini6geBrv"
      }
    },
    {
      "cell_type": "code",
      "source": [
        "set1 = {1,2,3, 7, 5}\n",
        "print(set1)"
      ],
      "metadata": {
        "colab": {
          "base_uri": "https://localhost:8080/"
        },
        "id": "OUpE9wvDd4ZT",
        "outputId": "31ec6713-1c0e-4fa4-9335-3521465d5859"
      },
      "execution_count": 93,
      "outputs": [
        {
          "output_type": "stream",
          "name": "stdout",
          "text": [
            "{1, 2, 3, 5, 7}\n"
          ]
        }
      ]
    },
    {
      "cell_type": "code",
      "source": [
        "type(set1)"
      ],
      "metadata": {
        "colab": {
          "base_uri": "https://localhost:8080/"
        },
        "id": "EeF_phrTereW",
        "outputId": "a701408c-0e4d-448e-e02a-d12cfd747140"
      },
      "execution_count": 95,
      "outputs": [
        {
          "output_type": "execute_result",
          "data": {
            "text/plain": [
              "set"
            ]
          },
          "metadata": {},
          "execution_count": 95
        }
      ]
    },
    {
      "cell_type": "code",
      "source": [
        "len(set1)"
      ],
      "metadata": {
        "colab": {
          "base_uri": "https://localhost:8080/"
        },
        "id": "0ec34_pVekZh",
        "outputId": "63b385bf-dfc9-4436-aaab-37ce42edc44d"
      },
      "execution_count": 96,
      "outputs": [
        {
          "output_type": "execute_result",
          "data": {
            "text/plain": [
              "5"
            ]
          },
          "metadata": {},
          "execution_count": 96
        }
      ]
    },
    {
      "cell_type": "code",
      "source": [
        "for i in set1:\n",
        "  print(i)"
      ],
      "metadata": {
        "colab": {
          "base_uri": "https://localhost:8080/"
        },
        "id": "tX9nhKZ4eowD",
        "outputId": "7d89d9d8-6dd7-4fea-e039-28227d064500"
      },
      "execution_count": 97,
      "outputs": [
        {
          "output_type": "stream",
          "name": "stdout",
          "text": [
            "1\n",
            "2\n",
            "3\n",
            "5\n",
            "7\n"
          ]
        }
      ]
    },
    {
      "cell_type": "code",
      "source": [
        "print(5 in set1)"
      ],
      "metadata": {
        "colab": {
          "base_uri": "https://localhost:8080/"
        },
        "id": "UuMRkYsueyly",
        "outputId": "59b71f7c-85a1-42db-cafb-73f15995c54c"
      },
      "execution_count": 98,
      "outputs": [
        {
          "output_type": "stream",
          "name": "stdout",
          "text": [
            "True\n"
          ]
        }
      ]
    },
    {
      "cell_type": "code",
      "source": [
        "set2 = {'chandra', 35}\n",
        "print(set2)"
      ],
      "metadata": {
        "colab": {
          "base_uri": "https://localhost:8080/"
        },
        "id": "xDZBaRZhe2PQ",
        "outputId": "300e6e8e-2b03-4b46-d678-a22029a0ebee"
      },
      "execution_count": 99,
      "outputs": [
        {
          "output_type": "stream",
          "name": "stdout",
          "text": [
            "{'chandra', 35}\n"
          ]
        }
      ]
    },
    {
      "cell_type": "code",
      "source": [],
      "metadata": {
        "id": "5ZVX1A61e_Lp"
      },
      "execution_count": null,
      "outputs": []
    }
  ]
}