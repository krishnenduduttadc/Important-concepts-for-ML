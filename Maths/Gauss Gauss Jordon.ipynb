{
 "cells": [
  {
   "cell_type": "code",
   "execution_count": 1,
   "id": "415bb969-7c76-4e7b-9b76-0ac3602896d2",
   "metadata": {},
   "outputs": [],
   "source": [
    "#Gauss elimination"
   ]
  },
  {
   "cell_type": "code",
   "execution_count": 1,
   "id": "8c691717-5f93-4213-b2a1-09fed58f5075",
   "metadata": {},
   "outputs": [
    {
     "name": "stdout",
     "output_type": "stream",
     "text": [
      "Row Echelon Form (REF) using Gauss Elimination:\n",
      "Matrix([[2, 1, -1, 8], [0, 1, 1, 2], [0, 0, -2, 2]])\n"
     ]
    }
   ],
   "source": [
    "from sympy import Matrix\n",
    "\n",
    "# Define the augmented matrix [A|b]\n",
    "aug_matrix = Matrix([\n",
    "    [2, 1, -1, 8],\n",
    "    [-3, -1, 2, -11],\n",
    "    [-2, 1, 2, -3]\n",
    "])\n",
    "\n",
    "# Apply Gauss Elimination (echelon form)\n",
    "ref = aug_matrix.echelon_form()\n",
    "\n",
    "print(\"Row Echelon Form (REF) using Gauss Elimination:\")\n",
    "print(ref)\n"
   ]
  },
  {
   "cell_type": "code",
   "execution_count": 5,
   "id": "41830541-faf9-422b-bced-62d5c6e59ee5",
   "metadata": {},
   "outputs": [],
   "source": [
    "#Gauss Jordon method"
   ]
  },
  {
   "cell_type": "code",
   "execution_count": 3,
   "id": "129a0a2a-6e82-4c07-9e87-918c27de36fa",
   "metadata": {},
   "outputs": [
    {
     "name": "stdout",
     "output_type": "stream",
     "text": [
      "Reduced Row Echelon Form (RREF):\n",
      "Matrix([[1, 0, 0, 1], [0, 1, 0, 2], [0, 0, 1, 3]])\n"
     ]
    }
   ],
   "source": [
    "from sympy import Matrix\n",
    "\n",
    "# Define augmented matrix [A|b]\n",
    "aug_matrix = Matrix([\n",
    "    [2, 1, 2, 10],\n",
    "    [1, 2, 1, 8],\n",
    "    [3, 1, -1, 2]\n",
    "])\n",
    "\n",
    "# Apply Gauss-Jordan Elimination (get RREF)\n",
    "rref_matrix, pivot_columns = aug_matrix.rref()\n",
    "\n",
    "print(\"Reduced Row Echelon Form (RREF):\")\n",
    "print(rref_matrix)\n"
   ]
  },
  {
   "cell_type": "code",
   "execution_count": null,
   "id": "ee2589c4-c0b9-432b-9892-20e4f2d9b22e",
   "metadata": {},
   "outputs": [],
   "source": []
  }
 ],
 "metadata": {
  "kernelspec": {
   "display_name": "Python [conda env:base] *",
   "language": "python",
   "name": "conda-base-py"
  },
  "language_info": {
   "codemirror_mode": {
    "name": "ipython",
    "version": 3
   },
   "file_extension": ".py",
   "mimetype": "text/x-python",
   "name": "python",
   "nbconvert_exporter": "python",
   "pygments_lexer": "ipython3",
   "version": "3.12.7"
  }
 },
 "nbformat": 4,
 "nbformat_minor": 5
}
