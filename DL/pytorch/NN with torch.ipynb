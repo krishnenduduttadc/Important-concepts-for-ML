{
 "cells": [
  {
   "cell_type": "code",
   "execution_count": 3,
   "id": "0ddbf060-284e-4910-bc9d-c1980947c6c0",
   "metadata": {},
   "outputs": [
    {
     "name": "stdout",
     "output_type": "stream",
     "text": [
      "Input: tensor([[2.]])\n",
      "Output: tensor([[-0.0874]], grad_fn=<AddmmBackward0>)\n"
     ]
    }
   ],
   "source": [
    "import torch\n",
    "import torch.nn as nn\n",
    "\n",
    "                       \n",
    "\n",
    "# Define the network using nn.Sequential\n",
    "model = nn.Sequential(\n",
    "    nn.Linear(1, 10),  # Input layer (1 input -> 10 hidden units)\n",
    "    nn.ReLU(),         # Activation function\n",
    "    nn.Linear(10, 1)   # Output layer (10 hidden units -> 1 output)\n",
    ")\n",
    "\n",
    "# Example input\n",
    "x = torch.tensor([[2.0]])  # batch size = 1, input feature = 1\n",
    "y = model(x)\n",
    "\n",
    "print(\"Input:\", x)\n",
    "print(\"Output:\", y)\n"
   ]
  },
  {
   "cell_type": "code",
   "execution_count": 6,
   "id": "4ca4e2d6-1574-47b0-b8d0-e24a67961953",
   "metadata": {},
   "outputs": [],
   "source": [
    "#Approximate a function like  y=x^2+3"
   ]
  },
  {
   "cell_type": "code",
   "execution_count": 3,
   "id": "ec850864-dbef-4a6d-9aa7-cb63db5c20bb",
   "metadata": {},
   "outputs": [
    {
     "name": "stdout",
     "output_type": "stream",
     "text": [
      "tensor([[-2.1277]], grad_fn=<AddmmBackward0>)\n"
     ]
    }
   ],
   "source": [
    "import torch\n",
    "import torch.nn as nn\n",
    "\n",
    "model = nn.Linear(1, 1)\n",
    "x = torch.tensor([[2.0]])\n",
    "y = model(x)\n",
    "print(y)\n",
    "\n"
   ]
  },
  {
   "cell_type": "code",
   "execution_count": 1,
   "id": "4004f3ee-13ff-4665-89da-417356312cf5",
   "metadata": {},
   "outputs": [
    {
     "name": "stdout",
     "output_type": "stream",
     "text": [
      "False\n"
     ]
    }
   ],
   "source": [
    "import torch\n",
    "print(torch.cuda.is_available())\n"
   ]
  },
  {
   "cell_type": "code",
   "execution_count": null,
   "id": "38716625-6b93-4d2a-928e-fdc6b7813324",
   "metadata": {},
   "outputs": [],
   "source": []
  }
 ],
 "metadata": {
  "kernelspec": {
   "display_name": "Python [conda env:base] *",
   "language": "python",
   "name": "conda-base-py"
  },
  "language_info": {
   "codemirror_mode": {
    "name": "ipython",
    "version": 3
   },
   "file_extension": ".py",
   "mimetype": "text/x-python",
   "name": "python",
   "nbconvert_exporter": "python",
   "pygments_lexer": "ipython3",
   "version": "3.12.7"
  }
 },
 "nbformat": 4,
 "nbformat_minor": 5
}
