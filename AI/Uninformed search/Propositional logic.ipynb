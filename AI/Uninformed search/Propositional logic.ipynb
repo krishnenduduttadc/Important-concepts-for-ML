{
 "cells": [
  {
   "cell_type": "code",
   "execution_count": 1,
   "id": "27cf75ed-4c01-4d91-b76d-a938d6528d62",
   "metadata": {},
   "outputs": [
    {
     "name": "stdout",
     "output_type": "stream",
     "text": [
      "Is the ground wet? True\n"
     ]
    }
   ],
   "source": [
    "# Define propositions\n",
    "raining = True  # \"It is raining.\"\n",
    "ground_wet = False  # We will deduce this.\n",
    "\n",
    "# Rule: If it is raining, then the ground is wet\n",
    "if raining:\n",
    "    ground_wet = True\n",
    "\n",
    "# Result\n",
    "print(f\"Is the ground wet? {ground_wet}\")\n"
   ]
  },
  {
   "cell_type": "code",
   "execution_count": 3,
   "id": "fd96251c-c50c-4148-b515-06a29046d7cc",
   "metadata": {},
   "outputs": [
    {
     "name": "stdout",
     "output_type": "stream",
     "text": [
      "The ground is wet!\n"
     ]
    }
   ],
   "source": [
    "from sympy import symbols\n",
    "from sympy.logic.boolalg import Implies\n",
    "\n",
    "# Define symbols\n",
    "Raining, GroundWet = symbols('Raining GroundWet')\n",
    "\n",
    "# Define the rule: If it is raining, then the ground is wet\n",
    "rule = Implies(Raining, GroundWet)\n",
    "\n",
    "# Assume it is raining\n",
    "facts = {Raining: True}\n",
    "\n",
    "# Check what happens\n",
    "if facts[Raining] and rule.subs(facts):\n",
    "    print(\"The ground is wet!\")\n",
    "else:\n",
    "    print(\"We can't conclude that the ground is wet.\")\n"
   ]
  },
  {
   "cell_type": "code",
   "execution_count": null,
   "id": "c103c1f1-7933-4adb-a465-e1e9718cc99d",
   "metadata": {},
   "outputs": [],
   "source": []
  }
 ],
 "metadata": {
  "kernelspec": {
   "display_name": "Python [conda env:base] *",
   "language": "python",
   "name": "conda-base-py"
  },
  "language_info": {
   "codemirror_mode": {
    "name": "ipython",
    "version": 3
   },
   "file_extension": ".py",
   "mimetype": "text/x-python",
   "name": "python",
   "nbconvert_exporter": "python",
   "pygments_lexer": "ipython3",
   "version": "3.12.7"
  }
 },
 "nbformat": 4,
 "nbformat_minor": 5
}
