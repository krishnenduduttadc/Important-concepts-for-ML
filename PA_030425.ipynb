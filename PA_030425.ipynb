{
 "cells": [
  {
   "cell_type": "markdown",
   "metadata": {
    "id": "Rbo3mzH7QGqa"
   },
   "source": [
    "# **27 March 2025**"
   ]
  },
  {
   "cell_type": "markdown",
   "metadata": {
    "id": "y3M0kY0gCPNB"
   },
   "source": [
    "Arithmatic operations"
   ]
  },
  {
   "cell_type": "code",
   "execution_count": 3,
   "metadata": {
    "colab": {
     "base_uri": "https://localhost:8080/"
    },
    "id": "y2mSgacxB933",
    "outputId": "8586eb99-e896-4c65-b0f9-0f4967cd46eb"
   },
   "outputs": [
    {
     "name": "stdout",
     "output_type": "stream",
     "text": [
      "3.3333333333333335\n"
     ]
    }
   ],
   "source": [
    "a = 10\n",
    "b = 3\n",
    "c = a/b\n",
    "print(c)"
   ]
  },
  {
   "cell_type": "code",
   "execution_count": 4,
   "metadata": {
    "colab": {
     "base_uri": "https://localhost:8080/"
    },
    "id": "FZXLxQr3CNj0",
    "outputId": "06e47894-7790-4a6e-9507-100333daffee"
   },
   "outputs": [
    {
     "name": "stdout",
     "output_type": "stream",
     "text": [
      "3\n"
     ]
    }
   ],
   "source": [
    "a = 10\n",
    "b = 3\n",
    "c = int(a/b)\n",
    "print(c)"
   ]
  },
  {
   "cell_type": "code",
   "execution_count": 5,
   "metadata": {
    "colab": {
     "base_uri": "https://localhost:8080/"
    },
    "id": "nxlKY06hCUlq",
    "outputId": "61ae6d0e-cb9e-4ba8-b2c2-094be0b1cd36"
   },
   "outputs": [
    {
     "name": "stdout",
     "output_type": "stream",
     "text": [
      "3\n"
     ]
    }
   ],
   "source": [
    "a = 10\n",
    "b = 3\n",
    "c = a//b    # floor division\n",
    "print(c)"
   ]
  },
  {
   "cell_type": "code",
   "execution_count": 6,
   "metadata": {
    "colab": {
     "base_uri": "https://localhost:8080/"
    },
    "id": "afrQJZH2CYV0",
    "outputId": "f6005324-0aa9-41fe-bc72-b488c0b3e6fd"
   },
   "outputs": [
    {
     "name": "stdout",
     "output_type": "stream",
     "text": [
      "1\n"
     ]
    }
   ],
   "source": [
    "a = 10\n",
    "b = 3\n",
    "c = a % b    # modulus\n",
    "print(c)"
   ]
  },
  {
   "cell_type": "code",
   "execution_count": 7,
   "metadata": {
    "colab": {
     "base_uri": "https://localhost:8080/"
    },
    "id": "ezxuqZq5Cltu",
    "outputId": "9bd7e63a-d79f-4753-e309-f5c5adde1c9e"
   },
   "outputs": [
    {
     "name": "stdout",
     "output_type": "stream",
     "text": [
      "30\n"
     ]
    }
   ],
   "source": [
    "a = 10\n",
    "b = 3\n",
    "c = a * b\n",
    "print(c)"
   ]
  },
  {
   "cell_type": "code",
   "execution_count": 8,
   "metadata": {
    "colab": {
     "base_uri": "https://localhost:8080/"
    },
    "id": "0SCRoc0LCpeu",
    "outputId": "0c4fe7ba-8c7f-45cc-a289-dbb59cdcc6f5"
   },
   "outputs": [
    {
     "name": "stdout",
     "output_type": "stream",
     "text": [
      "1000\n"
     ]
    }
   ],
   "source": [
    "a = 10\n",
    "b = 3\n",
    "c = a ** b    # exponential\n",
    "print(c)"
   ]
  },
  {
   "cell_type": "code",
   "execution_count": 9,
   "metadata": {
    "colab": {
     "base_uri": "https://localhost:8080/"
    },
    "id": "VCl8gg8aCr4V",
    "outputId": "9678a18d-3fde-42be-9702-591d18f9e8b1"
   },
   "outputs": [
    {
     "name": "stdout",
     "output_type": "stream",
     "text": [
      "13\n"
     ]
    }
   ],
   "source": [
    "a = 10\n",
    "b = 3\n",
    "c = a + b\n",
    "print(c)"
   ]
  },
  {
   "cell_type": "code",
   "execution_count": 10,
   "metadata": {
    "colab": {
     "base_uri": "https://localhost:8080/"
    },
    "id": "8p_9rLMJCyl_",
    "outputId": "dbdb40d3-f37c-4f29-945b-2894dccd52b2"
   },
   "outputs": [
    {
     "name": "stdout",
     "output_type": "stream",
     "text": [
      "13\n"
     ]
    }
   ],
   "source": [
    "a = 10\n",
    "b = 3\n",
    "a = a + b  # first calculate (a+b), then updates the value of a\n",
    "print(a)"
   ]
  },
  {
   "cell_type": "code",
   "execution_count": 11,
   "metadata": {
    "colab": {
     "base_uri": "https://localhost:8080/"
    },
    "id": "qYJV8IznC2A9",
    "outputId": "ecc77228-0c2a-42bc-bb1e-cb635b5a31bc"
   },
   "outputs": [
    {
     "name": "stdout",
     "output_type": "stream",
     "text": [
      "12\n"
     ]
    }
   ],
   "source": [
    "a = 10\n",
    "a = a + 2\n",
    "print(a)"
   ]
  },
  {
   "cell_type": "code",
   "execution_count": 12,
   "metadata": {
    "colab": {
     "base_uri": "https://localhost:8080/"
    },
    "id": "C5Hgi0gLC_lF",
    "outputId": "ca197e4e-492f-46a9-ffbb-1e3863b5d0ca"
   },
   "outputs": [
    {
     "name": "stdout",
     "output_type": "stream",
     "text": [
      "12\n"
     ]
    }
   ],
   "source": [
    "a = 10\n",
    "a += 2           # a = a + 2\n",
    "print(a)"
   ]
  },
  {
   "cell_type": "code",
   "execution_count": 13,
   "metadata": {
    "colab": {
     "base_uri": "https://localhost:8080/"
    },
    "id": "_W1ivYBfDElP",
    "outputId": "25a61956-06c9-4e64-969a-dcc4835ee26e"
   },
   "outputs": [
    {
     "name": "stdout",
     "output_type": "stream",
     "text": [
      "13\n"
     ]
    }
   ],
   "source": [
    "a = 10\n",
    "b = 3\n",
    "a += b    # a = a + b\n",
    "print(a)"
   ]
  },
  {
   "cell_type": "code",
   "execution_count": 14,
   "metadata": {
    "colab": {
     "base_uri": "https://localhost:8080/"
    },
    "id": "yEkmcaduDMIW",
    "outputId": "1c1afd79-72fc-4847-c1b7-8bcffef57fb1"
   },
   "outputs": [
    {
     "name": "stdout",
     "output_type": "stream",
     "text": [
      "20\n"
     ]
    }
   ],
   "source": [
    "a = 10\n",
    "a *= 2           # a = a * 2\n",
    "print(a)"
   ]
  },
  {
   "cell_type": "code",
   "execution_count": 15,
   "metadata": {
    "colab": {
     "base_uri": "https://localhost:8080/"
    },
    "id": "bukL1FPJDTSm",
    "outputId": "ea80cc28-04e7-48ac-e95d-6ca7c2d51c36"
   },
   "outputs": [
    {
     "name": "stdout",
     "output_type": "stream",
     "text": [
      "3\n"
     ]
    }
   ],
   "source": [
    "print(x:=3)"
   ]
  },
  {
   "cell_type": "code",
   "execution_count": 16,
   "metadata": {
    "colab": {
     "base_uri": "https://localhost:8080/"
    },
    "id": "RuX_HsJlDYKK",
    "outputId": "e496791e-29cd-4d1d-ed4d-53427d9a1bad"
   },
   "outputs": [
    {
     "data": {
      "text/plain": [
       "3"
      ]
     },
     "execution_count": 16,
     "metadata": {},
     "output_type": "execute_result"
    }
   ],
   "source": [
    "x"
   ]
  },
  {
   "cell_type": "code",
   "execution_count": 17,
   "metadata": {
    "colab": {
     "base_uri": "https://localhost:8080/",
     "height": 147
    },
    "id": "WWC3D96LDZSK",
    "outputId": "d4a8d378-d8f4-4a38-d276-066427307b66"
   },
   "outputs": [
    {
     "ename": "TypeError",
     "evalue": "'x' is an invalid keyword argument for print()",
     "output_type": "error",
     "traceback": [
      "\u001b[1;31m---------------------------------------------------------------------------\u001b[0m",
      "\u001b[1;31mTypeError\u001b[0m                                 Traceback (most recent call last)",
      "Cell \u001b[1;32mIn[17], line 1\u001b[0m\n\u001b[1;32m----> 1\u001b[0m \u001b[38;5;28mprint\u001b[39m(x\u001b[38;5;241m=\u001b[39m\u001b[38;5;241m3\u001b[39m)\n",
      "\u001b[1;31mTypeError\u001b[0m: 'x' is an invalid keyword argument for print()"
     ]
    }
   ],
   "source": [
    "print(x=3)"
   ]
  },
  {
   "cell_type": "code",
   "execution_count": null,
   "metadata": {
    "colab": {
     "base_uri": "https://localhost:8080/"
    },
    "id": "Vj1-nnmjDfMj",
    "outputId": "463b633c-23c9-433f-e1c2-5ca221e02b6a"
   },
   "outputs": [],
   "source": [
    "# print(x:=3)\n",
    "\n",
    "x = 3\n",
    "print(x)"
   ]
  },
  {
   "cell_type": "markdown",
   "metadata": {
    "id": "Q51XejrNDowB"
   },
   "source": [
    "# **if-elif-else**"
   ]
  },
  {
   "cell_type": "code",
   "execution_count": null,
   "metadata": {
    "colab": {
     "base_uri": "https://localhost:8080/"
    },
    "id": "K2TIjJxtDlXf",
    "outputId": "21ea6c31-b668-4ba2-d889-209732f5b2dc"
   },
   "outputs": [],
   "source": [
    "a = 1\n",
    "b = 2\n",
    "if b>a:\n",
    "  print('b is greater than a')  # be careful about indent"
   ]
  },
  {
   "cell_type": "code",
   "execution_count": null,
   "metadata": {
    "colab": {
     "base_uri": "https://localhost:8080/"
    },
    "id": "RPyZnkgfDyL1",
    "outputId": "b3e732d8-2042-4f76-8997-813c36235c11"
   },
   "outputs": [],
   "source": [
    "a = 10\n",
    "b = 2\n",
    "if b>a:\n",
    "  print('b is greater than a')\n",
    "else:\n",
    "  print('a is greater than b')"
   ]
  },
  {
   "cell_type": "code",
   "execution_count": null,
   "metadata": {
    "colab": {
     "base_uri": "https://localhost:8080/"
    },
    "id": "h2CTlJtqEAuG",
    "outputId": "3cc3b5b3-6a7c-426d-a7d2-a127bc5064a8"
   },
   "outputs": [],
   "source": [
    "a = 10\n",
    "b = 10\n",
    "if b>a:\n",
    "  print('b is greater than a')\n",
    "elif a==b:\n",
    "  print('a and b are equal')\n",
    "else:\n",
    "  print('a is greater than b')"
   ]
  },
  {
   "cell_type": "code",
   "execution_count": null,
   "metadata": {
    "colab": {
     "base_uri": "https://localhost:8080/"
    },
    "id": "RT8O4YBeEEG0",
    "outputId": "88bdfac8-1ffd-44a8-c54e-ed24879861ff"
   },
   "outputs": [],
   "source": [
    "a = 200\n",
    "b = 2000\n",
    "if b>a: print('b is greater than a')\n",
    "elif a==b: print('a and b are equal')\n",
    "else: print('a is greater than b')"
   ]
  },
  {
   "cell_type": "markdown",
   "metadata": {
    "id": "D5WNewQfEZBw"
   },
   "source": [
    " *find maximum among 3 numbers*"
   ]
  },
  {
   "cell_type": "code",
   "execution_count": null,
   "metadata": {
    "colab": {
     "base_uri": "https://localhost:8080/"
    },
    "id": "TeN2-dClETHg",
    "outputId": "37e49279-7e22-4092-f120-f5fa3134dcc6"
   },
   "outputs": [],
   "source": [
    "a = 10\n",
    "b = 20\n",
    "c = 3\n",
    "\n",
    "if (a>b) and (a>c): print('a is max')\n",
    "if (b>a) and (b>c): print('b is max')\n",
    "if (c>a) and (c>b): print('c is max')"
   ]
  },
  {
   "cell_type": "markdown",
   "metadata": {
    "id": "itDclnCHE3PS"
   },
   "source": [
    "*nested if-else*"
   ]
  },
  {
   "cell_type": "code",
   "execution_count": null,
   "metadata": {
    "colab": {
     "base_uri": "https://localhost:8080/"
    },
    "id": "BUbuLREuEz-_",
    "outputId": "2f30eea2-7e8d-4751-dc7c-84b8f5db674b"
   },
   "outputs": [],
   "source": []
  },
  {
   "cell_type": "code",
   "execution_count": null,
   "metadata": {
    "colab": {
     "base_uri": "https://localhost:8080/"
    },
    "id": "z70BHl-eF7Nq",
    "outputId": "94235856-8b2e-41b2-aabb-5d6728293674"
   },
   "outputs": [],
   "source": [
    "a = 1\n",
    "b = 2\n",
    "if not a>b: print('b is greater than a')"
   ]
  },
  {
   "cell_type": "code",
   "execution_count": null,
   "metadata": {
    "colab": {
     "base_uri": "https://localhost:8080/"
    },
    "id": "ZGycRcHXG78Y",
    "outputId": "d8315b3c-cb43-4c77-e596-8bf9cbadef16"
   },
   "outputs": [],
   "source": [
    "a = 1\n",
    "b = 2\n",
    "if a!=b: print('b is not equal to a')"
   ]
  },
  {
   "cell_type": "markdown",
   "metadata": {
    "id": "wCDEWAYuHECw"
   },
   "source": [
    "Home work: Calculate FD maturity amount.\n",
    "Take required input"
   ]
  },
  {
   "cell_type": "markdown",
   "metadata": {
    "id": "EC6fecgSHZ8J"
   },
   "source": [
    "# **LOOP**"
   ]
  },
  {
   "cell_type": "code",
   "execution_count": null,
   "metadata": {
    "colab": {
     "base_uri": "https://localhost:8080/"
    },
    "id": "6AImRNDtHC-O",
    "outputId": "222c3bae-17d8-4be2-918a-e11c5109b807"
   },
   "outputs": [],
   "source": [
    "i = 1        # initialization\n",
    "while i<5:   # if this condition is true, then ony you enter in the loop\n",
    "  print(i)\n",
    "  i = i+1"
   ]
  },
  {
   "cell_type": "code",
   "execution_count": null,
   "metadata": {
    "id": "zu8Vah-hHg1L"
   },
   "outputs": [],
   "source": [
    "i = 1\n",
    "while i<5:\n",
    "  print(i) # infinite loop\n",
    "i = i+1  # this line is not insde the loop"
   ]
  },
  {
   "cell_type": "code",
   "execution_count": null,
   "metadata": {
    "colab": {
     "base_uri": "https://localhost:8080/"
    },
    "id": "dfkhpmD3IVyZ",
    "outputId": "936d624b-cbeb-48a9-a81a-5146a71b5dff"
   },
   "outputs": [],
   "source": [
    "i = 1\n",
    "while i<5:\n",
    "  print(i)\n",
    "  i = i+1\n",
    "  print('hi')"
   ]
  },
  {
   "cell_type": "code",
   "execution_count": null,
   "metadata": {
    "colab": {
     "base_uri": "https://localhost:8080/"
    },
    "id": "GKMZNDwcIkRF",
    "outputId": "06769ea1-391b-4e29-f2e0-ecff6e1bca46"
   },
   "outputs": [],
   "source": [
    "i = 1\n",
    "while i<5:\n",
    "  print(i)\n",
    "  i = i+1\n",
    "print('hi')  # not in the loop"
   ]
  },
  {
   "cell_type": "code",
   "execution_count": null,
   "metadata": {
    "colab": {
     "base_uri": "https://localhost:8080/"
    },
    "id": "b3ehsJbuItjt",
    "outputId": "b27a2b94-63b9-4c19-acc3-d4d4503e435e"
   },
   "outputs": [],
   "source": [
    "i = 1\n",
    "while i<5:\n",
    "  print(i)\n",
    "\n",
    "\n",
    "  i = i+1"
   ]
  },
  {
   "cell_type": "code",
   "execution_count": null,
   "metadata": {
    "colab": {
     "base_uri": "https://localhost:8080/"
    },
    "id": "Cn5dH-u8Iz_u",
    "outputId": "b9eed1fe-8bc2-4d49-e576-5dfc8b194892"
   },
   "outputs": [],
   "source": [
    "i = 1\n",
    "while i<5:\n",
    "  print(i)\n",
    "  i = i+1"
   ]
  },
  {
   "cell_type": "code",
   "execution_count": null,
   "metadata": {
    "colab": {
     "base_uri": "https://localhost:8080/"
    },
    "id": "fwfGTFeEI2Pi",
    "outputId": "3adde9c4-9931-4b25-e3c9-b68c1b628906"
   },
   "outputs": [],
   "source": [
    "i = 1\n",
    "while i<7:\n",
    "  print(i)\n",
    "\n",
    "\n",
    "  i = i+1"
   ]
  },
  {
   "cell_type": "code",
   "execution_count": null,
   "metadata": {
    "colab": {
     "base_uri": "https://localhost:8080/"
    },
    "id": "Adr8tL-0I_Fx",
    "outputId": "76a1d188-aee6-4784-d778-f037468c8e49"
   },
   "outputs": [],
   "source": [
    "i = 1\n",
    "while i<7:\n",
    "  print(i)\n",
    "  if i == 3:  # if this condition is TRUE, then break out from the LOOP\n",
    "    break\n",
    "  i = i+1"
   ]
  },
  {
   "cell_type": "code",
   "execution_count": null,
   "metadata": {
    "colab": {
     "base_uri": "https://localhost:8080/"
    },
    "id": "9adkERDxJHJ_",
    "outputId": "6da6fc9c-4b7c-47cc-dfaa-b613a997462f"
   },
   "outputs": [],
   "source": [
    "i = 1\n",
    "while i<7:\n",
    "\n",
    "  if i == 3:\n",
    "    break\n",
    "  print(i)\n",
    "  i = i+1"
   ]
  },
  {
   "cell_type": "code",
   "execution_count": null,
   "metadata": {
    "colab": {
     "base_uri": "https://localhost:8080/"
    },
    "id": "qCiENUY8JhMX",
    "outputId": "7f93a388-4b39-4c9f-8d27-b30e89382985"
   },
   "outputs": [],
   "source": [
    "i = 1\n",
    "while i<7:\n",
    "\n",
    "  if i == 3:\n",
    "    break\n",
    "\n",
    "  i = i+1\n",
    "  print(i)"
   ]
  },
  {
   "cell_type": "code",
   "execution_count": null,
   "metadata": {
    "colab": {
     "base_uri": "https://localhost:8080/"
    },
    "id": "a8Vnn8feJ2mx",
    "outputId": "ef77a93b-32c8-491b-c922-2433fada7205"
   },
   "outputs": [],
   "source": [
    "i = 0\n",
    "while i<7:\n",
    "  i = i+1\n",
    "  if i == 3:\n",
    "    continue\n",
    "  print(i)"
   ]
  },
  {
   "cell_type": "code",
   "execution_count": null,
   "metadata": {
    "colab": {
     "base_uri": "https://localhost:8080/"
    },
    "id": "DIlUOUo6LF7R",
    "outputId": "b62f51c4-d410-45f4-b556-7b75e6631567"
   },
   "outputs": [],
   "source": [
    "i = 0\n",
    "while i<7:\n",
    "  i = i+1\n",
    "  if i == 3:\n",
    "    continue\n",
    "  print(i)\n",
    "  print('hi')"
   ]
  },
  {
   "cell_type": "markdown",
   "metadata": {
    "id": "lLKbo0mqKxFB"
   },
   "source": [
    "*   **Break:** break the entire loop\n",
    "*   **Continue:** skip the remaining entire part for the current iteration\n",
    "\n"
   ]
  },
  {
   "cell_type": "code",
   "execution_count": null,
   "metadata": {
    "colab": {
     "base_uri": "https://localhost:8080/"
    },
    "id": "aVwP0cxGKIt4",
    "outputId": "4ac419cc-8c20-42a8-e8c2-27553a090fb9"
   },
   "outputs": [],
   "source": [
    "i = 1\n",
    "while i<6: # if TRUE, then enter to the loop\n",
    "  print(i)\n",
    "  i += 1\n",
    "else: # after executing the loop, the above condition is false now\n",
    "  print('i is not less than 6 anymore')"
   ]
  },
  {
   "cell_type": "code",
   "execution_count": null,
   "metadata": {
    "colab": {
     "base_uri": "https://localhost:8080/"
    },
    "id": "Xt8JS_QXLsEi",
    "outputId": "68c1ae7a-44b1-44f8-ac04-36010c1317e1"
   },
   "outputs": [],
   "source": [
    "for i in range(4):\n",
    "  print(i)"
   ]
  },
  {
   "cell_type": "code",
   "execution_count": null,
   "metadata": {
    "colab": {
     "base_uri": "https://localhost:8080/"
    },
    "id": "p5OnxE3bLx-_",
    "outputId": "2df13474-c47d-48ea-c38a-7f55158af475"
   },
   "outputs": [],
   "source": [
    "i = 0\n",
    "while i<4:\n",
    "  print(i)\n",
    "  i=i+1"
   ]
  },
  {
   "cell_type": "code",
   "execution_count": null,
   "metadata": {
    "colab": {
     "base_uri": "https://localhost:8080/"
    },
    "id": "idx7Gz8lL5UX",
    "outputId": "66c6a3ba-5c3f-438d-dcb5-53666365aaed"
   },
   "outputs": [],
   "source": [
    "i = -1\n",
    "while i<3:\n",
    "  print(i := i+1)"
   ]
  },
  {
   "cell_type": "code",
   "execution_count": null,
   "metadata": {
    "colab": {
     "base_uri": "https://localhost:8080/"
    },
    "id": "_ZltdZGyMASM",
    "outputId": "b90ef9ec-6add-4aa9-dd5d-27fec4edd6eb"
   },
   "outputs": [],
   "source": [
    "for i in range(4):\n",
    "  print(i+1)"
   ]
  },
  {
   "cell_type": "markdown",
   "metadata": {
    "id": "SYTqPi_KMMC_"
   },
   "source": [
    "# **Function**"
   ]
  },
  {
   "cell_type": "code",
   "execution_count": null,
   "metadata": {
    "id": "CTICFxg2MJmo"
   },
   "outputs": [],
   "source": [
    "def fun():\n",
    "  print('hi')"
   ]
  },
  {
   "cell_type": "code",
   "execution_count": null,
   "metadata": {
    "colab": {
     "base_uri": "https://localhost:8080/"
    },
    "id": "XvOcaq-UMSv1",
    "outputId": "af53ed13-993d-4ec2-ca82-0ddc4e15a050"
   },
   "outputs": [],
   "source": [
    "for i in range(4):\n",
    "  fun()"
   ]
  },
  {
   "cell_type": "code",
   "execution_count": null,
   "metadata": {
    "id": "qJ95lEQbMVVI"
   },
   "outputs": [],
   "source": [
    "def add(a,b):\n",
    "  return a+b"
   ]
  },
  {
   "cell_type": "code",
   "execution_count": null,
   "metadata": {
    "colab": {
     "base_uri": "https://localhost:8080/"
    },
    "id": "iE53E8CrMau1",
    "outputId": "4669f986-b465-464e-da54-ab1ca00991a8"
   },
   "outputs": [],
   "source": [
    "add(2,5)"
   ]
  },
  {
   "cell_type": "markdown",
   "metadata": {
    "id": "lP5h4FFoMea9"
   },
   "source": [
    "H.W.: create a calculator by writing all posible arithmatic operations"
   ]
  },
  {
   "cell_type": "code",
   "execution_count": null,
   "metadata": {
    "colab": {
     "base_uri": "https://localhost:8080/"
    },
    "id": "6pgco7pVMcby",
    "outputId": "80b6fa3b-8d44-4267-d380-a44875d20bae"
   },
   "outputs": [],
   "source": [
    "print(10>9)"
   ]
  },
  {
   "cell_type": "code",
   "execution_count": null,
   "metadata": {
    "colab": {
     "base_uri": "https://localhost:8080/"
    },
    "id": "KbfsAz9QMpoP",
    "outputId": "f0a70f44-d7ba-45aa-fd61-f3a72bb363bb"
   },
   "outputs": [],
   "source": [
    "print(10>99)"
   ]
  },
  {
   "cell_type": "code",
   "execution_count": null,
   "metadata": {
    "colab": {
     "base_uri": "https://localhost:8080/"
    },
    "id": "knimp0elMsUz",
    "outputId": "cd006f43-aeea-4579-b0f0-6d3460b2f1e4"
   },
   "outputs": [],
   "source": [
    "print(10 != 9)"
   ]
  },
  {
   "cell_type": "code",
   "execution_count": null,
   "metadata": {
    "colab": {
     "base_uri": "https://localhost:8080/"
    },
    "id": "ooG7vcrqMvEu",
    "outputId": "bb7d7fd4-eb18-46a7-d67e-838611009822"
   },
   "outputs": [],
   "source": [
    "a = 10\n",
    "b = 10\n",
    "if a == b:\n",
    "  print('hi')\n",
    "else:\n",
    "  print('hello')"
   ]
  },
  {
   "cell_type": "code",
   "execution_count": null,
   "metadata": {
    "colab": {
     "base_uri": "https://localhost:8080/"
    },
    "id": "HAlwQeL8M4TC",
    "outputId": "132eac0b-7b73-4bdc-c6e4-0d706bb851b5"
   },
   "outputs": [],
   "source": [
    "a = 100\n",
    "b = 10\n",
    "if a > b:\n",
    "  print('hi')\n",
    "else:\n",
    "  print('hello')"
   ]
  },
  {
   "cell_type": "code",
   "execution_count": null,
   "metadata": {
    "colab": {
     "base_uri": "https://localhost:8080/"
    },
    "id": "_YoRNVgdM9x8",
    "outputId": "05365518-7fd6-409a-9141-2b9463f42a04"
   },
   "outputs": [],
   "source": [
    "a = 100\n",
    "b = 10\n",
    "if a < b:\n",
    "  print('hi')\n",
    "else:\n",
    "  print('hello')"
   ]
  },
  {
   "cell_type": "code",
   "execution_count": null,
   "metadata": {
    "colab": {
     "base_uri": "https://localhost:8080/"
    },
    "id": "lkROtX2XM_yq",
    "outputId": "cbdb8b65-e45d-40e5-8ded-d3ac8b6b9f3d"
   },
   "outputs": [],
   "source": [
    "a = 100\n",
    "b = 10\n",
    "if a >= b:\n",
    "  print('hi')\n",
    "else:\n",
    "  print('hello')"
   ]
  },
  {
   "cell_type": "code",
   "execution_count": null,
   "metadata": {
    "colab": {
     "base_uri": "https://localhost:8080/"
    },
    "id": "F2xS3rcLNBTg",
    "outputId": "239539fe-e08d-4d86-bd71-3b28e9b10be2"
   },
   "outputs": [],
   "source": [
    "a = 100\n",
    "b = 10\n",
    "if a <= b:\n",
    "  print('hi')\n",
    "else:\n",
    "  print('hello')"
   ]
  },
  {
   "cell_type": "code",
   "execution_count": null,
   "metadata": {
    "colab": {
     "base_uri": "https://localhost:8080/"
    },
    "id": "XsisYo0nNDU6",
    "outputId": "7e341b1e-401c-44bd-b46e-dd64b1eae1f1"
   },
   "outputs": [],
   "source": [
    "a = 100\n",
    "b = 10\n",
    "if a != b:\n",
    "  print('hi')\n",
    "else:\n",
    "  print('hello')"
   ]
  },
  {
   "cell_type": "code",
   "execution_count": null,
   "metadata": {
    "colab": {
     "base_uri": "https://localhost:8080/"
    },
    "id": "fmSqe6fPNNdH",
    "outputId": "f6744e12-26a8-40ef-b6f8-dff61da6e0e5"
   },
   "outputs": [],
   "source": [
    "x = 1\n",
    "x +=3 # x = x+3\n",
    "print(x)"
   ]
  },
  {
   "cell_type": "markdown",
   "metadata": {
    "id": "1pX8-uKbNK_d"
   },
   "source": [
    "*   arithmatic operators: +, -, /, //, %, //,\n",
    "*   assignment operators: =, +=, -=, /=, %=, *=\n",
    "*   logical operators: and, or, not\n",
    "\n"
   ]
  },
  {
   "cell_type": "code",
   "execution_count": null,
   "metadata": {
    "colab": {
     "base_uri": "https://localhost:8080/"
    },
    "id": "s3BwyyoFNFop",
    "outputId": "2d8d1c7a-413e-4ce2-fe07-3cefb762af02"
   },
   "outputs": [],
   "source": [
    "a = 10\n",
    "b = 9\n",
    "if a!=b or a>b:\n",
    "  print('hi')\n",
    "else:\n",
    "  print('hello')\n"
   ]
  },
  {
   "cell_type": "code",
   "execution_count": null,
   "metadata": {
    "colab": {
     "base_uri": "https://localhost:8080/"
    },
    "id": "U3pq7iCfN5uc",
    "outputId": "65f5d097-f0dd-41d6-a5f5-8dad2a52b61b"
   },
   "outputs": [],
   "source": [
    "a = 10\n",
    "b = 9\n",
    "if a!=b and a>b:\n",
    "  print('hi')\n",
    "else:\n",
    "  print('hello')\n"
   ]
  },
  {
   "cell_type": "code",
   "execution_count": null,
   "metadata": {
    "colab": {
     "base_uri": "https://localhost:8080/"
    },
    "id": "AzRm_SH8OBHO",
    "outputId": "74289a4b-4787-4596-aed8-b9819b5cbea5"
   },
   "outputs": [],
   "source": [
    "a = 10\n",
    "b = 90\n",
    "if a!=b and a>b:\n",
    "  print('hi')\n",
    "else:\n",
    "  print('hello')\n"
   ]
  },
  {
   "cell_type": "markdown",
   "metadata": {
    "id": "Iydo7hvUQP5G"
   },
   "source": [
    "# **29 March 2025**"
   ]
  },
  {
   "cell_type": "markdown",
   "metadata": {
    "id": "F6vBHpQRQueo"
   },
   "source": [
    "# **LIST**"
   ]
  },
  {
   "cell_type": "code",
   "execution_count": null,
   "metadata": {
    "id": "d72F0glzOFh5"
   },
   "outputs": [],
   "source": [
    "number = [10, 20, 35]"
   ]
  },
  {
   "cell_type": "code",
   "execution_count": null,
   "metadata": {
    "colab": {
     "base_uri": "https://localhost:8080/"
    },
    "id": "ohLZ4DSkQSR8",
    "outputId": "10a88317-9542-4b71-f745-2d2f794dbe30"
   },
   "outputs": [],
   "source": [
    "type(number)"
   ]
  },
  {
   "cell_type": "code",
   "execution_count": null,
   "metadata": {
    "colab": {
     "base_uri": "https://localhost:8080/"
    },
    "id": "eavUtEHsQ3uA",
    "outputId": "2f4afd46-484f-4735-8f13-2ed1ac61caf9"
   },
   "outputs": [],
   "source": [
    "number[0] # LIST index starts from 0"
   ]
  },
  {
   "cell_type": "code",
   "execution_count": null,
   "metadata": {
    "colab": {
     "base_uri": "https://localhost:8080/"
    },
    "id": "-gCt_3YNQ5_z",
    "outputId": "2f05cd9b-408f-4304-ff9f-d28220a4ecf3"
   },
   "outputs": [],
   "source": [
    "print(number[0], number[1], number[2])"
   ]
  },
  {
   "cell_type": "code",
   "execution_count": null,
   "metadata": {
    "id": "N2LSLcIPRIa5"
   },
   "outputs": [],
   "source": [
    "string_list = ['chandra', 'nath', 'adak']"
   ]
  },
  {
   "cell_type": "code",
   "execution_count": null,
   "metadata": {
    "colab": {
     "base_uri": "https://localhost:8080/"
    },
    "id": "6YcP-yHiRNFH",
    "outputId": "b849de1e-b9a0-44fd-ad4e-cc08dfb5a55a"
   },
   "outputs": [],
   "source": [
    "len(string_list)"
   ]
  },
  {
   "cell_type": "code",
   "execution_count": null,
   "metadata": {
    "colab": {
     "base_uri": "https://localhost:8080/"
    },
    "id": "qGPet4tGRPU_",
    "outputId": "9f9b0a9f-998e-4a8a-aedb-0f77fda530d2"
   },
   "outputs": [],
   "source": [
    "for i in string_list:\n",
    "  print(i)"
   ]
  },
  {
   "cell_type": "code",
   "execution_count": null,
   "metadata": {
    "colab": {
     "base_uri": "https://localhost:8080/"
    },
    "id": "g_kD5nWvRVFQ",
    "outputId": "d7f49868-fa80-48f9-84b5-7c44adb2f7d9"
   },
   "outputs": [],
   "source": [
    "i = 0\n",
    "while i < len(string_list):\n",
    "  print(string_list[i])\n",
    "  i = i+1"
   ]
  },
  {
   "cell_type": "code",
   "execution_count": null,
   "metadata": {
    "id": "AkRYYnv1Rdow"
   },
   "outputs": [],
   "source": [
    "string_list.append('india') #always at last"
   ]
  },
  {
   "cell_type": "code",
   "execution_count": null,
   "metadata": {
    "colab": {
     "base_uri": "https://localhost:8080/"
    },
    "id": "X-5knCY0Rkgm",
    "outputId": "2ca727cf-1749-4013-c3ce-d2c6569107f2"
   },
   "outputs": [],
   "source": [
    "for i in string_list:\n",
    "  print(i)"
   ]
  },
  {
   "cell_type": "code",
   "execution_count": null,
   "metadata": {
    "colab": {
     "base_uri": "https://localhost:8080/",
     "height": 36
    },
    "id": "cO7UKvGFRnUG",
    "outputId": "f6e67e9a-a240-4e0b-bda2-35f734967b57"
   },
   "outputs": [],
   "source": [
    "string_list.pop() # by default, removing last element"
   ]
  },
  {
   "cell_type": "code",
   "execution_count": null,
   "metadata": {
    "colab": {
     "base_uri": "https://localhost:8080/"
    },
    "id": "nNk_dXaOR-uX",
    "outputId": "ba10e365-1dfe-4591-d7d3-5bd4466165dc"
   },
   "outputs": [],
   "source": [
    "for i in string_list:\n",
    "  print(i)"
   ]
  },
  {
   "cell_type": "code",
   "execution_count": null,
   "metadata": {
    "colab": {
     "base_uri": "https://localhost:8080/",
     "height": 36
    },
    "id": "3YnOdJNDSB2t",
    "outputId": "7408b4f7-0bfe-420b-8f7e-e0c2564cc90b"
   },
   "outputs": [],
   "source": [
    "string_list.pop(1) # remove index-wise"
   ]
  },
  {
   "cell_type": "code",
   "execution_count": null,
   "metadata": {
    "colab": {
     "base_uri": "https://localhost:8080/"
    },
    "id": "Fd_A9CRwSNjc",
    "outputId": "190673cf-9391-4192-fb37-5fdfb8635d68"
   },
   "outputs": [],
   "source": [
    "for i in string_list:\n",
    "  print(i)"
   ]
  },
  {
   "cell_type": "code",
   "execution_count": null,
   "metadata": {
    "colab": {
     "base_uri": "https://localhost:8080/",
     "height": 36
    },
    "id": "POsG6u8qSPr0",
    "outputId": "30a5a241-0141-4d81-d3df-982d2a76be45"
   },
   "outputs": [],
   "source": [
    "string_list[1]"
   ]
  },
  {
   "cell_type": "code",
   "execution_count": null,
   "metadata": {
    "id": "7qudxjexSXVp"
   },
   "outputs": [],
   "source": [
    "#remove element-wise\n",
    "string_list.remove('adak')"
   ]
  },
  {
   "cell_type": "code",
   "execution_count": null,
   "metadata": {
    "colab": {
     "base_uri": "https://localhost:8080/"
    },
    "id": "RJgC3ExCSkFC",
    "outputId": "c75e8cb9-a52f-4ccd-99dc-50b66550eb84"
   },
   "outputs": [],
   "source": [
    "for i in string_list:\n",
    "  print(i)"
   ]
  },
  {
   "cell_type": "code",
   "execution_count": null,
   "metadata": {
    "colab": {
     "base_uri": "https://localhost:8080/"
    },
    "id": "TSFIAXFFSl4H",
    "outputId": "d98d47ef-fb93-417d-987a-3b4c49ee1246"
   },
   "outputs": [],
   "source": [
    "len(string_list)"
   ]
  },
  {
   "cell_type": "code",
   "execution_count": null,
   "metadata": {
    "colab": {
     "base_uri": "https://localhost:8080/"
    },
    "id": "N5TpIXuvSquK",
    "outputId": "f6b0a005-1494-4403-e03a-916e02d1f3a6"
   },
   "outputs": [],
   "source": [
    "string_list = ['chandra', 'adak', 'patna', 'india']\n",
    "print(string_list)"
   ]
  },
  {
   "cell_type": "code",
   "execution_count": null,
   "metadata": {
    "id": "rhdg-R5pS0vw"
   },
   "outputs": [],
   "source": [
    "string_list.reverse()"
   ]
  },
  {
   "cell_type": "code",
   "execution_count": null,
   "metadata": {
    "colab": {
     "base_uri": "https://localhost:8080/"
    },
    "id": "UHLHseCbS5U6",
    "outputId": "9acbb087-7a1a-41b3-b29f-9f037eb6f438"
   },
   "outputs": [],
   "source": [
    "print(string_list)"
   ]
  },
  {
   "cell_type": "code",
   "execution_count": null,
   "metadata": {
    "colab": {
     "base_uri": "https://localhost:8080/",
     "height": 36
    },
    "id": "EyALndxQS79u",
    "outputId": "1ae6ef0c-434b-42af-ba0f-1db70f191922"
   },
   "outputs": [],
   "source": [
    "string_list[0]"
   ]
  },
  {
   "cell_type": "code",
   "execution_count": null,
   "metadata": {
    "colab": {
     "base_uri": "https://localhost:8080/"
    },
    "id": "XYme7J9LS_dg",
    "outputId": "c207e7e5-3580-444e-f861-9b42a643365f"
   },
   "outputs": [],
   "source": [
    "string_list.sort() #sorting in dictionary order\n",
    "print(string_list)"
   ]
  },
  {
   "cell_type": "code",
   "execution_count": null,
   "metadata": {
    "colab": {
     "base_uri": "https://localhost:8080/",
     "height": 36
    },
    "id": "hCy2LAOzTJYZ",
    "outputId": "b5ca24e7-f861-48a0-aca9-d27071dbeec0"
   },
   "outputs": [],
   "source": [
    "string_list[0]"
   ]
  },
  {
   "cell_type": "code",
   "execution_count": null,
   "metadata": {
    "colab": {
     "base_uri": "https://localhost:8080/"
    },
    "id": "gIR8JemITTTt",
    "outputId": "70b897bd-b43b-49b5-cadf-05871726270e"
   },
   "outputs": [],
   "source": [
    "string_list.append('india')\n",
    "print(string_list)"
   ]
  },
  {
   "cell_type": "code",
   "execution_count": null,
   "metadata": {
    "colab": {
     "base_uri": "https://localhost:8080/"
    },
    "id": "eBLURaCXTa8S",
    "outputId": "8f8e12ec-93d6-4776-940b-789fab7dc7b9"
   },
   "outputs": [],
   "source": [
    "string_list.count('india')  #frequency"
   ]
  },
  {
   "cell_type": "code",
   "execution_count": null,
   "metadata": {
    "colab": {
     "base_uri": "https://localhost:8080/"
    },
    "id": "v45pLstmThLA",
    "outputId": "163a21d3-6937-401b-8685-8062e887ce2d"
   },
   "outputs": [],
   "source": [
    "new_string_list = string_list.copy()\n",
    "print(new_string_list)"
   ]
  },
  {
   "cell_type": "code",
   "execution_count": null,
   "metadata": {
    "colab": {
     "base_uri": "https://localhost:8080/"
    },
    "id": "BvCc2hO3Tuc2",
    "outputId": "00991db8-d71d-4ca3-c0e9-12dddbad047c"
   },
   "outputs": [],
   "source": [
    "print(string_list)"
   ]
  },
  {
   "cell_type": "code",
   "execution_count": null,
   "metadata": {
    "colab": {
     "base_uri": "https://localhost:8080/"
    },
    "id": "oHNIxn8cTy-k",
    "outputId": "2a62f150-22c1-4e62-fd80-d0525b11fc73"
   },
   "outputs": [],
   "source": [
    "string_list.clear() #remove all elements\n",
    "print(string_list)"
   ]
  },
  {
   "cell_type": "code",
   "execution_count": null,
   "metadata": {
    "id": "_A9FWAMkT8Ju"
   },
   "outputs": [],
   "source": [
    "string_list = new_string_list.copy()"
   ]
  },
  {
   "cell_type": "code",
   "execution_count": null,
   "metadata": {
    "colab": {
     "base_uri": "https://localhost:8080/"
    },
    "id": "TZvO7MO2UF8w",
    "outputId": "cc410805-dabd-4640-de3a-cf56e44c916d"
   },
   "outputs": [],
   "source": [
    "print(string_list)"
   ]
  },
  {
   "cell_type": "code",
   "execution_count": null,
   "metadata": {
    "colab": {
     "base_uri": "https://localhost:8080/"
    },
    "id": "ThQAPMC7UIBP",
    "outputId": "59f60373-a4e9-46b7-f0fa-ad7ee8ed704f"
   },
   "outputs": [],
   "source": [
    "print(string_list.index('chandra')) # showing index of an element"
   ]
  },
  {
   "cell_type": "code",
   "execution_count": null,
   "metadata": {
    "colab": {
     "base_uri": "https://localhost:8080/"
    },
    "id": "w8NHWKXOURdv",
    "outputId": "a23f667c-2461-4452-b999-00eddb29632b"
   },
   "outputs": [],
   "source": [
    "print(string_list.index('india')) # showing index of an element's 1st occurrence"
   ]
  },
  {
   "cell_type": "code",
   "execution_count": null,
   "metadata": {
    "colab": {
     "base_uri": "https://localhost:8080/"
    },
    "id": "Ml8E9GNwUfBZ",
    "outputId": "e6a1ba74-d26c-475c-8c4b-dfa3e986c026"
   },
   "outputs": [],
   "source": [
    "string_list.insert(2,'nath')\n",
    "print(string_list)"
   ]
  },
  {
   "cell_type": "code",
   "execution_count": null,
   "metadata": {
    "colab": {
     "base_uri": "https://localhost:8080/"
    },
    "id": "chqkxjpkU27G",
    "outputId": "61f99c55-71f1-43ac-996a-ee93ca64eae3"
   },
   "outputs": [],
   "source": [
    "string_list.insert(6, 'last')\n",
    "string_list.insert(0, 'first')\n",
    "print(string_list)"
   ]
  },
  {
   "cell_type": "code",
   "execution_count": null,
   "metadata": {
    "colab": {
     "base_uri": "https://localhost:8080/"
    },
    "id": "Q_TtLZlaVOuw",
    "outputId": "cdb3d28d-e220-4f80-b4be-bb855b77e6f6"
   },
   "outputs": [],
   "source": [
    "L = len(string_list)\n",
    "string_list.insert(L, 'final')\n",
    "print(string_list)"
   ]
  },
  {
   "cell_type": "code",
   "execution_count": null,
   "metadata": {
    "colab": {
     "base_uri": "https://localhost:8080/"
    },
    "id": "o1dM0BESVhse",
    "outputId": "f664809c-7729-47cf-863c-e7b920515448"
   },
   "outputs": [],
   "source": [
    "string_list.insert(len(string_list), 'bihar')\n",
    "print(string_list)"
   ]
  },
  {
   "cell_type": "code",
   "execution_count": null,
   "metadata": {
    "colab": {
     "base_uri": "https://localhost:8080/"
    },
    "id": "9Tded3ROVweb",
    "outputId": "90cf6892-4506-461c-b929-b09ab1308ae4"
   },
   "outputs": [],
   "source": [
    "string_list.append('bharat')\n",
    "print(string_list)"
   ]
  },
  {
   "cell_type": "code",
   "execution_count": null,
   "metadata": {
    "id": "rZp5-MEvWHLl"
   },
   "outputs": [],
   "source": [
    "number1 = [100, 20, 35]"
   ]
  },
  {
   "cell_type": "code",
   "execution_count": null,
   "metadata": {
    "colab": {
     "base_uri": "https://localhost:8080/"
    },
    "id": "Y4MBIGs5WSdz",
    "outputId": "cc2c4428-7631-4f11-c092-649c0d857bf2"
   },
   "outputs": [],
   "source": [
    "number1.sort()\n",
    "print(number1)  #sorting in ascending order"
   ]
  },
  {
   "cell_type": "code",
   "execution_count": null,
   "metadata": {
    "colab": {
     "base_uri": "https://localhost:8080/"
    },
    "id": "fReRI0TNWVGk",
    "outputId": "74d87502-4019-4411-9177-e12b4ed40ab6"
   },
   "outputs": [],
   "source": [
    "number1.sort()\n",
    "number1.reverse()\n",
    "print(number1)     #sorting in descending order"
   ]
  },
  {
   "cell_type": "markdown",
   "metadata": {
    "id": "_uUhuQHPWuyN"
   },
   "source": [
    "***find an element in LIST***"
   ]
  },
  {
   "cell_type": "code",
   "execution_count": null,
   "metadata": {
    "colab": {
     "base_uri": "https://localhost:8080/"
    },
    "id": "Xl1xzfH2Wofm",
    "outputId": "a1eadf89-9704-40b4-a64c-494e48a982d0"
   },
   "outputs": [],
   "source": [
    "print(new_string_list)"
   ]
  },
  {
   "cell_type": "code",
   "execution_count": null,
   "metadata": {
    "id": "zAzRVdulWyWY"
   },
   "outputs": [],
   "source": [
    "key = 'chandra'"
   ]
  },
  {
   "cell_type": "code",
   "execution_count": null,
   "metadata": {
    "colab": {
     "base_uri": "https://localhost:8080/"
    },
    "id": "vO3I6nJ3W4ep",
    "outputId": "e19dda41-c75f-4aef-b15e-9411301e19fb"
   },
   "outputs": [],
   "source": [
    "for i in new_string_list:\n",
    "  if i == key:\n",
    "    print('found')"
   ]
  },
  {
   "cell_type": "code",
   "execution_count": null,
   "metadata": {
    "colab": {
     "base_uri": "https://localhost:8080/"
    },
    "id": "D7sKWppzXDoQ",
    "outputId": "4eb3e181-63c0-46b6-a49f-aa003dcd79ff"
   },
   "outputs": [],
   "source": [
    "print(key in new_string_list)"
   ]
  },
  {
   "cell_type": "code",
   "execution_count": null,
   "metadata": {
    "colab": {
     "base_uri": "https://localhost:8080/"
    },
    "id": "6FekpuIbXIDq",
    "outputId": "9412c64f-8aaa-4993-cc7e-cba177bf5cff"
   },
   "outputs": [],
   "source": [
    "if (key in new_string_list) == True:\n",
    "  print('found')"
   ]
  },
  {
   "cell_type": "code",
   "execution_count": null,
   "metadata": {
    "colab": {
     "base_uri": "https://localhost:8080/"
    },
    "id": "-EZisl8NXUz6",
    "outputId": "94a4beeb-f0db-4482-942d-96d0acec4499"
   },
   "outputs": [],
   "source": [
    "if (key in new_string_list) == True:\n",
    "  print('found')\n",
    "else:\n",
    "  print('not found')"
   ]
  },
  {
   "cell_type": "code",
   "execution_count": null,
   "metadata": {
    "colab": {
     "base_uri": "https://localhost:8080/"
    },
    "id": "UZZLwSpoXcEd",
    "outputId": "363da1d4-0d27-432b-8d3a-d7b6048142d0"
   },
   "outputs": [],
   "source": [
    "key = 'Chandra'\n",
    "print(key in new_string_list)"
   ]
  },
  {
   "cell_type": "code",
   "execution_count": null,
   "metadata": {
    "colab": {
     "base_uri": "https://localhost:8080/"
    },
    "id": "nhI-anvEXjhV",
    "outputId": "40dc7173-3a66-4048-9681-d1c925f0b2ce"
   },
   "outputs": [],
   "source": [
    "type(string_list)"
   ]
  },
  {
   "cell_type": "markdown",
   "metadata": {
    "id": "3HXNilAoXt8M"
   },
   "source": [
    "# **LIST[ ] is ordered, changable, allows duplicate members**"
   ]
  },
  {
   "cell_type": "code",
   "execution_count": null,
   "metadata": {
    "colab": {
     "base_uri": "https://localhost:8080/"
    },
    "id": "eDoxKK--Xoxv",
    "outputId": "99a860af-a534-43d6-81f3-cef04b668b3a"
   },
   "outputs": [],
   "source": [
    "person1 = ['chandra', 'adak', 'patna', 35]\n",
    "print(type(person1))"
   ]
  },
  {
   "cell_type": "code",
   "execution_count": null,
   "metadata": {
    "id": "LWEO0q3mYGDb"
   },
   "outputs": [],
   "source": [
    "profession1 = ['AP', 'IITP']"
   ]
  },
  {
   "cell_type": "code",
   "execution_count": null,
   "metadata": {
    "id": "e-yHNKJ6YODP"
   },
   "outputs": [],
   "source": [
    "person2 = ['soumi', 'chattopadhyay', 'indore', 34]\n",
    "profession2 = ['AP', 'IITI']"
   ]
  },
  {
   "cell_type": "code",
   "execution_count": null,
   "metadata": {
    "colab": {
     "base_uri": "https://localhost:8080/"
    },
    "id": "IxjgftkbYZ9h",
    "outputId": "3de931c8-02c7-4dcf-8a3d-b2a83199d2d6"
   },
   "outputs": [],
   "source": [
    "person1.extend(profession1)\n",
    "print(person1)"
   ]
  },
  {
   "cell_type": "code",
   "execution_count": null,
   "metadata": {
    "colab": {
     "base_uri": "https://localhost:8080/"
    },
    "id": "oPmCehm9YffR",
    "outputId": "29701221-271e-4493-b7ae-c454d0471914"
   },
   "outputs": [],
   "source": [
    "print(profession1)"
   ]
  },
  {
   "cell_type": "code",
   "execution_count": null,
   "metadata": {
    "colab": {
     "base_uri": "https://localhost:8080/",
     "height": 36
    },
    "id": "WrxVPY8yYllX",
    "outputId": "c86c6b07-540e-44aa-c612-c34b18dd28c6"
   },
   "outputs": [],
   "source": [
    "person1[2]"
   ]
  },
  {
   "cell_type": "code",
   "execution_count": null,
   "metadata": {
    "colab": {
     "base_uri": "https://localhost:8080/"
    },
    "id": "FpNH2kiDYraY",
    "outputId": "d6409caa-36c6-4ba6-aaca-03f20bda6151"
   },
   "outputs": [],
   "source": [
    "del person1[2]\n",
    "print(person1)"
   ]
  },
  {
   "cell_type": "code",
   "execution_count": null,
   "metadata": {
    "colab": {
     "base_uri": "https://localhost:8080/"
    },
    "id": "17bVSWCUYzBm",
    "outputId": "0122c97d-216c-491e-90d0-41d9cd30a6ee"
   },
   "outputs": [],
   "source": [
    "print(person1[0:4])"
   ]
  },
  {
   "cell_type": "code",
   "execution_count": null,
   "metadata": {
    "colab": {
     "base_uri": "https://localhost:8080/"
    },
    "id": "gbrH7pkvY6p7",
    "outputId": "26724da7-4a46-4818-dd3e-4785296c2a33"
   },
   "outputs": [],
   "source": [
    "print(person1[-1])"
   ]
  },
  {
   "cell_type": "code",
   "execution_count": null,
   "metadata": {
    "colab": {
     "base_uri": "https://localhost:8080/"
    },
    "id": "KyZx3QvAZAPO",
    "outputId": "00d1ef7b-9f1b-4c72-829a-ff636d61f006"
   },
   "outputs": [],
   "source": [
    "person1[-1] = 'CSE'\n",
    "print(person1)\n",
    "# earlier last element was 'IITP', that has been changed to 'CSE'"
   ]
  },
  {
   "cell_type": "markdown",
   "metadata": {
    "id": "v8iKApADZZj9"
   },
   "source": [
    "# **TUPLE () is *ordered*, *allows* *duplicate* members, *unchangable* (we can't add/ remove items after the tuple has been created)**"
   ]
  },
  {
   "cell_type": "code",
   "execution_count": null,
   "metadata": {
    "colab": {
     "base_uri": "https://localhost:8080/"
    },
    "id": "wrhy3dZhZzb1",
    "outputId": "edb14456-3795-46b0-a68f-35e2e18e5cb3"
   },
   "outputs": [],
   "source": [
    "fruit = ('apple', 'banana', 'grapes')\n",
    "print(fruit)"
   ]
  },
  {
   "cell_type": "code",
   "execution_count": null,
   "metadata": {
    "colab": {
     "base_uri": "https://localhost:8080/"
    },
    "id": "mgILe-YsaAGL",
    "outputId": "0094c627-2681-4b87-8f1b-6fc262c0d3b5"
   },
   "outputs": [],
   "source": [
    "type(fruit)"
   ]
  },
  {
   "cell_type": "code",
   "execution_count": null,
   "metadata": {
    "id": "imhKiMTwaBo0"
   },
   "outputs": [],
   "source": [
    "fruit1 = ('apple', 'banana', 'grapes', 'grapes')"
   ]
  },
  {
   "cell_type": "code",
   "execution_count": null,
   "metadata": {
    "colab": {
     "base_uri": "https://localhost:8080/"
    },
    "id": "4pOI5baxaH-A",
    "outputId": "0e849223-f6e2-4750-c675-0db38d066b42"
   },
   "outputs": [],
   "source": [
    "print(fruit1[0:3])"
   ]
  },
  {
   "cell_type": "code",
   "execution_count": null,
   "metadata": {
    "colab": {
     "base_uri": "https://localhost:8080/"
    },
    "id": "BvFRGJl9aa2e",
    "outputId": "8f8c2d47-33a2-4898-82ac-d9efa1da13bf"
   },
   "outputs": [],
   "source": [
    "print(fruit1[-1])"
   ]
  },
  {
   "cell_type": "code",
   "execution_count": null,
   "metadata": {
    "colab": {
     "base_uri": "https://localhost:8080/",
     "height": 147
    },
    "id": "_u_U1vtyafV6",
    "outputId": "b9d9c921-dee1-4532-ada4-45a62927ba3e"
   },
   "outputs": [],
   "source": [
    "fruit1[-1] = 'kiwi'  # we can't change tuple element"
   ]
  },
  {
   "cell_type": "markdown",
   "metadata": {
    "id": "B102H3wlbYUN"
   },
   "source": [
    "list is changable, tupe is not\n",
    "\n",
    "tuple --> list --> perform changes in list --> convert the list to tuple"
   ]
  },
  {
   "cell_type": "code",
   "execution_count": null,
   "metadata": {
    "colab": {
     "base_uri": "https://localhost:8080/"
    },
    "id": "xksPGD6qbGZw",
    "outputId": "cb3e3e4d-5e12-449a-f53d-88533beaeb09"
   },
   "outputs": [],
   "source": [
    "y = list(fruit1) # convert fruit1 tuple to list y\n",
    "y[-1] = 'kiwi'\n",
    "\n",
    "x = tuple(y) # convert back to tuple\n",
    "print(x)"
   ]
  },
  {
   "cell_type": "code",
   "execution_count": null,
   "metadata": {
    "colab": {
     "base_uri": "https://localhost:8080/"
    },
    "id": "Sk-nT_Ceb18Z",
    "outputId": "6a2f4a6f-fa41-4d55-8301-57312e97b74c"
   },
   "outputs": [],
   "source": [
    "type(x)"
   ]
  },
  {
   "cell_type": "code",
   "execution_count": null,
   "metadata": {
    "colab": {
     "base_uri": "https://localhost:8080/"
    },
    "id": "4Tkyr5ZtcROR",
    "outputId": "0a0fabad-54e3-4c24-ab5a-ae274a1996eb"
   },
   "outputs": [],
   "source": [
    "y = list(fruit1) # convert fruit1 tuple to list y\n",
    "y[-1] = 'kiwi'\n",
    "\n",
    "fruit1 = tuple(y) # convert back to tuple\n",
    "print(fruit1)"
   ]
  },
  {
   "cell_type": "code",
   "execution_count": null,
   "metadata": {
    "colab": {
     "base_uri": "https://localhost:8080/"
    },
    "id": "qvtDhn-8b3Y-",
    "outputId": "8b5db3e6-5d4a-4839-ab72-1fe1a8c1e67a"
   },
   "outputs": [],
   "source": [
    "z = 'orange'\n",
    "type(z)"
   ]
  },
  {
   "cell_type": "code",
   "execution_count": null,
   "metadata": {
    "colab": {
     "base_uri": "https://localhost:8080/"
    },
    "id": "fOUclYkBcaI7",
    "outputId": "4f0a9c5b-4f7f-4c01-b893-8f2409be7df1"
   },
   "outputs": [],
   "source": [
    "z1 = ('orange')\n",
    "type(z1)"
   ]
  },
  {
   "cell_type": "code",
   "execution_count": null,
   "metadata": {
    "colab": {
     "base_uri": "https://localhost:8080/"
    },
    "id": "Qm7y2XlmcfUK",
    "outputId": "06795585-070b-41eb-f54c-be63f261cff1"
   },
   "outputs": [],
   "source": [
    "z2 = ('orange',)  # LOOk at the COMMA\n",
    "type(z2)"
   ]
  },
  {
   "cell_type": "code",
   "execution_count": null,
   "metadata": {
    "colab": {
     "base_uri": "https://localhost:8080/"
    },
    "id": "Kkc2WKdCch4_",
    "outputId": "de64c68c-1089-49ea-f429-342df003c5c7"
   },
   "outputs": [],
   "source": [
    "x = fruit1 + z2  # adding one tuple to another\n",
    "print(x)"
   ]
  },
  {
   "cell_type": "code",
   "execution_count": null,
   "metadata": {
    "colab": {
     "base_uri": "https://localhost:8080/"
    },
    "id": "d3jQG_-LcvBE",
    "outputId": "55bd7f7a-674a-4b4c-ce78-66d29042667e"
   },
   "outputs": [],
   "source": [
    "(x1, x2, x3, x4, x5) = x  # unpacking a tuple\n",
    "\n",
    "print(x1)\n",
    "print(x2)\n",
    "print(x3)\n",
    "print(x4)\n",
    "print(x5)"
   ]
  },
  {
   "cell_type": "code",
   "execution_count": null,
   "metadata": {
    "colab": {
     "base_uri": "https://localhost:8080/"
    },
    "id": "nva85Sszc9Rw",
    "outputId": "0ac4101f-5bd2-4df3-eae6-e39887770fd0"
   },
   "outputs": [],
   "source": [
    "(y1, y2, *y3) = x\n",
    "\n",
    "print(y1)\n",
    "print(y2)\n",
    "print(y3)"
   ]
  },
  {
   "cell_type": "code",
   "execution_count": null,
   "metadata": {
    "colab": {
     "base_uri": "https://localhost:8080/"
    },
    "id": "jwZJzBn8dLnL",
    "outputId": "6d8d5320-c902-40ef-da27-2f440087688c"
   },
   "outputs": [],
   "source": [
    "type(y1)"
   ]
  },
  {
   "cell_type": "code",
   "execution_count": null,
   "metadata": {
    "colab": {
     "base_uri": "https://localhost:8080/"
    },
    "id": "Gr1o4_7NdSeO",
    "outputId": "e112ecf7-fab4-4ff6-9c8e-48d7780b2181"
   },
   "outputs": [],
   "source": [
    "type(y2)"
   ]
  },
  {
   "cell_type": "code",
   "execution_count": null,
   "metadata": {
    "colab": {
     "base_uri": "https://localhost:8080/"
    },
    "id": "fdstn_Q9dUGz",
    "outputId": "2374e359-ae3a-4e31-b3b8-be8f89aeead5"
   },
   "outputs": [],
   "source": [
    "type(y3)"
   ]
  },
  {
   "cell_type": "code",
   "execution_count": null,
   "metadata": {
    "colab": {
     "base_uri": "https://localhost:8080/"
    },
    "id": "KsNtlXGJdVSA",
    "outputId": "0e01b91c-9b65-4fbb-cf36-718bb820b0fd"
   },
   "outputs": [],
   "source": [
    "(y1, *y2, y3) = x\n",
    "\n",
    "print(y1)\n",
    "print(y2)\n",
    "print(y3)"
   ]
  },
  {
   "cell_type": "code",
   "execution_count": null,
   "metadata": {
    "colab": {
     "base_uri": "https://localhost:8080/"
    },
    "id": "Rg3or2CFdaOo",
    "outputId": "731229d4-a3b0-480f-9c0e-b61792127a78"
   },
   "outputs": [],
   "source": [
    "(*y1, y2, y3) = x\n",
    "\n",
    "print(y1)\n",
    "print(y2)\n",
    "print(y3)"
   ]
  },
  {
   "cell_type": "code",
   "execution_count": null,
   "metadata": {
    "colab": {
     "base_uri": "https://localhost:8080/"
    },
    "id": "OwkT5HmmdezB",
    "outputId": "dd855cc6-a19b-4a7d-eeab-0f964dae8934"
   },
   "outputs": [],
   "source": [
    "len(x)"
   ]
  },
  {
   "cell_type": "code",
   "execution_count": null,
   "metadata": {
    "colab": {
     "base_uri": "https://localhost:8080/"
    },
    "id": "iwMxClrgdjss",
    "outputId": "230829d9-ab91-46f1-f5d0-e8d2e4ea1f1d"
   },
   "outputs": [],
   "source": [
    "x.count('kiwi')"
   ]
  },
  {
   "cell_type": "code",
   "execution_count": null,
   "metadata": {
    "colab": {
     "base_uri": "https://localhost:8080/"
    },
    "id": "dgmPaQefdlrq",
    "outputId": "ec5492f9-5c89-41a7-c236-0b3a21e1fb6e"
   },
   "outputs": [],
   "source": [
    "number_tuple = (80, 81, 82, 85, 82)\n",
    "number_tuple.count(82)"
   ]
  },
  {
   "cell_type": "code",
   "execution_count": null,
   "metadata": {
    "colab": {
     "base_uri": "https://localhost:8080/"
    },
    "id": "W7ubPWF4du8J",
    "outputId": "b134fc9a-3fec-488b-e3d3-c65940520a17"
   },
   "outputs": [],
   "source": [
    "person1 = ('chandra', 'adak', 35)\n",
    "print(person1)"
   ]
  },
  {
   "cell_type": "code",
   "execution_count": null,
   "metadata": {
    "colab": {
     "base_uri": "https://localhost:8080/"
    },
    "id": "mx3tu7cgd1q-",
    "outputId": "28c5aeb4-e623-41f1-aff3-586b383b983f"
   },
   "outputs": [],
   "source": [
    "type(person1)"
   ]
  },
  {
   "cell_type": "markdown",
   "metadata": {
    "id": "BjEhh7adDohf"
   },
   "source": [
    "# **3 April 2025**"
   ]
  },
  {
   "cell_type": "markdown",
   "metadata": {
    "id": "jlzini6geBrv"
   },
   "source": [
    "*   **List []:** ordered, changable\n",
    "\n",
    "*   **Tuple ():** ordered, unchangable\n",
    "\n",
    "*   **Set {} :** unordered, unchangable, unindexed\n",
    "\n",
    "\n"
   ]
  },
  {
   "cell_type": "code",
   "execution_count": null,
   "metadata": {
    "colab": {
     "base_uri": "https://localhost:8080/"
    },
    "id": "OUpE9wvDd4ZT",
    "outputId": "0ddbc2e4-e2a8-4c60-eb87-5e57a10a9455"
   },
   "outputs": [],
   "source": [
    "set1 = {1,2,3, 7, 5}\n",
    "print(set1)"
   ]
  },
  {
   "cell_type": "code",
   "execution_count": null,
   "metadata": {
    "colab": {
     "base_uri": "https://localhost:8080/"
    },
    "id": "EeF_phrTereW",
    "outputId": "cf6e525f-67c4-4b8a-d6d0-ab2fd2d8afb9"
   },
   "outputs": [],
   "source": [
    "type(set1)"
   ]
  },
  {
   "cell_type": "code",
   "execution_count": null,
   "metadata": {
    "colab": {
     "base_uri": "https://localhost:8080/"
    },
    "id": "0ec34_pVekZh",
    "outputId": "25dd5aaf-df60-45de-b68f-792d302d5981"
   },
   "outputs": [],
   "source": [
    "len(set1)"
   ]
  },
  {
   "cell_type": "code",
   "execution_count": null,
   "metadata": {
    "colab": {
     "base_uri": "https://localhost:8080/"
    },
    "id": "tX9nhKZ4eowD",
    "outputId": "bd986476-796e-47cf-e4d5-3f50ce55c1a8"
   },
   "outputs": [],
   "source": [
    "for i in set1:\n",
    "  print(i)"
   ]
  },
  {
   "cell_type": "code",
   "execution_count": null,
   "metadata": {
    "colab": {
     "base_uri": "https://localhost:8080/"
    },
    "id": "UuMRkYsueyly",
    "outputId": "57a37ffb-e666-4ba8-b76b-a787d0947afd"
   },
   "outputs": [],
   "source": [
    "print(5 in set1)"
   ]
  },
  {
   "cell_type": "code",
   "execution_count": null,
   "metadata": {
    "colab": {
     "base_uri": "https://localhost:8080/"
    },
    "id": "rjmQofwjE4Os",
    "outputId": "0f54da02-17e5-4b3c-84d4-1a1de1347ad1"
   },
   "outputs": [],
   "source": [
    "x = 50 in set1\n",
    "if x == True: print('found')\n",
    "else: print('not found')"
   ]
  },
  {
   "cell_type": "code",
   "execution_count": null,
   "metadata": {
    "colab": {
     "base_uri": "https://localhost:8080/"
    },
    "id": "xDZBaRZhe2PQ",
    "outputId": "81d84a65-43ee-49ae-ef61-1365a36d0d90"
   },
   "outputs": [],
   "source": [
    "set2 = {'chandra', 35}\n",
    "print(set2)"
   ]
  },
  {
   "cell_type": "code",
   "execution_count": null,
   "metadata": {
    "colab": {
     "base_uri": "https://localhost:8080/"
    },
    "id": "5ZVX1A61e_Lp",
    "outputId": "67702b8c-3bf8-4939-d317-73ca18dfcf7b"
   },
   "outputs": [],
   "source": [
    "set1[0]"
   ]
  },
  {
   "cell_type": "code",
   "execution_count": null,
   "metadata": {
    "colab": {
     "base_uri": "https://localhost:8080/"
    },
    "id": "X6azSTTFD3i5",
    "outputId": "72f43e4e-19bd-4827-b538-591f3acc9e5a"
   },
   "outputs": [],
   "source": [
    "fruit = {'apple', 'orange'}\n",
    "print(fruit)"
   ]
  },
  {
   "cell_type": "code",
   "execution_count": null,
   "metadata": {
    "colab": {
     "base_uri": "https://localhost:8080/"
    },
    "id": "t2ISP_WLFPHd",
    "outputId": "acb3096c-8d3a-4c85-eaf7-e24aaa30bf64"
   },
   "outputs": [],
   "source": [
    "type(fruit)"
   ]
  },
  {
   "cell_type": "code",
   "execution_count": null,
   "metadata": {
    "colab": {
     "base_uri": "https://localhost:8080/"
    },
    "id": "Ue2IOu1ZFQvd",
    "outputId": "6d259228-fe13-4c86-d094-7ec3447c0398"
   },
   "outputs": [],
   "source": [
    "fruit1 = {'coconut', 'mango'}\n",
    "fruit.update(fruit1)\n",
    "print(fruit)"
   ]
  },
  {
   "cell_type": "code",
   "execution_count": null,
   "metadata": {
    "colab": {
     "base_uri": "https://localhost:8080/"
    },
    "id": "OAy_U-wrFZkS",
    "outputId": "d99453b4-5e09-4d3d-bf03-11078c2c0b24"
   },
   "outputs": [],
   "source": [
    "print(fruit1)"
   ]
  },
  {
   "cell_type": "code",
   "execution_count": null,
   "metadata": {
    "colab": {
     "base_uri": "https://localhost:8080/"
    },
    "id": "OgsiUj8dFdKH",
    "outputId": "c81af9e0-b14d-4230-9450-386a504deaf4"
   },
   "outputs": [],
   "source": [
    "fruit.remove('coconut')\n",
    "print(fruit)"
   ]
  },
  {
   "cell_type": "code",
   "execution_count": null,
   "metadata": {
    "colab": {
     "base_uri": "https://localhost:8080/"
    },
    "id": "X9a-cQjRFk8e",
    "outputId": "c0a40947-c547-49b1-fd30-5f0b3e7fc891"
   },
   "outputs": [],
   "source": [
    "set1 = {'a', 'a', 'b'}\n",
    "print(set1)"
   ]
  },
  {
   "cell_type": "code",
   "execution_count": null,
   "metadata": {
    "colab": {
     "base_uri": "https://localhost:8080/"
    },
    "id": "42C2i4ipFqDk",
    "outputId": "3b72aac7-b7e0-4755-933f-b26bc4fbbcab"
   },
   "outputs": [],
   "source": [
    "set1.remove('a')\n",
    "print(set1)"
   ]
  },
  {
   "cell_type": "code",
   "execution_count": null,
   "metadata": {
    "colab": {
     "base_uri": "https://localhost:8080/"
    },
    "id": "9V5jBnVhF0GE",
    "outputId": "b9ba6c74-c993-4033-dc18-730ac489f68a"
   },
   "outputs": [],
   "source": [
    "set1 = {'a', 'a', 'b'}\n",
    "set1.remove('a')\n",
    "print(set1)\n",
    "\n",
    "# Option-1: {'b'}\n",
    "# Option-2: {'a','b'}"
   ]
  },
  {
   "cell_type": "code",
   "execution_count": null,
   "metadata": {
    "colab": {
     "base_uri": "https://localhost:8080/"
    },
    "id": "SUZWFVQ3F-88",
    "outputId": "c4109cf3-430c-4a8d-89ab-49a622741dda"
   },
   "outputs": [],
   "source": [
    "set3 = {'a', 'b', 'c'}\n",
    "set4 = {1,2,3}\n",
    "set5 = set3.union(set4)\n",
    "print(set5)"
   ]
  },
  {
   "cell_type": "code",
   "execution_count": null,
   "metadata": {
    "colab": {
     "base_uri": "https://localhost:8080/"
    },
    "id": "bj2I3DEpGJsK",
    "outputId": "827bc0f2-18df-41bc-c0e7-4b913997bdae"
   },
   "outputs": [],
   "source": [
    "set3 = {'a', 'b', 'c'}\n",
    "set4 = {1,2,3}\n",
    "set3.update(set4)\n",
    "print(set3)"
   ]
  },
  {
   "cell_type": "code",
   "execution_count": null,
   "metadata": {
    "colab": {
     "base_uri": "https://localhost:8080/"
    },
    "id": "4Z069PrJGUZ6",
    "outputId": "933394f5-30ee-431a-d890-bd3ee8e6d19b"
   },
   "outputs": [],
   "source": [
    "set3 = {'a', 'b', 'c'}\n",
    "temp = set3.copy()\n",
    "set4 = {1,2,3}\n",
    "set3.update(set4)\n",
    "set5 = set3\n",
    "set3 = temp\n",
    "print(set5)"
   ]
  },
  {
   "cell_type": "code",
   "execution_count": null,
   "metadata": {
    "colab": {
     "base_uri": "https://localhost:8080/"
    },
    "id": "gFvyJtlDHsxO",
    "outputId": "c1be9b7f-248f-4889-e120-ca745f79a2f1"
   },
   "outputs": [],
   "source": [
    "set3"
   ]
  },
  {
   "cell_type": "code",
   "execution_count": null,
   "metadata": {
    "colab": {
     "base_uri": "https://localhost:8080/"
    },
    "id": "Sr-p-i-pGr3v",
    "outputId": "2f6993bb-56a5-4f09-c1a7-edeeebd7511f"
   },
   "outputs": [],
   "source": [
    "set3 = {'a', 'b', 'c'}\n",
    "set4 = {1,2,3}\n",
    "set5 = set3 | set4   # set5 = set3.union(set4)\n",
    "print(set5)"
   ]
  },
  {
   "cell_type": "code",
   "execution_count": null,
   "metadata": {
    "colab": {
     "base_uri": "https://localhost:8080/"
    },
    "id": "pbKmm4-wHPmQ",
    "outputId": "75b826b6-5a4c-42da-a26d-4f7ce0fc05db"
   },
   "outputs": [],
   "source": [
    "set4"
   ]
  },
  {
   "cell_type": "code",
   "execution_count": null,
   "metadata": {
    "colab": {
     "base_uri": "https://localhost:8080/"
    },
    "id": "DN7_piwxG7Bf",
    "outputId": "00b44105-1799-4d2b-9b5f-2a265089650d"
   },
   "outputs": [],
   "source": [
    "set7 = {'mango', 'litchi', 'apple'}\n",
    "set8 = {'suzuki', 'tata', 'mahindra'}\n",
    "set9 = set3.union(set4, set7, set8)\n",
    "print(set9)"
   ]
  },
  {
   "cell_type": "code",
   "execution_count": null,
   "metadata": {
    "colab": {
     "base_uri": "https://localhost:8080/"
    },
    "id": "IAsmSTDVHSNE",
    "outputId": "1b85c9ba-5903-45b1-ae6f-9dfd6bbf396e"
   },
   "outputs": [],
   "source": [
    "len(set9)"
   ]
  },
  {
   "cell_type": "code",
   "execution_count": null,
   "metadata": {
    "colab": {
     "base_uri": "https://localhost:8080/"
    },
    "id": "ghmDpp7JHV2d",
    "outputId": "7f8669ec-2833-4e37-992e-8a60a19e9ab6"
   },
   "outputs": [],
   "source": [
    "set1 = {1,2,3,5}\n",
    "set1.add(4)\n",
    "print(set1)"
   ]
  },
  {
   "cell_type": "code",
   "execution_count": null,
   "metadata": {
    "colab": {
     "base_uri": "https://localhost:8080/"
    },
    "id": "F3t9KOE_Hfpv",
    "outputId": "db6b33c1-b218-4724-b0a3-3030a08f3da9"
   },
   "outputs": [],
   "source": [
    "set2 = set1.copy()\n",
    "print(set2)"
   ]
  },
  {
   "cell_type": "code",
   "execution_count": null,
   "metadata": {
    "id": "UjtccwscHkTA"
   },
   "outputs": [],
   "source": [
    "set2.add(6)"
   ]
  },
  {
   "cell_type": "code",
   "execution_count": null,
   "metadata": {
    "colab": {
     "base_uri": "https://localhost:8080/"
    },
    "id": "3VDIM4GRH6mF",
    "outputId": "35fb46c4-e69b-4dbf-aee4-91bab05b86a3"
   },
   "outputs": [],
   "source": [
    "set1"
   ]
  },
  {
   "cell_type": "code",
   "execution_count": null,
   "metadata": {
    "colab": {
     "base_uri": "https://localhost:8080/"
    },
    "id": "hZICsRa5H8pR",
    "outputId": "c900b059-21c1-45d0-c344-5d9c9e0909f8"
   },
   "outputs": [],
   "source": [
    "set2"
   ]
  },
  {
   "cell_type": "code",
   "execution_count": null,
   "metadata": {
    "colab": {
     "base_uri": "https://localhost:8080/"
    },
    "id": "W6rgGxt-H9jj",
    "outputId": "4cc0bbee-a1dd-4abf-d92b-5920a7d06118"
   },
   "outputs": [],
   "source": [
    "z = set2.difference(set1)\n",
    "print(z)"
   ]
  },
  {
   "cell_type": "code",
   "execution_count": null,
   "metadata": {
    "colab": {
     "base_uri": "https://localhost:8080/"
    },
    "id": "t-BZWhFbIB4K",
    "outputId": "67f63f4c-3d5e-45f7-b005-e9cac1070e0a"
   },
   "outputs": [],
   "source": [
    "z = set1.difference(set2)\n",
    "print(z)"
   ]
  },
  {
   "cell_type": "code",
   "execution_count": null,
   "metadata": {
    "id": "Mpndq0AWIH8z"
   },
   "outputs": [],
   "source": [
    "a = {'A', 'B', 'C'}\n",
    "b = {'D', 'E', 'F'}"
   ]
  },
  {
   "cell_type": "code",
   "execution_count": null,
   "metadata": {
    "colab": {
     "base_uri": "https://localhost:8080/"
    },
    "id": "l1plWt6EJdm2",
    "outputId": "6ea4e30e-b01d-47a9-8a23-6665431357b4"
   },
   "outputs": [],
   "source": [
    "b.difference(a)"
   ]
  },
  {
   "cell_type": "code",
   "execution_count": null,
   "metadata": {
    "colab": {
     "base_uri": "https://localhost:8080/"
    },
    "id": "mrz60Wg3Jhse",
    "outputId": "f440229a-8af8-47c0-d9c5-2ecec4bfdda2"
   },
   "outputs": [],
   "source": [
    "a.difference(b)"
   ]
  },
  {
   "cell_type": "code",
   "execution_count": null,
   "metadata": {
    "colab": {
     "base_uri": "https://localhost:8080/"
    },
    "id": "kJS8LUBZJlJQ",
    "outputId": "cf4d1bed-fe09-48ee-94b2-06e800611b06"
   },
   "outputs": [],
   "source": [
    "print(set1)\n",
    "print(set2)"
   ]
  },
  {
   "cell_type": "code",
   "execution_count": null,
   "metadata": {
    "colab": {
     "base_uri": "https://localhost:8080/"
    },
    "id": "th8bk1Y5Jqm3",
    "outputId": "49242d84-3a10-42e9-b11a-b29dba97e2db"
   },
   "outputs": [],
   "source": [
    "set2.discard(6)\n",
    "print(set2)"
   ]
  },
  {
   "cell_type": "code",
   "execution_count": null,
   "metadata": {
    "id": "t3UK82rsJuue"
   },
   "outputs": [],
   "source": [
    "set2.add(6)"
   ]
  },
  {
   "cell_type": "code",
   "execution_count": null,
   "metadata": {
    "colab": {
     "base_uri": "https://localhost:8080/"
    },
    "id": "m-_pOPOTJ8ZH",
    "outputId": "8630e999-5ec3-4cd2-a100-01d782c621ba"
   },
   "outputs": [],
   "source": [
    "print(set1)\n",
    "print(set2)"
   ]
  },
  {
   "cell_type": "code",
   "execution_count": null,
   "metadata": {
    "colab": {
     "base_uri": "https://localhost:8080/"
    },
    "id": "MpiqQbW3J-Qc",
    "outputId": "59382dbc-9a37-49fb-96c1-ee0d06fc3548"
   },
   "outputs": [],
   "source": [
    "set1.intersection(set2)"
   ]
  },
  {
   "cell_type": "code",
   "execution_count": null,
   "metadata": {
    "colab": {
     "base_uri": "https://localhost:8080/"
    },
    "id": "ZYG1VEruKAyP",
    "outputId": "4006ae9a-3739-4c2b-9f49-c6848230265a"
   },
   "outputs": [],
   "source": [
    "set1 & set2"
   ]
  },
  {
   "cell_type": "code",
   "execution_count": null,
   "metadata": {
    "colab": {
     "base_uri": "https://localhost:8080/"
    },
    "id": "3VHW5CLCKFXs",
    "outputId": "54de2c04-c82f-4a62-e8ff-147951b06c6d"
   },
   "outputs": [],
   "source": [
    "print(a)\n",
    "print(b)"
   ]
  },
  {
   "cell_type": "code",
   "execution_count": null,
   "metadata": {
    "colab": {
     "base_uri": "https://localhost:8080/"
    },
    "id": "gsqPtfz3KJ52",
    "outputId": "38cd49c2-07d4-486f-9989-82194045ad3b"
   },
   "outputs": [],
   "source": [
    "a & b"
   ]
  },
  {
   "cell_type": "code",
   "execution_count": null,
   "metadata": {
    "colab": {
     "base_uri": "https://localhost:8080/"
    },
    "id": "R3fZiBUfKNYn",
    "outputId": "c12a83fc-de5b-44bd-d43f-f3848e575ee3"
   },
   "outputs": [],
   "source": [
    "a = {'A', 'B', 'C'}\n",
    "b = {'C', 'D', 'E', 'F'}\n",
    "c = {'C', 'M'}\n",
    "a.intersection(b,c)"
   ]
  },
  {
   "cell_type": "code",
   "execution_count": null,
   "metadata": {
    "colab": {
     "base_uri": "https://localhost:8080/"
    },
    "id": "dSvuqx69Kbh5",
    "outputId": "d74bdabd-daf7-4204-8951-c81031fa5380"
   },
   "outputs": [],
   "source": [
    "a & b & c"
   ]
  },
  {
   "cell_type": "code",
   "execution_count": null,
   "metadata": {
    "colab": {
     "base_uri": "https://localhost:8080/"
    },
    "id": "OfbkGJl1KgeN",
    "outputId": "a03f9924-84f4-4b4b-e2ab-af08d4966d51"
   },
   "outputs": [],
   "source": [
    "print(b)"
   ]
  },
  {
   "cell_type": "code",
   "execution_count": null,
   "metadata": {
    "colab": {
     "base_uri": "https://localhost:8080/",
     "height": 35
    },
    "id": "DBjoEEkDKjbt",
    "outputId": "b24e2a57-1f30-42e3-f407-9a0d11c7e7fa"
   },
   "outputs": [],
   "source": [
    "b.pop() # randomly removing an item"
   ]
  },
  {
   "cell_type": "code",
   "execution_count": null,
   "metadata": {
    "colab": {
     "base_uri": "https://localhost:8080/",
     "height": 35
    },
    "id": "Z_2JAyP5KlFC",
    "outputId": "d0ef849e-098c-473f-86b0-b51a9341706d"
   },
   "outputs": [],
   "source": [
    "b.pop()"
   ]
  },
  {
   "cell_type": "code",
   "execution_count": null,
   "metadata": {
    "colab": {
     "base_uri": "https://localhost:8080/",
     "height": 35
    },
    "id": "QxIP4ltlKnfA",
    "outputId": "bd75b030-56c5-4d5b-8dc5-9a91c67a384c"
   },
   "outputs": [],
   "source": [
    "c.pop()"
   ]
  },
  {
   "cell_type": "code",
   "execution_count": null,
   "metadata": {
    "colab": {
     "base_uri": "https://localhost:8080/"
    },
    "id": "XIje2GEcKpyx",
    "outputId": "1bb89640-6032-4cee-98f0-c4bb72afe425"
   },
   "outputs": [],
   "source": [
    "print(c)"
   ]
  },
  {
   "cell_type": "code",
   "execution_count": null,
   "metadata": {
    "colab": {
     "base_uri": "https://localhost:8080/"
    },
    "id": "xoE-xWgpLBEV",
    "outputId": "7c1eff22-a674-45af-c46f-269e6882c3f5"
   },
   "outputs": [],
   "source": [
    "a = {'A', 'B', 'C'}\n",
    "b = {'C', 'D', 'E', 'F'}\n",
    "c = {'C', 'M'}\n",
    "a.union(b,c)"
   ]
  },
  {
   "cell_type": "code",
   "execution_count": null,
   "metadata": {
    "colab": {
     "base_uri": "https://localhost:8080/"
    },
    "id": "XJZS1AJbLIDJ",
    "outputId": "79bd7190-4731-453a-8c67-27c8e4c2df40"
   },
   "outputs": [],
   "source": [
    "a = {'A', 'B', 'C'}\n",
    "b = {'C', 'D', 'E', 'F'}\n",
    "c = {'C', 'M'}\n",
    "a|b|c"
   ]
  },
  {
   "cell_type": "markdown",
   "metadata": {
    "id": "iBDoXuCxLQkG"
   },
   "source": [
    "# **DICTIONARY** is a collection. It is ordered, changable, but doesn't allow duplicates"
   ]
  },
  {
   "cell_type": "code",
   "execution_count": null,
   "metadata": {
    "id": "5SAFV_qhLVO-"
   },
   "outputs": [],
   "source": [
    "mydict = {\n",
    "    'brand': 'Tata',\n",
    "    'model': 'Tiago',\n",
    "    'year': 2020\n",
    "}\n",
    "#denoted by key : value pairs\n",
    "# call dictionary by its key to get its value"
   ]
  },
  {
   "cell_type": "code",
   "execution_count": null,
   "metadata": {
    "colab": {
     "base_uri": "https://localhost:8080/"
    },
    "id": "9o2MyQR8Lr9C",
    "outputId": "109a3c70-14f4-4cbb-bab6-54feb216a6ad"
   },
   "outputs": [],
   "source": [
    "type(mydict)"
   ]
  },
  {
   "cell_type": "code",
   "execution_count": null,
   "metadata": {
    "colab": {
     "base_uri": "https://localhost:8080/",
     "height": 35
    },
    "id": "25UasNsJLvJF",
    "outputId": "6ad5e240-e286-4886-cb17-19fe882f3327"
   },
   "outputs": [],
   "source": [
    "mydict['brand']"
   ]
  },
  {
   "cell_type": "code",
   "execution_count": null,
   "metadata": {
    "colab": {
     "base_uri": "https://localhost:8080/",
     "height": 35
    },
    "id": "1LVTk4v5L7PY",
    "outputId": "be2afbb9-f9a4-4712-ed19-cc2c4902f511"
   },
   "outputs": [],
   "source": [
    "mydict['model']"
   ]
  },
  {
   "cell_type": "code",
   "execution_count": null,
   "metadata": {
    "colab": {
     "base_uri": "https://localhost:8080/"
    },
    "id": "BTwg9dQtL_oB",
    "outputId": "f454c7a9-e0b2-480d-d79a-1b7916750abd"
   },
   "outputs": [],
   "source": [
    "mydict['year']"
   ]
  },
  {
   "cell_type": "code",
   "execution_count": null,
   "metadata": {
    "id": "a0nTRH2yMDoE"
   },
   "outputs": [],
   "source": [
    "mydict1 = {\n",
    "    'brand': 'Tata',\n",
    "    'model': 'Tiago',\n",
    "    'year': 2020,\n",
    "    'year': 2021,\n",
    "    'year': 2024,\n",
    "}"
   ]
  },
  {
   "cell_type": "code",
   "execution_count": null,
   "metadata": {
    "colab": {
     "base_uri": "https://localhost:8080/"
    },
    "id": "_WVvF-CfMNUs",
    "outputId": "9feac204-23fc-468b-daaa-3a54d622d4d8"
   },
   "outputs": [],
   "source": [
    "mydict1['year']"
   ]
  },
  {
   "cell_type": "code",
   "execution_count": null,
   "metadata": {
    "colab": {
     "base_uri": "https://localhost:8080/"
    },
    "id": "1KnKGBP_MUF8",
    "outputId": "70c9206b-12c1-4afa-f97b-ac6ac01ae6ca"
   },
   "outputs": [],
   "source": [
    "len(mydict)"
   ]
  },
  {
   "cell_type": "code",
   "execution_count": null,
   "metadata": {
    "colab": {
     "base_uri": "https://localhost:8080/"
    },
    "id": "tDzdIeSRMcFT",
    "outputId": "6c05b862-587e-46f2-c4dd-edac2f162bc7"
   },
   "outputs": [],
   "source": [
    "len(mydict1)  # unique key values' length"
   ]
  },
  {
   "cell_type": "code",
   "execution_count": null,
   "metadata": {
    "id": "n4ELRE2qMdpf"
   },
   "outputs": [],
   "source": [
    "mydict = {\n",
    "    'brand': 'Tata',\n",
    "    'model': 'Tiago',\n",
    "    'year': 2020,\n",
    "    'color': ['red', 'blue', 'gray']\n",
    "}"
   ]
  },
  {
   "cell_type": "code",
   "execution_count": null,
   "metadata": {
    "colab": {
     "base_uri": "https://localhost:8080/",
     "height": 35
    },
    "id": "OHmUYX10MtaG",
    "outputId": "53cf2528-b5e5-4159-fd3f-a4ad4b32c105"
   },
   "outputs": [],
   "source": [
    "mydict.pop('model')"
   ]
  },
  {
   "cell_type": "code",
   "execution_count": null,
   "metadata": {
    "colab": {
     "base_uri": "https://localhost:8080/"
    },
    "id": "CO-o5ajIMyyW",
    "outputId": "fcefcace-1249-4b0f-e4ee-dbdb7843ccaa"
   },
   "outputs": [],
   "source": [
    "mydict.pop('color')"
   ]
  },
  {
   "cell_type": "code",
   "execution_count": null,
   "metadata": {
    "colab": {
     "base_uri": "https://localhost:8080/"
    },
    "id": "msBlQbhcM4Aq",
    "outputId": "01a65716-bf3b-4fd3-af00-572e4e115452"
   },
   "outputs": [],
   "source": [
    "student1 = dict(name='Riya', age=29, city='Patna')\n",
    "print(student1)\n",
    "type(student1)"
   ]
  },
  {
   "cell_type": "code",
   "execution_count": null,
   "metadata": {
    "colab": {
     "base_uri": "https://localhost:8080/"
    },
    "id": "xjKKQYNKNBoX",
    "outputId": "3da1879f-6871-4b6d-dd40-a34b0ecc5689"
   },
   "outputs": [],
   "source": [
    "student1.pop('age')"
   ]
  },
  {
   "cell_type": "code",
   "execution_count": null,
   "metadata": {
    "id": "V9JT5vsENHlk"
   },
   "outputs": [],
   "source": [
    "student1['age'] = 30"
   ]
  },
  {
   "cell_type": "code",
   "execution_count": null,
   "metadata": {
    "colab": {
     "base_uri": "https://localhost:8080/"
    },
    "id": "Lms_1enbNQoJ",
    "outputId": "c66f58d2-c37d-41aa-d334-0672520e6d1c"
   },
   "outputs": [],
   "source": [
    "print(student1)"
   ]
  },
  {
   "cell_type": "code",
   "execution_count": null,
   "metadata": {
    "colab": {
     "base_uri": "https://localhost:8080/"
    },
    "id": "S7GYdM9nNRqB",
    "outputId": "1d68fa02-2ff2-4c68-ce77-9bc96c50fe10"
   },
   "outputs": [],
   "source": [
    "student1['gender'] ='F'\n",
    "print(student1)"
   ]
  },
  {
   "cell_type": "code",
   "execution_count": null,
   "metadata": {
    "colab": {
     "base_uri": "https://localhost:8080/"
    },
    "id": "IjhSdeGzNXfc",
    "outputId": "e129f474-c0cd-4ecf-af14-1e62441b3693"
   },
   "outputs": [],
   "source": [
    "for i in student1:  #keys\n",
    "  print(i)"
   ]
  },
  {
   "cell_type": "code",
   "execution_count": null,
   "metadata": {
    "colab": {
     "base_uri": "https://localhost:8080/"
    },
    "id": "wtTPLuSKNcjh",
    "outputId": "60aff367-8484-422b-ebec-60ba4d45e2b4"
   },
   "outputs": [],
   "source": [
    "for i in student1:  #values\n",
    "  print(student1[i])"
   ]
  },
  {
   "cell_type": "code",
   "execution_count": null,
   "metadata": {
    "colab": {
     "base_uri": "https://localhost:8080/"
    },
    "id": "8AHFjemtNkZC",
    "outputId": "e5aa4c6f-cace-4aba-ff00-19d74ae3214c"
   },
   "outputs": [],
   "source": [
    "student1['age']"
   ]
  },
  {
   "cell_type": "code",
   "execution_count": null,
   "metadata": {
    "colab": {
     "base_uri": "https://localhost:8080/"
    },
    "id": "E6E1pxX6N_Hc",
    "outputId": "38e40090-84a5-4f94-9552-4ee7ae49b0a2"
   },
   "outputs": [],
   "source": [
    "for i in student1.keys():\n",
    "  print(i)"
   ]
  },
  {
   "cell_type": "code",
   "execution_count": null,
   "metadata": {
    "colab": {
     "base_uri": "https://localhost:8080/"
    },
    "id": "NqYheRMqN3WN",
    "outputId": "39249691-41ae-41ff-c580-7f1a24dc81f1"
   },
   "outputs": [],
   "source": [
    "for i in student1.values():\n",
    "  print(i)"
   ]
  },
  {
   "cell_type": "code",
   "execution_count": null,
   "metadata": {
    "colab": {
     "base_uri": "https://localhost:8080/"
    },
    "id": "oFkmd-tEN8xw",
    "outputId": "e995ce3b-90cf-49d2-e979-9f625b642e4a"
   },
   "outputs": [],
   "source": [
    "for i in student1.items():\n",
    "  print(i)"
   ]
  },
  {
   "cell_type": "code",
   "execution_count": null,
   "metadata": {
    "colab": {
     "base_uri": "https://localhost:8080/"
    },
    "id": "JkMFdroPOEoq",
    "outputId": "7f2ba57b-253a-49c7-a9e6-f858d9383689"
   },
   "outputs": [],
   "source": [
    "student2 = student1.copy()\n",
    "print(student2)"
   ]
  },
  {
   "cell_type": "code",
   "execution_count": null,
   "metadata": {
    "colab": {
     "base_uri": "https://localhost:8080/"
    },
    "id": "hxgKJzaYOMoD",
    "outputId": "7dc784c6-1905-47b7-e0a8-881cc0d550d1"
   },
   "outputs": [],
   "source": [
    "student2['name'] = 'Chandrani'\n",
    "student2['address']= 'Kolkata'\n",
    "print(student2)"
   ]
  },
  {
   "cell_type": "code",
   "execution_count": null,
   "metadata": {
    "colab": {
     "base_uri": "https://localhost:8080/"
    },
    "id": "3LyvqIHFOcbq",
    "outputId": "1be1bde2-d09a-4f16-fa49-799bd96ae7c1"
   },
   "outputs": [],
   "source": [
    "student3 = dict(student1)\n",
    "# student3 = student1.copy()\n",
    "print(student3)"
   ]
  },
  {
   "cell_type": "markdown",
   "metadata": {
    "id": "I2o9PHm3Ou7Y"
   },
   "source": [
    "# nested dictionary"
   ]
  },
  {
   "cell_type": "code",
   "execution_count": null,
   "metadata": {
    "id": "zo42ujGHOra2"
   },
   "outputs": [],
   "source": [
    "institute={\n",
    "    'student4':{\n",
    "        'name':'Ram',\n",
    "        'age':29,\n",
    "        'city':'Patna'\n",
    "    },\n",
    "    'student5':{\n",
    "        'name':'Rahim',\n",
    "        'age':27,\n",
    "        'city':'Lucknow'\n",
    "    }\n",
    "}"
   ]
  },
  {
   "cell_type": "code",
   "execution_count": null,
   "metadata": {
    "colab": {
     "base_uri": "https://localhost:8080/",
     "height": 35
    },
    "id": "Dhhbk1jSOkrL",
    "outputId": "16f2f79a-e936-48cd-981e-08a1557957a5"
   },
   "outputs": [],
   "source": [
    "institute['student4']['name']"
   ]
  },
  {
   "cell_type": "code",
   "execution_count": null,
   "metadata": {
    "colab": {
     "base_uri": "https://localhost:8080/"
    },
    "id": "UeZc-bV3PE8Y",
    "outputId": "5254d97e-b2d3-47da-c623-57b520add737"
   },
   "outputs": [],
   "source": [
    "type(institute)"
   ]
  },
  {
   "cell_type": "code",
   "execution_count": null,
   "metadata": {
    "colab": {
     "base_uri": "https://localhost:8080/"
    },
    "id": "lZcyzXklPKRz",
    "outputId": "8fb4a2b1-d3f3-4484-c1b3-7c0a491306c3"
   },
   "outputs": [],
   "source": [
    "type(institute['student4'])"
   ]
  },
  {
   "cell_type": "code",
   "execution_count": null,
   "metadata": {
    "colab": {
     "base_uri": "https://localhost:8080/"
    },
    "id": "id4_J1lXPN-k",
    "outputId": "99f6ba59-46ea-47b7-8652-3b824cbeb164"
   },
   "outputs": [],
   "source": [
    "type(institute['student4']['name'])"
   ]
  },
  {
   "cell_type": "code",
   "execution_count": null,
   "metadata": {
    "colab": {
     "base_uri": "https://localhost:8080/"
    },
    "id": "pUXVrv80PWGg",
    "outputId": "5c6c77b9-390c-41d2-c08d-6d03394d9e9f"
   },
   "outputs": [],
   "source": [
    "type(institute['student4']['age'])"
   ]
  },
  {
   "cell_type": "markdown",
   "metadata": {
    "id": "7Zv52TYfPdTe"
   },
   "source": [
    "# **CLASS**"
   ]
  },
  {
   "cell_type": "code",
   "execution_count": null,
   "metadata": {
    "id": "LX6N9MsKPbxb"
   },
   "outputs": [],
   "source": [
    "class Aclass:\n",
    "  x = 10"
   ]
  },
  {
   "cell_type": "code",
   "execution_count": null,
   "metadata": {
    "colab": {
     "base_uri": "https://localhost:8080/"
    },
    "id": "hJXfRa_HPkAz",
    "outputId": "931e155e-653d-42b6-90ac-715fa25b8fab"
   },
   "outputs": [],
   "source": [
    "object1 = Aclass()\n",
    "object1.x"
   ]
  },
  {
   "cell_type": "code",
   "execution_count": null,
   "metadata": {
    "id": "-ZG6BpdXPwA4"
   },
   "outputs": [],
   "source": [
    "class Student:\n",
    "  institute_name = 'IITP'\n",
    "  dept_name = 'CSE'\n",
    "  age = 20"
   ]
  },
  {
   "cell_type": "code",
   "execution_count": null,
   "metadata": {
    "id": "jLCByddsP0Ie"
   },
   "outputs": [],
   "source": [
    "student = Student()\n",
    "# student is an object of Student class"
   ]
  },
  {
   "cell_type": "code",
   "execution_count": null,
   "metadata": {
    "colab": {
     "base_uri": "https://localhost:8080/"
    },
    "id": "AXGcI5RcP5is",
    "outputId": "85503efd-d4cf-4e70-f54f-732da2b4d2ef"
   },
   "outputs": [],
   "source": [
    "print(student.institute_name, student.dept_name, student.age)"
   ]
  },
  {
   "cell_type": "markdown",
   "metadata": {
    "id": "tJcFZ-rqQI19"
   },
   "source": [
    "# **numpy**"
   ]
  },
  {
   "cell_type": "code",
   "execution_count": null,
   "metadata": {
    "id": "yZ7nWuTGQG_G"
   },
   "outputs": [],
   "source": [
    "import numpy"
   ]
  },
  {
   "cell_type": "code",
   "execution_count": null,
   "metadata": {
    "colab": {
     "base_uri": "https://localhost:8080/"
    },
    "id": "GQTC18L0QDtB",
    "outputId": "c0680c73-8f5b-4aba-f5e6-bf5ca546963b"
   },
   "outputs": [],
   "source": [
    "arr = numpy.array([1,2,3,4,5])\n",
    "print(arr)"
   ]
  },
  {
   "cell_type": "code",
   "execution_count": null,
   "metadata": {
    "colab": {
     "base_uri": "https://localhost:8080/"
    },
    "id": "jSeu9GFaQWbW",
    "outputId": "8bae6af2-11ad-4903-aaad-1a5e9da8b926"
   },
   "outputs": [],
   "source": [
    "print(arr[0])"
   ]
  },
  {
   "cell_type": "code",
   "execution_count": null,
   "metadata": {
    "colab": {
     "base_uri": "https://localhost:8080/"
    },
    "id": "hbjTtdaAQYAw",
    "outputId": "8658d41f-584b-40a7-e3c5-31e7219c30f8"
   },
   "outputs": [],
   "source": [
    "print(arr[0] + arr[1])"
   ]
  },
  {
   "cell_type": "code",
   "execution_count": null,
   "metadata": {
    "id": "Z5ftUT0HQpCW"
   },
   "outputs": [],
   "source": [
    "import numpy as np"
   ]
  },
  {
   "cell_type": "code",
   "execution_count": null,
   "metadata": {
    "colab": {
     "base_uri": "https://localhost:8080/"
    },
    "id": "DUtb08y-QxHl",
    "outputId": "3d0bb36e-5402-4c12-dc5c-c597b87a44bf"
   },
   "outputs": [],
   "source": [
    "arr1 = np.array([30, 40])\n",
    "print(arr1)"
   ]
  },
  {
   "cell_type": "code",
   "execution_count": null,
   "metadata": {
    "id": "LRD6iSxEQzt6"
   },
   "outputs": [],
   "source": []
  }
 ],
 "metadata": {
  "colab": {
   "provenance": []
  },
  "kernelspec": {
   "display_name": "Python [conda env:base] *",
   "language": "python",
   "name": "conda-base-py"
  },
  "language_info": {
   "codemirror_mode": {
    "name": "ipython",
    "version": 3
   },
   "file_extension": ".py",
   "mimetype": "text/x-python",
   "name": "python",
   "nbconvert_exporter": "python",
   "pygments_lexer": "ipython3",
   "version": "3.12.7"
  }
 },
 "nbformat": 4,
 "nbformat_minor": 4
}
