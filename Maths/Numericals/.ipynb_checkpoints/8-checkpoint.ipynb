{
 "cells": [
  {
   "cell_type": "code",
   "execution_count": null,
   "id": "63d75828-ccba-4e65-98ec-567a2e2bb921",
   "metadata": {},
   "outputs": [],
   "source": []
  },
  {
   "cell_type": "code",
   "execution_count": 12,
   "id": "404c30ea-09c3-46ac-a77f-b205b8dce55b",
   "metadata": {},
   "outputs": [
    {
     "name": "stdout",
     "output_type": "stream",
     "text": [
      "Dominant eigenvalue(s): [-3, 3]\n",
      "Is 3 a dominant eigenvalue? True\n"
     ]
    }
   ],
   "source": [
    "import numpy as np\n",
    "\n",
    "# Given eigenvalues\n",
    "eigenvalues = [-3, 3, 1]\n",
    "\n",
    "# Calculate the absolute values\n",
    "abs_eigenvalues = [abs(eig) for eig in eigenvalues]\n",
    "\n",
    "# Find the dominant eigenvalue(s)\n",
    "max_abs = max(abs_eigenvalues)\n",
    "dominant_eigenvalues = [eig for eig in eigenvalues if abs(eig) == max_abs]\n",
    "\n",
    "print(\"Dominant eigenvalue(s):\", dominant_eigenvalues)\n",
    "print(\"Is 3 a dominant eigenvalue?\", 3 in dominant_eigenvalues)"
   ]
  },
  {
   "cell_type": "code",
   "execution_count": null,
   "id": "26538151-aab5-424b-bbb1-7f1d877b2141",
   "metadata": {},
   "outputs": [],
   "source": []
  }
 ],
 "metadata": {
  "kernelspec": {
   "display_name": "Python [conda env:base] *",
   "language": "python",
   "name": "conda-base-py"
  },
  "language_info": {
   "codemirror_mode": {
    "name": "ipython",
    "version": 3
   },
   "file_extension": ".py",
   "mimetype": "text/x-python",
   "name": "python",
   "nbconvert_exporter": "python",
   "pygments_lexer": "ipython3",
   "version": "3.12.7"
  }
 },
 "nbformat": 4,
 "nbformat_minor": 5
}
